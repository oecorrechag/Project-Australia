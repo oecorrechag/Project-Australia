{
 "cells": [
  {
   "cell_type": "markdown",
   "metadata": {},
   "source": [
    "# 1.0 Fix data\n",
    "\n",
    "AIMS \n",
    "\n",
    "En este archivo se realiza la limpieza de los archivos y el ETL"
   ]
  },
  {
   "cell_type": "code",
   "execution_count": 10,
   "metadata": {},
   "outputs": [],
   "source": [
    "import pandas as pd\n",
    "from datetime import datetime\n",
    "from mypackage import dir, dataquality"
   ]
  },
  {
   "cell_type": "code",
   "execution_count": 11,
   "metadata": {},
   "outputs": [
    {
     "name": "stdout",
     "output_type": "stream",
     "text": [
      "The autoreload extension is already loaded. To reload it, use:\n",
      "  %reload_ext autoreload\n"
     ]
    }
   ],
   "source": [
    "%load_ext autoreload\n",
    "%autoreload 2\n",
    "\n",
    "pd.set_option('display.max_columns', None)\n",
    "pd.set_option('display.max_rows', None)\n",
    "import warnings\n",
    "warnings.filterwarnings(\"ignore\")"
   ]
  },
  {
   "cell_type": "code",
   "execution_count": 12,
   "metadata": {},
   "outputs": [],
   "source": [
    "modality =  modality = 'p'\n",
    "project = 'australia'\n",
    "data = dir.make_dir_line(modality, project) \n",
    "raw = data('raw')"
   ]
  },
  {
   "cell_type": "code",
   "execution_count": 13,
   "metadata": {},
   "outputs": [],
   "source": [
    "def discrete_values(dataframe, threshold=10):\n",
    "    # Using Value Counts\n",
    "    discrete_vars_counts = [col for col in dataframe.columns if dataframe[col].nunique() < threshold]  # Assuming a threshold here\n",
    "\n",
    "    # Print or use the identified discrete variables\n",
    "    print(\"Discrete variables by value counts:\", discrete_vars_counts)\n",
    "\n",
    "def non_sex(dataframe, variable):\n",
    "    # Label sex or gender\n",
    "    ''' \n",
    "        This function takes a column and returns Label sex or gender.\n",
    "        0 = Female\n",
    "        1 = Male\n",
    "    '''\n",
    "    dataframe[variable] = dataframe[variable].replace(['F', 'f', 'Femenino', 'femenino'], 0)\n",
    "    dataframe[variable] = dataframe[variable].replace(['M', 'm', 'Masculino', 'masculino'], 1)\n",
    "\n",
    "    return dataframe\n",
    "\n",
    "def diff_date(dataframe, column, date):\n",
    "\n",
    "    ''' \n",
    "        This function takes a column and returns the difference with the current date or the entered date.\n",
    "    '''\n",
    "\n",
    "    from datetime import datetime\n",
    "\n",
    "    if date == 'now':\n",
    "        current_date = datetime.today()\n",
    "    else:\n",
    "        current_date = pd.to_datetime(date)\n",
    " \n",
    "    dataframe['age_days'] = (current_date - dataframe[column]).dt.days\n",
    "\n",
    "    return dataframe"
   ]
  },
  {
   "cell_type": "markdown",
   "metadata": {},
   "source": [
    "## 1.1 Fix data customers"
   ]
  },
  {
   "cell_type": "code",
   "execution_count": 14,
   "metadata": {},
   "outputs": [
    {
     "name": "stdout",
     "output_type": "stream",
     "text": [
      "*****\n",
      "The dataframe does not contain missing values.\n",
      "*****\n",
      "The dataframe does not contain duplicate values.\n",
      "*****\n",
      "The dataframe contains values that are not numeric.\n",
      "Variable not numerit: nombre\n",
      "Variable not numerit: sexo\n",
      "Variable not numerit: fecha_nacimiento\n",
      "*****\n",
      "The dimension of dataframe is (100, 4)\n",
      "execution data quality ends.\n",
      "Discrete variables by value counts: ['sexo']\n"
     ]
    }
   ],
   "source": [
    "df_clientes = pd.read_csv(raw / 'df_clientes.csv', sep = ',', decimal = '.', header = 0)\n",
    "\n",
    "df_clientes['fecha_nacimiento'] = pd.to_datetime(df_clientes['fecha_nacimiento'], dayfirst='false', errors = 'coerce')\n",
    "\n",
    "dataquality.data_quality(df_clientes)\n",
    "\n",
    "discrete_values(df_clientes, 10)"
   ]
  },
  {
   "cell_type": "code",
   "execution_count": 15,
   "metadata": {},
   "outputs": [
    {
     "data": {
      "text/html": [
       "<div>\n",
       "<style scoped>\n",
       "    .dataframe tbody tr th:only-of-type {\n",
       "        vertical-align: middle;\n",
       "    }\n",
       "\n",
       "    .dataframe tbody tr th {\n",
       "        vertical-align: top;\n",
       "    }\n",
       "\n",
       "    .dataframe thead th {\n",
       "        text-align: right;\n",
       "    }\n",
       "</style>\n",
       "<table border=\"1\" class=\"dataframe\">\n",
       "  <thead>\n",
       "    <tr style=\"text-align: right;\">\n",
       "      <th></th>\n",
       "      <th>id_cliente</th>\n",
       "      <th>nombre</th>\n",
       "      <th>sexo</th>\n",
       "      <th>fecha_nacimiento</th>\n",
       "      <th>age_days</th>\n",
       "    </tr>\n",
       "  </thead>\n",
       "  <tbody>\n",
       "    <tr>\n",
       "      <th>0</th>\n",
       "      <td>1001</td>\n",
       "      <td>Fredo Bonanno-Beccheria</td>\n",
       "      <td>1</td>\n",
       "      <td>1930-04-27</td>\n",
       "      <td>34247</td>\n",
       "    </tr>\n",
       "    <tr>\n",
       "      <th>1</th>\n",
       "      <td>1002</td>\n",
       "      <td>Ermenegildo Sansoni</td>\n",
       "      <td>1</td>\n",
       "      <td>1940-09-02</td>\n",
       "      <td>30466</td>\n",
       "    </tr>\n",
       "    <tr>\n",
       "      <th>2</th>\n",
       "      <td>1003</td>\n",
       "      <td>Antonia Bajardi</td>\n",
       "      <td>0</td>\n",
       "      <td>1916-05-01</td>\n",
       "      <td>39356</td>\n",
       "    </tr>\n",
       "    <tr>\n",
       "      <th>3</th>\n",
       "      <td>1004</td>\n",
       "      <td>Evangelista Biagi</td>\n",
       "      <td>0</td>\n",
       "      <td>1985-01-03</td>\n",
       "      <td>14272</td>\n",
       "    </tr>\n",
       "    <tr>\n",
       "      <th>4</th>\n",
       "      <td>1005</td>\n",
       "      <td>Iolanda Ceschi</td>\n",
       "      <td>0</td>\n",
       "      <td>2016-06-07</td>\n",
       "      <td>2794</td>\n",
       "    </tr>\n",
       "  </tbody>\n",
       "</table>\n",
       "</div>"
      ],
      "text/plain": [
       "   id_cliente                   nombre  sexo fecha_nacimiento  age_days\n",
       "0        1001  Fredo Bonanno-Beccheria     1       1930-04-27     34247\n",
       "1        1002      Ermenegildo Sansoni     1       1940-09-02     30466\n",
       "2        1003          Antonia Bajardi     0       1916-05-01     39356\n",
       "3        1004        Evangelista Biagi     0       1985-01-03     14272\n",
       "4        1005           Iolanda Ceschi     0       2016-06-07      2794"
      ]
     },
     "execution_count": 15,
     "metadata": {},
     "output_type": "execute_result"
    }
   ],
   "source": [
    "df_clientes = non_sex(df_clientes, 'sexo')\n",
    "df_clientes = diff_date(df_clientes, \"fecha_nacimiento\", 'now')\n",
    "df_clientes.head()"
   ]
  },
  {
   "cell_type": "markdown",
   "metadata": {},
   "source": [
    "## 1.2 Fix data products"
   ]
  },
  {
   "cell_type": "code",
   "execution_count": 16,
   "metadata": {},
   "outputs": [
    {
     "name": "stdout",
     "output_type": "stream",
     "text": [
      "*****\n",
      "The dataframe does not contain missing values.\n",
      "*****\n",
      "The dataframe does not contain duplicate values.\n",
      "*****\n",
      "The dataframe contains values that are not numeric.\n",
      "Variable not numerit: id_producto\n",
      "Variable not numerit: articulo\n",
      "Variable not numerit: category\n",
      "Variable not numerit: color\n",
      "Variable not numerit: L\n",
      "Variable not numerit: tallas\n",
      "*****\n",
      "The dimension of dataframe is (395, 10)\n",
      "execution data quality ends.\n",
      "Discrete variables by value counts: ['tallas']\n"
     ]
    }
   ],
   "source": [
    "df_productos = pd.read_csv(raw / 'df_productos.csv', sep = ',', decimal = '.', header = 0)\n",
    "df_productos['production2'] = (df_productos['precio'] * df_productos['production'])/100\n",
    "dataquality.data_quality(df_productos)\n",
    "discrete_values(df_productos, 10)"
   ]
  },
  {
   "cell_type": "code",
   "execution_count": 17,
   "metadata": {},
   "outputs": [
    {
     "data": {
      "text/html": [
       "<div>\n",
       "<style scoped>\n",
       "    .dataframe tbody tr th:only-of-type {\n",
       "        vertical-align: middle;\n",
       "    }\n",
       "\n",
       "    .dataframe tbody tr th {\n",
       "        vertical-align: top;\n",
       "    }\n",
       "\n",
       "    .dataframe thead th {\n",
       "        text-align: right;\n",
       "    }\n",
       "</style>\n",
       "<table border=\"1\" class=\"dataframe\">\n",
       "  <thead>\n",
       "    <tr style=\"text-align: right;\">\n",
       "      <th></th>\n",
       "      <th>id_producto</th>\n",
       "      <th>descripcion</th>\n",
       "      <th>articulo</th>\n",
       "      <th>category</th>\n",
       "      <th>precio</th>\n",
       "      <th>production</th>\n",
       "      <th>color</th>\n",
       "      <th>L</th>\n",
       "      <th>tallas</th>\n",
       "      <th>production2</th>\n",
       "    </tr>\n",
       "  </thead>\n",
       "  <tbody>\n",
       "    <tr>\n",
       "      <th>0</th>\n",
       "      <td>759ne</td>\n",
       "      <td>759</td>\n",
       "      <td>Short con tiritas</td>\n",
       "      <td>Short</td>\n",
       "      <td>40.0</td>\n",
       "      <td>54</td>\n",
       "      <td>Negro</td>\n",
       "      <td>ne</td>\n",
       "      <td>1 al 4</td>\n",
       "      <td>21.60</td>\n",
       "    </tr>\n",
       "    <tr>\n",
       "      <th>1</th>\n",
       "      <td>759bl</td>\n",
       "      <td>759</td>\n",
       "      <td>Short con tiritas</td>\n",
       "      <td>Short</td>\n",
       "      <td>40.0</td>\n",
       "      <td>54</td>\n",
       "      <td>Blanco</td>\n",
       "      <td>bl</td>\n",
       "      <td>1 al 4</td>\n",
       "      <td>21.60</td>\n",
       "    </tr>\n",
       "    <tr>\n",
       "      <th>2</th>\n",
       "      <td>759az</td>\n",
       "      <td>759</td>\n",
       "      <td>Short con tiritas</td>\n",
       "      <td>Short</td>\n",
       "      <td>40.0</td>\n",
       "      <td>54</td>\n",
       "      <td>Azul</td>\n",
       "      <td>az</td>\n",
       "      <td>1 al 4</td>\n",
       "      <td>21.60</td>\n",
       "    </tr>\n",
       "    <tr>\n",
       "      <th>3</th>\n",
       "      <td>759ro</td>\n",
       "      <td>759</td>\n",
       "      <td>Short con tiritas</td>\n",
       "      <td>Short</td>\n",
       "      <td>40.0</td>\n",
       "      <td>54</td>\n",
       "      <td>Rojo</td>\n",
       "      <td>ro</td>\n",
       "      <td>1 al 4</td>\n",
       "      <td>21.60</td>\n",
       "    </tr>\n",
       "    <tr>\n",
       "      <th>4</th>\n",
       "      <td>761ne</td>\n",
       "      <td>761</td>\n",
       "      <td>Short lienzo con bolsillo fruncido</td>\n",
       "      <td>Short</td>\n",
       "      <td>43.2</td>\n",
       "      <td>45</td>\n",
       "      <td>Negro</td>\n",
       "      <td>ne</td>\n",
       "      <td>1 al 4</td>\n",
       "      <td>19.44</td>\n",
       "    </tr>\n",
       "  </tbody>\n",
       "</table>\n",
       "</div>"
      ],
      "text/plain": [
       "  id_producto  descripcion                            articulo category  \\\n",
       "0       759ne          759                   Short con tiritas    Short   \n",
       "1       759bl          759                   Short con tiritas    Short   \n",
       "2       759az          759                   Short con tiritas    Short   \n",
       "3       759ro          759                   Short con tiritas    Short   \n",
       "4       761ne          761  Short lienzo con bolsillo fruncido    Short   \n",
       "\n",
       "   precio  production   color   L  tallas  production2  \n",
       "0    40.0          54   Negro  ne  1 al 4        21.60  \n",
       "1    40.0          54  Blanco  bl  1 al 4        21.60  \n",
       "2    40.0          54    Azul  az  1 al 4        21.60  \n",
       "3    40.0          54    Rojo  ro  1 al 4        21.60  \n",
       "4    43.2          45   Negro  ne  1 al 4        19.44  "
      ]
     },
     "execution_count": 17,
     "metadata": {},
     "output_type": "execute_result"
    }
   ],
   "source": [
    "df_productos.head()"
   ]
  },
  {
   "cell_type": "markdown",
   "metadata": {},
   "source": [
    "## 1.3 Fix data transactions"
   ]
  },
  {
   "cell_type": "code",
   "execution_count": 22,
   "metadata": {},
   "outputs": [
    {
     "name": "stdout",
     "output_type": "stream",
     "text": [
      "*****\n",
      "The dataframe does not contain missing values.\n",
      "*****\n",
      "The dataframe does not contain duplicate values.\n",
      "*****\n",
      "The dataframe contains values that are not numeric.\n",
      "Variable not numerit: id_factura\n",
      "Variable not numerit: fecha\n",
      "Variable not numerit: id_cliente\n",
      "Variable not numerit: id_producto\n",
      "Variable not numerit: id_store\n",
      "Variable not numerit: discount\n",
      "Variable not numerit: no_cpk\n",
      "*****\n",
      "The dimension of dataframe is (5331, 10)\n",
      "execution data quality ends.\n",
      "Discrete variables by value counts: ['quantity', 'id_store', 'discount', 'per_discount2', 'no_cpk']\n"
     ]
    }
   ],
   "source": [
    "df_ventas = pd.read_csv(raw / 'df_ventas.csv', sep = ',', decimal = '.', header = 0)\n",
    "df_ventas['fecha'] = pd.to_datetime(df_ventas['fecha'], dayfirst='false', errors = 'coerce')\n",
    "df_ventas['id_factura'] = df_ventas['id_factura'].astype(str)\n",
    "df_ventas['id_cliente'] = df_ventas['id_cliente'].astype(str)\n",
    "df_ventas['id_store'] = df_ventas['id_store'].astype(str)\n",
    "df_ventas['discount'] = df_ventas['discount'].astype(str)\n",
    "df_ventas['no_cpk'] = df_ventas['no_cpk'].astype(str)\n",
    "dataquality.data_quality(df_ventas)\n",
    "discrete_values(df_ventas, 10)"
   ]
  },
  {
   "cell_type": "code",
   "execution_count": 19,
   "metadata": {},
   "outputs": [
    {
     "data": {
      "text/html": [
       "<div>\n",
       "<style scoped>\n",
       "    .dataframe tbody tr th:only-of-type {\n",
       "        vertical-align: middle;\n",
       "    }\n",
       "\n",
       "    .dataframe tbody tr th {\n",
       "        vertical-align: top;\n",
       "    }\n",
       "\n",
       "    .dataframe thead th {\n",
       "        text-align: right;\n",
       "    }\n",
       "</style>\n",
       "<table border=\"1\" class=\"dataframe\">\n",
       "  <thead>\n",
       "    <tr style=\"text-align: right;\">\n",
       "      <th></th>\n",
       "      <th>id_factura</th>\n",
       "      <th>fecha</th>\n",
       "      <th>id_cliente</th>\n",
       "      <th>id_producto</th>\n",
       "      <th>quantity</th>\n",
       "      <th>id_store</th>\n",
       "      <th>discount</th>\n",
       "      <th>per_discount</th>\n",
       "      <th>per_discount2</th>\n",
       "      <th>no_cpk</th>\n",
       "    </tr>\n",
       "  </thead>\n",
       "  <tbody>\n",
       "    <tr>\n",
       "      <th>0</th>\n",
       "      <td>1001</td>\n",
       "      <td>2021-01-31</td>\n",
       "      <td>2088</td>\n",
       "      <td>9169mo</td>\n",
       "      <td>2</td>\n",
       "      <td>0</td>\n",
       "      <td>0</td>\n",
       "      <td>0.0</td>\n",
       "      <td>0.0</td>\n",
       "      <td>0</td>\n",
       "    </tr>\n",
       "    <tr>\n",
       "      <th>1</th>\n",
       "      <td>1002</td>\n",
       "      <td>2021-02-01</td>\n",
       "      <td>2076</td>\n",
       "      <td>9156ro</td>\n",
       "      <td>2</td>\n",
       "      <td>1</td>\n",
       "      <td>0</td>\n",
       "      <td>0.0</td>\n",
       "      <td>0.0</td>\n",
       "      <td>0</td>\n",
       "    </tr>\n",
       "    <tr>\n",
       "      <th>2</th>\n",
       "      <td>1003</td>\n",
       "      <td>2021-02-02</td>\n",
       "      <td>2051</td>\n",
       "      <td>9168az</td>\n",
       "      <td>2</td>\n",
       "      <td>1</td>\n",
       "      <td>1</td>\n",
       "      <td>8.0</td>\n",
       "      <td>5.0</td>\n",
       "      <td>0</td>\n",
       "    </tr>\n",
       "    <tr>\n",
       "      <th>3</th>\n",
       "      <td>1004</td>\n",
       "      <td>2021-02-03</td>\n",
       "      <td>2053</td>\n",
       "      <td>9171mo</td>\n",
       "      <td>2</td>\n",
       "      <td>2</td>\n",
       "      <td>1</td>\n",
       "      <td>8.0</td>\n",
       "      <td>10.0</td>\n",
       "      <td>0</td>\n",
       "    </tr>\n",
       "    <tr>\n",
       "      <th>4</th>\n",
       "      <td>1005</td>\n",
       "      <td>2021-02-05</td>\n",
       "      <td>2087</td>\n",
       "      <td>9142am</td>\n",
       "      <td>1</td>\n",
       "      <td>1</td>\n",
       "      <td>0</td>\n",
       "      <td>0.0</td>\n",
       "      <td>0.0</td>\n",
       "      <td>0</td>\n",
       "    </tr>\n",
       "  </tbody>\n",
       "</table>\n",
       "</div>"
      ],
      "text/plain": [
       "   id_factura       fecha  id_cliente id_producto  quantity  id_store  \\\n",
       "0        1001  2021-01-31        2088      9169mo         2         0   \n",
       "1        1002  2021-02-01        2076      9156ro         2         1   \n",
       "2        1003  2021-02-02        2051      9168az         2         1   \n",
       "3        1004  2021-02-03        2053      9171mo         2         2   \n",
       "4        1005  2021-02-05        2087      9142am         1         1   \n",
       "\n",
       "   discount  per_discount  per_discount2  no_cpk  \n",
       "0         0           0.0            0.0       0  \n",
       "1         0           0.0            0.0       0  \n",
       "2         1           8.0            5.0       0  \n",
       "3         1           8.0           10.0       0  \n",
       "4         0           0.0            0.0       0  "
      ]
     },
     "execution_count": 19,
     "metadata": {},
     "output_type": "execute_result"
    }
   ],
   "source": [
    "df_ventas.head()"
   ]
  },
  {
   "cell_type": "code",
   "execution_count": 23,
   "metadata": {},
   "outputs": [
    {
     "name": "stdout",
     "output_type": "stream",
     "text": [
      "<class 'pandas.core.frame.DataFrame'>\n",
      "RangeIndex: 5331 entries, 0 to 5330\n",
      "Data columns (total 10 columns):\n",
      " #   Column         Non-Null Count  Dtype         \n",
      "---  ------         --------------  -----         \n",
      " 0   id_factura     5331 non-null   object        \n",
      " 1   fecha          5331 non-null   datetime64[ns]\n",
      " 2   id_cliente     5331 non-null   object        \n",
      " 3   id_producto    5331 non-null   object        \n",
      " 4   quantity       5331 non-null   int64         \n",
      " 5   id_store       5331 non-null   object        \n",
      " 6   discount       5331 non-null   object        \n",
      " 7   per_discount   5331 non-null   float64       \n",
      " 8   per_discount2  5331 non-null   float64       \n",
      " 9   no_cpk         5331 non-null   object        \n",
      "dtypes: datetime64[ns](1), float64(2), int64(1), object(6)\n",
      "memory usage: 416.6+ KB\n"
     ]
    }
   ],
   "source": [
    "df_ventas.info()"
   ]
  },
  {
   "cell_type": "code",
   "execution_count": null,
   "metadata": {},
   "outputs": [],
   "source": []
  }
 ],
 "metadata": {
  "kernelspec": {
   "display_name": "Python 3",
   "language": "python",
   "name": "python3"
  },
  "language_info": {
   "codemirror_mode": {
    "name": "ipython",
    "version": 3
   },
   "file_extension": ".py",
   "mimetype": "text/x-python",
   "name": "python",
   "nbconvert_exporter": "python",
   "pygments_lexer": "ipython3",
   "version": "3.12.1"
  }
 },
 "nbformat": 4,
 "nbformat_minor": 2
}
