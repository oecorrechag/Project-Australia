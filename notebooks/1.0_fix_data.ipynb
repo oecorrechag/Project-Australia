{
 "cells": [
  {
   "cell_type": "markdown",
   "metadata": {},
   "source": [
    "# 1.0 Fix data\n",
    "\n",
    "AIMS\n",
    "\n",
    "En este archivo se realiza la limpieza de los archivos"
   ]
  },
  {
   "cell_type": "code",
   "execution_count": 1,
   "metadata": {},
   "outputs": [],
   "source": [
    "%load_ext autoreload\n",
    "%autoreload 2"
   ]
  },
  {
   "cell_type": "code",
   "execution_count": 2,
   "metadata": {},
   "outputs": [],
   "source": [
    "import pandas as pd\n",
    "from mypackage import dir, dataquality\n",
    "from mypackage.transforms import non_sex, diff_date, convert_variables\n",
    "\n",
    "modality =  modality = 'p'\n",
    "project = 'australian'\n",
    "data = dir.make_dir_line(modality, project) \n",
    "raw = data('raw')\n",
    "processed = data('processed')\n",
    "\n",
    "pd.set_option('display.max_columns', None)\n",
    "pd.set_option('display.max_rows', None)\n",
    "import warnings\n",
    "warnings.filterwarnings(\"ignore\")"
   ]
  },
  {
   "cell_type": "markdown",
   "metadata": {},
   "source": [
    "## 1.1 Fix data customers"
   ]
  },
  {
   "cell_type": "code",
   "execution_count": 3,
   "metadata": {},
   "outputs": [
    {
     "name": "stdout",
     "output_type": "stream",
     "text": [
      "Execution data quality starts.\n",
      "\n",
      "*****\n",
      "The dataframe does not contain missing values.\n",
      "*****\n",
      "The dataframe does not contain duplicate values.\n",
      "*****\n",
      "The dataframe contains values that are not numeric.\n",
      "Variable not numerit: id_cliente\n",
      "Variable not numerit: nombre\n",
      "Variable not numerit: fecha_nacimiento\n",
      "*****\n",
      "Discrete variable: sexo\n",
      "*****\n",
      "The dimension of dataframe is (500, 5)\n",
      "*****\n",
      "\n",
      "Execution data quality ends.\n",
      "\n"
     ]
    }
   ],
   "source": [
    "df_clientes = pd.read_csv(raw / 'df_clientes.csv', sep = ',', decimal = '.', header = 0)\n",
    "df_clientes['fecha_nacimiento'] = pd.to_datetime(df_clientes['fecha_nacimiento'], dayfirst=False, errors = 'coerce')\n",
    "df_clientes = convert_variables(df_clientes, ['id_cliente', 'sexo'], 'str')\n",
    "df_clientes = non_sex(df_clientes, 'sexo')\n",
    "df_clientes = diff_date(df_clientes, \"fecha_nacimiento\", 'now')\n",
    "dataquality.data_quality(df_clientes, threshold_discrete=10)"
   ]
  },
  {
   "cell_type": "code",
   "execution_count": 4,
   "metadata": {},
   "outputs": [
    {
     "data": {
      "text/html": [
       "<div>\n",
       "<style scoped>\n",
       "    .dataframe tbody tr th:only-of-type {\n",
       "        vertical-align: middle;\n",
       "    }\n",
       "\n",
       "    .dataframe tbody tr th {\n",
       "        vertical-align: top;\n",
       "    }\n",
       "\n",
       "    .dataframe thead th {\n",
       "        text-align: right;\n",
       "    }\n",
       "</style>\n",
       "<table border=\"1\" class=\"dataframe\">\n",
       "  <thead>\n",
       "    <tr style=\"text-align: right;\">\n",
       "      <th></th>\n",
       "      <th>id_cliente</th>\n",
       "      <th>nombre</th>\n",
       "      <th>sexo</th>\n",
       "      <th>fecha_nacimiento</th>\n",
       "      <th>age_days</th>\n",
       "    </tr>\n",
       "  </thead>\n",
       "  <tbody>\n",
       "    <tr>\n",
       "      <th>0</th>\n",
       "      <td>1001</td>\n",
       "      <td>Fredo Bonanno-Beccheria</td>\n",
       "      <td>1</td>\n",
       "      <td>1930-06-11</td>\n",
       "      <td>34247</td>\n",
       "    </tr>\n",
       "    <tr>\n",
       "      <th>1</th>\n",
       "      <td>1002</td>\n",
       "      <td>Ermenegildo Sansoni</td>\n",
       "      <td>1</td>\n",
       "      <td>1940-10-17</td>\n",
       "      <td>30466</td>\n",
       "    </tr>\n",
       "    <tr>\n",
       "      <th>2</th>\n",
       "      <td>1003</td>\n",
       "      <td>Antonia Bajardi</td>\n",
       "      <td>0</td>\n",
       "      <td>1916-06-15</td>\n",
       "      <td>39356</td>\n",
       "    </tr>\n",
       "    <tr>\n",
       "      <th>3</th>\n",
       "      <td>1004</td>\n",
       "      <td>Evangelista Biagi</td>\n",
       "      <td>0</td>\n",
       "      <td>1985-02-17</td>\n",
       "      <td>14272</td>\n",
       "    </tr>\n",
       "    <tr>\n",
       "      <th>4</th>\n",
       "      <td>1005</td>\n",
       "      <td>Iolanda Ceschi</td>\n",
       "      <td>0</td>\n",
       "      <td>2016-07-22</td>\n",
       "      <td>2794</td>\n",
       "    </tr>\n",
       "  </tbody>\n",
       "</table>\n",
       "</div>"
      ],
      "text/plain": [
       "  id_cliente                   nombre  sexo fecha_nacimiento  age_days\n",
       "0       1001  Fredo Bonanno-Beccheria     1       1930-06-11     34247\n",
       "1       1002      Ermenegildo Sansoni     1       1940-10-17     30466\n",
       "2       1003          Antonia Bajardi     0       1916-06-15     39356\n",
       "3       1004        Evangelista Biagi     0       1985-02-17     14272\n",
       "4       1005           Iolanda Ceschi     0       2016-07-22      2794"
      ]
     },
     "execution_count": 4,
     "metadata": {},
     "output_type": "execute_result"
    }
   ],
   "source": [
    "df_clientes.head()"
   ]
  },
  {
   "cell_type": "markdown",
   "metadata": {},
   "source": [
    "## 1.2 Fix data products"
   ]
  },
  {
   "cell_type": "code",
   "execution_count": 5,
   "metadata": {},
   "outputs": [
    {
     "name": "stdout",
     "output_type": "stream",
     "text": [
      "Execution data quality starts.\n",
      "\n",
      "*****\n",
      "The dataframe does not contain missing values.\n",
      "*****\n",
      "The dataframe does not contain duplicate values.\n",
      "*****\n",
      "The dataframe contains values that are not numeric.\n",
      "Variable not numerit: id_producto\n",
      "Variable not numerit: articulo\n",
      "Variable not numerit: category\n",
      "Variable not numerit: color\n",
      "Variable not numerit: L\n",
      "Variable not numerit: tallas\n",
      "*****\n",
      "Discrete variable: tallas\n",
      "*****\n",
      "The dimension of dataframe is (398, 10)\n",
      "*****\n",
      "\n",
      "Execution data quality ends.\n",
      "\n"
     ]
    }
   ],
   "source": [
    "df_productos = pd.read_csv(raw / 'df_productos.csv', sep = ',', decimal = '.', header = 0)\n",
    "df_productos.rename(columns={'precio':'valor', 'production':'procentaje_produccion'}, inplace=True)\n",
    "df_productos['valor_produccion'] = (df_productos['valor'] * df_productos['procentaje_produccion'])/100\n",
    "dataquality.data_quality(df_productos, threshold_discrete=10)"
   ]
  },
  {
   "cell_type": "code",
   "execution_count": 6,
   "metadata": {},
   "outputs": [
    {
     "data": {
      "text/html": [
       "<div>\n",
       "<style scoped>\n",
       "    .dataframe tbody tr th:only-of-type {\n",
       "        vertical-align: middle;\n",
       "    }\n",
       "\n",
       "    .dataframe tbody tr th {\n",
       "        vertical-align: top;\n",
       "    }\n",
       "\n",
       "    .dataframe thead th {\n",
       "        text-align: right;\n",
       "    }\n",
       "</style>\n",
       "<table border=\"1\" class=\"dataframe\">\n",
       "  <thead>\n",
       "    <tr style=\"text-align: right;\">\n",
       "      <th></th>\n",
       "      <th>id_producto</th>\n",
       "      <th>descripcion</th>\n",
       "      <th>articulo</th>\n",
       "      <th>category</th>\n",
       "      <th>valor</th>\n",
       "      <th>procentaje_produccion</th>\n",
       "      <th>color</th>\n",
       "      <th>L</th>\n",
       "      <th>tallas</th>\n",
       "      <th>valor_produccion</th>\n",
       "    </tr>\n",
       "  </thead>\n",
       "  <tbody>\n",
       "    <tr>\n",
       "      <th>0</th>\n",
       "      <td>759ne</td>\n",
       "      <td>759</td>\n",
       "      <td>Short con tiritas</td>\n",
       "      <td>Short</td>\n",
       "      <td>40.0</td>\n",
       "      <td>46</td>\n",
       "      <td>Negro</td>\n",
       "      <td>ne</td>\n",
       "      <td>1 al 4</td>\n",
       "      <td>18.400</td>\n",
       "    </tr>\n",
       "    <tr>\n",
       "      <th>1</th>\n",
       "      <td>759bl</td>\n",
       "      <td>759</td>\n",
       "      <td>Short con tiritas</td>\n",
       "      <td>Short</td>\n",
       "      <td>40.0</td>\n",
       "      <td>46</td>\n",
       "      <td>Blanco</td>\n",
       "      <td>bl</td>\n",
       "      <td>1 al 4</td>\n",
       "      <td>18.400</td>\n",
       "    </tr>\n",
       "    <tr>\n",
       "      <th>2</th>\n",
       "      <td>759az</td>\n",
       "      <td>759</td>\n",
       "      <td>Short con tiritas</td>\n",
       "      <td>Short</td>\n",
       "      <td>40.0</td>\n",
       "      <td>46</td>\n",
       "      <td>Azul</td>\n",
       "      <td>az</td>\n",
       "      <td>1 al 4</td>\n",
       "      <td>18.400</td>\n",
       "    </tr>\n",
       "    <tr>\n",
       "      <th>3</th>\n",
       "      <td>759ro</td>\n",
       "      <td>759</td>\n",
       "      <td>Short con tiritas</td>\n",
       "      <td>Short</td>\n",
       "      <td>40.0</td>\n",
       "      <td>46</td>\n",
       "      <td>Rojo</td>\n",
       "      <td>ro</td>\n",
       "      <td>1 al 4</td>\n",
       "      <td>18.400</td>\n",
       "    </tr>\n",
       "    <tr>\n",
       "      <th>4</th>\n",
       "      <td>761ro</td>\n",
       "      <td>761</td>\n",
       "      <td>Short lienzo con bolsillo fruncido</td>\n",
       "      <td>Short</td>\n",
       "      <td>43.2</td>\n",
       "      <td>37</td>\n",
       "      <td>Rojo</td>\n",
       "      <td>ro</td>\n",
       "      <td>1 al 4</td>\n",
       "      <td>15.984</td>\n",
       "    </tr>\n",
       "  </tbody>\n",
       "</table>\n",
       "</div>"
      ],
      "text/plain": [
       "  id_producto  descripcion                            articulo category  \\\n",
       "0       759ne          759                   Short con tiritas    Short   \n",
       "1       759bl          759                   Short con tiritas    Short   \n",
       "2       759az          759                   Short con tiritas    Short   \n",
       "3       759ro          759                   Short con tiritas    Short   \n",
       "4       761ro          761  Short lienzo con bolsillo fruncido    Short   \n",
       "\n",
       "   valor  procentaje_produccion   color   L  tallas  valor_produccion  \n",
       "0   40.0                     46   Negro  ne  1 al 4            18.400  \n",
       "1   40.0                     46  Blanco  bl  1 al 4            18.400  \n",
       "2   40.0                     46    Azul  az  1 al 4            18.400  \n",
       "3   40.0                     46    Rojo  ro  1 al 4            18.400  \n",
       "4   43.2                     37    Rojo  ro  1 al 4            15.984  "
      ]
     },
     "execution_count": 6,
     "metadata": {},
     "output_type": "execute_result"
    }
   ],
   "source": [
    "df_productos.head()"
   ]
  },
  {
   "cell_type": "markdown",
   "metadata": {},
   "source": [
    "## 1.3 Fix data transactions"
   ]
  },
  {
   "cell_type": "code",
   "execution_count": 7,
   "metadata": {},
   "outputs": [
    {
     "name": "stdout",
     "output_type": "stream",
     "text": [
      "Execution data quality starts.\n",
      "\n",
      "*****\n",
      "The dataframe does not contain missing values.\n",
      "*****\n",
      "The dataframe does not contain duplicate values.\n",
      "*****\n",
      "The dataframe contains values that are not numeric.\n",
      "Variable not numerit: id_factura\n",
      "Variable not numerit: fecha\n",
      "Variable not numerit: id_cliente\n",
      "Variable not numerit: id_producto\n",
      "Variable not numerit: id_store\n",
      "Variable not numerit: discount\n",
      "*****\n",
      "Discrete variable: quantity\n",
      "*****\n",
      "The dimension of dataframe is (9001, 8)\n",
      "*****\n",
      "\n",
      "Execution data quality ends.\n",
      "\n"
     ]
    }
   ],
   "source": [
    "df_ventas = pd.read_csv(raw / 'df_ventas.csv', sep = ',', decimal = '.', header = 0)\n",
    "df_ventas = df_ventas.loc[:,['id_factura', 'fecha', 'id_cliente', 'id_producto', 'quantity', 'id_store', \n",
    "                             'discount', 'per_discount2']]\n",
    "df_ventas['fecha'] = pd.to_datetime(df_ventas['fecha'], dayfirst='false', errors = 'coerce')\n",
    "df_ventas = convert_variables(df_ventas, ['id_factura', 'id_cliente', 'id_store', 'discount'], \n",
    "                                'str')\n",
    "dataquality.data_quality(df_ventas, threshold_discrete=10)"
   ]
  },
  {
   "cell_type": "code",
   "execution_count": 8,
   "metadata": {},
   "outputs": [
    {
     "data": {
      "text/html": [
       "<div>\n",
       "<style scoped>\n",
       "    .dataframe tbody tr th:only-of-type {\n",
       "        vertical-align: middle;\n",
       "    }\n",
       "\n",
       "    .dataframe tbody tr th {\n",
       "        vertical-align: top;\n",
       "    }\n",
       "\n",
       "    .dataframe thead th {\n",
       "        text-align: right;\n",
       "    }\n",
       "</style>\n",
       "<table border=\"1\" class=\"dataframe\">\n",
       "  <thead>\n",
       "    <tr style=\"text-align: right;\">\n",
       "      <th></th>\n",
       "      <th>id_factura</th>\n",
       "      <th>fecha</th>\n",
       "      <th>id_cliente</th>\n",
       "      <th>id_producto</th>\n",
       "      <th>quantity</th>\n",
       "      <th>id_store</th>\n",
       "      <th>discount</th>\n",
       "      <th>per_discount2</th>\n",
       "    </tr>\n",
       "  </thead>\n",
       "  <tbody>\n",
       "    <tr>\n",
       "      <th>0</th>\n",
       "      <td>1001</td>\n",
       "      <td>2019-03-16</td>\n",
       "      <td>1331</td>\n",
       "      <td>1634ra</td>\n",
       "      <td>1</td>\n",
       "      <td>2</td>\n",
       "      <td>1</td>\n",
       "      <td>20.0</td>\n",
       "    </tr>\n",
       "    <tr>\n",
       "      <th>1</th>\n",
       "      <td>1002</td>\n",
       "      <td>2019-03-16</td>\n",
       "      <td>1131</td>\n",
       "      <td>5821gr</td>\n",
       "      <td>1</td>\n",
       "      <td>1</td>\n",
       "      <td>0</td>\n",
       "      <td>0.0</td>\n",
       "    </tr>\n",
       "    <tr>\n",
       "      <th>2</th>\n",
       "      <td>1003</td>\n",
       "      <td>2019-03-16</td>\n",
       "      <td>1344</td>\n",
       "      <td>9151ro</td>\n",
       "      <td>1</td>\n",
       "      <td>2</td>\n",
       "      <td>1</td>\n",
       "      <td>5.0</td>\n",
       "    </tr>\n",
       "    <tr>\n",
       "      <th>3</th>\n",
       "      <td>1004</td>\n",
       "      <td>2019-03-16</td>\n",
       "      <td>1444</td>\n",
       "      <td>9145gr</td>\n",
       "      <td>2</td>\n",
       "      <td>2</td>\n",
       "      <td>1</td>\n",
       "      <td>5.0</td>\n",
       "    </tr>\n",
       "    <tr>\n",
       "      <th>4</th>\n",
       "      <td>1005</td>\n",
       "      <td>2019-03-16</td>\n",
       "      <td>1345</td>\n",
       "      <td>1367ve</td>\n",
       "      <td>2</td>\n",
       "      <td>2</td>\n",
       "      <td>0</td>\n",
       "      <td>0.0</td>\n",
       "    </tr>\n",
       "  </tbody>\n",
       "</table>\n",
       "</div>"
      ],
      "text/plain": [
       "  id_factura      fecha id_cliente id_producto  quantity id_store discount  \\\n",
       "0       1001 2019-03-16       1331      1634ra         1        2        1   \n",
       "1       1002 2019-03-16       1131      5821gr         1        1        0   \n",
       "2       1003 2019-03-16       1344      9151ro         1        2        1   \n",
       "3       1004 2019-03-16       1444      9145gr         2        2        1   \n",
       "4       1005 2019-03-16       1345      1367ve         2        2        0   \n",
       "\n",
       "   per_discount2  \n",
       "0           20.0  \n",
       "1            0.0  \n",
       "2            5.0  \n",
       "3            5.0  \n",
       "4            0.0  "
      ]
     },
     "execution_count": 8,
     "metadata": {},
     "output_type": "execute_result"
    }
   ],
   "source": [
    "df_ventas.head()"
   ]
  },
  {
   "cell_type": "code",
   "execution_count": 9,
   "metadata": {},
   "outputs": [],
   "source": [
    "# Save data\n",
    "df_clientes.to_parquet(processed/'df_clientes.parquet.gzip', compression='gzip')\n",
    "df_productos.to_parquet(processed/'df_productos.parquet.gzip', compression='gzip')\n",
    "df_ventas.to_parquet(processed/'df_ventas.parquet.gzip', compression='gzip')"
   ]
  },
  {
   "cell_type": "code",
   "execution_count": 10,
   "metadata": {},
   "outputs": [
    {
     "name": "stdout",
     "output_type": "stream",
     "text": [
      "ok_\n"
     ]
    }
   ],
   "source": [
    "print('ok_')"
   ]
  }
 ],
 "metadata": {
  "kernelspec": {
   "display_name": "Python 3",
   "language": "python",
   "name": "python3"
  },
  "language_info": {
   "codemirror_mode": {
    "name": "ipython",
    "version": 3
   },
   "file_extension": ".py",
   "mimetype": "text/x-python",
   "name": "python",
   "nbconvert_exporter": "python",
   "pygments_lexer": "ipython3",
   "version": "3.12.1"
  }
 },
 "nbformat": 4,
 "nbformat_minor": 2
}
