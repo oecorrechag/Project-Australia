{
 "cells": [
  {
   "cell_type": "markdown",
   "metadata": {},
   "source": [
    "# 1.0 Fix data\n",
    "\n",
    "AIMS\n",
    "\n",
    "En este archivo se realiza la limpieza de los archivos"
   ]
  },
  {
   "cell_type": "code",
   "execution_count": 1,
   "metadata": {},
   "outputs": [],
   "source": [
    "%load_ext autoreload\n",
    "%autoreload 2"
   ]
  },
  {
   "cell_type": "code",
   "execution_count": 2,
   "metadata": {},
   "outputs": [],
   "source": [
    "import pandas as pd\n",
    "from mypackage import dir, dataquality\n",
    "from mypackage.transforms import non_sex, diff_date, convert_variables\n",
    "\n",
    "modality =  modality = 'p'\n",
    "project = 'australian'\n",
    "data = dir.make_dir_line(modality, project) \n",
    "raw = data('raw')\n",
    "processed = data('processed')\n",
    "\n",
    "pd.set_option('display.max_columns', None)\n",
    "pd.set_option('display.max_rows', None)\n",
    "import warnings\n",
    "warnings.filterwarnings(\"ignore\")"
   ]
  },
  {
   "cell_type": "markdown",
   "metadata": {},
   "source": [
    "## 1.1 Fix data customers"
   ]
  },
  {
   "cell_type": "code",
   "execution_count": 4,
   "metadata": {},
   "outputs": [
    {
     "name": "stdout",
     "output_type": "stream",
     "text": [
      "Execution data quality starts.\n",
      "\n",
      "*****\n",
      "The dataframe does not contain missing values.\n",
      "*****\n",
      "The dataframe does not contain duplicate values.\n",
      "*****\n",
      "The dataframe contains values that are not numeric.\n",
      "Variable not numerit: id_cliente\n",
      "Variable not numerit: nombre\n",
      "Variable not numerit: fecha_nacimiento\n",
      "*****\n",
      "Discrete variable: sexo\n",
      "*****\n",
      "The dimension of dataframe is (100, 5)\n",
      "*****\n",
      "\n",
      "Execution data quality ends.\n",
      "\n"
     ]
    }
   ],
   "source": [
    "df_clientes = pd.read_csv(raw / 'df_clientes.csv', sep = ',', decimal = '.', header = 0)\n",
    "df_clientes['fecha_nacimiento'] = pd.to_datetime(df_clientes['fecha_nacimiento'], dayfirst='false', errors = 'coerce')\n",
    "df_clientes = convert_variables(df_clientes, ['id_cliente', 'sexo'], 'str')\n",
    "df_clientes = non_sex(df_clientes, 'sexo')\n",
    "df_clientes = diff_date(df_clientes, \"fecha_nacimiento\", 'now')\n",
    "dataquality.data_quality(df_clientes, threshold_discrete=10)"
   ]
  },
  {
   "cell_type": "code",
   "execution_count": 5,
   "metadata": {},
   "outputs": [
    {
     "data": {
      "text/html": [
       "<div>\n",
       "<style scoped>\n",
       "    .dataframe tbody tr th:only-of-type {\n",
       "        vertical-align: middle;\n",
       "    }\n",
       "\n",
       "    .dataframe tbody tr th {\n",
       "        vertical-align: top;\n",
       "    }\n",
       "\n",
       "    .dataframe thead th {\n",
       "        text-align: right;\n",
       "    }\n",
       "</style>\n",
       "<table border=\"1\" class=\"dataframe\">\n",
       "  <thead>\n",
       "    <tr style=\"text-align: right;\">\n",
       "      <th></th>\n",
       "      <th>id_cliente</th>\n",
       "      <th>nombre</th>\n",
       "      <th>sexo</th>\n",
       "      <th>fecha_nacimiento</th>\n",
       "      <th>age_days</th>\n",
       "    </tr>\n",
       "  </thead>\n",
       "  <tbody>\n",
       "    <tr>\n",
       "      <th>0</th>\n",
       "      <td>1001</td>\n",
       "      <td>Fredo Bonanno-Beccheria</td>\n",
       "      <td>1</td>\n",
       "      <td>1930-05-14</td>\n",
       "      <td>34263</td>\n",
       "    </tr>\n",
       "    <tr>\n",
       "      <th>1</th>\n",
       "      <td>1002</td>\n",
       "      <td>Ermenegildo Sansoni</td>\n",
       "      <td>1</td>\n",
       "      <td>1940-09-19</td>\n",
       "      <td>30482</td>\n",
       "    </tr>\n",
       "    <tr>\n",
       "      <th>2</th>\n",
       "      <td>1003</td>\n",
       "      <td>Antonia Bajardi</td>\n",
       "      <td>0</td>\n",
       "      <td>1916-05-18</td>\n",
       "      <td>39372</td>\n",
       "    </tr>\n",
       "    <tr>\n",
       "      <th>3</th>\n",
       "      <td>1004</td>\n",
       "      <td>Evangelista Biagi</td>\n",
       "      <td>0</td>\n",
       "      <td>1985-01-20</td>\n",
       "      <td>14288</td>\n",
       "    </tr>\n",
       "    <tr>\n",
       "      <th>4</th>\n",
       "      <td>1005</td>\n",
       "      <td>Iolanda Ceschi</td>\n",
       "      <td>0</td>\n",
       "      <td>2016-06-24</td>\n",
       "      <td>2810</td>\n",
       "    </tr>\n",
       "  </tbody>\n",
       "</table>\n",
       "</div>"
      ],
      "text/plain": [
       "  id_cliente                   nombre  sexo fecha_nacimiento  age_days\n",
       "0       1001  Fredo Bonanno-Beccheria     1       1930-05-14     34263\n",
       "1       1002      Ermenegildo Sansoni     1       1940-09-19     30482\n",
       "2       1003          Antonia Bajardi     0       1916-05-18     39372\n",
       "3       1004        Evangelista Biagi     0       1985-01-20     14288\n",
       "4       1005           Iolanda Ceschi     0       2016-06-24      2810"
      ]
     },
     "execution_count": 5,
     "metadata": {},
     "output_type": "execute_result"
    }
   ],
   "source": [
    "df_clientes.head()"
   ]
  },
  {
   "cell_type": "markdown",
   "metadata": {},
   "source": [
    "## 1.2 Fix data products"
   ]
  },
  {
   "cell_type": "code",
   "execution_count": 6,
   "metadata": {},
   "outputs": [
    {
     "name": "stdout",
     "output_type": "stream",
     "text": [
      "Execution data quality starts.\n",
      "\n",
      "*****\n",
      "The dataframe does not contain missing values.\n",
      "*****\n",
      "The dataframe does not contain duplicate values.\n",
      "*****\n",
      "The dataframe contains values that are not numeric.\n",
      "Variable not numerit: id_producto\n",
      "Variable not numerit: articulo\n",
      "Variable not numerit: category\n",
      "Variable not numerit: color\n",
      "Variable not numerit: L\n",
      "Variable not numerit: tallas\n",
      "*****\n",
      "Discrete variable: tallas\n",
      "*****\n",
      "The dimension of dataframe is (361, 10)\n",
      "*****\n",
      "\n",
      "Execution data quality ends.\n",
      "\n"
     ]
    }
   ],
   "source": [
    "df_productos = pd.read_csv(raw / 'df_productos.csv', sep = ',', decimal = '.', header = 0)\n",
    "df_productos.rename(columns={'precio':'valor', 'production':'procentaje_produccion'}, inplace=True)\n",
    "df_productos['valor_produccion'] = (df_productos['valor'] * df_productos['procentaje_produccion'])/100\n",
    "dataquality.data_quality(df_productos, threshold_discrete=10)"
   ]
  },
  {
   "cell_type": "code",
   "execution_count": 7,
   "metadata": {},
   "outputs": [
    {
     "data": {
      "text/html": [
       "<div>\n",
       "<style scoped>\n",
       "    .dataframe tbody tr th:only-of-type {\n",
       "        vertical-align: middle;\n",
       "    }\n",
       "\n",
       "    .dataframe tbody tr th {\n",
       "        vertical-align: top;\n",
       "    }\n",
       "\n",
       "    .dataframe thead th {\n",
       "        text-align: right;\n",
       "    }\n",
       "</style>\n",
       "<table border=\"1\" class=\"dataframe\">\n",
       "  <thead>\n",
       "    <tr style=\"text-align: right;\">\n",
       "      <th></th>\n",
       "      <th>id_producto</th>\n",
       "      <th>descripcion</th>\n",
       "      <th>articulo</th>\n",
       "      <th>category</th>\n",
       "      <th>valor</th>\n",
       "      <th>procentaje_produccion</th>\n",
       "      <th>color</th>\n",
       "      <th>L</th>\n",
       "      <th>tallas</th>\n",
       "      <th>valor_produccion</th>\n",
       "    </tr>\n",
       "  </thead>\n",
       "  <tbody>\n",
       "    <tr>\n",
       "      <th>0</th>\n",
       "      <td>759ne</td>\n",
       "      <td>759</td>\n",
       "      <td>Short con tiritas</td>\n",
       "      <td>Short</td>\n",
       "      <td>40.0</td>\n",
       "      <td>56</td>\n",
       "      <td>Negro</td>\n",
       "      <td>ne</td>\n",
       "      <td>1 al 4</td>\n",
       "      <td>22.4</td>\n",
       "    </tr>\n",
       "    <tr>\n",
       "      <th>1</th>\n",
       "      <td>759bl</td>\n",
       "      <td>759</td>\n",
       "      <td>Short con tiritas</td>\n",
       "      <td>Short</td>\n",
       "      <td>40.0</td>\n",
       "      <td>56</td>\n",
       "      <td>Blanco</td>\n",
       "      <td>bl</td>\n",
       "      <td>1 al 4</td>\n",
       "      <td>22.4</td>\n",
       "    </tr>\n",
       "    <tr>\n",
       "      <th>2</th>\n",
       "      <td>759az</td>\n",
       "      <td>759</td>\n",
       "      <td>Short con tiritas</td>\n",
       "      <td>Short</td>\n",
       "      <td>40.0</td>\n",
       "      <td>56</td>\n",
       "      <td>Azul</td>\n",
       "      <td>az</td>\n",
       "      <td>1 al 4</td>\n",
       "      <td>22.4</td>\n",
       "    </tr>\n",
       "    <tr>\n",
       "      <th>3</th>\n",
       "      <td>759ro</td>\n",
       "      <td>759</td>\n",
       "      <td>Short con tiritas</td>\n",
       "      <td>Short</td>\n",
       "      <td>40.0</td>\n",
       "      <td>56</td>\n",
       "      <td>Rojo</td>\n",
       "      <td>ro</td>\n",
       "      <td>1 al 4</td>\n",
       "      <td>22.4</td>\n",
       "    </tr>\n",
       "    <tr>\n",
       "      <th>4</th>\n",
       "      <td>759ra</td>\n",
       "      <td>759</td>\n",
       "      <td>Short con tiritas</td>\n",
       "      <td>Short</td>\n",
       "      <td>40.0</td>\n",
       "      <td>56</td>\n",
       "      <td>Rosa</td>\n",
       "      <td>ra</td>\n",
       "      <td>1 al 4</td>\n",
       "      <td>22.4</td>\n",
       "    </tr>\n",
       "  </tbody>\n",
       "</table>\n",
       "</div>"
      ],
      "text/plain": [
       "  id_producto  descripcion           articulo category  valor  \\\n",
       "0       759ne          759  Short con tiritas    Short   40.0   \n",
       "1       759bl          759  Short con tiritas    Short   40.0   \n",
       "2       759az          759  Short con tiritas    Short   40.0   \n",
       "3       759ro          759  Short con tiritas    Short   40.0   \n",
       "4       759ra          759  Short con tiritas    Short   40.0   \n",
       "\n",
       "   procentaje_produccion   color   L  tallas  valor_produccion  \n",
       "0                     56   Negro  ne  1 al 4              22.4  \n",
       "1                     56  Blanco  bl  1 al 4              22.4  \n",
       "2                     56    Azul  az  1 al 4              22.4  \n",
       "3                     56    Rojo  ro  1 al 4              22.4  \n",
       "4                     56    Rosa  ra  1 al 4              22.4  "
      ]
     },
     "execution_count": 7,
     "metadata": {},
     "output_type": "execute_result"
    }
   ],
   "source": [
    "df_productos.head()"
   ]
  },
  {
   "cell_type": "markdown",
   "metadata": {},
   "source": [
    "## 1.3 Fix data transactions"
   ]
  },
  {
   "cell_type": "code",
   "execution_count": 8,
   "metadata": {},
   "outputs": [
    {
     "name": "stdout",
     "output_type": "stream",
     "text": [
      "Execution data quality starts.\n",
      "\n",
      "*****\n",
      "The dataframe does not contain missing values.\n",
      "*****\n",
      "The dataframe does not contain duplicate values.\n",
      "*****\n",
      "The dataframe contains values that are not numeric.\n",
      "Variable not numerit: id_factura\n",
      "Variable not numerit: fecha\n",
      "Variable not numerit: id_cliente\n",
      "Variable not numerit: id_producto\n",
      "Variable not numerit: id_store\n",
      "Variable not numerit: discount\n",
      "*****\n",
      "Discrete variable: quantity\n",
      "*****\n",
      "The dimension of dataframe is (5447, 8)\n",
      "*****\n",
      "\n",
      "Execution data quality ends.\n",
      "\n"
     ]
    }
   ],
   "source": [
    "df_ventas = pd.read_csv(raw / 'df_ventas.csv', sep = ',', decimal = '.', header = 0)\n",
    "df_ventas = df_ventas.loc[:,['id_factura', 'fecha', 'id_cliente', 'id_producto', 'quantity', 'id_store', \n",
    "                             'discount', 'per_discount2']]\n",
    "df_ventas['fecha'] = pd.to_datetime(df_ventas['fecha'], dayfirst='false', errors = 'coerce')\n",
    "df_ventas = convert_variables(df_ventas, ['id_factura', 'id_cliente', 'id_store', 'discount'], \n",
    "                                'str')\n",
    "dataquality.data_quality(df_ventas, threshold_discrete=10)"
   ]
  },
  {
   "cell_type": "code",
   "execution_count": 9,
   "metadata": {},
   "outputs": [
    {
     "data": {
      "text/html": [
       "<div>\n",
       "<style scoped>\n",
       "    .dataframe tbody tr th:only-of-type {\n",
       "        vertical-align: middle;\n",
       "    }\n",
       "\n",
       "    .dataframe tbody tr th {\n",
       "        vertical-align: top;\n",
       "    }\n",
       "\n",
       "    .dataframe thead th {\n",
       "        text-align: right;\n",
       "    }\n",
       "</style>\n",
       "<table border=\"1\" class=\"dataframe\">\n",
       "  <thead>\n",
       "    <tr style=\"text-align: right;\">\n",
       "      <th></th>\n",
       "      <th>id_factura</th>\n",
       "      <th>fecha</th>\n",
       "      <th>id_cliente</th>\n",
       "      <th>id_producto</th>\n",
       "      <th>quantity</th>\n",
       "      <th>id_store</th>\n",
       "      <th>discount</th>\n",
       "      <th>per_discount2</th>\n",
       "    </tr>\n",
       "  </thead>\n",
       "  <tbody>\n",
       "    <tr>\n",
       "      <th>0</th>\n",
       "      <td>1001</td>\n",
       "      <td>2021-02-17</td>\n",
       "      <td>1088</td>\n",
       "      <td>2521ro</td>\n",
       "      <td>1</td>\n",
       "      <td>0</td>\n",
       "      <td>0</td>\n",
       "      <td>0.0</td>\n",
       "    </tr>\n",
       "    <tr>\n",
       "      <th>1</th>\n",
       "      <td>1002</td>\n",
       "      <td>2021-02-21</td>\n",
       "      <td>1089</td>\n",
       "      <td>9160ro</td>\n",
       "      <td>2</td>\n",
       "      <td>2</td>\n",
       "      <td>1</td>\n",
       "      <td>5.0</td>\n",
       "    </tr>\n",
       "    <tr>\n",
       "      <th>2</th>\n",
       "      <td>1003</td>\n",
       "      <td>2021-02-22</td>\n",
       "      <td>1050</td>\n",
       "      <td>9173ne</td>\n",
       "      <td>2</td>\n",
       "      <td>0</td>\n",
       "      <td>0</td>\n",
       "      <td>0.0</td>\n",
       "    </tr>\n",
       "    <tr>\n",
       "      <th>3</th>\n",
       "      <td>1004</td>\n",
       "      <td>2021-02-24</td>\n",
       "      <td>1029</td>\n",
       "      <td>762bl</td>\n",
       "      <td>1</td>\n",
       "      <td>1</td>\n",
       "      <td>0</td>\n",
       "      <td>0.0</td>\n",
       "    </tr>\n",
       "    <tr>\n",
       "      <th>4</th>\n",
       "      <td>1005</td>\n",
       "      <td>2021-02-24</td>\n",
       "      <td>1009</td>\n",
       "      <td>9167ro</td>\n",
       "      <td>1</td>\n",
       "      <td>1</td>\n",
       "      <td>0</td>\n",
       "      <td>0.0</td>\n",
       "    </tr>\n",
       "  </tbody>\n",
       "</table>\n",
       "</div>"
      ],
      "text/plain": [
       "  id_factura      fecha id_cliente id_producto  quantity id_store discount  \\\n",
       "0       1001 2021-02-17       1088      2521ro         1        0        0   \n",
       "1       1002 2021-02-21       1089      9160ro         2        2        1   \n",
       "2       1003 2021-02-22       1050      9173ne         2        0        0   \n",
       "3       1004 2021-02-24       1029       762bl         1        1        0   \n",
       "4       1005 2021-02-24       1009      9167ro         1        1        0   \n",
       "\n",
       "   per_discount2  \n",
       "0            0.0  \n",
       "1            5.0  \n",
       "2            0.0  \n",
       "3            0.0  \n",
       "4            0.0  "
      ]
     },
     "execution_count": 9,
     "metadata": {},
     "output_type": "execute_result"
    }
   ],
   "source": [
    "df_ventas.head()"
   ]
  },
  {
   "cell_type": "code",
   "execution_count": 10,
   "metadata": {},
   "outputs": [],
   "source": [
    "# Save data\n",
    "df_clientes.to_parquet(processed/'df_clientes.parquet.gzip', compression='gzip')\n",
    "df_productos.to_parquet(processed/'df_productos.parquet.gzip', compression='gzip')\n",
    "df_ventas.to_parquet(processed/'df_ventas.parquet.gzip', compression='gzip')"
   ]
  },
  {
   "cell_type": "code",
   "execution_count": 11,
   "metadata": {},
   "outputs": [
    {
     "name": "stdout",
     "output_type": "stream",
     "text": [
      "ok_\n"
     ]
    }
   ],
   "source": [
    "print('ok_')"
   ]
  }
 ],
 "metadata": {
  "kernelspec": {
   "display_name": "Python 3",
   "language": "python",
   "name": "python3"
  },
  "language_info": {
   "codemirror_mode": {
    "name": "ipython",
    "version": 3
   },
   "file_extension": ".py",
   "mimetype": "text/x-python",
   "name": "python",
   "nbconvert_exporter": "python",
   "pygments_lexer": "ipython3",
   "version": "3.12.1"
  }
 },
 "nbformat": 4,
 "nbformat_minor": 2
}
