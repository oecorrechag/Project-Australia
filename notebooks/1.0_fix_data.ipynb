{
 "cells": [
  {
   "cell_type": "markdown",
   "metadata": {},
   "source": [
    "# 1.0 Fix data\n",
    "\n",
    "AIMS \n",
    "\n",
    "En este archivo se realiza la limpieza de los archivos y el ETL"
   ]
  },
  {
   "cell_type": "code",
   "execution_count": 53,
   "metadata": {},
   "outputs": [],
   "source": [
    "import pandas as pd\n",
    "from datetime import datetime\n",
    "from mypackage import dir, dataquality"
   ]
  },
  {
   "cell_type": "code",
   "execution_count": 54,
   "metadata": {},
   "outputs": [
    {
     "name": "stdout",
     "output_type": "stream",
     "text": [
      "The autoreload extension is already loaded. To reload it, use:\n",
      "  %reload_ext autoreload\n"
     ]
    }
   ],
   "source": [
    "%load_ext autoreload\n",
    "%autoreload 2\n",
    "\n",
    "pd.set_option('display.max_columns', None)\n",
    "pd.set_option('display.max_rows', None)\n",
    "import warnings\n",
    "warnings.filterwarnings(\"ignore\")"
   ]
  },
  {
   "cell_type": "code",
   "execution_count": 55,
   "metadata": {},
   "outputs": [],
   "source": [
    "modality =  modality = 'p'\n",
    "project = 'australia'\n",
    "data = dir.make_dir_line(modality, project) \n",
    "raw = data('raw')"
   ]
  },
  {
   "cell_type": "code",
   "execution_count": 56,
   "metadata": {},
   "outputs": [],
   "source": [
    "# # Using Value Counts\n",
    "# discrete_vars_counts = [col for col in df_clientes.columns if df_clientes[col].nunique() < len(df_clientes) / 20]  # Assuming a threshold here\n",
    "\n",
    "# # Print or use the identified discrete variables\n",
    "# print(\"Discrete variables by value counts:\", discrete_vars_counts)\n",
    "\n",
    "def discrete_values(dataframe, threshold=10):\n",
    "    # Using Value Counts\n",
    "    discrete_vars_counts = [col for col in dataframe.columns if dataframe[col].nunique() < threshold]  # Assuming a threshold here\n",
    "\n",
    "    # Print or use the identified discrete variables\n",
    "    print(\"Discrete variables by value counts:\", discrete_vars_counts)\n",
    "\n",
    "def non_sex(dataframe, variable):\n",
    "    # Label sex or gender\n",
    "    dataframe[variable] = dataframe[variable].replace(['F', 'f', 'Femenino', 'femenino'], 0)\n",
    "    dataframe[variable] = dataframe[variable].replace(['M', 'm', 'Masculino', 'masculino'], 1)\n",
    "\n",
    "    return dataframe"
   ]
  },
  {
   "cell_type": "markdown",
   "metadata": {},
   "source": [
    "## 1.1 Fix data customers"
   ]
  },
  {
   "cell_type": "code",
   "execution_count": 57,
   "metadata": {},
   "outputs": [
    {
     "name": "stdout",
     "output_type": "stream",
     "text": [
      "*****\n",
      "The dataframe does not contain missing values.\n",
      "*****\n",
      "The dataframe does not contain duplicate values.\n",
      "*****\n",
      "The dataframe contains values that are not numeric.\n",
      "Variable not numerit: nombre\n",
      "Variable not numerit: sexo\n",
      "Variable not numerit: fecha_nacimiento\n",
      "*****\n",
      "The dimension of dataframe is (100, 4)\n",
      "execution data quality ends.\n",
      "Discrete variables by value counts: ['sexo']\n"
     ]
    }
   ],
   "source": [
    "df_clientes = pd.read_csv(raw / 'df_clientes.csv', sep = ',', decimal = '.', header = 0)\n",
    "\n",
    "df_clientes['fecha_nacimiento'] = pd.to_datetime(df_clientes['fecha_nacimiento'], dayfirst='false', errors = 'coerce')\n",
    "\n",
    "dataquality.data_quality(df_clientes)\n",
    "\n",
    "discrete_values(df_clientes, 10)"
   ]
  },
  {
   "cell_type": "code",
   "execution_count": 58,
   "metadata": {},
   "outputs": [
    {
     "data": {
      "text/html": [
       "<div>\n",
       "<style scoped>\n",
       "    .dataframe tbody tr th:only-of-type {\n",
       "        vertical-align: middle;\n",
       "    }\n",
       "\n",
       "    .dataframe tbody tr th {\n",
       "        vertical-align: top;\n",
       "    }\n",
       "\n",
       "    .dataframe thead th {\n",
       "        text-align: right;\n",
       "    }\n",
       "</style>\n",
       "<table border=\"1\" class=\"dataframe\">\n",
       "  <thead>\n",
       "    <tr style=\"text-align: right;\">\n",
       "      <th></th>\n",
       "      <th>id_cliente</th>\n",
       "      <th>nombre</th>\n",
       "      <th>sexo</th>\n",
       "      <th>fecha_nacimiento</th>\n",
       "    </tr>\n",
       "  </thead>\n",
       "  <tbody>\n",
       "    <tr>\n",
       "      <th>0</th>\n",
       "      <td>1001</td>\n",
       "      <td>Maria Casaleggio</td>\n",
       "      <td>F</td>\n",
       "      <td>1991-04-29</td>\n",
       "    </tr>\n",
       "    <tr>\n",
       "      <th>1</th>\n",
       "      <td>1002</td>\n",
       "      <td>Sig.ra Rosalia Serlupi</td>\n",
       "      <td>F</td>\n",
       "      <td>2015-08-10</td>\n",
       "    </tr>\n",
       "    <tr>\n",
       "      <th>2</th>\n",
       "      <td>1003</td>\n",
       "      <td>Claudia Toninelli-Endrizzi</td>\n",
       "      <td>F</td>\n",
       "      <td>2012-02-09</td>\n",
       "    </tr>\n",
       "    <tr>\n",
       "      <th>3</th>\n",
       "      <td>1004</td>\n",
       "      <td>Eugenia Palazzo</td>\n",
       "      <td>F</td>\n",
       "      <td>2008-04-04</td>\n",
       "    </tr>\n",
       "    <tr>\n",
       "      <th>4</th>\n",
       "      <td>1005</td>\n",
       "      <td>Sig.ra Lucrezia Pratesi</td>\n",
       "      <td>F</td>\n",
       "      <td>1958-09-22</td>\n",
       "    </tr>\n",
       "  </tbody>\n",
       "</table>\n",
       "</div>"
      ],
      "text/plain": [
       "   id_cliente                      nombre sexo fecha_nacimiento\n",
       "0        1001            Maria Casaleggio    F       1991-04-29\n",
       "1        1002      Sig.ra Rosalia Serlupi    F       2015-08-10\n",
       "2        1003  Claudia Toninelli-Endrizzi    F       2012-02-09\n",
       "3        1004             Eugenia Palazzo    F       2008-04-04\n",
       "4        1005     Sig.ra Lucrezia Pratesi    F       1958-09-22"
      ]
     },
     "execution_count": 58,
     "metadata": {},
     "output_type": "execute_result"
    }
   ],
   "source": [
    "df_clientes.head()"
   ]
  },
  {
   "cell_type": "code",
   "execution_count": 59,
   "metadata": {},
   "outputs": [
    {
     "data": {
      "text/html": [
       "<div>\n",
       "<style scoped>\n",
       "    .dataframe tbody tr th:only-of-type {\n",
       "        vertical-align: middle;\n",
       "    }\n",
       "\n",
       "    .dataframe tbody tr th {\n",
       "        vertical-align: top;\n",
       "    }\n",
       "\n",
       "    .dataframe thead th {\n",
       "        text-align: right;\n",
       "    }\n",
       "</style>\n",
       "<table border=\"1\" class=\"dataframe\">\n",
       "  <thead>\n",
       "    <tr style=\"text-align: right;\">\n",
       "      <th></th>\n",
       "      <th>id_cliente</th>\n",
       "      <th>nombre</th>\n",
       "      <th>sexo</th>\n",
       "      <th>fecha_nacimiento</th>\n",
       "    </tr>\n",
       "  </thead>\n",
       "  <tbody>\n",
       "    <tr>\n",
       "      <th>0</th>\n",
       "      <td>1001</td>\n",
       "      <td>Maria Casaleggio</td>\n",
       "      <td>0</td>\n",
       "      <td>1991-04-29</td>\n",
       "    </tr>\n",
       "    <tr>\n",
       "      <th>1</th>\n",
       "      <td>1002</td>\n",
       "      <td>Sig.ra Rosalia Serlupi</td>\n",
       "      <td>0</td>\n",
       "      <td>2015-08-10</td>\n",
       "    </tr>\n",
       "    <tr>\n",
       "      <th>2</th>\n",
       "      <td>1003</td>\n",
       "      <td>Claudia Toninelli-Endrizzi</td>\n",
       "      <td>0</td>\n",
       "      <td>2012-02-09</td>\n",
       "    </tr>\n",
       "    <tr>\n",
       "      <th>3</th>\n",
       "      <td>1004</td>\n",
       "      <td>Eugenia Palazzo</td>\n",
       "      <td>0</td>\n",
       "      <td>2008-04-04</td>\n",
       "    </tr>\n",
       "    <tr>\n",
       "      <th>4</th>\n",
       "      <td>1005</td>\n",
       "      <td>Sig.ra Lucrezia Pratesi</td>\n",
       "      <td>0</td>\n",
       "      <td>1958-09-22</td>\n",
       "    </tr>\n",
       "  </tbody>\n",
       "</table>\n",
       "</div>"
      ],
      "text/plain": [
       "   id_cliente                      nombre  sexo fecha_nacimiento\n",
       "0        1001            Maria Casaleggio     0       1991-04-29\n",
       "1        1002      Sig.ra Rosalia Serlupi     0       2015-08-10\n",
       "2        1003  Claudia Toninelli-Endrizzi     0       2012-02-09\n",
       "3        1004             Eugenia Palazzo     0       2008-04-04\n",
       "4        1005     Sig.ra Lucrezia Pratesi     0       1958-09-22"
      ]
     },
     "execution_count": 59,
     "metadata": {},
     "output_type": "execute_result"
    }
   ],
   "source": [
    "df_clientes = non_sex(df_clientes, 'sexo')\n",
    "df_clientes.head()"
   ]
  },
  {
   "cell_type": "code",
   "execution_count": 60,
   "metadata": {},
   "outputs": [],
   "source": [
    "def calculate_years(dataframe, column, date):\n",
    "    from datetime import datetime\n",
    "\n",
    "    print(date)\n",
    "\n",
    "    if date == 'now':\n",
    "        current_date = datetime.today()\n",
    "    else:\n",
    "        current_date = datetime(date[0], date[1], date[2], 0, 0, 0)\n",
    "        \n",
    "    dataframe[column] = (current_date - dataframe[column]).dt.days\n",
    "\n",
    "    return dataframe"
   ]
  },
  {
   "cell_type": "code",
   "execution_count": 61,
   "metadata": {},
   "outputs": [],
   "source": [
    "def diff_date(dataframe, column, date):\n",
    "\n",
    "    ''' \n",
    "        This function takes a column and returns the difference with the current date or the entered date.\n",
    "    '''\n",
    "\n",
    "    from datetime import datetime\n",
    "\n",
    "    if date == 'now':\n",
    "        current_date = datetime.today()\n",
    "    else:\n",
    "        current_date = pd.to_datetime(date)\n",
    " \n",
    "    dataframe['age_days'] = (current_date - dataframe[column]).dt.days\n",
    "\n",
    "    return dataframe"
   ]
  },
  {
   "cell_type": "code",
   "execution_count": 62,
   "metadata": {},
   "outputs": [
    {
     "name": "stdout",
     "output_type": "stream",
     "text": [
      "now\n",
      "<class 'datetime.datetime'>\n"
     ]
    },
    {
     "data": {
      "text/html": [
       "<div>\n",
       "<style scoped>\n",
       "    .dataframe tbody tr th:only-of-type {\n",
       "        vertical-align: middle;\n",
       "    }\n",
       "\n",
       "    .dataframe tbody tr th {\n",
       "        vertical-align: top;\n",
       "    }\n",
       "\n",
       "    .dataframe thead th {\n",
       "        text-align: right;\n",
       "    }\n",
       "</style>\n",
       "<table border=\"1\" class=\"dataframe\">\n",
       "  <thead>\n",
       "    <tr style=\"text-align: right;\">\n",
       "      <th></th>\n",
       "      <th>id_cliente</th>\n",
       "      <th>nombre</th>\n",
       "      <th>sexo</th>\n",
       "      <th>fecha_nacimiento</th>\n",
       "      <th>age_days</th>\n",
       "    </tr>\n",
       "  </thead>\n",
       "  <tbody>\n",
       "    <tr>\n",
       "      <th>0</th>\n",
       "      <td>1001</td>\n",
       "      <td>Maria Casaleggio</td>\n",
       "      <td>0</td>\n",
       "      <td>1991-04-29</td>\n",
       "      <td>11963</td>\n",
       "    </tr>\n",
       "    <tr>\n",
       "      <th>1</th>\n",
       "      <td>1002</td>\n",
       "      <td>Sig.ra Rosalia Serlupi</td>\n",
       "      <td>0</td>\n",
       "      <td>2015-08-10</td>\n",
       "      <td>3094</td>\n",
       "    </tr>\n",
       "    <tr>\n",
       "      <th>2</th>\n",
       "      <td>1003</td>\n",
       "      <td>Claudia Toninelli-Endrizzi</td>\n",
       "      <td>0</td>\n",
       "      <td>2012-02-09</td>\n",
       "      <td>4372</td>\n",
       "    </tr>\n",
       "    <tr>\n",
       "      <th>3</th>\n",
       "      <td>1004</td>\n",
       "      <td>Eugenia Palazzo</td>\n",
       "      <td>0</td>\n",
       "      <td>2008-04-04</td>\n",
       "      <td>5778</td>\n",
       "    </tr>\n",
       "    <tr>\n",
       "      <th>4</th>\n",
       "      <td>1005</td>\n",
       "      <td>Sig.ra Lucrezia Pratesi</td>\n",
       "      <td>0</td>\n",
       "      <td>1958-09-22</td>\n",
       "      <td>23870</td>\n",
       "    </tr>\n",
       "  </tbody>\n",
       "</table>\n",
       "</div>"
      ],
      "text/plain": [
       "   id_cliente                      nombre  sexo fecha_nacimiento  age_days\n",
       "0        1001            Maria Casaleggio     0       1991-04-29     11963\n",
       "1        1002      Sig.ra Rosalia Serlupi     0       2015-08-10      3094\n",
       "2        1003  Claudia Toninelli-Endrizzi     0       2012-02-09      4372\n",
       "3        1004             Eugenia Palazzo     0       2008-04-04      5778\n",
       "4        1005     Sig.ra Lucrezia Pratesi     0       1958-09-22     23870"
      ]
     },
     "execution_count": 62,
     "metadata": {},
     "output_type": "execute_result"
    }
   ],
   "source": [
    "df_clientes = diff_date(df_clientes, \"fecha_nacimiento\", 'now')\n",
    "df_clientes.head()"
   ]
  },
  {
   "cell_type": "markdown",
   "metadata": {},
   "source": [
    "## 1.1 Fix data products"
   ]
  },
  {
   "cell_type": "code",
   "execution_count": null,
   "metadata": {},
   "outputs": [],
   "source": []
  },
  {
   "cell_type": "code",
   "execution_count": null,
   "metadata": {},
   "outputs": [],
   "source": []
  },
  {
   "cell_type": "code",
   "execution_count": null,
   "metadata": {},
   "outputs": [],
   "source": []
  }
 ],
 "metadata": {
  "kernelspec": {
   "display_name": "Python 3",
   "language": "python",
   "name": "python3"
  },
  "language_info": {
   "codemirror_mode": {
    "name": "ipython",
    "version": 3
   },
   "file_extension": ".py",
   "mimetype": "text/x-python",
   "name": "python",
   "nbconvert_exporter": "python",
   "pygments_lexer": "ipython3",
   "version": "3.12.1"
  }
 },
 "nbformat": 4,
 "nbformat_minor": 2
}
