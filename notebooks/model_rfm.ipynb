{
 "cells": [
  {
   "cell_type": "code",
   "execution_count": 1,
   "metadata": {},
   "outputs": [],
   "source": [
    "import pandas as pd\n",
    "import datetime as dt\n",
    "\n",
    "from sklearn.ensemble import IsolationForest\n",
    "\n",
    "from mypackage import dir\n",
    "from mypackage.rfm import calculate_rfm\n",
    "\n",
    "\n",
    "# Environment variables\n",
    "modality = 'p'\n",
    "project = 'australian'\n",
    "data = dir.make_dir_line(modality, project) \n",
    "processed = data('processed')\n",
    "\n",
    "\n",
    "# Función para cargar datos\n",
    "def cargar_datos(table_name: str) -> pd.DataFrame:\n",
    "    df = pd.read_parquet(processed / f'{table_name}.parquet.gzip')\n",
    "    print(f'Loaded table: {table_name}')\n",
    "    return df\n",
    "\n",
    "# Función para cargar los datos en la base de datos\n",
    "def cargar_en_db(df: pd.DataFrame, table_name: str) -> None:\n",
    "    df.to_parquet(processed/f'{table_name}.parquet.gzip', compression='gzip')\n",
    "    print(f'Saved table: {table_name}')\n",
    "\n",
    "def get_month(x): return dt.datetime(x.year, x.month, 1) \n",
    "\n",
    "def get_dates(df, col):\n",
    "    \n",
    "    year = df[col].dt.year\n",
    "    month = df[col].dt.month\n",
    "    day = df[col].dt.day\n",
    "    \n",
    "    return year, month, day"
   ]
  },
  {
   "cell_type": "code",
   "execution_count": 2,
   "metadata": {},
   "outputs": [],
   "source": [
    "iso_forest = IsolationForest(contamination=0.1, random_state=42)"
   ]
  },
  {
   "cell_type": "code",
   "execution_count": 12,
   "metadata": {},
   "outputs": [
    {
     "name": "stdout",
     "output_type": "stream",
     "text": [
      "Loaded table: dataset\n",
      "(12951, 6)\n",
      "(12529, 6)\n"
     ]
    }
   ],
   "source": [
    "df = cargar_datos('dataset')\n",
    "print(df.shape)\n",
    "df['fecha'] = pd.to_datetime(df['fecha'], format='%Y-%m-%d', errors = 'coerce')\n",
    "df = df[df['fecha']<'2024-1-1']\n",
    "print(df.shape)"
   ]
  },
  {
   "cell_type": "code",
   "execution_count": 4,
   "metadata": {},
   "outputs": [
    {
     "name": "stdout",
     "output_type": "stream",
     "text": [
      "Loaded table: dataset\n"
     ]
    },
    {
     "data": {
      "text/html": [
       "<div>\n",
       "<style scoped>\n",
       "    .dataframe tbody tr th:only-of-type {\n",
       "        vertical-align: middle;\n",
       "    }\n",
       "\n",
       "    .dataframe tbody tr th {\n",
       "        vertical-align: top;\n",
       "    }\n",
       "\n",
       "    .dataframe thead th {\n",
       "        text-align: right;\n",
       "    }\n",
       "</style>\n",
       "<table border=\"1\" class=\"dataframe\">\n",
       "  <thead>\n",
       "    <tr style=\"text-align: right;\">\n",
       "      <th></th>\n",
       "      <th>id_factura</th>\n",
       "      <th>fecha</th>\n",
       "      <th>id_cliente</th>\n",
       "      <th>quantity</th>\n",
       "      <th>valor</th>\n",
       "      <th>total_factura</th>\n",
       "    </tr>\n",
       "  </thead>\n",
       "  <tbody>\n",
       "    <tr>\n",
       "      <th>0</th>\n",
       "      <td>1001</td>\n",
       "      <td>2019-11-25</td>\n",
       "      <td>87</td>\n",
       "      <td>1</td>\n",
       "      <td>65.6</td>\n",
       "      <td>65.6</td>\n",
       "    </tr>\n",
       "    <tr>\n",
       "      <th>200</th>\n",
       "      <td>1006</td>\n",
       "      <td>2019-11-25</td>\n",
       "      <td>484</td>\n",
       "      <td>2</td>\n",
       "      <td>33.6</td>\n",
       "      <td>67.2</td>\n",
       "    </tr>\n",
       "    <tr>\n",
       "      <th>85</th>\n",
       "      <td>1003</td>\n",
       "      <td>2019-11-25</td>\n",
       "      <td>276</td>\n",
       "      <td>2</td>\n",
       "      <td>59.2</td>\n",
       "      <td>118.4</td>\n",
       "    </tr>\n",
       "    <tr>\n",
       "      <th>166</th>\n",
       "      <td>1005</td>\n",
       "      <td>2019-11-25</td>\n",
       "      <td>189</td>\n",
       "      <td>3</td>\n",
       "      <td>24.0</td>\n",
       "      <td>72.0</td>\n",
       "    </tr>\n",
       "    <tr>\n",
       "      <th>42</th>\n",
       "      <td>1002</td>\n",
       "      <td>2019-11-25</td>\n",
       "      <td>308</td>\n",
       "      <td>2</td>\n",
       "      <td>28.8</td>\n",
       "      <td>57.6</td>\n",
       "    </tr>\n",
       "  </tbody>\n",
       "</table>\n",
       "</div>"
      ],
      "text/plain": [
       "     id_factura      fecha  id_cliente  quantity  valor  total_factura\n",
       "0          1001 2019-11-25          87         1   65.6           65.6\n",
       "200        1006 2019-11-25         484         2   33.6           67.2\n",
       "85         1003 2019-11-25         276         2   59.2          118.4\n",
       "166        1005 2019-11-25         189         3   24.0           72.0\n",
       "42         1002 2019-11-25         308         2   28.8           57.6"
      ]
     },
     "execution_count": 4,
     "metadata": {},
     "output_type": "execute_result"
    }
   ],
   "source": [
    "df = cargar_datos('dataset')\n",
    "# dividir data para drift\n",
    "df['fecha'] = pd.to_datetime(df['fecha'], format='%Y-%m-%d', errors = 'coerce')\n",
    "df = df[df['fecha']<'2024-1-1']\n",
    "df = df[df[\"total_factura\"] > 0.0]\n",
    "# transformaciones\n",
    "df = df.sort_values(by=['fecha'], ascending=True)\n",
    "df['anomaly'] = iso_forest.fit_predict(df.loc[:,['quantity', 'valor', 'total_factura']])\n",
    "df = df[df['anomaly'] == 1].drop(columns='anomaly')\n",
    "df.head()"
   ]
  },
  {
   "cell_type": "code",
   "execution_count": 5,
   "metadata": {},
   "outputs": [
    {
     "data": {
      "text/plain": [
       "Timestamp('2024-09-30 00:00:00')"
      ]
     },
     "execution_count": 5,
     "metadata": {},
     "output_type": "execute_result"
    }
   ],
   "source": [
    "df['fecha'].max()"
   ]
  },
  {
   "cell_type": "code",
   "execution_count": 6,
   "metadata": {},
   "outputs": [
    {
     "data": {
      "text/html": [
       "<div>\n",
       "<style scoped>\n",
       "    .dataframe tbody tr th:only-of-type {\n",
       "        vertical-align: middle;\n",
       "    }\n",
       "\n",
       "    .dataframe tbody tr th {\n",
       "        vertical-align: top;\n",
       "    }\n",
       "\n",
       "    .dataframe thead th {\n",
       "        text-align: right;\n",
       "    }\n",
       "</style>\n",
       "<table border=\"1\" class=\"dataframe\">\n",
       "  <thead>\n",
       "    <tr style=\"text-align: right;\">\n",
       "      <th></th>\n",
       "      <th>id_factura</th>\n",
       "      <th>fecha</th>\n",
       "      <th>id_cliente</th>\n",
       "      <th>quantity</th>\n",
       "      <th>valor</th>\n",
       "      <th>total_factura</th>\n",
       "      <th>InvoiceMonth</th>\n",
       "      <th>CohortMonth</th>\n",
       "      <th>CohortIndex</th>\n",
       "    </tr>\n",
       "  </thead>\n",
       "  <tbody>\n",
       "    <tr>\n",
       "      <th>0</th>\n",
       "      <td>1001</td>\n",
       "      <td>2019-11-25</td>\n",
       "      <td>87</td>\n",
       "      <td>1</td>\n",
       "      <td>65.6</td>\n",
       "      <td>65.6</td>\n",
       "      <td>2019-11-01</td>\n",
       "      <td>2019-11-01</td>\n",
       "      <td>1</td>\n",
       "    </tr>\n",
       "    <tr>\n",
       "      <th>125</th>\n",
       "      <td>1004</td>\n",
       "      <td>2019-11-25</td>\n",
       "      <td>560</td>\n",
       "      <td>1</td>\n",
       "      <td>48.0</td>\n",
       "      <td>48.0</td>\n",
       "      <td>2019-11-01</td>\n",
       "      <td>2019-11-01</td>\n",
       "      <td>1</td>\n",
       "    </tr>\n",
       "    <tr>\n",
       "      <th>166</th>\n",
       "      <td>1005</td>\n",
       "      <td>2019-11-25</td>\n",
       "      <td>189</td>\n",
       "      <td>3</td>\n",
       "      <td>24.0</td>\n",
       "      <td>72.0</td>\n",
       "      <td>2019-11-01</td>\n",
       "      <td>2019-11-01</td>\n",
       "      <td>1</td>\n",
       "    </tr>\n",
       "    <tr>\n",
       "      <th>200</th>\n",
       "      <td>1006</td>\n",
       "      <td>2019-11-25</td>\n",
       "      <td>484</td>\n",
       "      <td>2</td>\n",
       "      <td>33.6</td>\n",
       "      <td>67.2</td>\n",
       "      <td>2019-11-01</td>\n",
       "      <td>2019-11-01</td>\n",
       "      <td>1</td>\n",
       "    </tr>\n",
       "    <tr>\n",
       "      <th>42</th>\n",
       "      <td>1002</td>\n",
       "      <td>2019-11-25</td>\n",
       "      <td>308</td>\n",
       "      <td>2</td>\n",
       "      <td>28.8</td>\n",
       "      <td>57.6</td>\n",
       "      <td>2019-11-01</td>\n",
       "      <td>2019-11-01</td>\n",
       "      <td>1</td>\n",
       "    </tr>\n",
       "  </tbody>\n",
       "</table>\n",
       "</div>"
      ],
      "text/plain": [
       "     id_factura      fecha  id_cliente  quantity  valor  total_factura  \\\n",
       "0          1001 2019-11-25          87         1   65.6           65.6   \n",
       "125        1004 2019-11-25         560         1   48.0           48.0   \n",
       "166        1005 2019-11-25         189         3   24.0           72.0   \n",
       "200        1006 2019-11-25         484         2   33.6           67.2   \n",
       "42         1002 2019-11-25         308         2   28.8           57.6   \n",
       "\n",
       "    InvoiceMonth CohortMonth  CohortIndex  \n",
       "0     2019-11-01  2019-11-01            1  \n",
       "125   2019-11-01  2019-11-01            1  \n",
       "166   2019-11-01  2019-11-01            1  \n",
       "200   2019-11-01  2019-11-01            1  \n",
       "42    2019-11-01  2019-11-01            1  "
      ]
     },
     "execution_count": 6,
     "metadata": {},
     "output_type": "execute_result"
    }
   ],
   "source": [
    "df[\"InvoiceMonth\"] = df[\"fecha\"].apply(get_month)\n",
    "df[\"CohortMonth\"] = df.groupby(\"id_cliente\")[\"InvoiceMonth\"].transform(\"min\")\n",
    "\n",
    "invoice_year, invoice_month, invoice_day = get_dates(df, \"InvoiceMonth\")\n",
    "cohort_year, cohort_month, cohort_day = get_dates(df, \"CohortMonth\")\n",
    "year_diff = invoice_year - cohort_year\n",
    "month_diff = invoice_month - cohort_month\n",
    "\n",
    "df[\"CohortIndex\"] = 12 * year_diff + month_diff + 1\n",
    "df.head()"
   ]
  },
  {
   "cell_type": "code",
   "execution_count": 7,
   "metadata": {},
   "outputs": [
    {
     "data": {
      "text/html": [
       "<div>\n",
       "<style scoped>\n",
       "    .dataframe tbody tr th:only-of-type {\n",
       "        vertical-align: middle;\n",
       "    }\n",
       "\n",
       "    .dataframe tbody tr th {\n",
       "        vertical-align: top;\n",
       "    }\n",
       "\n",
       "    .dataframe thead th {\n",
       "        text-align: right;\n",
       "    }\n",
       "</style>\n",
       "<table border=\"1\" class=\"dataframe\">\n",
       "  <thead>\n",
       "    <tr style=\"text-align: right;\">\n",
       "      <th></th>\n",
       "      <th>id_cliente</th>\n",
       "      <th>recency</th>\n",
       "      <th>live_purches</th>\n",
       "      <th>tenure</th>\n",
       "      <th>frequency</th>\n",
       "      <th>monetary</th>\n",
       "    </tr>\n",
       "  </thead>\n",
       "  <tbody>\n",
       "    <tr>\n",
       "      <th>0</th>\n",
       "      <td>0</td>\n",
       "      <td>47</td>\n",
       "      <td>258.285714</td>\n",
       "      <td>251.571429</td>\n",
       "      <td>16</td>\n",
       "      <td>86.400000</td>\n",
       "    </tr>\n",
       "    <tr>\n",
       "      <th>1</th>\n",
       "      <td>1</td>\n",
       "      <td>20</td>\n",
       "      <td>258.571429</td>\n",
       "      <td>255.714286</td>\n",
       "      <td>20</td>\n",
       "      <td>94.880000</td>\n",
       "    </tr>\n",
       "    <tr>\n",
       "      <th>2</th>\n",
       "      <td>2</td>\n",
       "      <td>183</td>\n",
       "      <td>258.142857</td>\n",
       "      <td>232.000000</td>\n",
       "      <td>17</td>\n",
       "      <td>84.705882</td>\n",
       "    </tr>\n",
       "    <tr>\n",
       "      <th>3</th>\n",
       "      <td>3</td>\n",
       "      <td>55</td>\n",
       "      <td>259.142857</td>\n",
       "      <td>251.285714</td>\n",
       "      <td>21</td>\n",
       "      <td>95.314286</td>\n",
       "    </tr>\n",
       "    <tr>\n",
       "      <th>4</th>\n",
       "      <td>4</td>\n",
       "      <td>1</td>\n",
       "      <td>234.142857</td>\n",
       "      <td>234.000000</td>\n",
       "      <td>19</td>\n",
       "      <td>93.305263</td>\n",
       "    </tr>\n",
       "  </tbody>\n",
       "</table>\n",
       "</div>"
      ],
      "text/plain": [
       "   id_cliente  recency  live_purches      tenure  frequency   monetary\n",
       "0           0       47    258.285714  251.571429         16  86.400000\n",
       "1           1       20    258.571429  255.714286         20  94.880000\n",
       "2           2      183    258.142857  232.000000         17  84.705882\n",
       "3           3       55    259.142857  251.285714         21  95.314286\n",
       "4           4        1    234.142857  234.000000         19  93.305263"
      ]
     },
     "execution_count": 7,
     "metadata": {},
     "output_type": "execute_result"
    }
   ],
   "source": [
    "rfm = calculate_rfm(dataframe=df, \n",
    "                    val_id_customer='id_cliente', \n",
    "                    val_id_facture='id_factura', \n",
    "                    val_money='total_factura', \n",
    "                    val_date='fecha')\n",
    "rfm[\"monetary\"] = rfm[\"monetary\"] / rfm[\"frequency\"] \n",
    "rfm = rfm[(rfm['frequency'] > 1)]\n",
    "\n",
    "# dividir para tener semanas\n",
    "rfm[\"live_purches\"] = rfm[\"live_purches\"] / 7\n",
    "rfm[\"tenure\"] = rfm[\"tenure\"] / 7\n",
    "rfm.head()"
   ]
  },
  {
   "cell_type": "code",
   "execution_count": 8,
   "metadata": {},
   "outputs": [
    {
     "name": "stdout",
     "output_type": "stream",
     "text": [
      "Saved table: rfm\n"
     ]
    }
   ],
   "source": [
    "cargar_en_db(rfm, 'rfm')"
   ]
  },
  {
   "cell_type": "code",
   "execution_count": 9,
   "metadata": {},
   "outputs": [
    {
     "name": "stdout",
     "output_type": "stream",
     "text": [
      "Ok_\n"
     ]
    }
   ],
   "source": [
    "print('Ok_')"
   ]
  }
 ],
 "metadata": {
  "kernelspec": {
   "display_name": "Python 3",
   "language": "python",
   "name": "python3"
  },
  "language_info": {
   "codemirror_mode": {
    "name": "ipython",
    "version": 3
   },
   "file_extension": ".py",
   "mimetype": "text/x-python",
   "name": "python",
   "nbconvert_exporter": "python",
   "pygments_lexer": "ipython3",
   "version": "3.12.1"
  }
 },
 "nbformat": 4,
 "nbformat_minor": 2
}
