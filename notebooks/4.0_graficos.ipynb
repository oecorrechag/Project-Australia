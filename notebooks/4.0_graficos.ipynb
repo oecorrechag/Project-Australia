{
 "cells": [
  {
   "cell_type": "markdown",
   "metadata": {},
   "source": [
    "# 4.0 Show models\n",
    "\n",
    "AIMS\n",
    "\n",
    "In this document, a brief description of the groups is provided.\n",
    "\n",
    "Falta tse"
   ]
  },
  {
   "cell_type": "code",
   "execution_count": 1,
   "metadata": {},
   "outputs": [],
   "source": [
    "%load_ext autoreload\n",
    "%autoreload 2"
   ]
  },
  {
   "cell_type": "code",
   "execution_count": 2,
   "metadata": {},
   "outputs": [],
   "source": [
    "import pandas as pd\n",
    "import plotly.express as px\n",
    "from mypackage import dir\n",
    "from mypackage.clustering import cluster_summary\n",
    "\n",
    "modality =  modality = 'p'\n",
    "project = 'australian'\n",
    "data = dir.make_dir_line(modality, project) \n",
    "processed = data('processed')\n",
    "models = data('models')\n",
    "\n",
    "labels={'recency':'Recency',\n",
    "        'frequency':'Frequency',\n",
    "        'monetary':'Monetary',\n",
    "        'group_rfm':'RFM group',\n",
    "        'segment':'RFM segment',\n",
    "        'frequency_mean':'Frequency mean',\n",
    "        'monetary_mean':'Monetary mean',\n",
    "        'recency_mean':'Recency mean',\n",
    "        'category':'Category',\n",
    "        'group_kmeans':'Kmeans group'\n",
    "    }\n",
    "\n",
    "pd.set_option('display.max_columns', None)\n",
    "pd.set_option('display.max_rows', None)\n",
    "import warnings\n",
    "warnings.filterwarnings(\"ignore\")"
   ]
  },
  {
   "cell_type": "markdown",
   "metadata": {},
   "source": [
    "## 4.1 Load data"
   ]
  },
  {
   "cell_type": "code",
   "execution_count": 3,
   "metadata": {},
   "outputs": [
    {
     "name": "stdout",
     "output_type": "stream",
     "text": [
      "(500, 5) (500, 22)\n",
      "(500, 26)\n"
     ]
    }
   ],
   "source": [
    "df_model = pd.read_parquet(models/'df_models.parquet.gzip')\n",
    "dataset = pd.read_parquet(processed/'dataset.parquet.gzip')\n",
    "\n",
    "print(df_model.shape, dataset.shape)\n",
    "df = pd.merge(dataset, df_model, on=['id_cliente'])\n",
    "print(df.shape)"
   ]
  },
  {
   "cell_type": "markdown",
   "metadata": {},
   "source": [
    "## 4.2 Analysis for RFM"
   ]
  },
  {
   "cell_type": "code",
   "execution_count": 4,
   "metadata": {},
   "outputs": [
    {
     "data": {
      "text/html": [
       "<div>\n",
       "<style scoped>\n",
       "    .dataframe tbody tr th:only-of-type {\n",
       "        vertical-align: middle;\n",
       "    }\n",
       "\n",
       "    .dataframe tbody tr th {\n",
       "        vertical-align: top;\n",
       "    }\n",
       "\n",
       "    .dataframe thead th {\n",
       "        text-align: right;\n",
       "    }\n",
       "</style>\n",
       "<table border=\"1\" class=\"dataframe\">\n",
       "  <thead>\n",
       "    <tr style=\"text-align: right;\">\n",
       "      <th></th>\n",
       "      <th>category</th>\n",
       "      <th>statistic</th>\n",
       "      <th>value</th>\n",
       "    </tr>\n",
       "  </thead>\n",
       "  <tbody>\n",
       "    <tr>\n",
       "      <th>8</th>\n",
       "      <td>New Customers</td>\n",
       "      <td>recency_mean</td>\n",
       "      <td>36.835165</td>\n",
       "    </tr>\n",
       "    <tr>\n",
       "      <th>6</th>\n",
       "      <td>Low Potential</td>\n",
       "      <td>recency_mean</td>\n",
       "      <td>46.944444</td>\n",
       "    </tr>\n",
       "    <tr>\n",
       "      <th>2</th>\n",
       "      <td>Champions</td>\n",
       "      <td>recency_mean</td>\n",
       "      <td>51.016949</td>\n",
       "    </tr>\n",
       "    <tr>\n",
       "      <th>4</th>\n",
       "      <td>High New Customers</td>\n",
       "      <td>recency_mean</td>\n",
       "      <td>61.181818</td>\n",
       "    </tr>\n",
       "    <tr>\n",
       "      <th>5</th>\n",
       "      <td>High Potential</td>\n",
       "      <td>recency_mean</td>\n",
       "      <td>82.790323</td>\n",
       "    </tr>\n",
       "    <tr>\n",
       "      <th>1</th>\n",
       "      <td>At Risk</td>\n",
       "      <td>recency_mean</td>\n",
       "      <td>136.157895</td>\n",
       "    </tr>\n",
       "    <tr>\n",
       "      <th>0</th>\n",
       "      <td>About to Sleep</td>\n",
       "      <td>recency_mean</td>\n",
       "      <td>149.623656</td>\n",
       "    </tr>\n",
       "    <tr>\n",
       "      <th>7</th>\n",
       "      <td>Need Attention</td>\n",
       "      <td>recency_mean</td>\n",
       "      <td>200.666667</td>\n",
       "    </tr>\n",
       "    <tr>\n",
       "      <th>9</th>\n",
       "      <td>Uniquely Promising Highs</td>\n",
       "      <td>recency_mean</td>\n",
       "      <td>209.176471</td>\n",
       "    </tr>\n",
       "    <tr>\n",
       "      <th>3</th>\n",
       "      <td>Hibernating</td>\n",
       "      <td>recency_mean</td>\n",
       "      <td>246.354430</td>\n",
       "    </tr>\n",
       "    <tr>\n",
       "      <th>23</th>\n",
       "      <td>Hibernating</td>\n",
       "      <td>monetary_mean</td>\n",
       "      <td>628.235139</td>\n",
       "    </tr>\n",
       "    <tr>\n",
       "      <th>28</th>\n",
       "      <td>New Customers</td>\n",
       "      <td>monetary_mean</td>\n",
       "      <td>744.568791</td>\n",
       "    </tr>\n",
       "    <tr>\n",
       "      <th>20</th>\n",
       "      <td>About to Sleep</td>\n",
       "      <td>monetary_mean</td>\n",
       "      <td>806.202839</td>\n",
       "    </tr>\n",
       "    <tr>\n",
       "      <th>26</th>\n",
       "      <td>Low Potential</td>\n",
       "      <td>monetary_mean</td>\n",
       "      <td>853.971556</td>\n",
       "    </tr>\n",
       "    <tr>\n",
       "      <th>21</th>\n",
       "      <td>At Risk</td>\n",
       "      <td>monetary_mean</td>\n",
       "      <td>900.218947</td>\n",
       "    </tr>\n",
       "    <tr>\n",
       "      <th>29</th>\n",
       "      <td>Uniquely Promising Highs</td>\n",
       "      <td>monetary_mean</td>\n",
       "      <td>1081.894588</td>\n",
       "    </tr>\n",
       "    <tr>\n",
       "      <th>24</th>\n",
       "      <td>High New Customers</td>\n",
       "      <td>monetary_mean</td>\n",
       "      <td>1124.693818</td>\n",
       "    </tr>\n",
       "    <tr>\n",
       "      <th>22</th>\n",
       "      <td>Champions</td>\n",
       "      <td>monetary_mean</td>\n",
       "      <td>1222.206373</td>\n",
       "    </tr>\n",
       "    <tr>\n",
       "      <th>27</th>\n",
       "      <td>Need Attention</td>\n",
       "      <td>monetary_mean</td>\n",
       "      <td>1227.357176</td>\n",
       "    </tr>\n",
       "    <tr>\n",
       "      <th>25</th>\n",
       "      <td>High Potential</td>\n",
       "      <td>monetary_mean</td>\n",
       "      <td>1228.629935</td>\n",
       "    </tr>\n",
       "    <tr>\n",
       "      <th>13</th>\n",
       "      <td>Hibernating</td>\n",
       "      <td>frequency_mean</td>\n",
       "      <td>13.240506</td>\n",
       "    </tr>\n",
       "    <tr>\n",
       "      <th>18</th>\n",
       "      <td>New Customers</td>\n",
       "      <td>frequency_mean</td>\n",
       "      <td>15.560440</td>\n",
       "    </tr>\n",
       "    <tr>\n",
       "      <th>14</th>\n",
       "      <td>High New Customers</td>\n",
       "      <td>frequency_mean</td>\n",
       "      <td>15.818182</td>\n",
       "    </tr>\n",
       "    <tr>\n",
       "      <th>19</th>\n",
       "      <td>Uniquely Promising Highs</td>\n",
       "      <td>frequency_mean</td>\n",
       "      <td>16.058824</td>\n",
       "    </tr>\n",
       "    <tr>\n",
       "      <th>10</th>\n",
       "      <td>About to Sleep</td>\n",
       "      <td>frequency_mean</td>\n",
       "      <td>16.505376</td>\n",
       "    </tr>\n",
       "    <tr>\n",
       "      <th>11</th>\n",
       "      <td>At Risk</td>\n",
       "      <td>frequency_mean</td>\n",
       "      <td>20.684211</td>\n",
       "    </tr>\n",
       "    <tr>\n",
       "      <th>15</th>\n",
       "      <td>High Potential</td>\n",
       "      <td>frequency_mean</td>\n",
       "      <td>20.693548</td>\n",
       "    </tr>\n",
       "    <tr>\n",
       "      <th>16</th>\n",
       "      <td>Low Potential</td>\n",
       "      <td>frequency_mean</td>\n",
       "      <td>21.277778</td>\n",
       "    </tr>\n",
       "    <tr>\n",
       "      <th>17</th>\n",
       "      <td>Need Attention</td>\n",
       "      <td>frequency_mean</td>\n",
       "      <td>21.372549</td>\n",
       "    </tr>\n",
       "    <tr>\n",
       "      <th>12</th>\n",
       "      <td>Champions</td>\n",
       "      <td>frequency_mean</td>\n",
       "      <td>22.694915</td>\n",
       "    </tr>\n",
       "  </tbody>\n",
       "</table>\n",
       "</div>"
      ],
      "text/plain": [
       "                    category       statistic        value\n",
       "8              New Customers    recency_mean    36.835165\n",
       "6              Low Potential    recency_mean    46.944444\n",
       "2                  Champions    recency_mean    51.016949\n",
       "4         High New Customers    recency_mean    61.181818\n",
       "5             High Potential    recency_mean    82.790323\n",
       "1                    At Risk    recency_mean   136.157895\n",
       "0             About to Sleep    recency_mean   149.623656\n",
       "7             Need Attention    recency_mean   200.666667\n",
       "9   Uniquely Promising Highs    recency_mean   209.176471\n",
       "3                Hibernating    recency_mean   246.354430\n",
       "23               Hibernating   monetary_mean   628.235139\n",
       "28             New Customers   monetary_mean   744.568791\n",
       "20            About to Sleep   monetary_mean   806.202839\n",
       "26             Low Potential   monetary_mean   853.971556\n",
       "21                   At Risk   monetary_mean   900.218947\n",
       "29  Uniquely Promising Highs   monetary_mean  1081.894588\n",
       "24        High New Customers   monetary_mean  1124.693818\n",
       "22                 Champions   monetary_mean  1222.206373\n",
       "27            Need Attention   monetary_mean  1227.357176\n",
       "25            High Potential   monetary_mean  1228.629935\n",
       "13               Hibernating  frequency_mean    13.240506\n",
       "18             New Customers  frequency_mean    15.560440\n",
       "14        High New Customers  frequency_mean    15.818182\n",
       "19  Uniquely Promising Highs  frequency_mean    16.058824\n",
       "10            About to Sleep  frequency_mean    16.505376\n",
       "11                   At Risk  frequency_mean    20.684211\n",
       "15            High Potential  frequency_mean    20.693548\n",
       "16             Low Potential  frequency_mean    21.277778\n",
       "17            Need Attention  frequency_mean    21.372549\n",
       "12                 Champions  frequency_mean    22.694915"
      ]
     },
     "execution_count": 4,
     "metadata": {},
     "output_type": "execute_result"
    }
   ],
   "source": [
    "df_rfm = df.copy()\n",
    "rfm_statistics = df_rfm.loc[:,['recency', 'frequency', 'monetary', 'group_rfm']]\n",
    "rfm_statistics = cluster_summary(rfm_statistics, 'group_rfm', sta=False, statistics_list=['mean'])\n",
    "rfm_statistics = rfm_statistics.sort_values(by=['statistic', 'value'], ascending=[False, True])\n",
    "rfm_statistics"
   ]
  },
  {
   "cell_type": "code",
   "execution_count": 5,
   "metadata": {},
   "outputs": [
    {
     "data": {
      "application/vnd.plotly.v1+json": {
       "config": {
        "plotlyServerURL": "https://plot.ly"
       },
       "data": [
        {
         "hovertemplate": "Category=New Customers<br>statistic=%{x}<br>value=%{y}<extra></extra>",
         "legendgroup": "New Customers",
         "line": {
          "color": "#636efa",
          "dash": "solid"
         },
         "marker": {
          "symbol": "circle"
         },
         "mode": "lines",
         "name": "New Customers",
         "orientation": "v",
         "showlegend": true,
         "type": "scatter",
         "x": [
          "recency_mean",
          "monetary_mean",
          "frequency_mean"
         ],
         "xaxis": "x",
         "y": [
          0.059036515379184244,
          0.3037698976812483,
          0.37219302436693735
         ],
         "yaxis": "y"
        },
        {
         "hovertemplate": "Category=Low Potential<br>statistic=%{x}<br>value=%{y}<extra></extra>",
         "legendgroup": "Low Potential",
         "line": {
          "color": "#EF553B",
          "dash": "solid"
         },
         "marker": {
          "symbol": "circle"
         },
         "mode": "lines",
         "name": "Low Potential",
         "orientation": "v",
         "showlegend": true,
         "type": "scatter",
         "x": [
          "recency_mean",
          "monetary_mean",
          "frequency_mean"
         ],
         "xaxis": "x",
         "y": [
          0.07569101226432363,
          0.3680766509815969,
          0.6207729468599034
         ],
         "yaxis": "y"
        },
        {
         "hovertemplate": "Category=Champions<br>statistic=%{x}<br>value=%{y}<extra></extra>",
         "legendgroup": "Champions",
         "line": {
          "color": "#00cc96",
          "dash": "solid"
         },
         "marker": {
          "symbol": "circle"
         },
         "mode": "lines",
         "name": "Champions",
         "orientation": "v",
         "showlegend": true,
         "type": "scatter",
         "x": [
          "recency_mean",
          "monetary_mean",
          "frequency_mean"
         ],
         "xaxis": "x",
         "y": [
          0.08240024572082763,
          0.5845244317644739,
          0.6823876197494473
         ],
         "yaxis": "y"
        },
        {
         "hovertemplate": "Category=High New Customers<br>statistic=%{x}<br>value=%{y}<extra></extra>",
         "legendgroup": "High New Customers",
         "line": {
          "color": "#ab63fa",
          "dash": "solid"
         },
         "marker": {
          "symbol": "circle"
         },
         "mode": "lines",
         "name": "High New Customers",
         "orientation": "v",
         "showlegend": true,
         "type": "scatter",
         "x": [
          "recency_mean",
          "monetary_mean",
          "frequency_mean"
         ],
         "xaxis": "x",
         "y": [
          0.09914632319904149,
          0.5272067228730039,
          0.383399209486166
         ],
         "yaxis": "y"
        },
        {
         "hovertemplate": "Category=High Potential<br>statistic=%{x}<br>value=%{y}<extra></extra>",
         "legendgroup": "High Potential",
         "line": {
          "color": "#FFA15A",
          "dash": "solid"
         },
         "marker": {
          "symbol": "circle"
         },
         "mode": "lines",
         "name": "High Potential",
         "orientation": "v",
         "showlegend": true,
         "type": "scatter",
         "x": [
          "recency_mean",
          "monetary_mean",
          "frequency_mean"
         ],
         "xaxis": "x",
         "y": [
          0.13474517723335283,
          0.5883001906134914,
          0.5953716690042076
         ],
         "yaxis": "y"
        },
        {
         "hovertemplate": "Category=At Risk<br>statistic=%{x}<br>value=%{y}<extra></extra>",
         "legendgroup": "At Risk",
         "line": {
          "color": "#19d3f3",
          "dash": "solid"
         },
         "marker": {
          "symbol": "circle"
         },
         "mode": "lines",
         "name": "At Risk",
         "orientation": "v",
         "showlegend": true,
         "type": "scatter",
         "x": [
          "recency_mean",
          "monetary_mean",
          "frequency_mean"
         ],
         "xaxis": "x",
         "y": [
          0.22266539495361135,
          0.39526078690222155,
          0.5949656750572082
         ],
         "yaxis": "y"
        },
        {
         "hovertemplate": "Category=About to Sleep<br>statistic=%{x}<br>value=%{y}<extra></extra>",
         "legendgroup": "About to Sleep",
         "line": {
          "color": "#FF6692",
          "dash": "solid"
         },
         "marker": {
          "symbol": "circle"
         },
         "mode": "lines",
         "name": "About to Sleep",
         "orientation": "v",
         "showlegend": true,
         "type": "scatter",
         "x": [
          "recency_mean",
          "monetary_mean",
          "frequency_mean"
         ],
         "xaxis": "x",
         "y": [
          0.24484951550902553,
          0.339998282870664,
          0.4132772323515661
         ],
         "yaxis": "y"
        },
        {
         "hovertemplate": "Category=Need Attention<br>statistic=%{x}<br>value=%{y}<extra></extra>",
         "legendgroup": "Need Attention",
         "line": {
          "color": "#B6E880",
          "dash": "solid"
         },
         "marker": {
          "symbol": "circle"
         },
         "mode": "lines",
         "name": "Need Attention",
         "orientation": "v",
         "showlegend": true,
         "type": "scatter",
         "x": [
          "recency_mean",
          "monetary_mean",
          "frequency_mean"
         ],
         "xaxis": "x",
         "y": [
          0.328940142778693,
          0.5875520650942994,
          0.6248934356351236
         ],
         "yaxis": "y"
        },
        {
         "hovertemplate": "Category=Uniquely Promising Highs<br>statistic=%{x}<br>value=%{y}<extra></extra>",
         "legendgroup": "Uniquely Promising Highs",
         "line": {
          "color": "#FF97FF",
          "dash": "solid"
         },
         "marker": {
          "symbol": "circle"
         },
         "mode": "lines",
         "name": "Uniquely Promising Highs",
         "orientation": "v",
         "showlegend": true,
         "type": "scatter",
         "x": [
          "recency_mean",
          "monetary_mean",
          "frequency_mean"
         ],
         "xaxis": "x",
         "y": [
          0.34295958910747165,
          0.5020494104591022,
          0.39386189258312015
         ],
         "yaxis": "y"
        },
        {
         "hovertemplate": "Category=Hibernating<br>statistic=%{x}<br>value=%{y}<extra></extra>",
         "legendgroup": "Hibernating",
         "line": {
          "color": "#FECB52",
          "dash": "solid"
         },
         "marker": {
          "symbol": "circle"
         },
         "mode": "lines",
         "name": "Hibernating",
         "orientation": "v",
         "showlegend": true,
         "type": "scatter",
         "x": [
          "recency_mean",
          "monetary_mean",
          "frequency_mean"
         ],
         "xaxis": "x",
         "y": [
          0.40420828728129626,
          0.23538918077412224,
          0.27132636213538797
         ],
         "yaxis": "y"
        }
       ],
       "layout": {
        "legend": {
         "title": {
          "text": "Category"
         },
         "tracegroupgap": 0
        },
        "template": {
         "data": {
          "bar": [
           {
            "error_x": {
             "color": "#2a3f5f"
            },
            "error_y": {
             "color": "#2a3f5f"
            },
            "marker": {
             "line": {
              "color": "#E5ECF6",
              "width": 0.5
             },
             "pattern": {
              "fillmode": "overlay",
              "size": 10,
              "solidity": 0.2
             }
            },
            "type": "bar"
           }
          ],
          "barpolar": [
           {
            "marker": {
             "line": {
              "color": "#E5ECF6",
              "width": 0.5
             },
             "pattern": {
              "fillmode": "overlay",
              "size": 10,
              "solidity": 0.2
             }
            },
            "type": "barpolar"
           }
          ],
          "carpet": [
           {
            "aaxis": {
             "endlinecolor": "#2a3f5f",
             "gridcolor": "white",
             "linecolor": "white",
             "minorgridcolor": "white",
             "startlinecolor": "#2a3f5f"
            },
            "baxis": {
             "endlinecolor": "#2a3f5f",
             "gridcolor": "white",
             "linecolor": "white",
             "minorgridcolor": "white",
             "startlinecolor": "#2a3f5f"
            },
            "type": "carpet"
           }
          ],
          "choropleth": [
           {
            "colorbar": {
             "outlinewidth": 0,
             "ticks": ""
            },
            "type": "choropleth"
           }
          ],
          "contour": [
           {
            "colorbar": {
             "outlinewidth": 0,
             "ticks": ""
            },
            "colorscale": [
             [
              0,
              "#0d0887"
             ],
             [
              0.1111111111111111,
              "#46039f"
             ],
             [
              0.2222222222222222,
              "#7201a8"
             ],
             [
              0.3333333333333333,
              "#9c179e"
             ],
             [
              0.4444444444444444,
              "#bd3786"
             ],
             [
              0.5555555555555556,
              "#d8576b"
             ],
             [
              0.6666666666666666,
              "#ed7953"
             ],
             [
              0.7777777777777778,
              "#fb9f3a"
             ],
             [
              0.8888888888888888,
              "#fdca26"
             ],
             [
              1,
              "#f0f921"
             ]
            ],
            "type": "contour"
           }
          ],
          "contourcarpet": [
           {
            "colorbar": {
             "outlinewidth": 0,
             "ticks": ""
            },
            "type": "contourcarpet"
           }
          ],
          "heatmap": [
           {
            "colorbar": {
             "outlinewidth": 0,
             "ticks": ""
            },
            "colorscale": [
             [
              0,
              "#0d0887"
             ],
             [
              0.1111111111111111,
              "#46039f"
             ],
             [
              0.2222222222222222,
              "#7201a8"
             ],
             [
              0.3333333333333333,
              "#9c179e"
             ],
             [
              0.4444444444444444,
              "#bd3786"
             ],
             [
              0.5555555555555556,
              "#d8576b"
             ],
             [
              0.6666666666666666,
              "#ed7953"
             ],
             [
              0.7777777777777778,
              "#fb9f3a"
             ],
             [
              0.8888888888888888,
              "#fdca26"
             ],
             [
              1,
              "#f0f921"
             ]
            ],
            "type": "heatmap"
           }
          ],
          "heatmapgl": [
           {
            "colorbar": {
             "outlinewidth": 0,
             "ticks": ""
            },
            "colorscale": [
             [
              0,
              "#0d0887"
             ],
             [
              0.1111111111111111,
              "#46039f"
             ],
             [
              0.2222222222222222,
              "#7201a8"
             ],
             [
              0.3333333333333333,
              "#9c179e"
             ],
             [
              0.4444444444444444,
              "#bd3786"
             ],
             [
              0.5555555555555556,
              "#d8576b"
             ],
             [
              0.6666666666666666,
              "#ed7953"
             ],
             [
              0.7777777777777778,
              "#fb9f3a"
             ],
             [
              0.8888888888888888,
              "#fdca26"
             ],
             [
              1,
              "#f0f921"
             ]
            ],
            "type": "heatmapgl"
           }
          ],
          "histogram": [
           {
            "marker": {
             "pattern": {
              "fillmode": "overlay",
              "size": 10,
              "solidity": 0.2
             }
            },
            "type": "histogram"
           }
          ],
          "histogram2d": [
           {
            "colorbar": {
             "outlinewidth": 0,
             "ticks": ""
            },
            "colorscale": [
             [
              0,
              "#0d0887"
             ],
             [
              0.1111111111111111,
              "#46039f"
             ],
             [
              0.2222222222222222,
              "#7201a8"
             ],
             [
              0.3333333333333333,
              "#9c179e"
             ],
             [
              0.4444444444444444,
              "#bd3786"
             ],
             [
              0.5555555555555556,
              "#d8576b"
             ],
             [
              0.6666666666666666,
              "#ed7953"
             ],
             [
              0.7777777777777778,
              "#fb9f3a"
             ],
             [
              0.8888888888888888,
              "#fdca26"
             ],
             [
              1,
              "#f0f921"
             ]
            ],
            "type": "histogram2d"
           }
          ],
          "histogram2dcontour": [
           {
            "colorbar": {
             "outlinewidth": 0,
             "ticks": ""
            },
            "colorscale": [
             [
              0,
              "#0d0887"
             ],
             [
              0.1111111111111111,
              "#46039f"
             ],
             [
              0.2222222222222222,
              "#7201a8"
             ],
             [
              0.3333333333333333,
              "#9c179e"
             ],
             [
              0.4444444444444444,
              "#bd3786"
             ],
             [
              0.5555555555555556,
              "#d8576b"
             ],
             [
              0.6666666666666666,
              "#ed7953"
             ],
             [
              0.7777777777777778,
              "#fb9f3a"
             ],
             [
              0.8888888888888888,
              "#fdca26"
             ],
             [
              1,
              "#f0f921"
             ]
            ],
            "type": "histogram2dcontour"
           }
          ],
          "mesh3d": [
           {
            "colorbar": {
             "outlinewidth": 0,
             "ticks": ""
            },
            "type": "mesh3d"
           }
          ],
          "parcoords": [
           {
            "line": {
             "colorbar": {
              "outlinewidth": 0,
              "ticks": ""
             }
            },
            "type": "parcoords"
           }
          ],
          "pie": [
           {
            "automargin": true,
            "type": "pie"
           }
          ],
          "scatter": [
           {
            "fillpattern": {
             "fillmode": "overlay",
             "size": 10,
             "solidity": 0.2
            },
            "type": "scatter"
           }
          ],
          "scatter3d": [
           {
            "line": {
             "colorbar": {
              "outlinewidth": 0,
              "ticks": ""
             }
            },
            "marker": {
             "colorbar": {
              "outlinewidth": 0,
              "ticks": ""
             }
            },
            "type": "scatter3d"
           }
          ],
          "scattercarpet": [
           {
            "marker": {
             "colorbar": {
              "outlinewidth": 0,
              "ticks": ""
             }
            },
            "type": "scattercarpet"
           }
          ],
          "scattergeo": [
           {
            "marker": {
             "colorbar": {
              "outlinewidth": 0,
              "ticks": ""
             }
            },
            "type": "scattergeo"
           }
          ],
          "scattergl": [
           {
            "marker": {
             "colorbar": {
              "outlinewidth": 0,
              "ticks": ""
             }
            },
            "type": "scattergl"
           }
          ],
          "scattermapbox": [
           {
            "marker": {
             "colorbar": {
              "outlinewidth": 0,
              "ticks": ""
             }
            },
            "type": "scattermapbox"
           }
          ],
          "scatterpolar": [
           {
            "marker": {
             "colorbar": {
              "outlinewidth": 0,
              "ticks": ""
             }
            },
            "type": "scatterpolar"
           }
          ],
          "scatterpolargl": [
           {
            "marker": {
             "colorbar": {
              "outlinewidth": 0,
              "ticks": ""
             }
            },
            "type": "scatterpolargl"
           }
          ],
          "scatterternary": [
           {
            "marker": {
             "colorbar": {
              "outlinewidth": 0,
              "ticks": ""
             }
            },
            "type": "scatterternary"
           }
          ],
          "surface": [
           {
            "colorbar": {
             "outlinewidth": 0,
             "ticks": ""
            },
            "colorscale": [
             [
              0,
              "#0d0887"
             ],
             [
              0.1111111111111111,
              "#46039f"
             ],
             [
              0.2222222222222222,
              "#7201a8"
             ],
             [
              0.3333333333333333,
              "#9c179e"
             ],
             [
              0.4444444444444444,
              "#bd3786"
             ],
             [
              0.5555555555555556,
              "#d8576b"
             ],
             [
              0.6666666666666666,
              "#ed7953"
             ],
             [
              0.7777777777777778,
              "#fb9f3a"
             ],
             [
              0.8888888888888888,
              "#fdca26"
             ],
             [
              1,
              "#f0f921"
             ]
            ],
            "type": "surface"
           }
          ],
          "table": [
           {
            "cells": {
             "fill": {
              "color": "#EBF0F8"
             },
             "line": {
              "color": "white"
             }
            },
            "header": {
             "fill": {
              "color": "#C8D4E3"
             },
             "line": {
              "color": "white"
             }
            },
            "type": "table"
           }
          ]
         },
         "layout": {
          "annotationdefaults": {
           "arrowcolor": "#2a3f5f",
           "arrowhead": 0,
           "arrowwidth": 1
          },
          "autotypenumbers": "strict",
          "coloraxis": {
           "colorbar": {
            "outlinewidth": 0,
            "ticks": ""
           }
          },
          "colorscale": {
           "diverging": [
            [
             0,
             "#8e0152"
            ],
            [
             0.1,
             "#c51b7d"
            ],
            [
             0.2,
             "#de77ae"
            ],
            [
             0.3,
             "#f1b6da"
            ],
            [
             0.4,
             "#fde0ef"
            ],
            [
             0.5,
             "#f7f7f7"
            ],
            [
             0.6,
             "#e6f5d0"
            ],
            [
             0.7,
             "#b8e186"
            ],
            [
             0.8,
             "#7fbc41"
            ],
            [
             0.9,
             "#4d9221"
            ],
            [
             1,
             "#276419"
            ]
           ],
           "sequential": [
            [
             0,
             "#0d0887"
            ],
            [
             0.1111111111111111,
             "#46039f"
            ],
            [
             0.2222222222222222,
             "#7201a8"
            ],
            [
             0.3333333333333333,
             "#9c179e"
            ],
            [
             0.4444444444444444,
             "#bd3786"
            ],
            [
             0.5555555555555556,
             "#d8576b"
            ],
            [
             0.6666666666666666,
             "#ed7953"
            ],
            [
             0.7777777777777778,
             "#fb9f3a"
            ],
            [
             0.8888888888888888,
             "#fdca26"
            ],
            [
             1,
             "#f0f921"
            ]
           ],
           "sequentialminus": [
            [
             0,
             "#0d0887"
            ],
            [
             0.1111111111111111,
             "#46039f"
            ],
            [
             0.2222222222222222,
             "#7201a8"
            ],
            [
             0.3333333333333333,
             "#9c179e"
            ],
            [
             0.4444444444444444,
             "#bd3786"
            ],
            [
             0.5555555555555556,
             "#d8576b"
            ],
            [
             0.6666666666666666,
             "#ed7953"
            ],
            [
             0.7777777777777778,
             "#fb9f3a"
            ],
            [
             0.8888888888888888,
             "#fdca26"
            ],
            [
             1,
             "#f0f921"
            ]
           ]
          },
          "colorway": [
           "#636efa",
           "#EF553B",
           "#00cc96",
           "#ab63fa",
           "#FFA15A",
           "#19d3f3",
           "#FF6692",
           "#B6E880",
           "#FF97FF",
           "#FECB52"
          ],
          "font": {
           "color": "#2a3f5f"
          },
          "geo": {
           "bgcolor": "white",
           "lakecolor": "white",
           "landcolor": "#E5ECF6",
           "showlakes": true,
           "showland": true,
           "subunitcolor": "white"
          },
          "hoverlabel": {
           "align": "left"
          },
          "hovermode": "closest",
          "mapbox": {
           "style": "light"
          },
          "paper_bgcolor": "white",
          "plot_bgcolor": "#E5ECF6",
          "polar": {
           "angularaxis": {
            "gridcolor": "white",
            "linecolor": "white",
            "ticks": ""
           },
           "bgcolor": "#E5ECF6",
           "radialaxis": {
            "gridcolor": "white",
            "linecolor": "white",
            "ticks": ""
           }
          },
          "scene": {
           "xaxis": {
            "backgroundcolor": "#E5ECF6",
            "gridcolor": "white",
            "gridwidth": 2,
            "linecolor": "white",
            "showbackground": true,
            "ticks": "",
            "zerolinecolor": "white"
           },
           "yaxis": {
            "backgroundcolor": "#E5ECF6",
            "gridcolor": "white",
            "gridwidth": 2,
            "linecolor": "white",
            "showbackground": true,
            "ticks": "",
            "zerolinecolor": "white"
           },
           "zaxis": {
            "backgroundcolor": "#E5ECF6",
            "gridcolor": "white",
            "gridwidth": 2,
            "linecolor": "white",
            "showbackground": true,
            "ticks": "",
            "zerolinecolor": "white"
           }
          },
          "shapedefaults": {
           "line": {
            "color": "#2a3f5f"
           }
          },
          "ternary": {
           "aaxis": {
            "gridcolor": "white",
            "linecolor": "white",
            "ticks": ""
           },
           "baxis": {
            "gridcolor": "white",
            "linecolor": "white",
            "ticks": ""
           },
           "bgcolor": "#E5ECF6",
           "caxis": {
            "gridcolor": "white",
            "linecolor": "white",
            "ticks": ""
           }
          },
          "title": {
           "x": 0.05
          },
          "xaxis": {
           "automargin": true,
           "gridcolor": "white",
           "linecolor": "white",
           "ticks": "",
           "title": {
            "standoff": 15
           },
           "zerolinecolor": "white",
           "zerolinewidth": 2
          },
          "yaxis": {
           "automargin": true,
           "gridcolor": "white",
           "linecolor": "white",
           "ticks": "",
           "title": {
            "standoff": 15
           },
           "zerolinecolor": "white",
           "zerolinewidth": 2
          }
         }
        },
        "title": {
         "text": "Snake plot of normalized variables"
        },
        "xaxis": {
         "anchor": "y",
         "domain": [
          0,
          1
         ],
         "title": {
          "text": "statistic"
         }
        },
        "yaxis": {
         "anchor": "x",
         "domain": [
          0,
          1
         ],
         "title": {
          "text": "value"
         }
        }
       }
      }
     },
     "metadata": {},
     "output_type": "display_data"
    }
   ],
   "source": [
    "df_rfm = df.copy()\n",
    "rfm_statistics = df_rfm.loc[:,['recency', 'frequency', 'monetary', 'group_rfm']]\n",
    "rfm_statistics = cluster_summary(rfm_statistics, 'group_rfm', sta=True, statistics_list=['mean'])\n",
    "rfm_statistics = rfm_statistics.sort_values(by=['statistic', 'value'], ascending=[False, True])\n",
    "\n",
    "fig = px.line(rfm_statistics, x=\"statistic\", y=\"value\", color='category',\n",
    "              title='Snake plot of normalized variables',\n",
    "              labels=labels\n",
    "              )\n",
    "fig.show()"
   ]
  },
  {
   "cell_type": "code",
   "execution_count": 6,
   "metadata": {},
   "outputs": [
    {
     "data": {
      "application/vnd.plotly.v1+json": {
       "config": {
        "plotlyServerURL": "https://plot.ly"
       },
       "data": [
        {
         "hovertemplate": "RFM group=Low Potential<br>Recency=%{x}<br>Frequency=%{y}<br>Monetary=%{z}<extra></extra>",
         "legendgroup": "Low Potential",
         "marker": {
          "color": "#636efa",
          "symbol": "circle"
         },
         "mode": "markers",
         "name": "Low Potential",
         "scene": "scene",
         "showlegend": true,
         "type": "scatter3d",
         "x": [
          82,
          6,
          17,
          82,
          83,
          81,
          4,
          79,
          62,
          5,
          83,
          83,
          3,
          78,
          13,
          6,
          1,
          77
         ],
         "y": [
          21,
          22,
          21,
          21,
          20,
          20,
          20,
          21,
          21,
          22,
          23,
          20,
          22,
          20,
          21,
          22,
          24,
          22
         ],
         "z": [
          894.4480000000001,
          897.072,
          786.0639999999999,
          949.696,
          687.5039999999999,
          697.9839999999999,
          849.696,
          685.056,
          893.6319999999998,
          894.4159999999999,
          773.04,
          803.584,
          790.9599999999999,
          908.2719999999999,
          976.288,
          958.0159999999998,
          949.568,
          976.1919999999999
         ]
        },
        {
         "hovertemplate": "RFM group=Uniquely Promising Highs<br>Recency=%{x}<br>Frequency=%{y}<br>Monetary=%{z}<extra></extra>",
         "legendgroup": "Uniquely Promising Highs",
         "marker": {
          "color": "#EF553B",
          "symbol": "circle"
         },
         "mode": "markers",
         "name": "Uniquely Promising Highs",
         "scene": "scene",
         "showlegend": true,
         "type": "scatter3d",
         "x": [
          303,
          152,
          147,
          281,
          144,
          158,
          382,
          174,
          303,
          131,
          196,
          185,
          139,
          261,
          118,
          161,
          321
         ],
         "y": [
          14,
          17,
          16,
          17,
          17,
          17,
          14,
          15,
          17,
          16,
          17,
          14,
          17,
          16,
          16,
          17,
          16
         ],
         "z": [
          1127.408,
          1014.8480000000001,
          1014.8800000000001,
          1045.44,
          1097.136,
          991.8240000000001,
          1148.2399999999998,
          1095.2,
          1218.9279999999999,
          1019.5200000000001,
          1070.4640000000002,
          1004.8319999999999,
          998.144,
          1125.184,
          1020.7520000000001,
          1233.5200000000002,
          1165.8880000000001
         ]
        },
        {
         "hovertemplate": "RFM group=About to Sleep<br>Recency=%{x}<br>Frequency=%{y}<br>Monetary=%{z}<extra></extra>",
         "legendgroup": "About to Sleep",
         "marker": {
          "color": "#90dde0",
          "symbol": "circle"
         },
         "mode": "markers",
         "name": "About to Sleep",
         "scene": "scene",
         "showlegend": true,
         "type": "scatter3d",
         "x": [
          102,
          292,
          153,
          184,
          164,
          237,
          146,
          189,
          104,
          250,
          98,
          97,
          366,
          122,
          89,
          149,
          90,
          93,
          156,
          118,
          96,
          463,
          105,
          128,
          99,
          88,
          95,
          248,
          90,
          143,
          143,
          230,
          332,
          199,
          126,
          87,
          86,
          253,
          171,
          144,
          108,
          90,
          104,
          114,
          97,
          316,
          104,
          122,
          88,
          174,
          129,
          92,
          112,
          93,
          103,
          88,
          86,
          151,
          260,
          102,
          309,
          98,
          157,
          87,
          133,
          109,
          104,
          130,
          306,
          97,
          305,
          166,
          116,
          243,
          280,
          87,
          143,
          131,
          88,
          100,
          94,
          115,
          107,
          106,
          126,
          144,
          110,
          175,
          256,
          148,
          93,
          99,
          95
         ],
         "y": [
          15,
          16,
          16,
          19,
          17,
          18,
          17,
          16,
          19,
          18,
          13,
          19,
          18,
          16,
          16,
          19,
          14,
          19,
          19,
          17,
          17,
          17,
          17,
          19,
          12,
          16,
          14,
          18,
          14,
          19,
          17,
          12,
          15,
          17,
          14,
          17,
          18,
          18,
          18,
          16,
          19,
          16,
          16,
          16,
          16,
          17,
          11,
          13,
          15,
          18,
          19,
          18,
          18,
          12,
          16,
          18,
          13,
          18,
          18,
          18,
          15,
          17,
          16,
          18,
          19,
          16,
          16,
          15,
          17,
          17,
          19,
          18,
          17,
          18,
          18,
          14,
          19,
          18,
          15,
          15,
          18,
          10,
          19,
          17,
          17,
          17,
          13,
          17,
          18,
          19,
          13,
          14,
          15
         ],
         "z": [
          699.168,
          839.344,
          837.136,
          968.784,
          865.248,
          964.1279999999999,
          920.992,
          832.992,
          875.3600000000001,
          840.64,
          657.8399999999999,
          879.76,
          956.272,
          847.904,
          610.4,
          915.92,
          896.1120000000001,
          630.48,
          798.5600000000001,
          932.2239999999999,
          689.488,
          891.088,
          814.496,
          900.704,
          572.448,
          702.496,
          831.152,
          869.616,
          740.2080000000002,
          935.072,
          970.976,
          838.608,
          896.8,
          834.1760000000002,
          877.936,
          927.4399999999998,
          974.624,
          684.896,
          716.048,
          931.392,
          930.6239999999999,
          824.0320000000002,
          678.6880000000001,
          781.1679999999999,
          797.952,
          831.7439999999999,
          468.19199999999995,
          951.3439999999999,
          637.2480000000002,
          723.008,
          785.392,
          885.0079999999999,
          725.6800000000001,
          472.848,
          689.344,
          825.024,
          516.816,
          779.024,
          905.904,
          820.16,
          888.5760000000002,
          634.816,
          840.816,
          559.072,
          970.5920000000001,
          755.4239999999999,
          719.248,
          921.3120000000001,
          857.6800000000002,
          765.5360000000001,
          839.7439999999999,
          931.7760000000001,
          934.3839999999999,
          768.9440000000001,
          815.7280000000001,
          693.408,
          769.2479999999999,
          773.104,
          750.8960000000001,
          630.224,
          834.0640000000001,
          494.30400000000003,
          972.688,
          844.672,
          884.56,
          982.048,
          827.5519999999999,
          966.576,
          854.6239999999999,
          796.7839999999999,
          791.056,
          893.584,
          615.696
         ]
        },
        {
         "hovertemplate": "RFM group=High Potential<br>Recency=%{x}<br>Frequency=%{y}<br>Monetary=%{z}<extra></extra>",
         "legendgroup": "High Potential",
         "marker": {
          "color": "#00cc96",
          "symbol": "circle"
         },
         "mode": "markers",
         "name": "High Potential",
         "scene": "scene",
         "showlegend": true,
         "type": "scatter3d",
         "x": [
          86,
          11,
          91,
          13,
          81,
          9,
          107,
          45,
          93,
          94,
          80,
          83,
          91,
          77,
          104,
          97,
          113,
          83,
          105,
          97,
          96,
          87,
          102,
          95,
          104,
          107,
          87,
          117,
          83,
          93,
          93,
          93,
          86,
          100,
          83,
          95,
          98,
          107,
          1,
          103,
          23,
          94,
          109,
          20,
          43,
          93,
          89,
          97,
          91,
          87,
          78,
          96,
          35,
          83,
          83,
          104,
          108,
          4,
          93,
          109,
          102,
          102
         ],
         "y": [
          19,
          19,
          21,
          18,
          19,
          18,
          24,
          18,
          22,
          22,
          19,
          18,
          22,
          18,
          21,
          23,
          22,
          18,
          25,
          23,
          21,
          23,
          23,
          21,
          18,
          28,
          25,
          20,
          18,
          28,
          18,
          18,
          27,
          19,
          19,
          21,
          27,
          22,
          18,
          24,
          19,
          19,
          20,
          19,
          18,
          23,
          23,
          20,
          19,
          21,
          18,
          19,
          19,
          19,
          18,
          20,
          22,
          19,
          19,
          19,
          21,
          22
         ],
         "z": [
          1054.56,
          1179.6,
          1065.136,
          1005.36,
          1317.76,
          1095.1039999999998,
          1430.272,
          1498.1280000000002,
          1088.5439999999999,
          1169.6,
          1017.648,
          988.5759999999999,
          1616.9759999999999,
          1222.4159999999997,
          1300.72,
          1132.704,
          984.656,
          1025.632,
          1119.632,
          1245.12,
          991.7600000000001,
          1229.3760000000002,
          1303.168,
          1246.72,
          1024.5120000000002,
          1471.04,
          1487.04,
          1145.136,
          1340.512,
          1189.536,
          1126.016,
          1051.088,
          1462.608,
          1464.496,
          1276.5120000000002,
          1301.3120000000001,
          1929.0400000000002,
          1426.8160000000003,
          1050.48,
          1320.848,
          1286.272,
          1010.192,
          1188.128,
          1297.632,
          1198.288,
          1310.48,
          1349.8400000000001,
          1189.616,
          988.576,
          1183.7920000000001,
          1481.28,
          1229.168,
          1034.8959999999997,
          1003.0240000000001,
          1106,
          1022.9280000000001,
          1481.952,
          1184.016,
          1377.5679999999998,
          1058.08,
          1409.984,
          1387.1840000000002
         ]
        },
        {
         "hovertemplate": "RFM group=Need Attention<br>Recency=%{x}<br>Frequency=%{y}<br>Monetary=%{z}<extra></extra>",
         "legendgroup": "Need Attention",
         "marker": {
          "color": "#4AC3FF",
          "symbol": "circle"
         },
         "mode": "markers",
         "name": "Need Attention",
         "scene": "scene",
         "showlegend": true,
         "type": "scatter3d",
         "x": [
          183,
          187,
          280,
          187,
          137,
          183,
          194,
          173,
          306,
          305,
          272,
          120,
          267,
          174,
          194,
          144,
          246,
          171,
          305,
          157,
          171,
          418,
          256,
          190,
          301,
          297,
          361,
          163,
          138,
          264,
          292,
          165,
          138,
          194,
          119,
          195,
          127,
          160,
          127,
          192,
          134,
          182,
          172,
          181,
          125,
          252,
          151,
          146,
          162,
          139,
          137
         ],
         "y": [
          22,
          19,
          19,
          26,
          23,
          19,
          22,
          21,
          22,
          21,
          26,
          21,
          20,
          23,
          22,
          18,
          19,
          22,
          20,
          21,
          21,
          19,
          18,
          22,
          19,
          21,
          18,
          25,
          29,
          23,
          20,
          22,
          19,
          22,
          28,
          22,
          20,
          19,
          24,
          19,
          22,
          22,
          20,
          23,
          21,
          18,
          18,
          19,
          23,
          25,
          23
         ],
         "z": [
          1608.32,
          1101.5839999999998,
          1048.496,
          1728.672,
          1098.816,
          1355.44,
          1298.2720000000002,
          991.2479999999998,
          1367.1839999999997,
          1303.776,
          1450.9279999999999,
          1100.512,
          987.3280000000002,
          1172.3519999999999,
          1272.88,
          1125.2,
          1197.1360000000002,
          1274.784,
          1169.68,
          1260.3039999999999,
          1037.376,
          1160.816,
          1113.4399999999998,
          1230.528,
          1229.184,
          1056.256,
          1253.1200000000001,
          1271.8719999999998,
          1511.968,
          1197.968,
          1089.648,
          1059.12,
          1166.304,
          1071.8559999999998,
          1186.8639999999998,
          1329.0559999999998,
          1185.1999999999998,
          1267.0879999999997,
          1288.3039999999999,
          1071.728,
          1227.8559999999998,
          1113.8559999999998,
          1638.3519999999996,
          1401.3120000000001,
          1061.136,
          1161.648,
          1179.632,
          1462.4319999999998,
          1338.2079999999996,
          1227.632,
          1092.544
         ]
        },
        {
         "hovertemplate": "RFM group=Hibernating<br>Recency=%{x}<br>Frequency=%{y}<br>Monetary=%{z}<extra></extra>",
         "legendgroup": "Hibernating",
         "marker": {
          "color": "#684cf6",
          "symbol": "circle"
         },
         "mode": "markers",
         "name": "Hibernating",
         "scene": "scene",
         "showlegend": true,
         "type": "scatter3d",
         "x": [
          121,
          162,
          175,
          362,
          255,
          135,
          213,
          143,
          309,
          130,
          122,
          188,
          141,
          319,
          181,
          321,
          238,
          183,
          244,
          504,
          141,
          376,
          188,
          186,
          158,
          124,
          294,
          300,
          154,
          463,
          163,
          275,
          305,
          119,
          608,
          312,
          164,
          488,
          216,
          171,
          239,
          364,
          211,
          196,
          321,
          369,
          316,
          126,
          186,
          292,
          270,
          118,
          473,
          154,
          154,
          289,
          284,
          455,
          175,
          303,
          275,
          246,
          155,
          124,
          163,
          178,
          455,
          277,
          245,
          498,
          186,
          181,
          272,
          121,
          399,
          192,
          138,
          236,
          175
         ],
         "y": [
          13,
          16,
          17,
          12,
          12,
          16,
          16,
          16,
          17,
          7,
          13,
          17,
          13,
          16,
          14,
          16,
          12,
          13,
          15,
          11,
          12,
          15,
          17,
          13,
          16,
          15,
          10,
          7,
          11,
          17,
          17,
          11,
          10,
          14,
          10,
          13,
          13,
          10,
          13,
          13,
          15,
          9,
          16,
          11,
          12,
          13,
          12,
          15,
          11,
          13,
          16,
          15,
          7,
          15,
          13,
          16,
          12,
          12,
          16,
          13,
          13,
          16,
          15,
          14,
          12,
          11,
          11,
          12,
          15,
          15,
          8,
          14,
          15,
          14,
          7,
          12,
          12,
          12,
          17
         ],
         "z": [
          474.48,
          613.2,
          772.7040000000001,
          550.208,
          709.3599999999999,
          759.392,
          656.3520000000001,
          754.3199999999999,
          758.384,
          227.77599999999998,
          768.96,
          734.384,
          618.4960000000001,
          757.2160000000001,
          639.072,
          648.192,
          763.5840000000001,
          606.32,
          712.0799999999999,
          386.336,
          542.4159999999999,
          791.8879999999998,
          704.6080000000001,
          738.56,
          675.376,
          806.5760000000002,
          621.12,
          499.952,
          669.2959999999999,
          762.9920000000001,
          816.0639999999999,
          623.8559999999999,
          314.40000000000003,
          744.7679999999998,
          777.5999999999998,
          483.36,
          530.8480000000002,
          697.504,
          539.456,
          681.584,
          821.4399999999999,
          372.33599999999996,
          428.75199999999995,
          745.28,
          713.7920000000001,
          606.896,
          654.3839999999999,
          395.6,
          501.8239999999999,
          395.02399999999994,
          658.272,
          789.856,
          268.48,
          528.4000000000001,
          471.47200000000004,
          710.624,
          607.5039999999999,
          555.904,
          750.0640000000001,
          591.744,
          627.936,
          740.672,
          664.864,
          700.912,
          723.088,
          644.0160000000001,
          455.072,
          642.6080000000001,
          666.048,
          768.0640000000001,
          513.3919999999999,
          688.5279999999998,
          823.3600000000001,
          726.832,
          279.008,
          570.016,
          565.0880000000001,
          744.4319999999999,
          585.952
         ]
        },
        {
         "hovertemplate": "RFM group=Champions<br>Recency=%{x}<br>Frequency=%{y}<br>Monetary=%{z}<extra></extra>",
         "legendgroup": "Champions",
         "marker": {
          "color": "#FF4AC8",
          "symbol": "circle"
         },
         "mode": "markers",
         "name": "Champions",
         "scene": "scene",
         "showlegend": true,
         "type": "scatter3d",
         "x": [
          69,
          54,
          78,
          2,
          78,
          83,
          37,
          31,
          79,
          77,
          83,
          81,
          5,
          84,
          78,
          80,
          83,
          47,
          71,
          7,
          77,
          68,
          4,
          14,
          81,
          83,
          42,
          79,
          83,
          11,
          1,
          15,
          81,
          77,
          8,
          13,
          68,
          81,
          7,
          12,
          84,
          71,
          77,
          80,
          26,
          80,
          6,
          55,
          10,
          83,
          14,
          15,
          35,
          82,
          60,
          15,
          12,
          83,
          10
         ],
         "y": [
          24,
          20,
          21,
          25,
          24,
          23,
          23,
          20,
          21,
          23,
          21,
          22,
          21,
          22,
          30,
          22,
          21,
          20,
          25,
          22,
          25,
          20,
          21,
          24,
          23,
          20,
          24,
          29,
          23,
          20,
          26,
          27,
          20,
          26,
          22,
          23,
          27,
          23,
          21,
          20,
          21,
          24,
          20,
          21,
          21,
          22,
          25,
          24,
          20,
          27,
          23,
          23,
          21,
          20,
          22,
          20,
          25,
          21,
          25
         ],
         "z": [
          1236.096,
          1375.504,
          1401.616,
          1352.512,
          1093.056,
          1145.92,
          1131.088,
          1219.248,
          1019.552,
          1095.92,
          1044.784,
          1589.68,
          1111.952,
          1045.52,
          1361.008,
          1173.872,
          1413.3120000000001,
          998.1759999999999,
          1474.496,
          1214.1439999999998,
          1135.5200000000002,
          1078.864,
          1062.4319999999998,
          1039.3919999999998,
          1271.5040000000001,
          1030.912,
          1311.952,
          1527.0559999999998,
          1050.6399999999999,
          1017.1840000000001,
          1472.464,
          1465.5680000000002,
          1282.192,
          1199.52,
          990.0319999999999,
          1428.7679999999998,
          1516.272,
          1051.216,
          1154.2559999999999,
          988.992,
          1023.8720000000001,
          1224.4,
          1304.24,
          1139.9679999999998,
          1164.4,
          1285.7599999999998,
          1101.7440000000001,
          1460.784,
          1013.024,
          1577.472,
          1496.3359999999998,
          1122.9599999999998,
          1299.2640000000001,
          1133.3439999999998,
          1328.448,
          1082.7519999999997,
          1026.1119999999999,
          1263.056,
          1490.048
         ]
        },
        {
         "hovertemplate": "RFM group=New Customers<br>Recency=%{x}<br>Frequency=%{y}<br>Monetary=%{z}<extra></extra>",
         "legendgroup": "New Customers",
         "marker": {
          "color": "#447FF5",
          "symbol": "circle"
         },
         "mode": "markers",
         "name": "New Customers",
         "scene": "scene",
         "showlegend": true,
         "type": "scatter3d",
         "x": [
          4,
          26,
          13,
          16,
          13,
          8,
          1,
          1,
          6,
          41,
          34,
          12,
          4,
          83,
          30,
          84,
          5,
          2,
          64,
          1,
          10,
          10,
          77,
          83,
          16,
          7,
          79,
          84,
          19,
          6,
          9,
          81,
          83,
          79,
          81,
          28,
          28,
          84,
          4,
          46,
          2,
          14,
          83,
          73,
          81,
          57,
          14,
          11,
          15,
          9,
          82,
          7,
          85,
          12,
          32,
          9,
          5,
          23,
          4,
          75,
          59,
          2,
          13,
          55,
          2,
          12,
          77,
          4,
          84,
          41,
          10,
          83,
          4,
          79,
          78,
          36,
          10,
          1,
          34,
          7,
          83,
          77,
          14,
          81,
          77,
          14,
          6,
          78,
          83,
          77,
          16
         ],
         "y": [
          13,
          19,
          17,
          11,
          17,
          11,
          18,
          15,
          15,
          13,
          18,
          9,
          17,
          16,
          18,
          19,
          15,
          19,
          15,
          19,
          11,
          15,
          16,
          12,
          15,
          18,
          16,
          15,
          14,
          19,
          13,
          17,
          18,
          12,
          13,
          17,
          17,
          17,
          11,
          15,
          14,
          13,
          12,
          15,
          11,
          18,
          17,
          9,
          17,
          19,
          19,
          19,
          18,
          18,
          17,
          15,
          16,
          15,
          18,
          12,
          15,
          19,
          17,
          12,
          18,
          17,
          17,
          15,
          13,
          16,
          17,
          13,
          18,
          11,
          15,
          14,
          10,
          18,
          19,
          17,
          18,
          17,
          19,
          14,
          15,
          16,
          15,
          17,
          16,
          14,
          17
         ],
         "z": [
          800.9279999999999,
          769.3600000000001,
          832.3839999999999,
          380.64000000000004,
          718.72,
          553.2640000000001,
          943.68,
          628.8000000000001,
          901.5039999999999,
          644.848,
          984.0319999999998,
          435.632,
          903.232,
          795.8399999999999,
          942.2560000000001,
          757.3119999999999,
          757.072,
          891.296,
          616.5919999999999,
          968.8,
          510.464,
          958.3679999999999,
          649.7760000000001,
          630.448,
          726.8000000000001,
          762.9440000000001,
          595.52,
          738.3519999999999,
          722.3520000000001,
          867.7280000000001,
          710.16,
          746.208,
          797.168,
          487.312,
          784.384,
          804.224,
          754.8159999999999,
          723.392,
          448.4,
          652.0319999999999,
          714.3999999999999,
          582.8,
          484.38399999999996,
          627.2800000000001,
          692.448,
          975.424,
          932.496,
          632.6560000000001,
          576.5919999999999,
          947.92,
          834.0960000000001,
          837.552,
          871.5039999999999,
          783.5999999999999,
          708.112,
          807.184,
          635.9359999999999,
          732.1280000000002,
          782.432,
          749.7280000000001,
          662.4000000000001,
          859.9839999999999,
          890.1440000000001,
          700.784,
          807.424,
          780.08,
          839.328,
          900.5759999999999,
          674.3679999999999,
          765.3119999999999,
          929.9839999999999,
          642.2879999999999,
          665.8399999999999,
          544.08,
          815.9680000000001,
          742.8960000000001,
          727.8559999999999,
          703.76,
          937.328,
          768.6400000000001,
          725.696,
          723.664,
          847.712,
          812.6080000000002,
          796.448,
          785.248,
          924.0320000000002,
          563.1039999999999,
          766.1279999999999,
          670.7520000000001,
          575.6160000000001
         ]
        },
        {
         "hovertemplate": "RFM group=High New Customers<br>Recency=%{x}<br>Frequency=%{y}<br>Monetary=%{z}<extra></extra>",
         "legendgroup": "High New Customers",
         "marker": {
          "color": "#ab63fa",
          "symbol": "circle"
         },
         "mode": "markers",
         "name": "High New Customers",
         "scene": "scene",
         "showlegend": true,
         "type": "scatter3d",
         "x": [
          116,
          5,
          79,
          24,
          78,
          98,
          93,
          83,
          77,
          2,
          18
         ],
         "y": [
          16,
          17,
          17,
          17,
          14,
          14,
          16,
          17,
          15,
          17,
          14
         ],
         "z": [
          1186.08,
          1007.1999999999999,
          1199.1840000000002,
          1169.6319999999998,
          1097.152,
          1086.512,
          1041.84,
          1043.344,
          1140.0159999999998,
          1145.2,
          1255.4719999999998
         ]
        },
        {
         "hovertemplate": "RFM group=At Risk<br>Recency=%{x}<br>Frequency=%{y}<br>Monetary=%{z}<extra></extra>",
         "legendgroup": "At Risk",
         "marker": {
          "color": "#1e5274",
          "symbol": "circle"
         },
         "mode": "markers",
         "name": "At Risk",
         "scene": "scene",
         "showlegend": true,
         "type": "scatter3d",
         "x": [
          160,
          100,
          166,
          100,
          86,
          195,
          155,
          97,
          124,
          110,
          115,
          104,
          269,
          108,
          93,
          304,
          106,
          104,
          91
         ],
         "y": [
          20,
          21,
          20,
          22,
          21,
          20,
          21,
          20,
          22,
          21,
          20,
          20,
          20,
          20,
          22,
          20,
          20,
          22,
          21
         ],
         "z": [
          888.592,
          921.088,
          895.712,
          931.008,
          977.4080000000001,
          889.6,
          842.24,
          934.2239999999999,
          976.3520000000001,
          976.848,
          845.4879999999999,
          779.84,
          908.0160000000001,
          900.768,
          879.0400000000001,
          711.68,
          963.456,
          939.4399999999998,
          943.3599999999999
         ]
        }
       ],
       "layout": {
        "legend": {
         "title": {
          "text": "RFM group"
         },
         "tracegroupgap": 0
        },
        "scene": {
         "domain": {
          "x": [
           0,
           1
          ],
          "y": [
           0,
           1
          ]
         },
         "xaxis": {
          "title": {
           "text": "Recency"
          }
         },
         "yaxis": {
          "title": {
           "text": "Frequency"
          }
         },
         "zaxis": {
          "title": {
           "text": "Monetary"
          }
         }
        },
        "template": {
         "data": {
          "bar": [
           {
            "error_x": {
             "color": "#2a3f5f"
            },
            "error_y": {
             "color": "#2a3f5f"
            },
            "marker": {
             "line": {
              "color": "#E5ECF6",
              "width": 0.5
             },
             "pattern": {
              "fillmode": "overlay",
              "size": 10,
              "solidity": 0.2
             }
            },
            "type": "bar"
           }
          ],
          "barpolar": [
           {
            "marker": {
             "line": {
              "color": "#E5ECF6",
              "width": 0.5
             },
             "pattern": {
              "fillmode": "overlay",
              "size": 10,
              "solidity": 0.2
             }
            },
            "type": "barpolar"
           }
          ],
          "carpet": [
           {
            "aaxis": {
             "endlinecolor": "#2a3f5f",
             "gridcolor": "white",
             "linecolor": "white",
             "minorgridcolor": "white",
             "startlinecolor": "#2a3f5f"
            },
            "baxis": {
             "endlinecolor": "#2a3f5f",
             "gridcolor": "white",
             "linecolor": "white",
             "minorgridcolor": "white",
             "startlinecolor": "#2a3f5f"
            },
            "type": "carpet"
           }
          ],
          "choropleth": [
           {
            "colorbar": {
             "outlinewidth": 0,
             "ticks": ""
            },
            "type": "choropleth"
           }
          ],
          "contour": [
           {
            "colorbar": {
             "outlinewidth": 0,
             "ticks": ""
            },
            "colorscale": [
             [
              0,
              "#0d0887"
             ],
             [
              0.1111111111111111,
              "#46039f"
             ],
             [
              0.2222222222222222,
              "#7201a8"
             ],
             [
              0.3333333333333333,
              "#9c179e"
             ],
             [
              0.4444444444444444,
              "#bd3786"
             ],
             [
              0.5555555555555556,
              "#d8576b"
             ],
             [
              0.6666666666666666,
              "#ed7953"
             ],
             [
              0.7777777777777778,
              "#fb9f3a"
             ],
             [
              0.8888888888888888,
              "#fdca26"
             ],
             [
              1,
              "#f0f921"
             ]
            ],
            "type": "contour"
           }
          ],
          "contourcarpet": [
           {
            "colorbar": {
             "outlinewidth": 0,
             "ticks": ""
            },
            "type": "contourcarpet"
           }
          ],
          "heatmap": [
           {
            "colorbar": {
             "outlinewidth": 0,
             "ticks": ""
            },
            "colorscale": [
             [
              0,
              "#0d0887"
             ],
             [
              0.1111111111111111,
              "#46039f"
             ],
             [
              0.2222222222222222,
              "#7201a8"
             ],
             [
              0.3333333333333333,
              "#9c179e"
             ],
             [
              0.4444444444444444,
              "#bd3786"
             ],
             [
              0.5555555555555556,
              "#d8576b"
             ],
             [
              0.6666666666666666,
              "#ed7953"
             ],
             [
              0.7777777777777778,
              "#fb9f3a"
             ],
             [
              0.8888888888888888,
              "#fdca26"
             ],
             [
              1,
              "#f0f921"
             ]
            ],
            "type": "heatmap"
           }
          ],
          "heatmapgl": [
           {
            "colorbar": {
             "outlinewidth": 0,
             "ticks": ""
            },
            "colorscale": [
             [
              0,
              "#0d0887"
             ],
             [
              0.1111111111111111,
              "#46039f"
             ],
             [
              0.2222222222222222,
              "#7201a8"
             ],
             [
              0.3333333333333333,
              "#9c179e"
             ],
             [
              0.4444444444444444,
              "#bd3786"
             ],
             [
              0.5555555555555556,
              "#d8576b"
             ],
             [
              0.6666666666666666,
              "#ed7953"
             ],
             [
              0.7777777777777778,
              "#fb9f3a"
             ],
             [
              0.8888888888888888,
              "#fdca26"
             ],
             [
              1,
              "#f0f921"
             ]
            ],
            "type": "heatmapgl"
           }
          ],
          "histogram": [
           {
            "marker": {
             "pattern": {
              "fillmode": "overlay",
              "size": 10,
              "solidity": 0.2
             }
            },
            "type": "histogram"
           }
          ],
          "histogram2d": [
           {
            "colorbar": {
             "outlinewidth": 0,
             "ticks": ""
            },
            "colorscale": [
             [
              0,
              "#0d0887"
             ],
             [
              0.1111111111111111,
              "#46039f"
             ],
             [
              0.2222222222222222,
              "#7201a8"
             ],
             [
              0.3333333333333333,
              "#9c179e"
             ],
             [
              0.4444444444444444,
              "#bd3786"
             ],
             [
              0.5555555555555556,
              "#d8576b"
             ],
             [
              0.6666666666666666,
              "#ed7953"
             ],
             [
              0.7777777777777778,
              "#fb9f3a"
             ],
             [
              0.8888888888888888,
              "#fdca26"
             ],
             [
              1,
              "#f0f921"
             ]
            ],
            "type": "histogram2d"
           }
          ],
          "histogram2dcontour": [
           {
            "colorbar": {
             "outlinewidth": 0,
             "ticks": ""
            },
            "colorscale": [
             [
              0,
              "#0d0887"
             ],
             [
              0.1111111111111111,
              "#46039f"
             ],
             [
              0.2222222222222222,
              "#7201a8"
             ],
             [
              0.3333333333333333,
              "#9c179e"
             ],
             [
              0.4444444444444444,
              "#bd3786"
             ],
             [
              0.5555555555555556,
              "#d8576b"
             ],
             [
              0.6666666666666666,
              "#ed7953"
             ],
             [
              0.7777777777777778,
              "#fb9f3a"
             ],
             [
              0.8888888888888888,
              "#fdca26"
             ],
             [
              1,
              "#f0f921"
             ]
            ],
            "type": "histogram2dcontour"
           }
          ],
          "mesh3d": [
           {
            "colorbar": {
             "outlinewidth": 0,
             "ticks": ""
            },
            "type": "mesh3d"
           }
          ],
          "parcoords": [
           {
            "line": {
             "colorbar": {
              "outlinewidth": 0,
              "ticks": ""
             }
            },
            "type": "parcoords"
           }
          ],
          "pie": [
           {
            "automargin": true,
            "type": "pie"
           }
          ],
          "scatter": [
           {
            "fillpattern": {
             "fillmode": "overlay",
             "size": 10,
             "solidity": 0.2
            },
            "type": "scatter"
           }
          ],
          "scatter3d": [
           {
            "line": {
             "colorbar": {
              "outlinewidth": 0,
              "ticks": ""
             }
            },
            "marker": {
             "colorbar": {
              "outlinewidth": 0,
              "ticks": ""
             }
            },
            "type": "scatter3d"
           }
          ],
          "scattercarpet": [
           {
            "marker": {
             "colorbar": {
              "outlinewidth": 0,
              "ticks": ""
             }
            },
            "type": "scattercarpet"
           }
          ],
          "scattergeo": [
           {
            "marker": {
             "colorbar": {
              "outlinewidth": 0,
              "ticks": ""
             }
            },
            "type": "scattergeo"
           }
          ],
          "scattergl": [
           {
            "marker": {
             "colorbar": {
              "outlinewidth": 0,
              "ticks": ""
             }
            },
            "type": "scattergl"
           }
          ],
          "scattermapbox": [
           {
            "marker": {
             "colorbar": {
              "outlinewidth": 0,
              "ticks": ""
             }
            },
            "type": "scattermapbox"
           }
          ],
          "scatterpolar": [
           {
            "marker": {
             "colorbar": {
              "outlinewidth": 0,
              "ticks": ""
             }
            },
            "type": "scatterpolar"
           }
          ],
          "scatterpolargl": [
           {
            "marker": {
             "colorbar": {
              "outlinewidth": 0,
              "ticks": ""
             }
            },
            "type": "scatterpolargl"
           }
          ],
          "scatterternary": [
           {
            "marker": {
             "colorbar": {
              "outlinewidth": 0,
              "ticks": ""
             }
            },
            "type": "scatterternary"
           }
          ],
          "surface": [
           {
            "colorbar": {
             "outlinewidth": 0,
             "ticks": ""
            },
            "colorscale": [
             [
              0,
              "#0d0887"
             ],
             [
              0.1111111111111111,
              "#46039f"
             ],
             [
              0.2222222222222222,
              "#7201a8"
             ],
             [
              0.3333333333333333,
              "#9c179e"
             ],
             [
              0.4444444444444444,
              "#bd3786"
             ],
             [
              0.5555555555555556,
              "#d8576b"
             ],
             [
              0.6666666666666666,
              "#ed7953"
             ],
             [
              0.7777777777777778,
              "#fb9f3a"
             ],
             [
              0.8888888888888888,
              "#fdca26"
             ],
             [
              1,
              "#f0f921"
             ]
            ],
            "type": "surface"
           }
          ],
          "table": [
           {
            "cells": {
             "fill": {
              "color": "#EBF0F8"
             },
             "line": {
              "color": "white"
             }
            },
            "header": {
             "fill": {
              "color": "#C8D4E3"
             },
             "line": {
              "color": "white"
             }
            },
            "type": "table"
           }
          ]
         },
         "layout": {
          "annotationdefaults": {
           "arrowcolor": "#2a3f5f",
           "arrowhead": 0,
           "arrowwidth": 1
          },
          "autotypenumbers": "strict",
          "coloraxis": {
           "colorbar": {
            "outlinewidth": 0,
            "ticks": ""
           }
          },
          "colorscale": {
           "diverging": [
            [
             0,
             "#8e0152"
            ],
            [
             0.1,
             "#c51b7d"
            ],
            [
             0.2,
             "#de77ae"
            ],
            [
             0.3,
             "#f1b6da"
            ],
            [
             0.4,
             "#fde0ef"
            ],
            [
             0.5,
             "#f7f7f7"
            ],
            [
             0.6,
             "#e6f5d0"
            ],
            [
             0.7,
             "#b8e186"
            ],
            [
             0.8,
             "#7fbc41"
            ],
            [
             0.9,
             "#4d9221"
            ],
            [
             1,
             "#276419"
            ]
           ],
           "sequential": [
            [
             0,
             "#0d0887"
            ],
            [
             0.1111111111111111,
             "#46039f"
            ],
            [
             0.2222222222222222,
             "#7201a8"
            ],
            [
             0.3333333333333333,
             "#9c179e"
            ],
            [
             0.4444444444444444,
             "#bd3786"
            ],
            [
             0.5555555555555556,
             "#d8576b"
            ],
            [
             0.6666666666666666,
             "#ed7953"
            ],
            [
             0.7777777777777778,
             "#fb9f3a"
            ],
            [
             0.8888888888888888,
             "#fdca26"
            ],
            [
             1,
             "#f0f921"
            ]
           ],
           "sequentialminus": [
            [
             0,
             "#0d0887"
            ],
            [
             0.1111111111111111,
             "#46039f"
            ],
            [
             0.2222222222222222,
             "#7201a8"
            ],
            [
             0.3333333333333333,
             "#9c179e"
            ],
            [
             0.4444444444444444,
             "#bd3786"
            ],
            [
             0.5555555555555556,
             "#d8576b"
            ],
            [
             0.6666666666666666,
             "#ed7953"
            ],
            [
             0.7777777777777778,
             "#fb9f3a"
            ],
            [
             0.8888888888888888,
             "#fdca26"
            ],
            [
             1,
             "#f0f921"
            ]
           ]
          },
          "colorway": [
           "#636efa",
           "#EF553B",
           "#00cc96",
           "#ab63fa",
           "#FFA15A",
           "#19d3f3",
           "#FF6692",
           "#B6E880",
           "#FF97FF",
           "#FECB52"
          ],
          "font": {
           "color": "#2a3f5f"
          },
          "geo": {
           "bgcolor": "white",
           "lakecolor": "white",
           "landcolor": "#E5ECF6",
           "showlakes": true,
           "showland": true,
           "subunitcolor": "white"
          },
          "hoverlabel": {
           "align": "left"
          },
          "hovermode": "closest",
          "mapbox": {
           "style": "light"
          },
          "paper_bgcolor": "white",
          "plot_bgcolor": "#E5ECF6",
          "polar": {
           "angularaxis": {
            "gridcolor": "white",
            "linecolor": "white",
            "ticks": ""
           },
           "bgcolor": "#E5ECF6",
           "radialaxis": {
            "gridcolor": "white",
            "linecolor": "white",
            "ticks": ""
           }
          },
          "scene": {
           "xaxis": {
            "backgroundcolor": "#E5ECF6",
            "gridcolor": "white",
            "gridwidth": 2,
            "linecolor": "white",
            "showbackground": true,
            "ticks": "",
            "zerolinecolor": "white"
           },
           "yaxis": {
            "backgroundcolor": "#E5ECF6",
            "gridcolor": "white",
            "gridwidth": 2,
            "linecolor": "white",
            "showbackground": true,
            "ticks": "",
            "zerolinecolor": "white"
           },
           "zaxis": {
            "backgroundcolor": "#E5ECF6",
            "gridcolor": "white",
            "gridwidth": 2,
            "linecolor": "white",
            "showbackground": true,
            "ticks": "",
            "zerolinecolor": "white"
           }
          },
          "shapedefaults": {
           "line": {
            "color": "#2a3f5f"
           }
          },
          "ternary": {
           "aaxis": {
            "gridcolor": "white",
            "linecolor": "white",
            "ticks": ""
           },
           "baxis": {
            "gridcolor": "white",
            "linecolor": "white",
            "ticks": ""
           },
           "bgcolor": "#E5ECF6",
           "caxis": {
            "gridcolor": "white",
            "linecolor": "white",
            "ticks": ""
           }
          },
          "title": {
           "x": 0.05
          },
          "xaxis": {
           "automargin": true,
           "gridcolor": "white",
           "linecolor": "white",
           "ticks": "",
           "title": {
            "standoff": 15
           },
           "zerolinecolor": "white",
           "zerolinewidth": 2
          },
          "yaxis": {
           "automargin": true,
           "gridcolor": "white",
           "linecolor": "white",
           "ticks": "",
           "title": {
            "standoff": 15
           },
           "zerolinecolor": "white",
           "zerolinewidth": 2
          }
         }
        },
        "title": {
         "text": "RFM Rubik Cube"
        }
       }
      }
     },
     "metadata": {},
     "output_type": "display_data"
    }
   ],
   "source": [
    "fig = px.scatter_3d(df_rfm, x='recency', y='frequency', z='monetary', color='group_rfm',\n",
    "                    title = 'RFM Rubik Cube',\n",
    "                    category_orders={'segment': ['Hibernating','About to Sleep','New Customers','Potential low',\n",
    "                                                 'At Risk','New Customers higt','Unique higt - Promising',\n",
    "                                                 'Need Attention','Potential higt','Champions']},\n",
    "                    color_discrete_map={'Hibernating':'#684cf6','About to Sleep':'#90dde0','New Customers':'#447FF5',\n",
    "                                        'Potential low':'#78e591','At Risk':'#1e5274','New Customers higt':'#FFE343',\n",
    "                                        'Unique higt - Promising':'#9EFF43','Need Attention':'#4AC3FF',\n",
    "                                        'Potential higt':'#D04AFF','Champions':'#FF4AC8'},\n",
    "                    labels=labels\n",
    "                   )\n",
    "fig.show()"
   ]
  },
  {
   "cell_type": "markdown",
   "metadata": {},
   "source": [
    "## 4.3 Analysis for Kmeans"
   ]
  },
  {
   "cell_type": "code",
   "execution_count": 7,
   "metadata": {},
   "outputs": [
    {
     "data": {
      "text/html": [
       "<div>\n",
       "<style scoped>\n",
       "    .dataframe tbody tr th:only-of-type {\n",
       "        vertical-align: middle;\n",
       "    }\n",
       "\n",
       "    .dataframe tbody tr th {\n",
       "        vertical-align: top;\n",
       "    }\n",
       "\n",
       "    .dataframe thead th {\n",
       "        text-align: right;\n",
       "    }\n",
       "</style>\n",
       "<table border=\"1\" class=\"dataframe\">\n",
       "  <thead>\n",
       "    <tr style=\"text-align: right;\">\n",
       "      <th></th>\n",
       "      <th>category</th>\n",
       "      <th>statistic</th>\n",
       "      <th>value</th>\n",
       "    </tr>\n",
       "  </thead>\n",
       "  <tbody>\n",
       "    <tr>\n",
       "      <th>7</th>\n",
       "      <td>2</td>\n",
       "      <td>recency_mean</td>\n",
       "      <td>94.221591</td>\n",
       "    </tr>\n",
       "    <tr>\n",
       "      <th>9</th>\n",
       "      <td>4</td>\n",
       "      <td>recency_mean</td>\n",
       "      <td>123.051282</td>\n",
       "    </tr>\n",
       "    <tr>\n",
       "      <th>5</th>\n",
       "      <td>0</td>\n",
       "      <td>recency_mean</td>\n",
       "      <td>130.333333</td>\n",
       "    </tr>\n",
       "    <tr>\n",
       "      <th>6</th>\n",
       "      <td>1</td>\n",
       "      <td>recency_mean</td>\n",
       "      <td>150.280702</td>\n",
       "    </tr>\n",
       "    <tr>\n",
       "      <th>8</th>\n",
       "      <td>3</td>\n",
       "      <td>recency_mean</td>\n",
       "      <td>155.066667</td>\n",
       "    </tr>\n",
       "    <tr>\n",
       "      <th>16</th>\n",
       "      <td>1</td>\n",
       "      <td>monetary_mean</td>\n",
       "      <td>803.760187</td>\n",
       "    </tr>\n",
       "    <tr>\n",
       "      <th>18</th>\n",
       "      <td>3</td>\n",
       "      <td>monetary_mean</td>\n",
       "      <td>811.762133</td>\n",
       "    </tr>\n",
       "    <tr>\n",
       "      <th>19</th>\n",
       "      <td>4</td>\n",
       "      <td>monetary_mean</td>\n",
       "      <td>892.100718</td>\n",
       "    </tr>\n",
       "    <tr>\n",
       "      <th>15</th>\n",
       "      <td>0</td>\n",
       "      <td>monetary_mean</td>\n",
       "      <td>944.995200</td>\n",
       "    </tr>\n",
       "    <tr>\n",
       "      <th>17</th>\n",
       "      <td>2</td>\n",
       "      <td>monetary_mean</td>\n",
       "      <td>1105.551909</td>\n",
       "    </tr>\n",
       "    <tr>\n",
       "      <th>93</th>\n",
       "      <td>3</td>\n",
       "      <td>local_mean</td>\n",
       "      <td>0.469075</td>\n",
       "    </tr>\n",
       "    <tr>\n",
       "      <th>94</th>\n",
       "      <td>4</td>\n",
       "      <td>local_mean</td>\n",
       "      <td>0.484499</td>\n",
       "    </tr>\n",
       "    <tr>\n",
       "      <th>92</th>\n",
       "      <td>2</td>\n",
       "      <td>local_mean</td>\n",
       "      <td>0.500614</td>\n",
       "    </tr>\n",
       "    <tr>\n",
       "      <th>90</th>\n",
       "      <td>0</td>\n",
       "      <td>local_mean</td>\n",
       "      <td>0.507895</td>\n",
       "    </tr>\n",
       "    <tr>\n",
       "      <th>91</th>\n",
       "      <td>1</td>\n",
       "      <td>local_mean</td>\n",
       "      <td>0.518949</td>\n",
       "    </tr>\n",
       "    <tr>\n",
       "      <th>11</th>\n",
       "      <td>1</td>\n",
       "      <td>frequency_mean</td>\n",
       "      <td>16.005848</td>\n",
       "    </tr>\n",
       "    <tr>\n",
       "      <th>13</th>\n",
       "      <td>3</td>\n",
       "      <td>frequency_mean</td>\n",
       "      <td>16.888889</td>\n",
       "    </tr>\n",
       "    <tr>\n",
       "      <th>10</th>\n",
       "      <td>0</td>\n",
       "      <td>frequency_mean</td>\n",
       "      <td>18.233333</td>\n",
       "    </tr>\n",
       "    <tr>\n",
       "      <th>14</th>\n",
       "      <td>4</td>\n",
       "      <td>frequency_mean</td>\n",
       "      <td>18.615385</td>\n",
       "    </tr>\n",
       "    <tr>\n",
       "      <th>12</th>\n",
       "      <td>2</td>\n",
       "      <td>frequency_mean</td>\n",
       "      <td>19.522727</td>\n",
       "    </tr>\n",
       "    <tr>\n",
       "      <th>2</th>\n",
       "      <td>2</td>\n",
       "      <td>age_days_mean</td>\n",
       "      <td>17385.892045</td>\n",
       "    </tr>\n",
       "    <tr>\n",
       "      <th>4</th>\n",
       "      <td>4</td>\n",
       "      <td>age_days_mean</td>\n",
       "      <td>18738.769231</td>\n",
       "    </tr>\n",
       "    <tr>\n",
       "      <th>0</th>\n",
       "      <td>0</td>\n",
       "      <td>age_days_mean</td>\n",
       "      <td>20090.033333</td>\n",
       "    </tr>\n",
       "    <tr>\n",
       "      <th>3</th>\n",
       "      <td>3</td>\n",
       "      <td>age_days_mean</td>\n",
       "      <td>23509.066667</td>\n",
       "    </tr>\n",
       "    <tr>\n",
       "      <th>1</th>\n",
       "      <td>1</td>\n",
       "      <td>age_days_mean</td>\n",
       "      <td>23817.514620</td>\n",
       "    </tr>\n",
       "    <tr>\n",
       "      <th>86</th>\n",
       "      <td>1</td>\n",
       "      <td>Vestido_mean</td>\n",
       "      <td>0.000000</td>\n",
       "    </tr>\n",
       "    <tr>\n",
       "      <th>87</th>\n",
       "      <td>2</td>\n",
       "      <td>Vestido_mean</td>\n",
       "      <td>0.004534</td>\n",
       "    </tr>\n",
       "    <tr>\n",
       "      <th>85</th>\n",
       "      <td>0</td>\n",
       "      <td>Vestido_mean</td>\n",
       "      <td>0.008934</td>\n",
       "    </tr>\n",
       "    <tr>\n",
       "      <th>89</th>\n",
       "      <td>4</td>\n",
       "      <td>Vestido_mean</td>\n",
       "      <td>0.013795</td>\n",
       "    </tr>\n",
       "    <tr>\n",
       "      <th>88</th>\n",
       "      <td>3</td>\n",
       "      <td>Vestido_mean</td>\n",
       "      <td>0.073849</td>\n",
       "    </tr>\n",
       "    <tr>\n",
       "      <th>97</th>\n",
       "      <td>2</td>\n",
       "      <td>Time_Average_mean</td>\n",
       "      <td>93.664773</td>\n",
       "    </tr>\n",
       "    <tr>\n",
       "      <th>99</th>\n",
       "      <td>4</td>\n",
       "      <td>Time_Average_mean</td>\n",
       "      <td>95.076923</td>\n",
       "    </tr>\n",
       "    <tr>\n",
       "      <th>95</th>\n",
       "      <td>0</td>\n",
       "      <td>Time_Average_mean</td>\n",
       "      <td>95.400000</td>\n",
       "    </tr>\n",
       "    <tr>\n",
       "      <th>98</th>\n",
       "      <td>3</td>\n",
       "      <td>Time_Average_mean</td>\n",
       "      <td>104.066667</td>\n",
       "    </tr>\n",
       "    <tr>\n",
       "      <th>96</th>\n",
       "      <td>1</td>\n",
       "      <td>Time_Average_mean</td>\n",
       "      <td>111.438596</td>\n",
       "    </tr>\n",
       "    <tr>\n",
       "      <th>81</th>\n",
       "      <td>1</td>\n",
       "      <td>Strapless_mean</td>\n",
       "      <td>0.000000</td>\n",
       "    </tr>\n",
       "    <tr>\n",
       "      <th>83</th>\n",
       "      <td>3</td>\n",
       "      <td>Strapless_mean</td>\n",
       "      <td>0.000000</td>\n",
       "    </tr>\n",
       "    <tr>\n",
       "      <th>82</th>\n",
       "      <td>2</td>\n",
       "      <td>Strapless_mean</td>\n",
       "      <td>0.001525</td>\n",
       "    </tr>\n",
       "    <tr>\n",
       "      <th>80</th>\n",
       "      <td>0</td>\n",
       "      <td>Strapless_mean</td>\n",
       "      <td>0.006994</td>\n",
       "    </tr>\n",
       "    <tr>\n",
       "      <th>84</th>\n",
       "      <td>4</td>\n",
       "      <td>Strapless_mean</td>\n",
       "      <td>0.060553</td>\n",
       "    </tr>\n",
       "    <tr>\n",
       "      <th>77</th>\n",
       "      <td>2</td>\n",
       "      <td>Short_mean</td>\n",
       "      <td>0.086647</td>\n",
       "    </tr>\n",
       "    <tr>\n",
       "      <th>75</th>\n",
       "      <td>0</td>\n",
       "      <td>Short_mean</td>\n",
       "      <td>0.093326</td>\n",
       "    </tr>\n",
       "    <tr>\n",
       "      <th>78</th>\n",
       "      <td>3</td>\n",
       "      <td>Short_mean</td>\n",
       "      <td>0.109333</td>\n",
       "    </tr>\n",
       "    <tr>\n",
       "      <th>79</th>\n",
       "      <td>4</td>\n",
       "      <td>Short_mean</td>\n",
       "      <td>0.120763</td>\n",
       "    </tr>\n",
       "    <tr>\n",
       "      <th>76</th>\n",
       "      <td>1</td>\n",
       "      <td>Short_mean</td>\n",
       "      <td>0.122205</td>\n",
       "    </tr>\n",
       "    <tr>\n",
       "      <th>72</th>\n",
       "      <td>2</td>\n",
       "      <td>Remera_mean</td>\n",
       "      <td>0.146505</td>\n",
       "    </tr>\n",
       "    <tr>\n",
       "      <th>70</th>\n",
       "      <td>0</td>\n",
       "      <td>Remera_mean</td>\n",
       "      <td>0.164187</td>\n",
       "    </tr>\n",
       "    <tr>\n",
       "      <th>74</th>\n",
       "      <td>4</td>\n",
       "      <td>Remera_mean</td>\n",
       "      <td>0.165328</td>\n",
       "    </tr>\n",
       "    <tr>\n",
       "      <th>73</th>\n",
       "      <td>3</td>\n",
       "      <td>Remera_mean</td>\n",
       "      <td>0.181320</td>\n",
       "    </tr>\n",
       "    <tr>\n",
       "      <th>71</th>\n",
       "      <td>1</td>\n",
       "      <td>Remera_mean</td>\n",
       "      <td>0.244221</td>\n",
       "    </tr>\n",
       "    <tr>\n",
       "      <th>68</th>\n",
       "      <td>3</td>\n",
       "      <td>Pollera_mean</td>\n",
       "      <td>0.000000</td>\n",
       "    </tr>\n",
       "    <tr>\n",
       "      <th>67</th>\n",
       "      <td>2</td>\n",
       "      <td>Pollera_mean</td>\n",
       "      <td>0.002517</td>\n",
       "    </tr>\n",
       "    <tr>\n",
       "      <th>69</th>\n",
       "      <td>4</td>\n",
       "      <td>Pollera_mean</td>\n",
       "      <td>0.003437</td>\n",
       "    </tr>\n",
       "    <tr>\n",
       "      <th>65</th>\n",
       "      <td>0</td>\n",
       "      <td>Pollera_mean</td>\n",
       "      <td>0.005799</td>\n",
       "    </tr>\n",
       "    <tr>\n",
       "      <th>66</th>\n",
       "      <td>1</td>\n",
       "      <td>Pollera_mean</td>\n",
       "      <td>0.006741</td>\n",
       "    </tr>\n",
       "    <tr>\n",
       "      <th>60</th>\n",
       "      <td>0</td>\n",
       "      <td>Pantalón_mean</td>\n",
       "      <td>0.012008</td>\n",
       "    </tr>\n",
       "    <tr>\n",
       "      <th>63</th>\n",
       "      <td>3</td>\n",
       "      <td>Pantalón_mean</td>\n",
       "      <td>0.012091</td>\n",
       "    </tr>\n",
       "    <tr>\n",
       "      <th>62</th>\n",
       "      <td>2</td>\n",
       "      <td>Pantalón_mean</td>\n",
       "      <td>0.015542</td>\n",
       "    </tr>\n",
       "    <tr>\n",
       "      <th>64</th>\n",
       "      <td>4</td>\n",
       "      <td>Pantalón_mean</td>\n",
       "      <td>0.019290</td>\n",
       "    </tr>\n",
       "    <tr>\n",
       "      <th>61</th>\n",
       "      <td>1</td>\n",
       "      <td>Pantalón_mean</td>\n",
       "      <td>0.021499</td>\n",
       "    </tr>\n",
       "    <tr>\n",
       "      <th>55</th>\n",
       "      <td>0</td>\n",
       "      <td>Mini_mean</td>\n",
       "      <td>0.043670</td>\n",
       "    </tr>\n",
       "    <tr>\n",
       "      <th>57</th>\n",
       "      <td>2</td>\n",
       "      <td>Mini_mean</td>\n",
       "      <td>0.050020</td>\n",
       "    </tr>\n",
       "    <tr>\n",
       "      <th>56</th>\n",
       "      <td>1</td>\n",
       "      <td>Mini_mean</td>\n",
       "      <td>0.053300</td>\n",
       "    </tr>\n",
       "    <tr>\n",
       "      <th>59</th>\n",
       "      <td>4</td>\n",
       "      <td>Mini_mean</td>\n",
       "      <td>0.056037</td>\n",
       "    </tr>\n",
       "    <tr>\n",
       "      <th>58</th>\n",
       "      <td>3</td>\n",
       "      <td>Mini_mean</td>\n",
       "      <td>0.061753</td>\n",
       "    </tr>\n",
       "    <tr>\n",
       "      <th>53</th>\n",
       "      <td>3</td>\n",
       "      <td>Jean_mean</td>\n",
       "      <td>0.084750</td>\n",
       "    </tr>\n",
       "    <tr>\n",
       "      <th>54</th>\n",
       "      <td>4</td>\n",
       "      <td>Jean_mean</td>\n",
       "      <td>0.088423</td>\n",
       "    </tr>\n",
       "    <tr>\n",
       "      <th>51</th>\n",
       "      <td>1</td>\n",
       "      <td>Jean_mean</td>\n",
       "      <td>0.095143</td>\n",
       "    </tr>\n",
       "    <tr>\n",
       "      <th>50</th>\n",
       "      <td>0</td>\n",
       "      <td>Jean_mean</td>\n",
       "      <td>0.103820</td>\n",
       "    </tr>\n",
       "    <tr>\n",
       "      <th>52</th>\n",
       "      <td>2</td>\n",
       "      <td>Jean_mean</td>\n",
       "      <td>0.130890</td>\n",
       "    </tr>\n",
       "    <tr>\n",
       "      <th>46</th>\n",
       "      <td>1</td>\n",
       "      <td>Chaleco_mean</td>\n",
       "      <td>0.028622</td>\n",
       "    </tr>\n",
       "    <tr>\n",
       "      <th>49</th>\n",
       "      <td>4</td>\n",
       "      <td>Chaleco_mean</td>\n",
       "      <td>0.041015</td>\n",
       "    </tr>\n",
       "    <tr>\n",
       "      <th>48</th>\n",
       "      <td>3</td>\n",
       "      <td>Chaleco_mean</td>\n",
       "      <td>0.056680</td>\n",
       "    </tr>\n",
       "    <tr>\n",
       "      <th>45</th>\n",
       "      <td>0</td>\n",
       "      <td>Chaleco_mean</td>\n",
       "      <td>0.057587</td>\n",
       "    </tr>\n",
       "    <tr>\n",
       "      <th>47</th>\n",
       "      <td>2</td>\n",
       "      <td>Chaleco_mean</td>\n",
       "      <td>0.060374</td>\n",
       "    </tr>\n",
       "    <tr>\n",
       "      <th>40</th>\n",
       "      <td>0</td>\n",
       "      <td>Capri_mean</td>\n",
       "      <td>0.028283</td>\n",
       "    </tr>\n",
       "    <tr>\n",
       "      <th>42</th>\n",
       "      <td>2</td>\n",
       "      <td>Capri_mean</td>\n",
       "      <td>0.029537</td>\n",
       "    </tr>\n",
       "    <tr>\n",
       "      <th>41</th>\n",
       "      <td>1</td>\n",
       "      <td>Capri_mean</td>\n",
       "      <td>0.031891</td>\n",
       "    </tr>\n",
       "    <tr>\n",
       "      <th>44</th>\n",
       "      <td>4</td>\n",
       "      <td>Capri_mean</td>\n",
       "      <td>0.035017</td>\n",
       "    </tr>\n",
       "    <tr>\n",
       "      <th>43</th>\n",
       "      <td>3</td>\n",
       "      <td>Capri_mean</td>\n",
       "      <td>0.036989</td>\n",
       "    </tr>\n",
       "    <tr>\n",
       "      <th>38</th>\n",
       "      <td>3</td>\n",
       "      <td>Camisa_mean</td>\n",
       "      <td>0.145483</td>\n",
       "    </tr>\n",
       "    <tr>\n",
       "      <th>39</th>\n",
       "      <td>4</td>\n",
       "      <td>Camisa_mean</td>\n",
       "      <td>0.170765</td>\n",
       "    </tr>\n",
       "    <tr>\n",
       "      <th>36</th>\n",
       "      <td>1</td>\n",
       "      <td>Camisa_mean</td>\n",
       "      <td>0.173416</td>\n",
       "    </tr>\n",
       "    <tr>\n",
       "      <th>35</th>\n",
       "      <td>0</td>\n",
       "      <td>Camisa_mean</td>\n",
       "      <td>0.178419</td>\n",
       "    </tr>\n",
       "    <tr>\n",
       "      <th>37</th>\n",
       "      <td>2</td>\n",
       "      <td>Camisa_mean</td>\n",
       "      <td>0.226116</td>\n",
       "    </tr>\n",
       "    <tr>\n",
       "      <th>33</th>\n",
       "      <td>3</td>\n",
       "      <td>Calza_mean</td>\n",
       "      <td>0.023759</td>\n",
       "    </tr>\n",
       "    <tr>\n",
       "      <th>30</th>\n",
       "      <td>0</td>\n",
       "      <td>Calza_mean</td>\n",
       "      <td>0.025576</td>\n",
       "    </tr>\n",
       "    <tr>\n",
       "      <th>31</th>\n",
       "      <td>1</td>\n",
       "      <td>Calza_mean</td>\n",
       "      <td>0.025970</td>\n",
       "    </tr>\n",
       "    <tr>\n",
       "      <th>34</th>\n",
       "      <td>4</td>\n",
       "      <td>Calza_mean</td>\n",
       "      <td>0.029735</td>\n",
       "    </tr>\n",
       "    <tr>\n",
       "      <th>32</th>\n",
       "      <td>2</td>\n",
       "      <td>Calza_mean</td>\n",
       "      <td>0.046616</td>\n",
       "    </tr>\n",
       "    <tr>\n",
       "      <th>26</th>\n",
       "      <td>1</td>\n",
       "      <td>Bermuda_mean</td>\n",
       "      <td>0.033760</td>\n",
       "    </tr>\n",
       "    <tr>\n",
       "      <th>29</th>\n",
       "      <td>4</td>\n",
       "      <td>Bermuda_mean</td>\n",
       "      <td>0.035388</td>\n",
       "    </tr>\n",
       "    <tr>\n",
       "      <th>25</th>\n",
       "      <td>0</td>\n",
       "      <td>Bermuda_mean</td>\n",
       "      <td>0.040119</td>\n",
       "    </tr>\n",
       "    <tr>\n",
       "      <th>28</th>\n",
       "      <td>3</td>\n",
       "      <td>Bermuda_mean</td>\n",
       "      <td>0.042022</td>\n",
       "    </tr>\n",
       "    <tr>\n",
       "      <th>27</th>\n",
       "      <td>2</td>\n",
       "      <td>Bermuda_mean</td>\n",
       "      <td>0.042371</td>\n",
       "    </tr>\n",
       "    <tr>\n",
       "      <th>21</th>\n",
       "      <td>1</td>\n",
       "      <td>Babucha_mean</td>\n",
       "      <td>0.000000</td>\n",
       "    </tr>\n",
       "    <tr>\n",
       "      <th>24</th>\n",
       "      <td>4</td>\n",
       "      <td>Babucha_mean</td>\n",
       "      <td>0.000000</td>\n",
       "    </tr>\n",
       "    <tr>\n",
       "      <th>22</th>\n",
       "      <td>2</td>\n",
       "      <td>Babucha_mean</td>\n",
       "      <td>0.000406</td>\n",
       "    </tr>\n",
       "    <tr>\n",
       "      <th>23</th>\n",
       "      <td>3</td>\n",
       "      <td>Babucha_mean</td>\n",
       "      <td>0.000889</td>\n",
       "    </tr>\n",
       "    <tr>\n",
       "      <th>20</th>\n",
       "      <td>0</td>\n",
       "      <td>Babucha_mean</td>\n",
       "      <td>0.062033</td>\n",
       "    </tr>\n",
       "  </tbody>\n",
       "</table>\n",
       "</div>"
      ],
      "text/plain": [
       "   category          statistic         value\n",
       "7         2       recency_mean     94.221591\n",
       "9         4       recency_mean    123.051282\n",
       "5         0       recency_mean    130.333333\n",
       "6         1       recency_mean    150.280702\n",
       "8         3       recency_mean    155.066667\n",
       "16        1      monetary_mean    803.760187\n",
       "18        3      monetary_mean    811.762133\n",
       "19        4      monetary_mean    892.100718\n",
       "15        0      monetary_mean    944.995200\n",
       "17        2      monetary_mean   1105.551909\n",
       "93        3         local_mean      0.469075\n",
       "94        4         local_mean      0.484499\n",
       "92        2         local_mean      0.500614\n",
       "90        0         local_mean      0.507895\n",
       "91        1         local_mean      0.518949\n",
       "11        1     frequency_mean     16.005848\n",
       "13        3     frequency_mean     16.888889\n",
       "10        0     frequency_mean     18.233333\n",
       "14        4     frequency_mean     18.615385\n",
       "12        2     frequency_mean     19.522727\n",
       "2         2      age_days_mean  17385.892045\n",
       "4         4      age_days_mean  18738.769231\n",
       "0         0      age_days_mean  20090.033333\n",
       "3         3      age_days_mean  23509.066667\n",
       "1         1      age_days_mean  23817.514620\n",
       "86        1       Vestido_mean      0.000000\n",
       "87        2       Vestido_mean      0.004534\n",
       "85        0       Vestido_mean      0.008934\n",
       "89        4       Vestido_mean      0.013795\n",
       "88        3       Vestido_mean      0.073849\n",
       "97        2  Time_Average_mean     93.664773\n",
       "99        4  Time_Average_mean     95.076923\n",
       "95        0  Time_Average_mean     95.400000\n",
       "98        3  Time_Average_mean    104.066667\n",
       "96        1  Time_Average_mean    111.438596\n",
       "81        1     Strapless_mean      0.000000\n",
       "83        3     Strapless_mean      0.000000\n",
       "82        2     Strapless_mean      0.001525\n",
       "80        0     Strapless_mean      0.006994\n",
       "84        4     Strapless_mean      0.060553\n",
       "77        2         Short_mean      0.086647\n",
       "75        0         Short_mean      0.093326\n",
       "78        3         Short_mean      0.109333\n",
       "79        4         Short_mean      0.120763\n",
       "76        1         Short_mean      0.122205\n",
       "72        2        Remera_mean      0.146505\n",
       "70        0        Remera_mean      0.164187\n",
       "74        4        Remera_mean      0.165328\n",
       "73        3        Remera_mean      0.181320\n",
       "71        1        Remera_mean      0.244221\n",
       "68        3       Pollera_mean      0.000000\n",
       "67        2       Pollera_mean      0.002517\n",
       "69        4       Pollera_mean      0.003437\n",
       "65        0       Pollera_mean      0.005799\n",
       "66        1       Pollera_mean      0.006741\n",
       "60        0      Pantalón_mean      0.012008\n",
       "63        3      Pantalón_mean      0.012091\n",
       "62        2      Pantalón_mean      0.015542\n",
       "64        4      Pantalón_mean      0.019290\n",
       "61        1      Pantalón_mean      0.021499\n",
       "55        0          Mini_mean      0.043670\n",
       "57        2          Mini_mean      0.050020\n",
       "56        1          Mini_mean      0.053300\n",
       "59        4          Mini_mean      0.056037\n",
       "58        3          Mini_mean      0.061753\n",
       "53        3          Jean_mean      0.084750\n",
       "54        4          Jean_mean      0.088423\n",
       "51        1          Jean_mean      0.095143\n",
       "50        0          Jean_mean      0.103820\n",
       "52        2          Jean_mean      0.130890\n",
       "46        1       Chaleco_mean      0.028622\n",
       "49        4       Chaleco_mean      0.041015\n",
       "48        3       Chaleco_mean      0.056680\n",
       "45        0       Chaleco_mean      0.057587\n",
       "47        2       Chaleco_mean      0.060374\n",
       "40        0         Capri_mean      0.028283\n",
       "42        2         Capri_mean      0.029537\n",
       "41        1         Capri_mean      0.031891\n",
       "44        4         Capri_mean      0.035017\n",
       "43        3         Capri_mean      0.036989\n",
       "38        3        Camisa_mean      0.145483\n",
       "39        4        Camisa_mean      0.170765\n",
       "36        1        Camisa_mean      0.173416\n",
       "35        0        Camisa_mean      0.178419\n",
       "37        2        Camisa_mean      0.226116\n",
       "33        3         Calza_mean      0.023759\n",
       "30        0         Calza_mean      0.025576\n",
       "31        1         Calza_mean      0.025970\n",
       "34        4         Calza_mean      0.029735\n",
       "32        2         Calza_mean      0.046616\n",
       "26        1       Bermuda_mean      0.033760\n",
       "29        4       Bermuda_mean      0.035388\n",
       "25        0       Bermuda_mean      0.040119\n",
       "28        3       Bermuda_mean      0.042022\n",
       "27        2       Bermuda_mean      0.042371\n",
       "21        1       Babucha_mean      0.000000\n",
       "24        4       Babucha_mean      0.000000\n",
       "22        2       Babucha_mean      0.000406\n",
       "23        3       Babucha_mean      0.000889\n",
       "20        0       Babucha_mean      0.062033"
      ]
     },
     "execution_count": 7,
     "metadata": {},
     "output_type": "execute_result"
    }
   ],
   "source": [
    "df_kmeans = df.copy()\n",
    "df_kmeans.drop(['id_cliente','sexo','group_rfm','segment_rfm','group_gmm'], axis=1, inplace=True)\n",
    "kmeans_statistics = cluster_summary(df_kmeans, 'group_kmeans', sta=False, statistics_list=['mean'])\n",
    "kmeans_statistics = kmeans_statistics.sort_values(by=['statistic', 'value'], ascending=[False, True])\n",
    "kmeans_statistics"
   ]
  },
  {
   "cell_type": "code",
   "execution_count": 8,
   "metadata": {},
   "outputs": [
    {
     "data": {
      "application/vnd.plotly.v1+json": {
       "config": {
        "plotlyServerURL": "https://plot.ly"
       },
       "data": [
        {
         "hovertemplate": "Category=2<br>statistic=%{x}<br>value=%{y}<extra></extra>",
         "legendgroup": "2",
         "line": {
          "color": "#636efa",
          "dash": "solid"
         },
         "marker": {
          "symbol": "circle"
         },
         "mode": "lines",
         "name": "2",
         "orientation": "v",
         "showlegend": true,
         "type": "scatter",
         "x": [
          "recency_mean",
          "monetary_mean",
          "local_mean",
          "frequency_mean",
          "age_days_mean",
          "Vestido_mean",
          "Time_Average_mean",
          "Strapless_mean",
          "Short_mean",
          "Remera_mean",
          "Pollera_mean",
          "Pantalón_mean",
          "Mini_mean",
          "Jean_mean",
          "Chaleco_mean",
          "Capri_mean",
          "Camisa_mean",
          "Calza_mean",
          "Bermuda_mean",
          "Babucha_mean"
         ],
         "xaxis": "x",
         "y": [
          0.15357757975138536,
          0.5159551422300765,
          0.5270916054653737,
          0.5444664031620553,
          0.41053297786058035,
          0.02418106563568451,
          0.18383903467666354,
          0.013725227341828133,
          0.18567175058341345,
          0.2767312298902229,
          0.027688680027066755,
          0.10361530599438094,
          0.18340531557399736,
          0.3926690037162714,
          0.24149679276818123,
          0.11814685396977516,
          0.47735575759480753,
          0.20200114046723983,
          0.16948539759830797,
          0.0030438311688311685
         ],
         "yaxis": "y"
        },
        {
         "hovertemplate": "Category=4<br>statistic=%{x}<br>value=%{y}<extra></extra>",
         "legendgroup": "4",
         "line": {
          "color": "#EF553B",
          "dash": "solid"
         },
         "marker": {
          "symbol": "circle"
         },
         "mode": "lines",
         "name": "4",
         "orientation": "v",
         "showlegend": true,
         "type": "scatter",
         "x": [
          "recency_mean",
          "monetary_mean",
          "local_mean",
          "frequency_mean",
          "age_days_mean",
          "Vestido_mean",
          "Time_Average_mean",
          "Strapless_mean",
          "Short_mean",
          "Remera_mean",
          "Pollera_mean",
          "Pantalón_mean",
          "Mini_mean",
          "Jean_mean",
          "Chaleco_mean",
          "Capri_mean",
          "Camisa_mean",
          "Calza_mean",
          "Bermuda_mean",
          "Babucha_mean"
         ],
         "xaxis": "x",
         "y": [
          0.20107295230853714,
          0.390488905865708,
          0.5067354664949495,
          0.5050167224080268,
          0.44254843530703153,
          0.07357498597421146,
          0.19111816019032515,
          0.5449807722408989,
          0.25877890723833413,
          0.3122858609063845,
          0.03780890003716091,
          0.12859800749834954,
          0.20546805556905876,
          0.26527000431335834,
          0.16405856824957646,
          0.14006987595694015,
          0.3605028956767049,
          0.1288523322853874,
          0.14155265216578988,
          0
         ],
         "yaxis": "y"
        },
        {
         "hovertemplate": "Category=0<br>statistic=%{x}<br>value=%{y}<extra></extra>",
         "legendgroup": "0",
         "line": {
          "color": "#00cc96",
          "dash": "solid"
         },
         "marker": {
          "symbol": "circle"
         },
         "mode": "lines",
         "name": "0",
         "orientation": "v",
         "showlegend": true,
         "type": "scatter",
         "x": [
          "recency_mean",
          "monetary_mean",
          "local_mean",
          "frequency_mean",
          "age_days_mean",
          "Vestido_mean",
          "Time_Average_mean",
          "Strapless_mean",
          "Short_mean",
          "Remera_mean",
          "Pollera_mean",
          "Pantalón_mean",
          "Mini_mean",
          "Jean_mean",
          "Chaleco_mean",
          "Capri_mean",
          "Camisa_mean",
          "Calza_mean",
          "Bermuda_mean",
          "Babucha_mean"
         ],
         "xaxis": "x",
         "y": [
          0.21306974190005493,
          0.42158018978829853,
          0.5362883287629412,
          0.4884057971014492,
          0.47452571960464146,
          0.04764813598662928,
          0.19278350515463918,
          0.06295008912655972,
          0.1999851083558033,
          0.31013146129609387,
          0.06378353973168215,
          0.08005366952735374,
          0.16012250670248607,
          0.31146098573955616,
          0.23034616003440878,
          0.11313182689343679,
          0.376663226604261,
          0.1108305777295547,
          0.16047412798186791,
          0.4652470251327769
         ],
         "yaxis": "y"
        },
        {
         "hovertemplate": "Category=1<br>statistic=%{x}<br>value=%{y}<extra></extra>",
         "legendgroup": "1",
         "line": {
          "color": "#ab63fa",
          "dash": "solid"
         },
         "marker": {
          "symbol": "circle"
         },
         "mode": "lines",
         "name": "1",
         "orientation": "v",
         "showlegend": true,
         "type": "scatter",
         "x": [
          "recency_mean",
          "monetary_mean",
          "local_mean",
          "frequency_mean",
          "age_days_mean",
          "Vestido_mean",
          "Time_Average_mean",
          "Strapless_mean",
          "Short_mean",
          "Remera_mean",
          "Pollera_mean",
          "Pantalón_mean",
          "Mini_mean",
          "Jean_mean",
          "Chaleco_mean",
          "Capri_mean",
          "Camisa_mean",
          "Calza_mean",
          "Bermuda_mean",
          "Babucha_mean"
         ],
         "xaxis": "x",
         "y": [
          0.24593196335154197,
          0.33856249655227105,
          0.5502512846616928,
          0.39155860666158143,
          0.5627355141132366,
          0,
          0.27545668294447456,
          0,
          0.2618668598767799,
          0.4613069763333501,
          0.07415334779885864,
          0.14332930001914124,
          0.1954321609321266,
          0.285430364946545,
          0.11448742973319882,
          0.12756404922410752,
          0.36610140611563136,
          0.11253748247171562,
          0.1350404241603186,
          0
         ],
         "yaxis": "y"
        },
        {
         "hovertemplate": "Category=3<br>statistic=%{x}<br>value=%{y}<extra></extra>",
         "legendgroup": "3",
         "line": {
          "color": "#FFA15A",
          "dash": "solid"
         },
         "marker": {
          "symbol": "circle"
         },
         "mode": "lines",
         "name": "3",
         "orientation": "v",
         "showlegend": true,
         "type": "scatter",
         "x": [
          "recency_mean",
          "monetary_mean",
          "local_mean",
          "frequency_mean",
          "age_days_mean",
          "Vestido_mean",
          "Time_Average_mean",
          "Strapless_mean",
          "Short_mean",
          "Remera_mean",
          "Pollera_mean",
          "Pantalón_mean",
          "Mini_mean",
          "Jean_mean",
          "Chaleco_mean",
          "Capri_mean",
          "Camisa_mean",
          "Calza_mean",
          "Bermuda_mean",
          "Babucha_mean"
         ],
         "xaxis": "x",
         "y": [
          0.2538165842943438,
          0.3432660265151871,
          0.48725206255009096,
          0.429951690821256,
          0.5554361801989414,
          0.39386390765269336,
          0.2374570446735395,
          0,
          0.23428412091945927,
          0.3424937493017415,
          0,
          0.08060922374647866,
          0.22642811038545474,
          0.25425115527747105,
          0.2267215767071288,
          0.14795530884282174,
          0.3071301930136353,
          0.10295698661058138,
          0.16808605773311655,
          0.006666666666666666
         ],
         "yaxis": "y"
        }
       ],
       "layout": {
        "legend": {
         "title": {
          "text": "Category"
         },
         "tracegroupgap": 0
        },
        "template": {
         "data": {
          "bar": [
           {
            "error_x": {
             "color": "#2a3f5f"
            },
            "error_y": {
             "color": "#2a3f5f"
            },
            "marker": {
             "line": {
              "color": "#E5ECF6",
              "width": 0.5
             },
             "pattern": {
              "fillmode": "overlay",
              "size": 10,
              "solidity": 0.2
             }
            },
            "type": "bar"
           }
          ],
          "barpolar": [
           {
            "marker": {
             "line": {
              "color": "#E5ECF6",
              "width": 0.5
             },
             "pattern": {
              "fillmode": "overlay",
              "size": 10,
              "solidity": 0.2
             }
            },
            "type": "barpolar"
           }
          ],
          "carpet": [
           {
            "aaxis": {
             "endlinecolor": "#2a3f5f",
             "gridcolor": "white",
             "linecolor": "white",
             "minorgridcolor": "white",
             "startlinecolor": "#2a3f5f"
            },
            "baxis": {
             "endlinecolor": "#2a3f5f",
             "gridcolor": "white",
             "linecolor": "white",
             "minorgridcolor": "white",
             "startlinecolor": "#2a3f5f"
            },
            "type": "carpet"
           }
          ],
          "choropleth": [
           {
            "colorbar": {
             "outlinewidth": 0,
             "ticks": ""
            },
            "type": "choropleth"
           }
          ],
          "contour": [
           {
            "colorbar": {
             "outlinewidth": 0,
             "ticks": ""
            },
            "colorscale": [
             [
              0,
              "#0d0887"
             ],
             [
              0.1111111111111111,
              "#46039f"
             ],
             [
              0.2222222222222222,
              "#7201a8"
             ],
             [
              0.3333333333333333,
              "#9c179e"
             ],
             [
              0.4444444444444444,
              "#bd3786"
             ],
             [
              0.5555555555555556,
              "#d8576b"
             ],
             [
              0.6666666666666666,
              "#ed7953"
             ],
             [
              0.7777777777777778,
              "#fb9f3a"
             ],
             [
              0.8888888888888888,
              "#fdca26"
             ],
             [
              1,
              "#f0f921"
             ]
            ],
            "type": "contour"
           }
          ],
          "contourcarpet": [
           {
            "colorbar": {
             "outlinewidth": 0,
             "ticks": ""
            },
            "type": "contourcarpet"
           }
          ],
          "heatmap": [
           {
            "colorbar": {
             "outlinewidth": 0,
             "ticks": ""
            },
            "colorscale": [
             [
              0,
              "#0d0887"
             ],
             [
              0.1111111111111111,
              "#46039f"
             ],
             [
              0.2222222222222222,
              "#7201a8"
             ],
             [
              0.3333333333333333,
              "#9c179e"
             ],
             [
              0.4444444444444444,
              "#bd3786"
             ],
             [
              0.5555555555555556,
              "#d8576b"
             ],
             [
              0.6666666666666666,
              "#ed7953"
             ],
             [
              0.7777777777777778,
              "#fb9f3a"
             ],
             [
              0.8888888888888888,
              "#fdca26"
             ],
             [
              1,
              "#f0f921"
             ]
            ],
            "type": "heatmap"
           }
          ],
          "heatmapgl": [
           {
            "colorbar": {
             "outlinewidth": 0,
             "ticks": ""
            },
            "colorscale": [
             [
              0,
              "#0d0887"
             ],
             [
              0.1111111111111111,
              "#46039f"
             ],
             [
              0.2222222222222222,
              "#7201a8"
             ],
             [
              0.3333333333333333,
              "#9c179e"
             ],
             [
              0.4444444444444444,
              "#bd3786"
             ],
             [
              0.5555555555555556,
              "#d8576b"
             ],
             [
              0.6666666666666666,
              "#ed7953"
             ],
             [
              0.7777777777777778,
              "#fb9f3a"
             ],
             [
              0.8888888888888888,
              "#fdca26"
             ],
             [
              1,
              "#f0f921"
             ]
            ],
            "type": "heatmapgl"
           }
          ],
          "histogram": [
           {
            "marker": {
             "pattern": {
              "fillmode": "overlay",
              "size": 10,
              "solidity": 0.2
             }
            },
            "type": "histogram"
           }
          ],
          "histogram2d": [
           {
            "colorbar": {
             "outlinewidth": 0,
             "ticks": ""
            },
            "colorscale": [
             [
              0,
              "#0d0887"
             ],
             [
              0.1111111111111111,
              "#46039f"
             ],
             [
              0.2222222222222222,
              "#7201a8"
             ],
             [
              0.3333333333333333,
              "#9c179e"
             ],
             [
              0.4444444444444444,
              "#bd3786"
             ],
             [
              0.5555555555555556,
              "#d8576b"
             ],
             [
              0.6666666666666666,
              "#ed7953"
             ],
             [
              0.7777777777777778,
              "#fb9f3a"
             ],
             [
              0.8888888888888888,
              "#fdca26"
             ],
             [
              1,
              "#f0f921"
             ]
            ],
            "type": "histogram2d"
           }
          ],
          "histogram2dcontour": [
           {
            "colorbar": {
             "outlinewidth": 0,
             "ticks": ""
            },
            "colorscale": [
             [
              0,
              "#0d0887"
             ],
             [
              0.1111111111111111,
              "#46039f"
             ],
             [
              0.2222222222222222,
              "#7201a8"
             ],
             [
              0.3333333333333333,
              "#9c179e"
             ],
             [
              0.4444444444444444,
              "#bd3786"
             ],
             [
              0.5555555555555556,
              "#d8576b"
             ],
             [
              0.6666666666666666,
              "#ed7953"
             ],
             [
              0.7777777777777778,
              "#fb9f3a"
             ],
             [
              0.8888888888888888,
              "#fdca26"
             ],
             [
              1,
              "#f0f921"
             ]
            ],
            "type": "histogram2dcontour"
           }
          ],
          "mesh3d": [
           {
            "colorbar": {
             "outlinewidth": 0,
             "ticks": ""
            },
            "type": "mesh3d"
           }
          ],
          "parcoords": [
           {
            "line": {
             "colorbar": {
              "outlinewidth": 0,
              "ticks": ""
             }
            },
            "type": "parcoords"
           }
          ],
          "pie": [
           {
            "automargin": true,
            "type": "pie"
           }
          ],
          "scatter": [
           {
            "fillpattern": {
             "fillmode": "overlay",
             "size": 10,
             "solidity": 0.2
            },
            "type": "scatter"
           }
          ],
          "scatter3d": [
           {
            "line": {
             "colorbar": {
              "outlinewidth": 0,
              "ticks": ""
             }
            },
            "marker": {
             "colorbar": {
              "outlinewidth": 0,
              "ticks": ""
             }
            },
            "type": "scatter3d"
           }
          ],
          "scattercarpet": [
           {
            "marker": {
             "colorbar": {
              "outlinewidth": 0,
              "ticks": ""
             }
            },
            "type": "scattercarpet"
           }
          ],
          "scattergeo": [
           {
            "marker": {
             "colorbar": {
              "outlinewidth": 0,
              "ticks": ""
             }
            },
            "type": "scattergeo"
           }
          ],
          "scattergl": [
           {
            "marker": {
             "colorbar": {
              "outlinewidth": 0,
              "ticks": ""
             }
            },
            "type": "scattergl"
           }
          ],
          "scattermapbox": [
           {
            "marker": {
             "colorbar": {
              "outlinewidth": 0,
              "ticks": ""
             }
            },
            "type": "scattermapbox"
           }
          ],
          "scatterpolar": [
           {
            "marker": {
             "colorbar": {
              "outlinewidth": 0,
              "ticks": ""
             }
            },
            "type": "scatterpolar"
           }
          ],
          "scatterpolargl": [
           {
            "marker": {
             "colorbar": {
              "outlinewidth": 0,
              "ticks": ""
             }
            },
            "type": "scatterpolargl"
           }
          ],
          "scatterternary": [
           {
            "marker": {
             "colorbar": {
              "outlinewidth": 0,
              "ticks": ""
             }
            },
            "type": "scatterternary"
           }
          ],
          "surface": [
           {
            "colorbar": {
             "outlinewidth": 0,
             "ticks": ""
            },
            "colorscale": [
             [
              0,
              "#0d0887"
             ],
             [
              0.1111111111111111,
              "#46039f"
             ],
             [
              0.2222222222222222,
              "#7201a8"
             ],
             [
              0.3333333333333333,
              "#9c179e"
             ],
             [
              0.4444444444444444,
              "#bd3786"
             ],
             [
              0.5555555555555556,
              "#d8576b"
             ],
             [
              0.6666666666666666,
              "#ed7953"
             ],
             [
              0.7777777777777778,
              "#fb9f3a"
             ],
             [
              0.8888888888888888,
              "#fdca26"
             ],
             [
              1,
              "#f0f921"
             ]
            ],
            "type": "surface"
           }
          ],
          "table": [
           {
            "cells": {
             "fill": {
              "color": "#EBF0F8"
             },
             "line": {
              "color": "white"
             }
            },
            "header": {
             "fill": {
              "color": "#C8D4E3"
             },
             "line": {
              "color": "white"
             }
            },
            "type": "table"
           }
          ]
         },
         "layout": {
          "annotationdefaults": {
           "arrowcolor": "#2a3f5f",
           "arrowhead": 0,
           "arrowwidth": 1
          },
          "autotypenumbers": "strict",
          "coloraxis": {
           "colorbar": {
            "outlinewidth": 0,
            "ticks": ""
           }
          },
          "colorscale": {
           "diverging": [
            [
             0,
             "#8e0152"
            ],
            [
             0.1,
             "#c51b7d"
            ],
            [
             0.2,
             "#de77ae"
            ],
            [
             0.3,
             "#f1b6da"
            ],
            [
             0.4,
             "#fde0ef"
            ],
            [
             0.5,
             "#f7f7f7"
            ],
            [
             0.6,
             "#e6f5d0"
            ],
            [
             0.7,
             "#b8e186"
            ],
            [
             0.8,
             "#7fbc41"
            ],
            [
             0.9,
             "#4d9221"
            ],
            [
             1,
             "#276419"
            ]
           ],
           "sequential": [
            [
             0,
             "#0d0887"
            ],
            [
             0.1111111111111111,
             "#46039f"
            ],
            [
             0.2222222222222222,
             "#7201a8"
            ],
            [
             0.3333333333333333,
             "#9c179e"
            ],
            [
             0.4444444444444444,
             "#bd3786"
            ],
            [
             0.5555555555555556,
             "#d8576b"
            ],
            [
             0.6666666666666666,
             "#ed7953"
            ],
            [
             0.7777777777777778,
             "#fb9f3a"
            ],
            [
             0.8888888888888888,
             "#fdca26"
            ],
            [
             1,
             "#f0f921"
            ]
           ],
           "sequentialminus": [
            [
             0,
             "#0d0887"
            ],
            [
             0.1111111111111111,
             "#46039f"
            ],
            [
             0.2222222222222222,
             "#7201a8"
            ],
            [
             0.3333333333333333,
             "#9c179e"
            ],
            [
             0.4444444444444444,
             "#bd3786"
            ],
            [
             0.5555555555555556,
             "#d8576b"
            ],
            [
             0.6666666666666666,
             "#ed7953"
            ],
            [
             0.7777777777777778,
             "#fb9f3a"
            ],
            [
             0.8888888888888888,
             "#fdca26"
            ],
            [
             1,
             "#f0f921"
            ]
           ]
          },
          "colorway": [
           "#636efa",
           "#EF553B",
           "#00cc96",
           "#ab63fa",
           "#FFA15A",
           "#19d3f3",
           "#FF6692",
           "#B6E880",
           "#FF97FF",
           "#FECB52"
          ],
          "font": {
           "color": "#2a3f5f"
          },
          "geo": {
           "bgcolor": "white",
           "lakecolor": "white",
           "landcolor": "#E5ECF6",
           "showlakes": true,
           "showland": true,
           "subunitcolor": "white"
          },
          "hoverlabel": {
           "align": "left"
          },
          "hovermode": "closest",
          "mapbox": {
           "style": "light"
          },
          "paper_bgcolor": "white",
          "plot_bgcolor": "#E5ECF6",
          "polar": {
           "angularaxis": {
            "gridcolor": "white",
            "linecolor": "white",
            "ticks": ""
           },
           "bgcolor": "#E5ECF6",
           "radialaxis": {
            "gridcolor": "white",
            "linecolor": "white",
            "ticks": ""
           }
          },
          "scene": {
           "xaxis": {
            "backgroundcolor": "#E5ECF6",
            "gridcolor": "white",
            "gridwidth": 2,
            "linecolor": "white",
            "showbackground": true,
            "ticks": "",
            "zerolinecolor": "white"
           },
           "yaxis": {
            "backgroundcolor": "#E5ECF6",
            "gridcolor": "white",
            "gridwidth": 2,
            "linecolor": "white",
            "showbackground": true,
            "ticks": "",
            "zerolinecolor": "white"
           },
           "zaxis": {
            "backgroundcolor": "#E5ECF6",
            "gridcolor": "white",
            "gridwidth": 2,
            "linecolor": "white",
            "showbackground": true,
            "ticks": "",
            "zerolinecolor": "white"
           }
          },
          "shapedefaults": {
           "line": {
            "color": "#2a3f5f"
           }
          },
          "ternary": {
           "aaxis": {
            "gridcolor": "white",
            "linecolor": "white",
            "ticks": ""
           },
           "baxis": {
            "gridcolor": "white",
            "linecolor": "white",
            "ticks": ""
           },
           "bgcolor": "#E5ECF6",
           "caxis": {
            "gridcolor": "white",
            "linecolor": "white",
            "ticks": ""
           }
          },
          "title": {
           "x": 0.05
          },
          "xaxis": {
           "automargin": true,
           "gridcolor": "white",
           "linecolor": "white",
           "ticks": "",
           "title": {
            "standoff": 15
           },
           "zerolinecolor": "white",
           "zerolinewidth": 2
          },
          "yaxis": {
           "automargin": true,
           "gridcolor": "white",
           "linecolor": "white",
           "ticks": "",
           "title": {
            "standoff": 15
           },
           "zerolinecolor": "white",
           "zerolinewidth": 2
          }
         }
        },
        "title": {
         "text": "Snake plot of normalized variables"
        },
        "xaxis": {
         "anchor": "y",
         "domain": [
          0,
          1
         ],
         "title": {
          "text": "statistic"
         }
        },
        "yaxis": {
         "anchor": "x",
         "domain": [
          0,
          1
         ],
         "title": {
          "text": "value"
         }
        }
       }
      }
     },
     "metadata": {},
     "output_type": "display_data"
    }
   ],
   "source": [
    "df_kmeans = df.copy()\n",
    "df_kmeans.drop(['id_cliente','sexo','group_rfm','segment_rfm','group_gmm'], axis=1, inplace=True)\n",
    "kmeans_statistics = cluster_summary(df_kmeans, 'group_kmeans', sta=True, statistics_list=['mean'])\n",
    "kmeans_statistics = kmeans_statistics.sort_values(by=['statistic', 'value'], ascending=[False, True])\n",
    "\n",
    "fig = px.line(kmeans_statistics, x=\"statistic\", y=\"value\", color='category',\n",
    "              title='Snake plot of normalized variables',\n",
    "              labels=labels\n",
    "              )\n",
    "fig.show()"
   ]
  },
  {
   "cell_type": "code",
   "execution_count": 9,
   "metadata": {},
   "outputs": [
    {
     "data": {
      "application/vnd.plotly.v1+json": {
       "config": {
        "plotlyServerURL": "https://plot.ly"
       },
       "data": [
        {
         "hovertemplate": "Kmeans group=1<br>Strapless=%{x}<br>Babucha=%{y}<br>Remera=%{z}<extra></extra>",
         "legendgroup": "1",
         "marker": {
          "color": "#636efa",
          "symbol": "circle"
         },
         "mode": "markers",
         "name": "1",
         "scene": "scene",
         "showlegend": true,
         "type": "scatter3d",
         "x": [
          0,
          0,
          0,
          0,
          0,
          0,
          0,
          0,
          0,
          0,
          0,
          0,
          0,
          0,
          0,
          0,
          0,
          0,
          0,
          0,
          0,
          0,
          0,
          0,
          0,
          0,
          0,
          0,
          0,
          0,
          0,
          0,
          0,
          0,
          0,
          0,
          0,
          0,
          0,
          0,
          0,
          0,
          0,
          0,
          0,
          0,
          0,
          0,
          0,
          0,
          0,
          0,
          0,
          0,
          0,
          0,
          0,
          0,
          0,
          0,
          0,
          0,
          0,
          0,
          0,
          0,
          0,
          0,
          0,
          0,
          0,
          0,
          0,
          0,
          0,
          0,
          0,
          0,
          0,
          0,
          0,
          0,
          0,
          0,
          0,
          0,
          0,
          0,
          0,
          0,
          0,
          0,
          0,
          0,
          0,
          0,
          0,
          0,
          0,
          0,
          0,
          0,
          0,
          0,
          0,
          0,
          0,
          0,
          0,
          0,
          0,
          0,
          0,
          0,
          0,
          0,
          0,
          0,
          0,
          0,
          0,
          0,
          0,
          0,
          0,
          0,
          0,
          0,
          0,
          0,
          0,
          0,
          0,
          0,
          0,
          0,
          0,
          0,
          0,
          0,
          0,
          0,
          0,
          0,
          0,
          0,
          0,
          0,
          0,
          0,
          0,
          0,
          0,
          0,
          0,
          0,
          0,
          0,
          0,
          0,
          0,
          0,
          0,
          0,
          0,
          0,
          0,
          0,
          0,
          0,
          0
         ],
         "y": [
          0,
          0,
          0,
          0,
          0,
          0,
          0,
          0,
          0,
          0,
          0,
          0,
          0,
          0,
          0,
          0,
          0,
          0,
          0,
          0,
          0,
          0,
          0,
          0,
          0,
          0,
          0,
          0,
          0,
          0,
          0,
          0,
          0,
          0,
          0,
          0,
          0,
          0,
          0,
          0,
          0,
          0,
          0,
          0,
          0,
          0,
          0,
          0,
          0,
          0,
          0,
          0,
          0,
          0,
          0,
          0,
          0,
          0,
          0,
          0,
          0,
          0,
          0,
          0,
          0,
          0,
          0,
          0,
          0,
          0,
          0,
          0,
          0,
          0,
          0,
          0,
          0,
          0,
          0,
          0,
          0,
          0,
          0,
          0,
          0,
          0,
          0,
          0,
          0,
          0,
          0,
          0,
          0,
          0,
          0,
          0,
          0,
          0,
          0,
          0,
          0,
          0,
          0,
          0,
          0,
          0,
          0,
          0,
          0,
          0,
          0,
          0,
          0,
          0,
          0,
          0,
          0,
          0,
          0,
          0,
          0,
          0,
          0,
          0,
          0,
          0,
          0,
          0,
          0,
          0,
          0,
          0,
          0,
          0,
          0,
          0,
          0,
          0,
          0,
          0,
          0,
          0,
          0,
          0,
          0,
          0,
          0,
          0,
          0,
          0,
          0,
          0,
          0,
          0,
          0,
          0,
          0,
          0,
          0,
          0,
          0,
          0,
          0,
          0,
          0,
          0,
          0,
          0,
          0,
          0,
          0
         ],
         "z": [
          0.35978835978835977,
          0.6746031746031746,
          0.37777777777777777,
          0.5811965811965812,
          0.5964912280701754,
          0.2905982905982906,
          0.6868686868686869,
          0.2222222222222222,
          0.41975308641975306,
          0.4722222222222222,
          0.5151515151515151,
          0.15740740740740738,
          0.7264957264957265,
          0.5902777777777778,
          0.4722222222222222,
          0.9855072463768115,
          0.2222222222222222,
          0.6296296296296295,
          0.7727272727272727,
          0.5396825396825397,
          0.8095238095238094,
          0.2222222222222222,
          0.35416666666666663,
          0.49707602339181284,
          0.11805555555555555,
          0.2222222222222222,
          0.5396825396825397,
          0.37777777777777777,
          0.37777777777777777,
          0.4722222222222222,
          0.2982456140350877,
          0.4722222222222222,
          0.7777777777777777,
          0.5902777777777778,
          0.49707602339181284,
          0.6746031746031746,
          0.601010101010101,
          0.2222222222222222,
          0.2518518518518518,
          0.4444444444444444,
          0.39766081871345027,
          0.37777777777777777,
          0.3434343434343434,
          0.6868686868686869,
          0.5396825396825397,
          0.5037037037037037,
          0.37777777777777777,
          0,
          0.2698412698412698,
          0.41975308641975306,
          0.1259259259259259,
          0.5037037037037037,
          0.37777777777777777,
          0.37777777777777777,
          0.4722222222222222,
          0.6296296296296295,
          0.4047619047619047,
          0.5246913580246914,
          0.6868686868686869,
          0.37777777777777777,
          0.2222222222222222,
          0.4047619047619047,
          0.4722222222222222,
          0.5666666666666667,
          0.2698412698412698,
          0.5555555555555556,
          0.2905982905982906,
          0.2222222222222222,
          0.4722222222222222,
          0.2698412698412698,
          0.5396825396825397,
          0.41975308641975306,
          0.5666666666666667,
          0.6044444444444445,
          0.2518518518518518,
          0.1452991452991453,
          0.4722222222222222,
          0.5811965811965812,
          0.6611111111111111,
          0.3434343434343434,
          0.2518518518518518,
          0.7195767195767195,
          0.5396825396825397,
          0.5902777777777778,
          0.4497354497354497,
          0.35416666666666663,
          0.37777777777777777,
          0.35416666666666663,
          0.4722222222222222,
          0.4722222222222222,
          0.33333333333333337,
          0.8585858585858586,
          0.4047619047619047,
          0.3434343434343434,
          0.5151515151515151,
          0.31481481481481477,
          0.49707602339181284,
          0.10493827160493827,
          0.4722222222222222,
          0.3434343434343434,
          0.2698412698412698,
          0.4722222222222222,
          0.41975308641975306,
          0.4358974358974359,
          0.3434343434343434,
          0.41975308641975306,
          0.5246913580246914,
          0.6296296296296295,
          0.5037037037037037,
          0.41975308641975306,
          0.4722222222222222,
          0.4722222222222222,
          0.5037037037037037,
          0.2698412698412698,
          0.5811965811965812,
          0.5964912280701754,
          0.2361111111111111,
          0.6296296296296295,
          0.1452991452991453,
          0.8263888888888888,
          0.31481481481481477,
          0.15740740740740738,
          0.5555555555555556,
          0.5666666666666667,
          0.5555555555555556,
          0.4358974358974359,
          0.6959064327485379,
          0.2698412698412698,
          0.4722222222222222,
          0.39766081871345027,
          0.41975308641975306,
          0.6666666666666667,
          0.4722222222222222,
          0.5555555555555556,
          0.7555555555555555,
          0.4358974358974359,
          0.49707602339181284,
          0.6296296296296295,
          0.4722222222222222,
          0.7195767195767195,
          0.31481481481481477,
          0.3434343434343434,
          0.4722222222222222,
          0.4722222222222222,
          0.8814814814814814,
          0.4722222222222222,
          0.3434343434343434,
          0.8814814814814814,
          0.37777777777777777,
          0.37777777777777777,
          0.5151515151515151,
          0.7555555555555555,
          0,
          0.5396825396825397,
          0.5396825396825397,
          0.5246913580246914,
          0.31481481481481477,
          0.2518518518518518,
          0.2698412698412698,
          0.5555555555555556,
          1,
          0.7555555555555555,
          0.37777777777777777,
          0.20987654320987653,
          0.49707602339181284,
          0.8095238095238094,
          0.31481481481481477,
          0.6296296296296295,
          0.1259259259259259,
          0.5902777777777778,
          0.5396825396825397
         ]
        },
        {
         "hovertemplate": "Kmeans group=2<br>Strapless=%{x}<br>Babucha=%{y}<br>Remera=%{z}<extra></extra>",
         "legendgroup": "2",
         "marker": {
          "color": "#EF553B",
          "symbol": "circle"
         },
         "mode": "markers",
         "name": "2",
         "scene": "scene",
         "showlegend": true,
         "type": "scatter3d",
         "x": [
          0,
          0.4090909090909091,
          0,
          0,
          0,
          0,
          0,
          0,
          0,
          0,
          0,
          0,
          0,
          0,
          0,
          0.34615384615384615,
          0,
          0,
          0,
          0,
          0,
          0,
          0,
          0,
          0,
          0,
          0,
          0,
          0,
          0,
          0,
          0,
          0,
          0,
          0,
          0,
          0,
          0,
          0,
          0,
          0,
          0,
          0,
          0,
          0,
          0,
          0,
          0,
          0,
          0,
          0,
          0,
          0,
          0,
          0,
          0,
          0,
          0,
          0,
          0,
          0,
          0,
          0,
          0,
          0,
          0,
          0,
          0,
          0,
          0,
          0,
          0,
          0,
          0,
          0,
          0,
          0,
          0,
          0,
          0,
          0,
          0,
          0,
          0,
          0.5,
          0,
          0,
          0,
          0,
          0,
          0,
          0,
          0,
          0,
          0,
          0,
          0,
          0,
          0,
          0,
          0.4090909090909091,
          0,
          0,
          0,
          0,
          0,
          0,
          0,
          0,
          0,
          0,
          0,
          0,
          0,
          0,
          0,
          0,
          0,
          0,
          0,
          0,
          0,
          0,
          0,
          0,
          0,
          0,
          0,
          0.3913043478260869,
          0,
          0,
          0,
          0,
          0,
          0.36,
          0,
          0,
          0,
          0,
          0,
          0,
          0,
          0,
          0,
          0,
          0,
          0,
          0,
          0,
          0,
          0,
          0,
          0,
          0,
          0,
          0,
          0,
          0,
          0,
          0,
          0,
          0,
          0,
          0,
          0,
          0,
          0,
          0,
          0,
          0,
          0,
          0,
          0,
          0,
          0,
          0
         ],
         "y": [
          0,
          0,
          0,
          0,
          0,
          0,
          0,
          0,
          0,
          0,
          0,
          0,
          0,
          0,
          0,
          0,
          0,
          0,
          0,
          0,
          0,
          0,
          0,
          0,
          0,
          0,
          0,
          0,
          0,
          0,
          0,
          0,
          0,
          0,
          0,
          0,
          0,
          0,
          0,
          0,
          0,
          0,
          0,
          0,
          0,
          0,
          0,
          0,
          0,
          0,
          0,
          0,
          0,
          0,
          0,
          0,
          0,
          0,
          0,
          0,
          0,
          0,
          0,
          0,
          0,
          0,
          0,
          0,
          0,
          0,
          0,
          0,
          0,
          0,
          0,
          0,
          0,
          0.26785714285714285,
          0,
          0,
          0,
          0,
          0,
          0,
          0,
          0,
          0,
          0,
          0,
          0,
          0,
          0,
          0,
          0,
          0,
          0,
          0,
          0,
          0.26785714285714285,
          0,
          0,
          0,
          0,
          0,
          0,
          0,
          0,
          0,
          0,
          0,
          0,
          0,
          0,
          0,
          0,
          0,
          0,
          0,
          0,
          0,
          0,
          0,
          0,
          0,
          0,
          0,
          0,
          0,
          0,
          0,
          0,
          0,
          0,
          0,
          0,
          0,
          0,
          0,
          0,
          0,
          0,
          0,
          0,
          0,
          0,
          0,
          0,
          0,
          0,
          0,
          0,
          0,
          0,
          0,
          0,
          0,
          0,
          0,
          0,
          0,
          0,
          0,
          0,
          0,
          0,
          0,
          0,
          0,
          0,
          0,
          0,
          0,
          0,
          0,
          0,
          0
         ],
         "z": [
          0.2982456140350877,
          0.3434343434343434,
          0.15740740740740738,
          0.09444444444444444,
          0.11805555555555555,
          0.4358974358974359,
          0.35416666666666663,
          0.33333333333333337,
          0.16425120772946858,
          0.19883040935672514,
          0.1717171717171717,
          0.39766081871345027,
          0.2361111111111111,
          0.25757575757575757,
          0.35978835978835977,
          0.21794871794871795,
          0.2833333333333333,
          0.39351851851851855,
          0.10493827160493827,
          0.20987654320987653,
          0.6296296296296295,
          0.2361111111111111,
          0.2518518518518518,
          0.2518518518518518,
          0.39351851851851855,
          0.20987654320987653,
          0.09444444444444444,
          0.35978835978835977,
          0.31481481481481477,
          0.2905982905982906,
          0.2905982905982906,
          0.1111111111111111,
          0.6296296296296295,
          0.20987654320987653,
          0.32850241545893716,
          0.2982456140350877,
          0.25757575757575757,
          0.2698412698412698,
          0.2833333333333333,
          0.25757575757575757,
          0.19883040935672514,
          0.2982456140350877,
          0.2222222222222222,
          0.25757575757575757,
          0.18888888888888888,
          0.41975308641975306,
          0.41975308641975306,
          0.25757575757575757,
          0.24637681159420288,
          0.33333333333333337,
          0.2982456140350877,
          0.10493827160493827,
          0.39766081871345027,
          0.35416666666666663,
          0.5037037037037037,
          0.11805555555555555,
          0.4047619047619047,
          0.31481481481481477,
          0.1717171717171717,
          0.24637681159420288,
          0.1717171717171717,
          0.35978835978835977,
          0.15740740740740738,
          0.2698412698412698,
          0.4497354497354497,
          0.1111111111111111,
          0.2982456140350877,
          0.20987654320987653,
          0,
          0.4292929292929293,
          0.19883040935672514,
          0.4106280193236715,
          0.33333333333333337,
          0.2833333333333333,
          0.2698412698412698,
          0.49707602339181284,
          0.31481481481481477,
          0.2698412698412698,
          0.5037037037037037,
          0.22666666666666666,
          0.26053639846743293,
          0.32850241545893716,
          0.16425120772946858,
          0.10493827160493827,
          0.31481481481481477,
          0.20987654320987653,
          0.2698412698412698,
          0.2833333333333333,
          0,
          0.15740740740740738,
          0.37777777777777777,
          0.10493827160493827,
          0.20987654320987653,
          0.5596707818930041,
          0.1259259259259259,
          0.5666666666666667,
          0,
          0.35978835978835977,
          0.6746031746031746,
          0.32850241545893716,
          0.25757575757575757,
          0.27983539094650206,
          0.2361111111111111,
          0.31481481481481477,
          0.20987654320987653,
          0.4444444444444444,
          0.2905982905982906,
          0.1111111111111111,
          0.4047619047619047,
          0.25757575757575757,
          0.2361111111111111,
          0.6570048309178743,
          0.2518518518518518,
          0.39766081871345027,
          0.37777777777777777,
          0.2222222222222222,
          0.09941520467836257,
          0,
          0.2222222222222222,
          0.2982456140350877,
          0.34979423868312753,
          0.39766081871345027,
          0.35978835978835977,
          0.31481481481481477,
          0.31481481481481477,
          0.1111111111111111,
          0.19883040935672514,
          0.33333333333333337,
          0.24637681159420288,
          0,
          0.2698412698412698,
          0.18888888888888888,
          0.2518518518518518,
          0.4292929292929293,
          0.3022222222222222,
          0.2698412698412698,
          0.33333333333333337,
          0.2982456140350877,
          0.2361111111111111,
          0.2698412698412698,
          0.1259259259259259,
          0.20987654320987653,
          0.19883040935672514,
          0.35978835978835977,
          0.18888888888888888,
          0.2698412698412698,
          0.49707602339181284,
          0.41975308641975306,
          0.4722222222222222,
          0.32850241545893716,
          0.4292929292929293,
          0.2982456140350877,
          0.1111111111111111,
          0.10493827160493827,
          0.2698412698412698,
          0.08585858585858586,
          0.49275362318840576,
          0.19883040935672514,
          0.35416666666666663,
          0.19883040935672514,
          0.4444444444444444,
          0.1349206349206349,
          0.18888888888888888,
          0.2982456140350877,
          0.5509259259259259,
          0.4533333333333333,
          0,
          0.08994708994708994,
          0.25757575757575757,
          0.1452991452991453,
          0.2361111111111111,
          0.32850241545893716,
          0.2518518518518518,
          0.31481481481481477,
          0.07555555555555556,
          0.2518518518518518
         ]
        },
        {
         "hovertemplate": "Kmeans group=4<br>Strapless=%{x}<br>Babucha=%{y}<br>Remera=%{z}<extra></extra>",
         "legendgroup": "4",
         "marker": {
          "color": "#00cc96",
          "symbol": "circle"
         },
         "mode": "markers",
         "name": "4",
         "scene": "scene",
         "showlegend": true,
         "type": "scatter3d",
         "x": [
          0.47368421052631576,
          0.75,
          0.5,
          0.42857142857142855,
          0.3913043478260869,
          0.47368421052631576,
          0.42857142857142855,
          0.45,
          0.42857142857142855,
          0.42857142857142855,
          0.47368421052631576,
          0.5,
          0.4090909090909091,
          1,
          0.42857142857142855,
          0.4090909090909091,
          0.47368421052631576,
          0.3913043478260869,
          0.47368421052631576,
          0.75,
          0.75,
          0.6428571428571428,
          0.6,
          0.45,
          0.5625,
          0.47368421052631576,
          0.5294117647058824,
          0.6923076923076923,
          0.42857142857142855,
          0.6,
          0.45,
          0.8181818181818182,
          0.75,
          0.5,
          0.8571428571428571,
          1,
          0.4090909090909091,
          0.375,
          0.6,
          0.42857142857142855,
          0.5294117647058824,
          0.5294117647058824,
          0.9,
          0.6,
          0.6923076923076923,
          0.45,
          0.47368421052631576,
          0.9,
          0.5294117647058824,
          0.5,
          0.6,
          0.9,
          0.5,
          0.5625,
          0.375,
          0.36,
          0.3913043478260869,
          0.42857142857142855,
          0.375,
          0.42857142857142855,
          0.5,
          0.3913043478260869,
          0.45,
          0.8181818181818182,
          0.5,
          0.45,
          0.6428571428571428,
          0.3913043478260869,
          0.5,
          0.5294117647058824,
          0.9,
          0.42857142857142855,
          0.5625,
          0.5294117647058824,
          0.4090909090909091,
          0.36,
          0.75,
          0.3913043478260869
         ],
         "y": [
          0,
          0,
          0,
          0,
          0,
          0,
          0,
          0,
          0,
          0,
          0,
          0,
          0,
          0,
          0,
          0,
          0,
          0,
          0,
          0,
          0,
          0,
          0,
          0,
          0,
          0,
          0,
          0,
          0,
          0,
          0,
          0,
          0,
          0,
          0,
          0,
          0,
          0,
          0,
          0,
          0,
          0,
          0,
          0,
          0,
          0,
          0,
          0,
          0,
          0,
          0,
          0,
          0,
          0,
          0,
          0,
          0,
          0,
          0,
          0,
          0,
          0,
          0,
          0,
          0,
          0,
          0,
          0,
          0,
          0,
          0,
          0,
          0,
          0,
          0,
          0,
          0,
          0
         ],
         "z": [
          0.2982456140350877,
          0.15740740740740738,
          0.5246913580246914,
          0.35978835978835977,
          0.16425120772946858,
          0.09941520467836257,
          0.35978835978835977,
          0.18888888888888888,
          0.2698412698412698,
          0.5396825396825397,
          0.09941520467836257,
          0.5246913580246914,
          0.25757575757575757,
          0.31481481481481477,
          0.2698412698412698,
          0.6868686868686869,
          0.09941520467836257,
          0.49275362318840576,
          0.6959064327485379,
          0.31481481481481477,
          0.31481481481481477,
          0.1349206349206349,
          0.37777777777777777,
          0.4722222222222222,
          0.4722222222222222,
          0.39766081871345027,
          0.33333333333333337,
          0.4358974358974359,
          0.17989417989417988,
          0.1259259259259259,
          0.2833333333333333,
          0.5151515151515151,
          0.31481481481481477,
          0.20987654320987653,
          0.2698412698412698,
          0.31481481481481477,
          0.1717171717171717,
          0.31481481481481477,
          0.1259259259259259,
          0.2698412698412698,
          0.33333333333333337,
          0.33333333333333337,
          0.2833333333333333,
          0.37777777777777777,
          0.7264957264957265,
          0.18888888888888888,
          0.2982456140350877,
          0.18888888888888888,
          0.4444444444444444,
          0.5246913580246914,
          0.2518518518518518,
          0,
          0.6296296296296295,
          0,
          0.4722222222222222,
          0.3022222222222222,
          0.16425120772946858,
          0.35978835978835977,
          0.07870370370370369,
          0.2698412698412698,
          0.20987654320987653,
          0.24637681159420288,
          0.18888888888888888,
          0.1717171717171717,
          0.6296296296296295,
          0.18888888888888888,
          0.4047619047619047,
          0.16425120772946858,
          0.41975308641975306,
          0.2222222222222222,
          0,
          0.35978835978835977,
          0.11805555555555555,
          0.6666666666666667,
          0.6868686868686869,
          0.4533333333333333,
          0,
          0.24637681159420288
         ]
        },
        {
         "hovertemplate": "Kmeans group=0<br>Strapless=%{x}<br>Babucha=%{y}<br>Remera=%{z}<extra></extra>",
         "legendgroup": "0",
         "marker": {
          "color": "#ab63fa",
          "symbol": "circle"
         },
         "mode": "markers",
         "name": "0",
         "scene": "scene",
         "showlegend": true,
         "type": "scatter3d",
         "x": [
          0,
          0,
          0,
          0,
          0,
          0,
          0,
          0.4090909090909091,
          0,
          0.45,
          0.5,
          0,
          0,
          0,
          0.5294117647058824,
          0,
          0,
          0,
          0,
          0,
          0,
          0,
          0,
          0,
          0,
          0,
          0,
          0,
          0,
          0
         ],
         "y": [
          0.39473684210526316,
          0.4411764705882353,
          0.39473684210526316,
          0.5357142857142857,
          0.6818181818181819,
          0.3571428571428571,
          1,
          0.34090909090909094,
          0.3,
          0.375,
          0.41666666666666663,
          0.4411764705882353,
          0.8823529411764706,
          0.32608695652173914,
          0.4411764705882353,
          0.34090909090909094,
          0.5357142857142857,
          0.46875,
          0.7894736842105263,
          0.39473684210526316,
          0.375,
          0.34090909090909094,
          0.46875,
          0.41666666666666663,
          0.375,
          0.5,
          0.39473684210526316,
          0.39473684210526316,
          0.41666666666666663,
          0.41666666666666663
         ],
         "z": [
          0.2982456140350877,
          0,
          0.6959064327485379,
          0,
          0.1717171717171717,
          0.4497354497354497,
          0.1259259259259259,
          0.25757575757575757,
          0.07555555555555556,
          0.37777777777777777,
          0.8395061728395061,
          0.2222222222222222,
          0.2222222222222222,
          0.32850241545893716,
          0.4444444444444444,
          0.1717171717171717,
          0.1349206349206349,
          0.2361111111111111,
          0.2982456140350877,
          0.09941520467836257,
          0.2833333333333333,
          0.25757575757575757,
          0.4722222222222222,
          0.31481481481481477,
          0.18888888888888888,
          0.5037037037037037,
          0.49707602339181284,
          0.49707602339181284,
          0.41975308641975306,
          0.41975308641975306
         ]
        },
        {
         "hovertemplate": "Kmeans group=3<br>Strapless=%{x}<br>Babucha=%{y}<br>Remera=%{z}<extra></extra>",
         "legendgroup": "3",
         "marker": {
          "color": "#FFA15A",
          "symbol": "circle"
         },
         "mode": "markers",
         "name": "3",
         "scene": "scene",
         "showlegend": true,
         "type": "scatter3d",
         "x": [
          0,
          0,
          0,
          0,
          0,
          0,
          0,
          0,
          0,
          0,
          0,
          0,
          0,
          0,
          0,
          0,
          0,
          0,
          0,
          0,
          0,
          0,
          0,
          0,
          0,
          0,
          0,
          0,
          0,
          0,
          0,
          0,
          0,
          0,
          0,
          0,
          0,
          0,
          0,
          0,
          0,
          0,
          0,
          0,
          0
         ],
         "y": [
          0,
          0,
          0,
          0,
          0,
          0,
          0,
          0,
          0,
          0,
          0,
          0,
          0,
          0,
          0.3,
          0,
          0,
          0,
          0,
          0,
          0,
          0,
          0,
          0,
          0,
          0,
          0,
          0,
          0,
          0,
          0,
          0,
          0,
          0,
          0,
          0,
          0,
          0,
          0,
          0,
          0,
          0,
          0,
          0,
          0
         ],
         "z": [
          0.11805555555555555,
          0.5964912280701754,
          0.1111111111111111,
          0.5396825396825397,
          0.35978835978835977,
          0.11805555555555555,
          0.2905982905982906,
          0.5037037037037037,
          0.2222222222222222,
          0.33333333333333337,
          0.31481481481481477,
          0.37777777777777777,
          0.4722222222222222,
          0.31481481481481477,
          0.37777777777777777,
          0.17989417989417988,
          0.33333333333333337,
          0.18888888888888888,
          0.35978835978835977,
          0.18888888888888888,
          0.4358974358974359,
          0.31481481481481477,
          0.31481481481481477,
          0.2982456140350877,
          0.33333333333333337,
          0.11805555555555555,
          0.20987654320987653,
          0.4722222222222222,
          0.1452991452991453,
          0.3434343434343434,
          0.6868686868686869,
          0.37777777777777777,
          0.7953216374269005,
          0.39766081871345027,
          0.2361111111111111,
          0.4444444444444444,
          0.2361111111111111,
          0.3434343434343434,
          0.6296296296296295,
          0.3434343434343434,
          0.2222222222222222,
          0.37777777777777777,
          0.4444444444444444,
          0.1452991452991453,
          0.4444444444444444
         ]
        }
       ],
       "layout": {
        "legend": {
         "title": {
          "text": "Kmeans group"
         },
         "tracegroupgap": 0
        },
        "scene": {
         "domain": {
          "x": [
           0,
           1
          ],
          "y": [
           0,
           1
          ]
         },
         "xaxis": {
          "title": {
           "text": "Strapless"
          }
         },
         "yaxis": {
          "title": {
           "text": "Babucha"
          }
         },
         "zaxis": {
          "title": {
           "text": "Remera"
          }
         }
        },
        "template": {
         "data": {
          "bar": [
           {
            "error_x": {
             "color": "#2a3f5f"
            },
            "error_y": {
             "color": "#2a3f5f"
            },
            "marker": {
             "line": {
              "color": "#E5ECF6",
              "width": 0.5
             },
             "pattern": {
              "fillmode": "overlay",
              "size": 10,
              "solidity": 0.2
             }
            },
            "type": "bar"
           }
          ],
          "barpolar": [
           {
            "marker": {
             "line": {
              "color": "#E5ECF6",
              "width": 0.5
             },
             "pattern": {
              "fillmode": "overlay",
              "size": 10,
              "solidity": 0.2
             }
            },
            "type": "barpolar"
           }
          ],
          "carpet": [
           {
            "aaxis": {
             "endlinecolor": "#2a3f5f",
             "gridcolor": "white",
             "linecolor": "white",
             "minorgridcolor": "white",
             "startlinecolor": "#2a3f5f"
            },
            "baxis": {
             "endlinecolor": "#2a3f5f",
             "gridcolor": "white",
             "linecolor": "white",
             "minorgridcolor": "white",
             "startlinecolor": "#2a3f5f"
            },
            "type": "carpet"
           }
          ],
          "choropleth": [
           {
            "colorbar": {
             "outlinewidth": 0,
             "ticks": ""
            },
            "type": "choropleth"
           }
          ],
          "contour": [
           {
            "colorbar": {
             "outlinewidth": 0,
             "ticks": ""
            },
            "colorscale": [
             [
              0,
              "#0d0887"
             ],
             [
              0.1111111111111111,
              "#46039f"
             ],
             [
              0.2222222222222222,
              "#7201a8"
             ],
             [
              0.3333333333333333,
              "#9c179e"
             ],
             [
              0.4444444444444444,
              "#bd3786"
             ],
             [
              0.5555555555555556,
              "#d8576b"
             ],
             [
              0.6666666666666666,
              "#ed7953"
             ],
             [
              0.7777777777777778,
              "#fb9f3a"
             ],
             [
              0.8888888888888888,
              "#fdca26"
             ],
             [
              1,
              "#f0f921"
             ]
            ],
            "type": "contour"
           }
          ],
          "contourcarpet": [
           {
            "colorbar": {
             "outlinewidth": 0,
             "ticks": ""
            },
            "type": "contourcarpet"
           }
          ],
          "heatmap": [
           {
            "colorbar": {
             "outlinewidth": 0,
             "ticks": ""
            },
            "colorscale": [
             [
              0,
              "#0d0887"
             ],
             [
              0.1111111111111111,
              "#46039f"
             ],
             [
              0.2222222222222222,
              "#7201a8"
             ],
             [
              0.3333333333333333,
              "#9c179e"
             ],
             [
              0.4444444444444444,
              "#bd3786"
             ],
             [
              0.5555555555555556,
              "#d8576b"
             ],
             [
              0.6666666666666666,
              "#ed7953"
             ],
             [
              0.7777777777777778,
              "#fb9f3a"
             ],
             [
              0.8888888888888888,
              "#fdca26"
             ],
             [
              1,
              "#f0f921"
             ]
            ],
            "type": "heatmap"
           }
          ],
          "heatmapgl": [
           {
            "colorbar": {
             "outlinewidth": 0,
             "ticks": ""
            },
            "colorscale": [
             [
              0,
              "#0d0887"
             ],
             [
              0.1111111111111111,
              "#46039f"
             ],
             [
              0.2222222222222222,
              "#7201a8"
             ],
             [
              0.3333333333333333,
              "#9c179e"
             ],
             [
              0.4444444444444444,
              "#bd3786"
             ],
             [
              0.5555555555555556,
              "#d8576b"
             ],
             [
              0.6666666666666666,
              "#ed7953"
             ],
             [
              0.7777777777777778,
              "#fb9f3a"
             ],
             [
              0.8888888888888888,
              "#fdca26"
             ],
             [
              1,
              "#f0f921"
             ]
            ],
            "type": "heatmapgl"
           }
          ],
          "histogram": [
           {
            "marker": {
             "pattern": {
              "fillmode": "overlay",
              "size": 10,
              "solidity": 0.2
             }
            },
            "type": "histogram"
           }
          ],
          "histogram2d": [
           {
            "colorbar": {
             "outlinewidth": 0,
             "ticks": ""
            },
            "colorscale": [
             [
              0,
              "#0d0887"
             ],
             [
              0.1111111111111111,
              "#46039f"
             ],
             [
              0.2222222222222222,
              "#7201a8"
             ],
             [
              0.3333333333333333,
              "#9c179e"
             ],
             [
              0.4444444444444444,
              "#bd3786"
             ],
             [
              0.5555555555555556,
              "#d8576b"
             ],
             [
              0.6666666666666666,
              "#ed7953"
             ],
             [
              0.7777777777777778,
              "#fb9f3a"
             ],
             [
              0.8888888888888888,
              "#fdca26"
             ],
             [
              1,
              "#f0f921"
             ]
            ],
            "type": "histogram2d"
           }
          ],
          "histogram2dcontour": [
           {
            "colorbar": {
             "outlinewidth": 0,
             "ticks": ""
            },
            "colorscale": [
             [
              0,
              "#0d0887"
             ],
             [
              0.1111111111111111,
              "#46039f"
             ],
             [
              0.2222222222222222,
              "#7201a8"
             ],
             [
              0.3333333333333333,
              "#9c179e"
             ],
             [
              0.4444444444444444,
              "#bd3786"
             ],
             [
              0.5555555555555556,
              "#d8576b"
             ],
             [
              0.6666666666666666,
              "#ed7953"
             ],
             [
              0.7777777777777778,
              "#fb9f3a"
             ],
             [
              0.8888888888888888,
              "#fdca26"
             ],
             [
              1,
              "#f0f921"
             ]
            ],
            "type": "histogram2dcontour"
           }
          ],
          "mesh3d": [
           {
            "colorbar": {
             "outlinewidth": 0,
             "ticks": ""
            },
            "type": "mesh3d"
           }
          ],
          "parcoords": [
           {
            "line": {
             "colorbar": {
              "outlinewidth": 0,
              "ticks": ""
             }
            },
            "type": "parcoords"
           }
          ],
          "pie": [
           {
            "automargin": true,
            "type": "pie"
           }
          ],
          "scatter": [
           {
            "fillpattern": {
             "fillmode": "overlay",
             "size": 10,
             "solidity": 0.2
            },
            "type": "scatter"
           }
          ],
          "scatter3d": [
           {
            "line": {
             "colorbar": {
              "outlinewidth": 0,
              "ticks": ""
             }
            },
            "marker": {
             "colorbar": {
              "outlinewidth": 0,
              "ticks": ""
             }
            },
            "type": "scatter3d"
           }
          ],
          "scattercarpet": [
           {
            "marker": {
             "colorbar": {
              "outlinewidth": 0,
              "ticks": ""
             }
            },
            "type": "scattercarpet"
           }
          ],
          "scattergeo": [
           {
            "marker": {
             "colorbar": {
              "outlinewidth": 0,
              "ticks": ""
             }
            },
            "type": "scattergeo"
           }
          ],
          "scattergl": [
           {
            "marker": {
             "colorbar": {
              "outlinewidth": 0,
              "ticks": ""
             }
            },
            "type": "scattergl"
           }
          ],
          "scattermapbox": [
           {
            "marker": {
             "colorbar": {
              "outlinewidth": 0,
              "ticks": ""
             }
            },
            "type": "scattermapbox"
           }
          ],
          "scatterpolar": [
           {
            "marker": {
             "colorbar": {
              "outlinewidth": 0,
              "ticks": ""
             }
            },
            "type": "scatterpolar"
           }
          ],
          "scatterpolargl": [
           {
            "marker": {
             "colorbar": {
              "outlinewidth": 0,
              "ticks": ""
             }
            },
            "type": "scatterpolargl"
           }
          ],
          "scatterternary": [
           {
            "marker": {
             "colorbar": {
              "outlinewidth": 0,
              "ticks": ""
             }
            },
            "type": "scatterternary"
           }
          ],
          "surface": [
           {
            "colorbar": {
             "outlinewidth": 0,
             "ticks": ""
            },
            "colorscale": [
             [
              0,
              "#0d0887"
             ],
             [
              0.1111111111111111,
              "#46039f"
             ],
             [
              0.2222222222222222,
              "#7201a8"
             ],
             [
              0.3333333333333333,
              "#9c179e"
             ],
             [
              0.4444444444444444,
              "#bd3786"
             ],
             [
              0.5555555555555556,
              "#d8576b"
             ],
             [
              0.6666666666666666,
              "#ed7953"
             ],
             [
              0.7777777777777778,
              "#fb9f3a"
             ],
             [
              0.8888888888888888,
              "#fdca26"
             ],
             [
              1,
              "#f0f921"
             ]
            ],
            "type": "surface"
           }
          ],
          "table": [
           {
            "cells": {
             "fill": {
              "color": "#EBF0F8"
             },
             "line": {
              "color": "white"
             }
            },
            "header": {
             "fill": {
              "color": "#C8D4E3"
             },
             "line": {
              "color": "white"
             }
            },
            "type": "table"
           }
          ]
         },
         "layout": {
          "annotationdefaults": {
           "arrowcolor": "#2a3f5f",
           "arrowhead": 0,
           "arrowwidth": 1
          },
          "autotypenumbers": "strict",
          "coloraxis": {
           "colorbar": {
            "outlinewidth": 0,
            "ticks": ""
           }
          },
          "colorscale": {
           "diverging": [
            [
             0,
             "#8e0152"
            ],
            [
             0.1,
             "#c51b7d"
            ],
            [
             0.2,
             "#de77ae"
            ],
            [
             0.3,
             "#f1b6da"
            ],
            [
             0.4,
             "#fde0ef"
            ],
            [
             0.5,
             "#f7f7f7"
            ],
            [
             0.6,
             "#e6f5d0"
            ],
            [
             0.7,
             "#b8e186"
            ],
            [
             0.8,
             "#7fbc41"
            ],
            [
             0.9,
             "#4d9221"
            ],
            [
             1,
             "#276419"
            ]
           ],
           "sequential": [
            [
             0,
             "#0d0887"
            ],
            [
             0.1111111111111111,
             "#46039f"
            ],
            [
             0.2222222222222222,
             "#7201a8"
            ],
            [
             0.3333333333333333,
             "#9c179e"
            ],
            [
             0.4444444444444444,
             "#bd3786"
            ],
            [
             0.5555555555555556,
             "#d8576b"
            ],
            [
             0.6666666666666666,
             "#ed7953"
            ],
            [
             0.7777777777777778,
             "#fb9f3a"
            ],
            [
             0.8888888888888888,
             "#fdca26"
            ],
            [
             1,
             "#f0f921"
            ]
           ],
           "sequentialminus": [
            [
             0,
             "#0d0887"
            ],
            [
             0.1111111111111111,
             "#46039f"
            ],
            [
             0.2222222222222222,
             "#7201a8"
            ],
            [
             0.3333333333333333,
             "#9c179e"
            ],
            [
             0.4444444444444444,
             "#bd3786"
            ],
            [
             0.5555555555555556,
             "#d8576b"
            ],
            [
             0.6666666666666666,
             "#ed7953"
            ],
            [
             0.7777777777777778,
             "#fb9f3a"
            ],
            [
             0.8888888888888888,
             "#fdca26"
            ],
            [
             1,
             "#f0f921"
            ]
           ]
          },
          "colorway": [
           "#636efa",
           "#EF553B",
           "#00cc96",
           "#ab63fa",
           "#FFA15A",
           "#19d3f3",
           "#FF6692",
           "#B6E880",
           "#FF97FF",
           "#FECB52"
          ],
          "font": {
           "color": "#2a3f5f"
          },
          "geo": {
           "bgcolor": "white",
           "lakecolor": "white",
           "landcolor": "#E5ECF6",
           "showlakes": true,
           "showland": true,
           "subunitcolor": "white"
          },
          "hoverlabel": {
           "align": "left"
          },
          "hovermode": "closest",
          "mapbox": {
           "style": "light"
          },
          "paper_bgcolor": "white",
          "plot_bgcolor": "#E5ECF6",
          "polar": {
           "angularaxis": {
            "gridcolor": "white",
            "linecolor": "white",
            "ticks": ""
           },
           "bgcolor": "#E5ECF6",
           "radialaxis": {
            "gridcolor": "white",
            "linecolor": "white",
            "ticks": ""
           }
          },
          "scene": {
           "xaxis": {
            "backgroundcolor": "#E5ECF6",
            "gridcolor": "white",
            "gridwidth": 2,
            "linecolor": "white",
            "showbackground": true,
            "ticks": "",
            "zerolinecolor": "white"
           },
           "yaxis": {
            "backgroundcolor": "#E5ECF6",
            "gridcolor": "white",
            "gridwidth": 2,
            "linecolor": "white",
            "showbackground": true,
            "ticks": "",
            "zerolinecolor": "white"
           },
           "zaxis": {
            "backgroundcolor": "#E5ECF6",
            "gridcolor": "white",
            "gridwidth": 2,
            "linecolor": "white",
            "showbackground": true,
            "ticks": "",
            "zerolinecolor": "white"
           }
          },
          "shapedefaults": {
           "line": {
            "color": "#2a3f5f"
           }
          },
          "ternary": {
           "aaxis": {
            "gridcolor": "white",
            "linecolor": "white",
            "ticks": ""
           },
           "baxis": {
            "gridcolor": "white",
            "linecolor": "white",
            "ticks": ""
           },
           "bgcolor": "#E5ECF6",
           "caxis": {
            "gridcolor": "white",
            "linecolor": "white",
            "ticks": ""
           }
          },
          "title": {
           "x": 0.05
          },
          "xaxis": {
           "automargin": true,
           "gridcolor": "white",
           "linecolor": "white",
           "ticks": "",
           "title": {
            "standoff": 15
           },
           "zerolinecolor": "white",
           "zerolinewidth": 2
          },
          "yaxis": {
           "automargin": true,
           "gridcolor": "white",
           "linecolor": "white",
           "ticks": "",
           "title": {
            "standoff": 15
           },
           "zerolinecolor": "white",
           "zerolinewidth": 2
          }
         }
        },
        "title": {
         "text": "Kmeans Rubik Cube"
        }
       }
      }
     },
     "metadata": {},
     "output_type": "display_data"
    }
   ],
   "source": [
    "fig = px.scatter_3d(df_kmeans, x='Strapless', y='Babucha', z='Remera', color='group_kmeans',\n",
    "                    title = 'Kmeans Rubik Cube',\n",
    "                    labels=labels\n",
    "                   )\n",
    "fig.show()"
   ]
  },
  {
   "cell_type": "markdown",
   "metadata": {},
   "source": [
    "## 4.4 Analysis for GMM"
   ]
  },
  {
   "cell_type": "code",
   "execution_count": 10,
   "metadata": {},
   "outputs": [
    {
     "data": {
      "text/html": [
       "<div>\n",
       "<style scoped>\n",
       "    .dataframe tbody tr th:only-of-type {\n",
       "        vertical-align: middle;\n",
       "    }\n",
       "\n",
       "    .dataframe tbody tr th {\n",
       "        vertical-align: top;\n",
       "    }\n",
       "\n",
       "    .dataframe thead th {\n",
       "        text-align: right;\n",
       "    }\n",
       "</style>\n",
       "<table border=\"1\" class=\"dataframe\">\n",
       "  <thead>\n",
       "    <tr style=\"text-align: right;\">\n",
       "      <th></th>\n",
       "      <th>category</th>\n",
       "      <th>statistic</th>\n",
       "      <th>value</th>\n",
       "    </tr>\n",
       "  </thead>\n",
       "  <tbody>\n",
       "    <tr>\n",
       "      <th>6</th>\n",
       "      <td>2</td>\n",
       "      <td>recency_mean</td>\n",
       "      <td>113.923077</td>\n",
       "    </tr>\n",
       "    <tr>\n",
       "      <th>5</th>\n",
       "      <td>1</td>\n",
       "      <td>recency_mean</td>\n",
       "      <td>123.883281</td>\n",
       "    </tr>\n",
       "    <tr>\n",
       "      <th>4</th>\n",
       "      <td>0</td>\n",
       "      <td>recency_mean</td>\n",
       "      <td>127.878788</td>\n",
       "    </tr>\n",
       "    <tr>\n",
       "      <th>7</th>\n",
       "      <td>3</td>\n",
       "      <td>recency_mean</td>\n",
       "      <td>129.890511</td>\n",
       "    </tr>\n",
       "    <tr>\n",
       "      <th>15</th>\n",
       "      <td>3</td>\n",
       "      <td>monetary_mean</td>\n",
       "      <td>899.447591</td>\n",
       "    </tr>\n",
       "    <tr>\n",
       "      <th>13</th>\n",
       "      <td>1</td>\n",
       "      <td>monetary_mean</td>\n",
       "      <td>931.780694</td>\n",
       "    </tr>\n",
       "    <tr>\n",
       "      <th>12</th>\n",
       "      <td>0</td>\n",
       "      <td>monetary_mean</td>\n",
       "      <td>996.047515</td>\n",
       "    </tr>\n",
       "    <tr>\n",
       "      <th>14</th>\n",
       "      <td>2</td>\n",
       "      <td>monetary_mean</td>\n",
       "      <td>1154.982154</td>\n",
       "    </tr>\n",
       "    <tr>\n",
       "      <th>75</th>\n",
       "      <td>3</td>\n",
       "      <td>local_mean</td>\n",
       "      <td>0.474719</td>\n",
       "    </tr>\n",
       "    <tr>\n",
       "      <th>73</th>\n",
       "      <td>1</td>\n",
       "      <td>local_mean</td>\n",
       "      <td>0.509182</td>\n",
       "    </tr>\n",
       "    <tr>\n",
       "      <th>72</th>\n",
       "      <td>0</td>\n",
       "      <td>local_mean</td>\n",
       "      <td>0.517653</td>\n",
       "    </tr>\n",
       "    <tr>\n",
       "      <th>74</th>\n",
       "      <td>2</td>\n",
       "      <td>local_mean</td>\n",
       "      <td>0.573446</td>\n",
       "    </tr>\n",
       "    <tr>\n",
       "      <th>9</th>\n",
       "      <td>1</td>\n",
       "      <td>frequency_mean</td>\n",
       "      <td>17.574132</td>\n",
       "    </tr>\n",
       "    <tr>\n",
       "      <th>11</th>\n",
       "      <td>3</td>\n",
       "      <td>frequency_mean</td>\n",
       "      <td>18.182482</td>\n",
       "    </tr>\n",
       "    <tr>\n",
       "      <th>10</th>\n",
       "      <td>2</td>\n",
       "      <td>frequency_mean</td>\n",
       "      <td>18.692308</td>\n",
       "    </tr>\n",
       "    <tr>\n",
       "      <th>8</th>\n",
       "      <td>0</td>\n",
       "      <td>frequency_mean</td>\n",
       "      <td>19.000000</td>\n",
       "    </tr>\n",
       "    <tr>\n",
       "      <th>2</th>\n",
       "      <td>2</td>\n",
       "      <td>age_days_mean</td>\n",
       "      <td>10957.692308</td>\n",
       "    </tr>\n",
       "    <tr>\n",
       "      <th>0</th>\n",
       "      <td>0</td>\n",
       "      <td>age_days_mean</td>\n",
       "      <td>19244.060606</td>\n",
       "    </tr>\n",
       "    <tr>\n",
       "      <th>3</th>\n",
       "      <td>3</td>\n",
       "      <td>age_days_mean</td>\n",
       "      <td>20091.291971</td>\n",
       "    </tr>\n",
       "    <tr>\n",
       "      <th>1</th>\n",
       "      <td>1</td>\n",
       "      <td>age_days_mean</td>\n",
       "      <td>21214.302839</td>\n",
       "    </tr>\n",
       "    <tr>\n",
       "      <th>69</th>\n",
       "      <td>1</td>\n",
       "      <td>Vestido_mean</td>\n",
       "      <td>0.000000</td>\n",
       "    </tr>\n",
       "    <tr>\n",
       "      <th>68</th>\n",
       "      <td>0</td>\n",
       "      <td>Vestido_mean</td>\n",
       "      <td>0.011628</td>\n",
       "    </tr>\n",
       "    <tr>\n",
       "      <th>70</th>\n",
       "      <td>2</td>\n",
       "      <td>Vestido_mean</td>\n",
       "      <td>0.020397</td>\n",
       "    </tr>\n",
       "    <tr>\n",
       "      <th>71</th>\n",
       "      <td>3</td>\n",
       "      <td>Vestido_mean</td>\n",
       "      <td>0.035156</td>\n",
       "    </tr>\n",
       "    <tr>\n",
       "      <th>76</th>\n",
       "      <td>0</td>\n",
       "      <td>Time_Average_mean</td>\n",
       "      <td>92.696970</td>\n",
       "    </tr>\n",
       "    <tr>\n",
       "      <th>78</th>\n",
       "      <td>2</td>\n",
       "      <td>Time_Average_mean</td>\n",
       "      <td>98.000000</td>\n",
       "    </tr>\n",
       "    <tr>\n",
       "      <th>79</th>\n",
       "      <td>3</td>\n",
       "      <td>Time_Average_mean</td>\n",
       "      <td>98.145985</td>\n",
       "    </tr>\n",
       "    <tr>\n",
       "      <th>77</th>\n",
       "      <td>1</td>\n",
       "      <td>Time_Average_mean</td>\n",
       "      <td>103.227129</td>\n",
       "    </tr>\n",
       "    <tr>\n",
       "      <th>65</th>\n",
       "      <td>1</td>\n",
       "      <td>Strapless_mean</td>\n",
       "      <td>0.001104</td>\n",
       "    </tr>\n",
       "    <tr>\n",
       "      <th>64</th>\n",
       "      <td>0</td>\n",
       "      <td>Strapless_mean</td>\n",
       "      <td>0.006359</td>\n",
       "    </tr>\n",
       "    <tr>\n",
       "      <th>66</th>\n",
       "      <td>2</td>\n",
       "      <td>Strapless_mean</td>\n",
       "      <td>0.014502</td>\n",
       "    </tr>\n",
       "    <tr>\n",
       "      <th>67</th>\n",
       "      <td>3</td>\n",
       "      <td>Strapless_mean</td>\n",
       "      <td>0.032504</td>\n",
       "    </tr>\n",
       "    <tr>\n",
       "      <th>60</th>\n",
       "      <td>0</td>\n",
       "      <td>Short_mean</td>\n",
       "      <td>0.090513</td>\n",
       "    </tr>\n",
       "    <tr>\n",
       "      <th>62</th>\n",
       "      <td>2</td>\n",
       "      <td>Short_mean</td>\n",
       "      <td>0.096085</td>\n",
       "    </tr>\n",
       "    <tr>\n",
       "      <th>61</th>\n",
       "      <td>1</td>\n",
       "      <td>Short_mean</td>\n",
       "      <td>0.107520</td>\n",
       "    </tr>\n",
       "    <tr>\n",
       "      <th>63</th>\n",
       "      <td>3</td>\n",
       "      <td>Short_mean</td>\n",
       "      <td>0.109242</td>\n",
       "    </tr>\n",
       "    <tr>\n",
       "      <th>58</th>\n",
       "      <td>2</td>\n",
       "      <td>Remera_mean</td>\n",
       "      <td>0.129440</td>\n",
       "    </tr>\n",
       "    <tr>\n",
       "      <th>56</th>\n",
       "      <td>0</td>\n",
       "      <td>Remera_mean</td>\n",
       "      <td>0.170473</td>\n",
       "    </tr>\n",
       "    <tr>\n",
       "      <th>59</th>\n",
       "      <td>3</td>\n",
       "      <td>Remera_mean</td>\n",
       "      <td>0.174824</td>\n",
       "    </tr>\n",
       "    <tr>\n",
       "      <th>57</th>\n",
       "      <td>1</td>\n",
       "      <td>Remera_mean</td>\n",
       "      <td>0.196429</td>\n",
       "    </tr>\n",
       "    <tr>\n",
       "      <th>55</th>\n",
       "      <td>3</td>\n",
       "      <td>Pollera_mean</td>\n",
       "      <td>0.000000</td>\n",
       "    </tr>\n",
       "    <tr>\n",
       "      <th>54</th>\n",
       "      <td>2</td>\n",
       "      <td>Pollera_mean</td>\n",
       "      <td>0.002747</td>\n",
       "    </tr>\n",
       "    <tr>\n",
       "      <th>52</th>\n",
       "      <td>0</td>\n",
       "      <td>Pollera_mean</td>\n",
       "      <td>0.005271</td>\n",
       "    </tr>\n",
       "    <tr>\n",
       "      <th>53</th>\n",
       "      <td>1</td>\n",
       "      <td>Pollera_mean</td>\n",
       "      <td>0.005767</td>\n",
       "    </tr>\n",
       "    <tr>\n",
       "      <th>50</th>\n",
       "      <td>2</td>\n",
       "      <td>Pantalón_mean</td>\n",
       "      <td>0.002747</td>\n",
       "    </tr>\n",
       "    <tr>\n",
       "      <th>48</th>\n",
       "      <td>0</td>\n",
       "      <td>Pantalón_mean</td>\n",
       "      <td>0.014163</td>\n",
       "    </tr>\n",
       "    <tr>\n",
       "      <th>51</th>\n",
       "      <td>3</td>\n",
       "      <td>Pantalón_mean</td>\n",
       "      <td>0.016227</td>\n",
       "    </tr>\n",
       "    <tr>\n",
       "      <th>49</th>\n",
       "      <td>1</td>\n",
       "      <td>Pantalón_mean</td>\n",
       "      <td>0.019226</td>\n",
       "    </tr>\n",
       "    <tr>\n",
       "      <th>44</th>\n",
       "      <td>0</td>\n",
       "      <td>Mini_mean</td>\n",
       "      <td>0.043206</td>\n",
       "    </tr>\n",
       "    <tr>\n",
       "      <th>45</th>\n",
       "      <td>1</td>\n",
       "      <td>Mini_mean</td>\n",
       "      <td>0.051258</td>\n",
       "    </tr>\n",
       "    <tr>\n",
       "      <th>47</th>\n",
       "      <td>3</td>\n",
       "      <td>Mini_mean</td>\n",
       "      <td>0.051991</td>\n",
       "    </tr>\n",
       "    <tr>\n",
       "      <th>46</th>\n",
       "      <td>2</td>\n",
       "      <td>Mini_mean</td>\n",
       "      <td>0.121549</td>\n",
       "    </tr>\n",
       "    <tr>\n",
       "      <th>43</th>\n",
       "      <td>3</td>\n",
       "      <td>Jean_mean</td>\n",
       "      <td>0.094270</td>\n",
       "    </tr>\n",
       "    <tr>\n",
       "      <th>40</th>\n",
       "      <td>0</td>\n",
       "      <td>Jean_mean</td>\n",
       "      <td>0.105464</td>\n",
       "    </tr>\n",
       "    <tr>\n",
       "      <th>41</th>\n",
       "      <td>1</td>\n",
       "      <td>Jean_mean</td>\n",
       "      <td>0.109972</td>\n",
       "    </tr>\n",
       "    <tr>\n",
       "      <th>42</th>\n",
       "      <td>2</td>\n",
       "      <td>Jean_mean</td>\n",
       "      <td>0.144231</td>\n",
       "    </tr>\n",
       "    <tr>\n",
       "      <th>37</th>\n",
       "      <td>1</td>\n",
       "      <td>Chaleco_mean</td>\n",
       "      <td>0.044271</td>\n",
       "    </tr>\n",
       "    <tr>\n",
       "      <th>39</th>\n",
       "      <td>3</td>\n",
       "      <td>Chaleco_mean</td>\n",
       "      <td>0.045480</td>\n",
       "    </tr>\n",
       "    <tr>\n",
       "      <th>36</th>\n",
       "      <td>0</td>\n",
       "      <td>Chaleco_mean</td>\n",
       "      <td>0.056940</td>\n",
       "    </tr>\n",
       "    <tr>\n",
       "      <th>38</th>\n",
       "      <td>2</td>\n",
       "      <td>Chaleco_mean</td>\n",
       "      <td>0.065696</td>\n",
       "    </tr>\n",
       "    <tr>\n",
       "      <th>34</th>\n",
       "      <td>2</td>\n",
       "      <td>Capri_mean</td>\n",
       "      <td>0.022686</td>\n",
       "    </tr>\n",
       "    <tr>\n",
       "      <th>32</th>\n",
       "      <td>0</td>\n",
       "      <td>Capri_mean</td>\n",
       "      <td>0.027876</td>\n",
       "    </tr>\n",
       "    <tr>\n",
       "      <th>33</th>\n",
       "      <td>1</td>\n",
       "      <td>Capri_mean</td>\n",
       "      <td>0.027886</td>\n",
       "    </tr>\n",
       "    <tr>\n",
       "      <th>35</th>\n",
       "      <td>3</td>\n",
       "      <td>Capri_mean</td>\n",
       "      <td>0.042637</td>\n",
       "    </tr>\n",
       "    <tr>\n",
       "      <th>31</th>\n",
       "      <td>3</td>\n",
       "      <td>Camisa_mean</td>\n",
       "      <td>0.170302</td>\n",
       "    </tr>\n",
       "    <tr>\n",
       "      <th>28</th>\n",
       "      <td>0</td>\n",
       "      <td>Camisa_mean</td>\n",
       "      <td>0.176788</td>\n",
       "    </tr>\n",
       "    <tr>\n",
       "      <th>29</th>\n",
       "      <td>1</td>\n",
       "      <td>Camisa_mean</td>\n",
       "      <td>0.198388</td>\n",
       "    </tr>\n",
       "    <tr>\n",
       "      <th>30</th>\n",
       "      <td>2</td>\n",
       "      <td>Camisa_mean</td>\n",
       "      <td>0.201155</td>\n",
       "    </tr>\n",
       "    <tr>\n",
       "      <th>24</th>\n",
       "      <td>0</td>\n",
       "      <td>Calza_mean</td>\n",
       "      <td>0.026628</td>\n",
       "    </tr>\n",
       "    <tr>\n",
       "      <th>27</th>\n",
       "      <td>3</td>\n",
       "      <td>Calza_mean</td>\n",
       "      <td>0.026804</td>\n",
       "    </tr>\n",
       "    <tr>\n",
       "      <th>25</th>\n",
       "      <td>1</td>\n",
       "      <td>Calza_mean</td>\n",
       "      <td>0.035728</td>\n",
       "    </tr>\n",
       "    <tr>\n",
       "      <th>26</th>\n",
       "      <td>2</td>\n",
       "      <td>Calza_mean</td>\n",
       "      <td>0.071119</td>\n",
       "    </tr>\n",
       "    <tr>\n",
       "      <th>22</th>\n",
       "      <td>2</td>\n",
       "      <td>Bermuda_mean</td>\n",
       "      <td>0.024051</td>\n",
       "    </tr>\n",
       "    <tr>\n",
       "      <th>23</th>\n",
       "      <td>3</td>\n",
       "      <td>Bermuda_mean</td>\n",
       "      <td>0.036682</td>\n",
       "    </tr>\n",
       "    <tr>\n",
       "      <th>20</th>\n",
       "      <td>0</td>\n",
       "      <td>Bermuda_mean</td>\n",
       "      <td>0.038766</td>\n",
       "    </tr>\n",
       "    <tr>\n",
       "      <th>21</th>\n",
       "      <td>1</td>\n",
       "      <td>Bermuda_mean</td>\n",
       "      <td>0.039331</td>\n",
       "    </tr>\n",
       "    <tr>\n",
       "      <th>17</th>\n",
       "      <td>1</td>\n",
       "      <td>Babucha_mean</td>\n",
       "      <td>0.000000</td>\n",
       "    </tr>\n",
       "    <tr>\n",
       "      <th>18</th>\n",
       "      <td>2</td>\n",
       "      <td>Babucha_mean</td>\n",
       "      <td>0.000000</td>\n",
       "    </tr>\n",
       "    <tr>\n",
       "      <th>19</th>\n",
       "      <td>3</td>\n",
       "      <td>Babucha_mean</td>\n",
       "      <td>0.000000</td>\n",
       "    </tr>\n",
       "    <tr>\n",
       "      <th>16</th>\n",
       "      <td>0</td>\n",
       "      <td>Babucha_mean</td>\n",
       "      <td>0.059770</td>\n",
       "    </tr>\n",
       "  </tbody>\n",
       "</table>\n",
       "</div>"
      ],
      "text/plain": [
       "   category          statistic         value\n",
       "6         2       recency_mean    113.923077\n",
       "5         1       recency_mean    123.883281\n",
       "4         0       recency_mean    127.878788\n",
       "7         3       recency_mean    129.890511\n",
       "15        3      monetary_mean    899.447591\n",
       "13        1      monetary_mean    931.780694\n",
       "12        0      monetary_mean    996.047515\n",
       "14        2      monetary_mean   1154.982154\n",
       "75        3         local_mean      0.474719\n",
       "73        1         local_mean      0.509182\n",
       "72        0         local_mean      0.517653\n",
       "74        2         local_mean      0.573446\n",
       "9         1     frequency_mean     17.574132\n",
       "11        3     frequency_mean     18.182482\n",
       "10        2     frequency_mean     18.692308\n",
       "8         0     frequency_mean     19.000000\n",
       "2         2      age_days_mean  10957.692308\n",
       "0         0      age_days_mean  19244.060606\n",
       "3         3      age_days_mean  20091.291971\n",
       "1         1      age_days_mean  21214.302839\n",
       "69        1       Vestido_mean      0.000000\n",
       "68        0       Vestido_mean      0.011628\n",
       "70        2       Vestido_mean      0.020397\n",
       "71        3       Vestido_mean      0.035156\n",
       "76        0  Time_Average_mean     92.696970\n",
       "78        2  Time_Average_mean     98.000000\n",
       "79        3  Time_Average_mean     98.145985\n",
       "77        1  Time_Average_mean    103.227129\n",
       "65        1     Strapless_mean      0.001104\n",
       "64        0     Strapless_mean      0.006359\n",
       "66        2     Strapless_mean      0.014502\n",
       "67        3     Strapless_mean      0.032504\n",
       "60        0         Short_mean      0.090513\n",
       "62        2         Short_mean      0.096085\n",
       "61        1         Short_mean      0.107520\n",
       "63        3         Short_mean      0.109242\n",
       "58        2        Remera_mean      0.129440\n",
       "56        0        Remera_mean      0.170473\n",
       "59        3        Remera_mean      0.174824\n",
       "57        1        Remera_mean      0.196429\n",
       "55        3       Pollera_mean      0.000000\n",
       "54        2       Pollera_mean      0.002747\n",
       "52        0       Pollera_mean      0.005271\n",
       "53        1       Pollera_mean      0.005767\n",
       "50        2      Pantalón_mean      0.002747\n",
       "48        0      Pantalón_mean      0.014163\n",
       "51        3      Pantalón_mean      0.016227\n",
       "49        1      Pantalón_mean      0.019226\n",
       "44        0          Mini_mean      0.043206\n",
       "45        1          Mini_mean      0.051258\n",
       "47        3          Mini_mean      0.051991\n",
       "46        2          Mini_mean      0.121549\n",
       "43        3          Jean_mean      0.094270\n",
       "40        0          Jean_mean      0.105464\n",
       "41        1          Jean_mean      0.109972\n",
       "42        2          Jean_mean      0.144231\n",
       "37        1       Chaleco_mean      0.044271\n",
       "39        3       Chaleco_mean      0.045480\n",
       "36        0       Chaleco_mean      0.056940\n",
       "38        2       Chaleco_mean      0.065696\n",
       "34        2         Capri_mean      0.022686\n",
       "32        0         Capri_mean      0.027876\n",
       "33        1         Capri_mean      0.027886\n",
       "35        3         Capri_mean      0.042637\n",
       "31        3        Camisa_mean      0.170302\n",
       "28        0        Camisa_mean      0.176788\n",
       "29        1        Camisa_mean      0.198388\n",
       "30        2        Camisa_mean      0.201155\n",
       "24        0         Calza_mean      0.026628\n",
       "27        3         Calza_mean      0.026804\n",
       "25        1         Calza_mean      0.035728\n",
       "26        2         Calza_mean      0.071119\n",
       "22        2       Bermuda_mean      0.024051\n",
       "23        3       Bermuda_mean      0.036682\n",
       "20        0       Bermuda_mean      0.038766\n",
       "21        1       Bermuda_mean      0.039331\n",
       "17        1       Babucha_mean      0.000000\n",
       "18        2       Babucha_mean      0.000000\n",
       "19        3       Babucha_mean      0.000000\n",
       "16        0       Babucha_mean      0.059770"
      ]
     },
     "execution_count": 10,
     "metadata": {},
     "output_type": "execute_result"
    }
   ],
   "source": [
    "df_gmm = df.copy()\n",
    "df_gmm.drop(['id_cliente','sexo','group_rfm','segment_rfm', 'group_kmeans'], axis=1, inplace=True)\n",
    "gmm_statistics = cluster_summary(df_gmm, 'group_gmm', sta=False, statistics_list=['mean'])\n",
    "gmm_statistics = gmm_statistics.sort_values(by=['statistic', 'value'], ascending=[False, True])\n",
    "gmm_statistics"
   ]
  },
  {
   "cell_type": "code",
   "execution_count": 11,
   "metadata": {},
   "outputs": [
    {
     "data": {
      "application/vnd.plotly.v1+json": {
       "config": {
        "plotlyServerURL": "https://plot.ly"
       },
       "data": [
        {
         "hovertemplate": "Category=2<br>statistic=%{x}<br>value=%{y}<extra></extra>",
         "legendgroup": "2",
         "line": {
          "color": "#636efa",
          "dash": "solid"
         },
         "marker": {
          "symbol": "circle"
         },
         "mode": "lines",
         "name": "2",
         "orientation": "v",
         "showlegend": true,
         "type": "scatter",
         "x": [
          "recency_mean",
          "monetary_mean",
          "local_mean",
          "frequency_mean",
          "age_days_mean",
          "Vestido_mean",
          "Time_Average_mean",
          "Strapless_mean",
          "Short_mean",
          "Remera_mean",
          "Pollera_mean",
          "Pantalón_mean",
          "Mini_mean",
          "Jean_mean",
          "Chaleco_mean",
          "Capri_mean",
          "Camisa_mean",
          "Calza_mean",
          "Bermuda_mean",
          "Babucha_mean"
         ],
         "xaxis": "x",
         "y": [
          0.1860347231022684,
          0.5450101535365197,
          0.6190895090839124,
          0.5083612040133778,
          0.25841144207332056,
          0.10878254722648316,
          0.20618556701030927,
          0.13051948051948054,
          0.20589669834424945,
          0.24449751169812192,
          0.03021978021978022,
          0.018315018315018312,
          0.4456803034538935,
          0.4326928601528144,
          0.26278349161644354,
          0.09074200653148021,
          0.42466074388495534,
          0.308181388266191,
          0.09620204357046462,
          0
         ],
         "yaxis": "y"
        },
        {
         "hovertemplate": "Category=1<br>statistic=%{x}<br>value=%{y}<extra></extra>",
         "legendgroup": "1",
         "line": {
          "color": "#EF553B",
          "dash": "solid"
         },
         "marker": {
          "symbol": "circle"
         },
         "mode": "lines",
         "name": "1",
         "orientation": "v",
         "showlegend": true,
         "type": "scatter",
         "x": [
          "recency_mean",
          "monetary_mean",
          "local_mean",
          "frequency_mean",
          "age_days_mean",
          "Vestido_mean",
          "Time_Average_mean",
          "Strapless_mean",
          "Short_mean",
          "Remera_mean",
          "Pollera_mean",
          "Pantalón_mean",
          "Mini_mean",
          "Jean_mean",
          "Chaleco_mean",
          "Capri_mean",
          "Camisa_mean",
          "Calza_mean",
          "Bermuda_mean",
          "Babucha_mean"
         ],
         "xaxis": "x",
         "y": [
          0.20244362562948567,
          0.4138127263060343,
          0.5379136244501225,
          0.4597448909614593,
          0.5011312407202764,
          0,
          0.233129532667729,
          0.009938023504406717,
          0.23040054569120683,
          0.3710327408665745,
          0.06343743602022076,
          0.12817329225114726,
          0.1879467787807445,
          0.32991714858580035,
          0.1770824431503234,
          0.11154585613944633,
          0.4188199950135823,
          0.15482000302346743,
          0.1573221996148063,
          0
         ],
         "yaxis": "y"
        },
        {
         "hovertemplate": "Category=0<br>statistic=%{x}<br>value=%{y}<extra></extra>",
         "legendgroup": "0",
         "line": {
          "color": "#00cc96",
          "dash": "solid"
         },
         "marker": {
          "symbol": "circle"
         },
         "mode": "lines",
         "name": "0",
         "orientation": "v",
         "showlegend": true,
         "type": "scatter",
         "x": [
          "recency_mean",
          "monetary_mean",
          "local_mean",
          "frequency_mean",
          "age_days_mean",
          "Vestido_mean",
          "Time_Average_mean",
          "Strapless_mean",
          "Short_mean",
          "Remera_mean",
          "Pollera_mean",
          "Pantalón_mean",
          "Mini_mean",
          "Jean_mean",
          "Chaleco_mean",
          "Capri_mean",
          "Camisa_mean",
          "Calza_mean",
          "Bermuda_mean",
          "Babucha_mean"
         ],
         "xaxis": "x",
         "y": [
          0.20902600968498825,
          0.45158865123315084,
          0.5486148169888665,
          0.5217391304347826,
          0.4545060133483353,
          0.06201778596187077,
          0.1788503592627304,
          0.05722735375141793,
          0.1939567775405262,
          0.32200503215469817,
          0.05798503611971104,
          0.09442108485170686,
          0.15842305804122112,
          0.31639310391907705,
          0.22776057838625907,
          0.11150512401567848,
          0.3732195758932435,
          0.11538710529526619,
          0.15506306007009638,
          0.4482765163544725
         ],
         "yaxis": "y"
        },
        {
         "hovertemplate": "Category=3<br>statistic=%{x}<br>value=%{y}<extra></extra>",
         "legendgroup": "3",
         "line": {
          "color": "#ab63fa",
          "dash": "solid"
         },
         "marker": {
          "symbol": "circle"
         },
         "mode": "lines",
         "name": "3",
         "orientation": "v",
         "showlegend": true,
         "type": "scatter",
         "x": [
          "recency_mean",
          "monetary_mean",
          "local_mean",
          "frequency_mean",
          "age_days_mean",
          "Vestido_mean",
          "Time_Average_mean",
          "Strapless_mean",
          "Short_mean",
          "Remera_mean",
          "Pollera_mean",
          "Pantalón_mean",
          "Mini_mean",
          "Jean_mean",
          "Chaleco_mean",
          "Capri_mean",
          "Camisa_mean",
          "Calza_mean",
          "Bermuda_mean",
          "Babucha_mean"
         ],
         "xaxis": "x",
         "y": [
          0.2123402157313099,
          0.3948073851212251,
          0.4943823341159952,
          0.486194858774992,
          0.4745555049057652,
          0.18749836738067904,
          0.20693806907968995,
          0.29253309160074226,
          0.23409015238558237,
          0.33022362448143455,
          0,
          0.10817773150184208,
          0.19063321043406486,
          0.28280885578848874,
          0.18191818344148972,
          0.1705499355601687,
          0.35952672288099574,
          0.11614963789691356,
          0.14672774444139966,
          0
         ],
         "yaxis": "y"
        }
       ],
       "layout": {
        "legend": {
         "title": {
          "text": "Category"
         },
         "tracegroupgap": 0
        },
        "template": {
         "data": {
          "bar": [
           {
            "error_x": {
             "color": "#2a3f5f"
            },
            "error_y": {
             "color": "#2a3f5f"
            },
            "marker": {
             "line": {
              "color": "#E5ECF6",
              "width": 0.5
             },
             "pattern": {
              "fillmode": "overlay",
              "size": 10,
              "solidity": 0.2
             }
            },
            "type": "bar"
           }
          ],
          "barpolar": [
           {
            "marker": {
             "line": {
              "color": "#E5ECF6",
              "width": 0.5
             },
             "pattern": {
              "fillmode": "overlay",
              "size": 10,
              "solidity": 0.2
             }
            },
            "type": "barpolar"
           }
          ],
          "carpet": [
           {
            "aaxis": {
             "endlinecolor": "#2a3f5f",
             "gridcolor": "white",
             "linecolor": "white",
             "minorgridcolor": "white",
             "startlinecolor": "#2a3f5f"
            },
            "baxis": {
             "endlinecolor": "#2a3f5f",
             "gridcolor": "white",
             "linecolor": "white",
             "minorgridcolor": "white",
             "startlinecolor": "#2a3f5f"
            },
            "type": "carpet"
           }
          ],
          "choropleth": [
           {
            "colorbar": {
             "outlinewidth": 0,
             "ticks": ""
            },
            "type": "choropleth"
           }
          ],
          "contour": [
           {
            "colorbar": {
             "outlinewidth": 0,
             "ticks": ""
            },
            "colorscale": [
             [
              0,
              "#0d0887"
             ],
             [
              0.1111111111111111,
              "#46039f"
             ],
             [
              0.2222222222222222,
              "#7201a8"
             ],
             [
              0.3333333333333333,
              "#9c179e"
             ],
             [
              0.4444444444444444,
              "#bd3786"
             ],
             [
              0.5555555555555556,
              "#d8576b"
             ],
             [
              0.6666666666666666,
              "#ed7953"
             ],
             [
              0.7777777777777778,
              "#fb9f3a"
             ],
             [
              0.8888888888888888,
              "#fdca26"
             ],
             [
              1,
              "#f0f921"
             ]
            ],
            "type": "contour"
           }
          ],
          "contourcarpet": [
           {
            "colorbar": {
             "outlinewidth": 0,
             "ticks": ""
            },
            "type": "contourcarpet"
           }
          ],
          "heatmap": [
           {
            "colorbar": {
             "outlinewidth": 0,
             "ticks": ""
            },
            "colorscale": [
             [
              0,
              "#0d0887"
             ],
             [
              0.1111111111111111,
              "#46039f"
             ],
             [
              0.2222222222222222,
              "#7201a8"
             ],
             [
              0.3333333333333333,
              "#9c179e"
             ],
             [
              0.4444444444444444,
              "#bd3786"
             ],
             [
              0.5555555555555556,
              "#d8576b"
             ],
             [
              0.6666666666666666,
              "#ed7953"
             ],
             [
              0.7777777777777778,
              "#fb9f3a"
             ],
             [
              0.8888888888888888,
              "#fdca26"
             ],
             [
              1,
              "#f0f921"
             ]
            ],
            "type": "heatmap"
           }
          ],
          "heatmapgl": [
           {
            "colorbar": {
             "outlinewidth": 0,
             "ticks": ""
            },
            "colorscale": [
             [
              0,
              "#0d0887"
             ],
             [
              0.1111111111111111,
              "#46039f"
             ],
             [
              0.2222222222222222,
              "#7201a8"
             ],
             [
              0.3333333333333333,
              "#9c179e"
             ],
             [
              0.4444444444444444,
              "#bd3786"
             ],
             [
              0.5555555555555556,
              "#d8576b"
             ],
             [
              0.6666666666666666,
              "#ed7953"
             ],
             [
              0.7777777777777778,
              "#fb9f3a"
             ],
             [
              0.8888888888888888,
              "#fdca26"
             ],
             [
              1,
              "#f0f921"
             ]
            ],
            "type": "heatmapgl"
           }
          ],
          "histogram": [
           {
            "marker": {
             "pattern": {
              "fillmode": "overlay",
              "size": 10,
              "solidity": 0.2
             }
            },
            "type": "histogram"
           }
          ],
          "histogram2d": [
           {
            "colorbar": {
             "outlinewidth": 0,
             "ticks": ""
            },
            "colorscale": [
             [
              0,
              "#0d0887"
             ],
             [
              0.1111111111111111,
              "#46039f"
             ],
             [
              0.2222222222222222,
              "#7201a8"
             ],
             [
              0.3333333333333333,
              "#9c179e"
             ],
             [
              0.4444444444444444,
              "#bd3786"
             ],
             [
              0.5555555555555556,
              "#d8576b"
             ],
             [
              0.6666666666666666,
              "#ed7953"
             ],
             [
              0.7777777777777778,
              "#fb9f3a"
             ],
             [
              0.8888888888888888,
              "#fdca26"
             ],
             [
              1,
              "#f0f921"
             ]
            ],
            "type": "histogram2d"
           }
          ],
          "histogram2dcontour": [
           {
            "colorbar": {
             "outlinewidth": 0,
             "ticks": ""
            },
            "colorscale": [
             [
              0,
              "#0d0887"
             ],
             [
              0.1111111111111111,
              "#46039f"
             ],
             [
              0.2222222222222222,
              "#7201a8"
             ],
             [
              0.3333333333333333,
              "#9c179e"
             ],
             [
              0.4444444444444444,
              "#bd3786"
             ],
             [
              0.5555555555555556,
              "#d8576b"
             ],
             [
              0.6666666666666666,
              "#ed7953"
             ],
             [
              0.7777777777777778,
              "#fb9f3a"
             ],
             [
              0.8888888888888888,
              "#fdca26"
             ],
             [
              1,
              "#f0f921"
             ]
            ],
            "type": "histogram2dcontour"
           }
          ],
          "mesh3d": [
           {
            "colorbar": {
             "outlinewidth": 0,
             "ticks": ""
            },
            "type": "mesh3d"
           }
          ],
          "parcoords": [
           {
            "line": {
             "colorbar": {
              "outlinewidth": 0,
              "ticks": ""
             }
            },
            "type": "parcoords"
           }
          ],
          "pie": [
           {
            "automargin": true,
            "type": "pie"
           }
          ],
          "scatter": [
           {
            "fillpattern": {
             "fillmode": "overlay",
             "size": 10,
             "solidity": 0.2
            },
            "type": "scatter"
           }
          ],
          "scatter3d": [
           {
            "line": {
             "colorbar": {
              "outlinewidth": 0,
              "ticks": ""
             }
            },
            "marker": {
             "colorbar": {
              "outlinewidth": 0,
              "ticks": ""
             }
            },
            "type": "scatter3d"
           }
          ],
          "scattercarpet": [
           {
            "marker": {
             "colorbar": {
              "outlinewidth": 0,
              "ticks": ""
             }
            },
            "type": "scattercarpet"
           }
          ],
          "scattergeo": [
           {
            "marker": {
             "colorbar": {
              "outlinewidth": 0,
              "ticks": ""
             }
            },
            "type": "scattergeo"
           }
          ],
          "scattergl": [
           {
            "marker": {
             "colorbar": {
              "outlinewidth": 0,
              "ticks": ""
             }
            },
            "type": "scattergl"
           }
          ],
          "scattermapbox": [
           {
            "marker": {
             "colorbar": {
              "outlinewidth": 0,
              "ticks": ""
             }
            },
            "type": "scattermapbox"
           }
          ],
          "scatterpolar": [
           {
            "marker": {
             "colorbar": {
              "outlinewidth": 0,
              "ticks": ""
             }
            },
            "type": "scatterpolar"
           }
          ],
          "scatterpolargl": [
           {
            "marker": {
             "colorbar": {
              "outlinewidth": 0,
              "ticks": ""
             }
            },
            "type": "scatterpolargl"
           }
          ],
          "scatterternary": [
           {
            "marker": {
             "colorbar": {
              "outlinewidth": 0,
              "ticks": ""
             }
            },
            "type": "scatterternary"
           }
          ],
          "surface": [
           {
            "colorbar": {
             "outlinewidth": 0,
             "ticks": ""
            },
            "colorscale": [
             [
              0,
              "#0d0887"
             ],
             [
              0.1111111111111111,
              "#46039f"
             ],
             [
              0.2222222222222222,
              "#7201a8"
             ],
             [
              0.3333333333333333,
              "#9c179e"
             ],
             [
              0.4444444444444444,
              "#bd3786"
             ],
             [
              0.5555555555555556,
              "#d8576b"
             ],
             [
              0.6666666666666666,
              "#ed7953"
             ],
             [
              0.7777777777777778,
              "#fb9f3a"
             ],
             [
              0.8888888888888888,
              "#fdca26"
             ],
             [
              1,
              "#f0f921"
             ]
            ],
            "type": "surface"
           }
          ],
          "table": [
           {
            "cells": {
             "fill": {
              "color": "#EBF0F8"
             },
             "line": {
              "color": "white"
             }
            },
            "header": {
             "fill": {
              "color": "#C8D4E3"
             },
             "line": {
              "color": "white"
             }
            },
            "type": "table"
           }
          ]
         },
         "layout": {
          "annotationdefaults": {
           "arrowcolor": "#2a3f5f",
           "arrowhead": 0,
           "arrowwidth": 1
          },
          "autotypenumbers": "strict",
          "coloraxis": {
           "colorbar": {
            "outlinewidth": 0,
            "ticks": ""
           }
          },
          "colorscale": {
           "diverging": [
            [
             0,
             "#8e0152"
            ],
            [
             0.1,
             "#c51b7d"
            ],
            [
             0.2,
             "#de77ae"
            ],
            [
             0.3,
             "#f1b6da"
            ],
            [
             0.4,
             "#fde0ef"
            ],
            [
             0.5,
             "#f7f7f7"
            ],
            [
             0.6,
             "#e6f5d0"
            ],
            [
             0.7,
             "#b8e186"
            ],
            [
             0.8,
             "#7fbc41"
            ],
            [
             0.9,
             "#4d9221"
            ],
            [
             1,
             "#276419"
            ]
           ],
           "sequential": [
            [
             0,
             "#0d0887"
            ],
            [
             0.1111111111111111,
             "#46039f"
            ],
            [
             0.2222222222222222,
             "#7201a8"
            ],
            [
             0.3333333333333333,
             "#9c179e"
            ],
            [
             0.4444444444444444,
             "#bd3786"
            ],
            [
             0.5555555555555556,
             "#d8576b"
            ],
            [
             0.6666666666666666,
             "#ed7953"
            ],
            [
             0.7777777777777778,
             "#fb9f3a"
            ],
            [
             0.8888888888888888,
             "#fdca26"
            ],
            [
             1,
             "#f0f921"
            ]
           ],
           "sequentialminus": [
            [
             0,
             "#0d0887"
            ],
            [
             0.1111111111111111,
             "#46039f"
            ],
            [
             0.2222222222222222,
             "#7201a8"
            ],
            [
             0.3333333333333333,
             "#9c179e"
            ],
            [
             0.4444444444444444,
             "#bd3786"
            ],
            [
             0.5555555555555556,
             "#d8576b"
            ],
            [
             0.6666666666666666,
             "#ed7953"
            ],
            [
             0.7777777777777778,
             "#fb9f3a"
            ],
            [
             0.8888888888888888,
             "#fdca26"
            ],
            [
             1,
             "#f0f921"
            ]
           ]
          },
          "colorway": [
           "#636efa",
           "#EF553B",
           "#00cc96",
           "#ab63fa",
           "#FFA15A",
           "#19d3f3",
           "#FF6692",
           "#B6E880",
           "#FF97FF",
           "#FECB52"
          ],
          "font": {
           "color": "#2a3f5f"
          },
          "geo": {
           "bgcolor": "white",
           "lakecolor": "white",
           "landcolor": "#E5ECF6",
           "showlakes": true,
           "showland": true,
           "subunitcolor": "white"
          },
          "hoverlabel": {
           "align": "left"
          },
          "hovermode": "closest",
          "mapbox": {
           "style": "light"
          },
          "paper_bgcolor": "white",
          "plot_bgcolor": "#E5ECF6",
          "polar": {
           "angularaxis": {
            "gridcolor": "white",
            "linecolor": "white",
            "ticks": ""
           },
           "bgcolor": "#E5ECF6",
           "radialaxis": {
            "gridcolor": "white",
            "linecolor": "white",
            "ticks": ""
           }
          },
          "scene": {
           "xaxis": {
            "backgroundcolor": "#E5ECF6",
            "gridcolor": "white",
            "gridwidth": 2,
            "linecolor": "white",
            "showbackground": true,
            "ticks": "",
            "zerolinecolor": "white"
           },
           "yaxis": {
            "backgroundcolor": "#E5ECF6",
            "gridcolor": "white",
            "gridwidth": 2,
            "linecolor": "white",
            "showbackground": true,
            "ticks": "",
            "zerolinecolor": "white"
           },
           "zaxis": {
            "backgroundcolor": "#E5ECF6",
            "gridcolor": "white",
            "gridwidth": 2,
            "linecolor": "white",
            "showbackground": true,
            "ticks": "",
            "zerolinecolor": "white"
           }
          },
          "shapedefaults": {
           "line": {
            "color": "#2a3f5f"
           }
          },
          "ternary": {
           "aaxis": {
            "gridcolor": "white",
            "linecolor": "white",
            "ticks": ""
           },
           "baxis": {
            "gridcolor": "white",
            "linecolor": "white",
            "ticks": ""
           },
           "bgcolor": "#E5ECF6",
           "caxis": {
            "gridcolor": "white",
            "linecolor": "white",
            "ticks": ""
           }
          },
          "title": {
           "x": 0.05
          },
          "xaxis": {
           "automargin": true,
           "gridcolor": "white",
           "linecolor": "white",
           "ticks": "",
           "title": {
            "standoff": 15
           },
           "zerolinecolor": "white",
           "zerolinewidth": 2
          },
          "yaxis": {
           "automargin": true,
           "gridcolor": "white",
           "linecolor": "white",
           "ticks": "",
           "title": {
            "standoff": 15
           },
           "zerolinecolor": "white",
           "zerolinewidth": 2
          }
         }
        },
        "title": {
         "text": "Snake plot of normalized variables"
        },
        "xaxis": {
         "anchor": "y",
         "domain": [
          0,
          1
         ],
         "title": {
          "text": "statistic"
         }
        },
        "yaxis": {
         "anchor": "x",
         "domain": [
          0,
          1
         ],
         "title": {
          "text": "value"
         }
        }
       }
      }
     },
     "metadata": {},
     "output_type": "display_data"
    }
   ],
   "source": [
    "df_gmm = df.copy()\n",
    "df_gmm.drop(['id_cliente','sexo','group_rfm','segment_rfm', 'group_kmeans'], axis=1, inplace=True)\n",
    "gmm_statistics = cluster_summary(df_gmm, 'group_gmm', sta=True, statistics_list=['mean'])\n",
    "gmm_statistics = gmm_statistics.sort_values(by=['statistic', 'value'], ascending=[False, True])\n",
    "\n",
    "fig = px.line(gmm_statistics, x=\"statistic\", y=\"value\", color='category',\n",
    "              title='Snake plot of normalized variables',\n",
    "              labels=labels\n",
    "              )\n",
    "fig.show()"
   ]
  },
  {
   "cell_type": "code",
   "execution_count": 12,
   "metadata": {},
   "outputs": [
    {
     "data": {
      "application/vnd.plotly.v1+json": {
       "config": {
        "plotlyServerURL": "https://plot.ly"
       },
       "data": [
        {
         "hovertemplate": "group_gmm=1<br>Strapless=%{x}<br>Babucha=%{y}<br>Remera=%{z}<extra></extra>",
         "legendgroup": "1",
         "marker": {
          "color": "#636efa",
          "symbol": "circle"
         },
         "mode": "markers",
         "name": "1",
         "scene": "scene",
         "showlegend": true,
         "type": "scatter3d",
         "x": [
          0,
          0,
          0,
          0,
          0,
          0,
          0,
          0,
          0,
          0,
          0,
          0,
          0,
          0,
          0,
          0,
          0,
          0,
          0,
          0,
          0,
          0,
          0.34615384615384615,
          0,
          0,
          0,
          0,
          0,
          0,
          0,
          0,
          0,
          0,
          0,
          0,
          0,
          0,
          0,
          0,
          0,
          0,
          0,
          0,
          0,
          0,
          0,
          0,
          0,
          0,
          0,
          0,
          0,
          0,
          0,
          0,
          0,
          0,
          0,
          0,
          0,
          0,
          0,
          0,
          0,
          0,
          0,
          0,
          0,
          0,
          0,
          0,
          0,
          0,
          0,
          0,
          0,
          0,
          0,
          0,
          0,
          0,
          0,
          0,
          0,
          0,
          0,
          0,
          0,
          0,
          0,
          0,
          0,
          0,
          0,
          0,
          0,
          0.45,
          0,
          0,
          0,
          0,
          0,
          0,
          0,
          0,
          0,
          0,
          0,
          0,
          0,
          0,
          0,
          0,
          0,
          0,
          0,
          0,
          0,
          0,
          0,
          0,
          0,
          0,
          0,
          0,
          0,
          0,
          0,
          0,
          0,
          0,
          0.6,
          0,
          0,
          0,
          0,
          0,
          0,
          0,
          0,
          0,
          0,
          0,
          0,
          0,
          0,
          0,
          0,
          0,
          0,
          0,
          0,
          0,
          0,
          0,
          0,
          0,
          0,
          0,
          0,
          0,
          0,
          0,
          0,
          0,
          0,
          0,
          0,
          0,
          0,
          0,
          0,
          0,
          0,
          0,
          0,
          0,
          0,
          0,
          0,
          0,
          0,
          0,
          0,
          0,
          0,
          0,
          0,
          0,
          0,
          0,
          0,
          0,
          0,
          0,
          0,
          0,
          0,
          0,
          0,
          0,
          0,
          0,
          0,
          0,
          0,
          0,
          0,
          0,
          0,
          0,
          0,
          0,
          0,
          0,
          0,
          0,
          0,
          0,
          0,
          0,
          0,
          0,
          0,
          0,
          0,
          0,
          0,
          0,
          0,
          0,
          0,
          0,
          0,
          0,
          0.3913043478260869,
          0,
          0,
          0,
          0,
          0.3913043478260869,
          0,
          0,
          0,
          0,
          0,
          0,
          0,
          0,
          0,
          0,
          0,
          0,
          0,
          0,
          0,
          0,
          0,
          0,
          0,
          0,
          0,
          0,
          0,
          0,
          0,
          0,
          0,
          0,
          0,
          0,
          0,
          0,
          0,
          0,
          0,
          0,
          0,
          0,
          0,
          0,
          0,
          0,
          0,
          0,
          0,
          0,
          0,
          0,
          0,
          0,
          0,
          0,
          0,
          0,
          0,
          0,
          0,
          0,
          0,
          0,
          0,
          0,
          0,
          0,
          0.5625,
          0,
          0,
          0.4090909090909091,
          0,
          0,
          0,
          0,
          0,
          0,
          0,
          0
         ],
         "y": [
          0,
          0,
          0,
          0,
          0,
          0,
          0,
          0,
          0,
          0,
          0,
          0,
          0,
          0,
          0,
          0,
          0,
          0,
          0,
          0,
          0,
          0,
          0,
          0,
          0,
          0,
          0,
          0,
          0,
          0,
          0,
          0,
          0,
          0,
          0,
          0,
          0,
          0,
          0,
          0,
          0,
          0,
          0,
          0,
          0,
          0,
          0,
          0,
          0,
          0,
          0,
          0,
          0,
          0,
          0,
          0,
          0,
          0,
          0,
          0,
          0,
          0,
          0,
          0,
          0,
          0,
          0,
          0,
          0,
          0,
          0,
          0,
          0,
          0,
          0,
          0,
          0,
          0,
          0,
          0,
          0,
          0,
          0,
          0,
          0,
          0,
          0,
          0,
          0,
          0,
          0,
          0,
          0,
          0,
          0,
          0,
          0,
          0,
          0,
          0,
          0,
          0,
          0,
          0,
          0,
          0,
          0,
          0,
          0,
          0,
          0,
          0,
          0,
          0,
          0,
          0,
          0,
          0,
          0,
          0,
          0,
          0,
          0,
          0,
          0,
          0,
          0,
          0,
          0,
          0,
          0,
          0,
          0,
          0,
          0,
          0,
          0,
          0,
          0,
          0,
          0,
          0,
          0,
          0,
          0,
          0,
          0,
          0,
          0,
          0,
          0,
          0,
          0,
          0,
          0,
          0,
          0,
          0,
          0,
          0,
          0,
          0,
          0,
          0,
          0,
          0,
          0,
          0,
          0,
          0,
          0,
          0,
          0,
          0,
          0,
          0,
          0,
          0,
          0,
          0,
          0,
          0,
          0,
          0,
          0,
          0,
          0,
          0,
          0,
          0,
          0,
          0,
          0,
          0,
          0,
          0,
          0,
          0,
          0,
          0,
          0,
          0,
          0,
          0,
          0,
          0,
          0,
          0,
          0,
          0,
          0,
          0,
          0,
          0,
          0,
          0,
          0,
          0,
          0,
          0,
          0,
          0,
          0,
          0,
          0,
          0,
          0,
          0,
          0,
          0,
          0,
          0,
          0,
          0,
          0,
          0,
          0,
          0,
          0,
          0,
          0,
          0,
          0,
          0,
          0,
          0,
          0,
          0,
          0,
          0,
          0,
          0,
          0,
          0,
          0,
          0,
          0,
          0,
          0,
          0,
          0,
          0,
          0,
          0,
          0,
          0,
          0,
          0,
          0,
          0,
          0,
          0,
          0,
          0,
          0,
          0,
          0,
          0,
          0,
          0,
          0,
          0,
          0,
          0,
          0,
          0,
          0,
          0,
          0,
          0,
          0,
          0,
          0,
          0,
          0,
          0,
          0,
          0,
          0,
          0,
          0,
          0,
          0,
          0,
          0,
          0,
          0,
          0,
          0,
          0,
          0,
          0,
          0,
          0,
          0,
          0,
          0
         ],
         "z": [
          0.35978835978835977,
          0.6746031746031746,
          0.37777777777777777,
          0.2982456140350877,
          0.5811965811965812,
          0.15740740740740738,
          0.09444444444444444,
          0.5964912280701754,
          0.11805555555555555,
          0.4358974358974359,
          0.2905982905982906,
          0.35416666666666663,
          0.33333333333333337,
          0.16425120772946858,
          0.6868686868686869,
          0.1717171717171717,
          0.2222222222222222,
          0.39766081871345027,
          0.2361111111111111,
          0.25757575757575757,
          0.35978835978835977,
          0.41975308641975306,
          0.21794871794871795,
          0.4722222222222222,
          0.5151515151515151,
          0.39351851851851855,
          0.10493827160493827,
          0.15740740740740738,
          0.20987654320987653,
          0.6296296296296295,
          0.2361111111111111,
          0.2518518518518518,
          0.2518518518518518,
          0.7264957264957265,
          0.39351851851851855,
          0.20987654320987653,
          0.5902777777777778,
          0.09444444444444444,
          0.35978835978835977,
          0.4722222222222222,
          0.9855072463768115,
          0.2222222222222222,
          0.6296296296296295,
          0.7727272727272727,
          0.5396825396825397,
          0.31481481481481477,
          0.8095238095238094,
          0.2222222222222222,
          0.2905982905982906,
          0.1111111111111111,
          0.35416666666666663,
          0.6296296296296295,
          0.20987654320987653,
          0.32850241545893716,
          0.49707602339181284,
          0.11805555555555555,
          0.2222222222222222,
          0.5396825396825397,
          0.2982456140350877,
          0.2698412698412698,
          0.37777777777777777,
          0.37777777777777777,
          0.2833333333333333,
          0.25757575757575757,
          0.19883040935672514,
          0.4722222222222222,
          0.2982456140350877,
          0.2982456140350877,
          0.4722222222222222,
          0.2222222222222222,
          0.7777777777777777,
          0.5902777777777778,
          0.6746031746031746,
          0.41975308641975306,
          0.601010101010101,
          0.2222222222222222,
          0.2518518518518518,
          0.4444444444444444,
          0.39766081871345027,
          0.41975308641975306,
          0.37777777777777777,
          0.3434343434343434,
          0.25757575757575757,
          0.24637681159420288,
          0.33333333333333337,
          0.2982456140350877,
          0.39766081871345027,
          0.6868686868686869,
          0.35416666666666663,
          0.11805555555555555,
          0.4047619047619047,
          0.5396825396825397,
          0.5037037037037037,
          0.37777777777777777,
          0,
          0.2698412698412698,
          0.4722222222222222,
          0.41975308641975306,
          0.1259259259259259,
          0.1717171717171717,
          0.24637681159420288,
          0.5037037037037037,
          0.1717171717171717,
          0.35978835978835977,
          0.15740740740740738,
          0.37777777777777777,
          0.37777777777777777,
          0.2698412698412698,
          0.4722222222222222,
          0.4497354497354497,
          0.6296296296296295,
          0.1111111111111111,
          0.2982456140350877,
          0.4047619047619047,
          0.20987654320987653,
          0.5246913580246914,
          0,
          0.6868686868686869,
          0.37777777777777777,
          0.2222222222222222,
          0.4047619047619047,
          0.19883040935672514,
          0.4722222222222222,
          0.5666666666666667,
          0.2698412698412698,
          0.5555555555555556,
          0.2905982905982906,
          0.33333333333333337,
          0.2222222222222222,
          0.2833333333333333,
          0.4722222222222222,
          0.1259259259259259,
          0.2698412698412698,
          0.2698412698412698,
          0.49707602339181284,
          0.31481481481481477,
          0.5396825396825397,
          0.41975308641975306,
          0.5666666666666667,
          0.5037037037037037,
          0.6044444444444445,
          0.22666666666666666,
          0.2518518518518518,
          0.26053639846743293,
          0.1452991452991453,
          0.32850241545893716,
          0.4722222222222222,
          0.16425120772946858,
          0.6611111111111111,
          0.3434343434343434,
          0.2518518518518518,
          0.10493827160493827,
          0.7195767195767195,
          0.5396825396825397,
          0.20987654320987653,
          0.2698412698412698,
          0.5902777777777778,
          0.2833333333333333,
          0.15740740740740738,
          0.37777777777777777,
          0.10493827160493827,
          0.4497354497354497,
          0.35416666666666663,
          0.37777777777777777,
          0.35416666666666663,
          0.4722222222222222,
          0.4722222222222222,
          0.5596707818930041,
          0.33333333333333337,
          0.8585858585858586,
          0.4047619047619047,
          0.1259259259259259,
          0.3434343434343434,
          0.5151515151515151,
          0.31481481481481477,
          0.49707602339181284,
          0.5666666666666667,
          0.10493827160493827,
          0,
          0.4722222222222222,
          0.3434343434343434,
          0.35978835978835977,
          0.2698412698412698,
          0.4722222222222222,
          0.32850241545893716,
          0.41975308641975306,
          0.4358974358974359,
          0.3434343434343434,
          0.41975308641975306,
          0.27983539094650206,
          0.2361111111111111,
          0.31481481481481477,
          0.20987654320987653,
          0.5246913580246914,
          0.6296296296296295,
          0.4444444444444444,
          0.2905982905982906,
          0.5037037037037037,
          0.1111111111111111,
          0.4047619047619047,
          0.41975308641975306,
          0.25757575757575757,
          0.2361111111111111,
          0.6570048309178743,
          0.2518518518518518,
          0.4722222222222222,
          0.37777777777777777,
          0.2698412698412698,
          0.5811965811965812,
          0.2222222222222222,
          0.5964912280701754,
          0.2361111111111111,
          0.09941520467836257,
          0,
          0.1452991452991453,
          0.2982456140350877,
          0.34979423868312753,
          0.8263888888888888,
          0.39766081871345027,
          0.35978835978835977,
          0.31481481481481477,
          0.31481481481481477,
          0.15740740740740738,
          0.5555555555555556,
          0.5666666666666667,
          0.5555555555555556,
          0.31481481481481477,
          0.4358974358974359,
          0.6959064327485379,
          0.1111111111111111,
          0.2698412698412698,
          0.4722222222222222,
          0.19883040935672514,
          0.33333333333333337,
          0.39766081871345027,
          0.24637681159420288,
          0.41975308641975306,
          0.6666666666666667,
          0,
          0.2698412698412698,
          0.24637681159420288,
          0.4722222222222222,
          0.5555555555555556,
          0.7555555555555555,
          0.2518518518518518,
          0.4292929292929293,
          0.4358974358974359,
          0.49707602339181284,
          0.6296296296296295,
          0.2698412698412698,
          0.4722222222222222,
          0.33333333333333337,
          0.2982456140350877,
          0.7195767195767195,
          0.31481481481481477,
          0.2361111111111111,
          0.2698412698412698,
          0.1259259259259259,
          0.3434343434343434,
          0.19883040935672514,
          0.35978835978835977,
          0.4722222222222222,
          0.4722222222222222,
          0.8814814814814814,
          0.4722222222222222,
          0.3434343434343434,
          0.8814814814814814,
          0.37777777777777777,
          0.18888888888888888,
          0.49707602339181284,
          0.41975308641975306,
          0.37777777777777777,
          0.4722222222222222,
          0.5151515151515151,
          0.32850241545893716,
          0.4292929292929293,
          0.2982456140350877,
          0.1111111111111111,
          0.10493827160493827,
          0,
          0.5396825396825397,
          0.2698412698412698,
          0.5396825396825397,
          0.5246913580246914,
          0.31481481481481477,
          0.08585858585858586,
          0.2518518518518518,
          0.2698412698412698,
          0.5555555555555556,
          0.19883040935672514,
          0.35416666666666663,
          0.4444444444444444,
          1,
          0.18888888888888888,
          0.2982456140350877,
          0.7555555555555555,
          0.5509259259259259,
          0.37777777777777777,
          0.20987654320987653,
          0.08994708994708994,
          0.49707602339181284,
          0.8095238095238094,
          0.25757575757575757,
          0.1452991452991453,
          0.2361111111111111,
          0.11805555555555555,
          0.32850241545893716,
          0.2518518518518518,
          0.6868686868686869,
          0.31481481481481477,
          0.6296296296296295,
          0.31481481481481477,
          0.07555555555555556,
          0.1259259259259259,
          0.5902777777777778,
          0.2518518518518518,
          0.5396825396825397
         ]
        },
        {
         "hovertemplate": "group_gmm=3<br>Strapless=%{x}<br>Babucha=%{y}<br>Remera=%{z}<extra></extra>",
         "legendgroup": "3",
         "marker": {
          "color": "#EF553B",
          "symbol": "circle"
         },
         "mode": "markers",
         "name": "3",
         "scene": "scene",
         "showlegend": true,
         "type": "scatter3d",
         "x": [
          0.4090909090909091,
          0.47368421052631576,
          0,
          0,
          0,
          0.75,
          0.5,
          0.42857142857142855,
          0,
          0,
          0.3913043478260869,
          0.47368421052631576,
          0.42857142857142855,
          0.45,
          0.42857142857142855,
          0.42857142857142855,
          0,
          0,
          0,
          0.47368421052631576,
          0.5,
          0.4090909090909091,
          0,
          1,
          0,
          0.42857142857142855,
          0.4090909090909091,
          0.47368421052631576,
          0.3913043478260869,
          0.47368421052631576,
          0.75,
          0,
          0,
          0.75,
          0,
          0,
          0,
          0.6428571428571428,
          0,
          0,
          0,
          0,
          0,
          0,
          0.6,
          0.5625,
          0,
          0.47368421052631576,
          0,
          0.5294117647058824,
          0,
          0,
          0.6923076923076923,
          0.42857142857142855,
          0.45,
          0,
          0,
          0,
          0.8181818181818182,
          0.75,
          0,
          0.5,
          0,
          0,
          0,
          0.5,
          0.8571428571428571,
          1,
          0.4090909090909091,
          0.375,
          0,
          0,
          0.6,
          0.42857142857142855,
          0.5294117647058824,
          0,
          0,
          0,
          0.5294117647058824,
          0.9,
          0,
          0.6,
          0,
          0.4090909090909091,
          0.6923076923076923,
          0.45,
          0.47368421052631576,
          0.9,
          0.5294117647058824,
          0.5,
          0,
          0,
          0,
          0,
          0.6,
          0,
          0,
          0.9,
          0.5,
          0,
          0.5625,
          0.375,
          0,
          0.36,
          0,
          0,
          0.3913043478260869,
          0.42857142857142855,
          0.375,
          0.5,
          0,
          0.36,
          0,
          0,
          0.5,
          0,
          0.45,
          0.6428571428571428,
          0.3913043478260869,
          0.5,
          0.5294117647058824,
          0,
          0,
          0,
          0,
          0,
          0,
          0.9,
          0,
          0,
          0,
          0.42857142857142855,
          0.5294117647058824,
          0.36,
          0.75,
          0.3913043478260869,
          0
         ],
         "y": [
          0,
          0,
          0,
          0,
          0,
          0,
          0,
          0,
          0,
          0,
          0,
          0,
          0,
          0,
          0,
          0,
          0,
          0,
          0,
          0,
          0,
          0,
          0,
          0,
          0,
          0,
          0,
          0,
          0,
          0,
          0,
          0,
          0,
          0,
          0,
          0,
          0,
          0,
          0,
          0,
          0,
          0,
          0,
          0,
          0,
          0,
          0,
          0,
          0,
          0,
          0,
          0,
          0,
          0,
          0,
          0,
          0,
          0,
          0,
          0,
          0,
          0,
          0,
          0,
          0,
          0,
          0,
          0,
          0,
          0,
          0,
          0,
          0,
          0,
          0,
          0,
          0,
          0,
          0,
          0,
          0,
          0,
          0,
          0,
          0,
          0,
          0,
          0,
          0,
          0,
          0,
          0,
          0,
          0,
          0,
          0,
          0,
          0,
          0,
          0,
          0,
          0,
          0,
          0,
          0,
          0,
          0,
          0,
          0,
          0,
          0,
          0,
          0,
          0,
          0,
          0,
          0,
          0,
          0,
          0,
          0,
          0,
          0,
          0,
          0,
          0,
          0,
          0,
          0,
          0,
          0,
          0,
          0,
          0,
          0,
          0,
          0
         ],
         "z": [
          0.3434343434343434,
          0.2982456140350877,
          0.11805555555555555,
          0.5964912280701754,
          0.2833333333333333,
          0.15740740740740738,
          0.5246913580246914,
          0.35978835978835977,
          0.1111111111111111,
          0.5396825396825397,
          0.16425120772946858,
          0.09941520467836257,
          0.35978835978835977,
          0.18888888888888888,
          0.2698412698412698,
          0.5396825396825397,
          0.2905982905982906,
          0.35978835978835977,
          0.11805555555555555,
          0.09941520467836257,
          0.5246913580246914,
          0.25757575757575757,
          0.2905982905982906,
          0.31481481481481477,
          0.5037037037037037,
          0.2698412698412698,
          0.6868686868686869,
          0.09941520467836257,
          0.49275362318840576,
          0.6959064327485379,
          0.31481481481481477,
          0.49707602339181284,
          0.18888888888888888,
          0.31481481481481477,
          0.2222222222222222,
          0.33333333333333337,
          0.10493827160493827,
          0.1349206349206349,
          0.31481481481481477,
          0.5037037037037037,
          0.37777777777777777,
          0.4722222222222222,
          0.31481481481481477,
          0.31481481481481477,
          0.37777777777777777,
          0.4722222222222222,
          0.17989417989417988,
          0.39766081871345027,
          0.33333333333333337,
          0.33333333333333337,
          0.18888888888888888,
          0.4292929292929293,
          0.4358974358974359,
          0.17989417989417988,
          0.2833333333333333,
          0.35978835978835977,
          0.18888888888888888,
          0.4358974358974359,
          0.5151515151515151,
          0.31481481481481477,
          0.31481481481481477,
          0.20987654320987653,
          0.31481481481481477,
          0.5811965811965812,
          0.2982456140350877,
          0.31481481481481477,
          0.2698412698412698,
          0.31481481481481477,
          0.1717171717171717,
          0.31481481481481477,
          0,
          0.33333333333333337,
          0.1259259259259259,
          0.2698412698412698,
          0.33333333333333337,
          0.11805555555555555,
          0.20987654320987653,
          0.4722222222222222,
          0.33333333333333337,
          0.2833333333333333,
          0.1452991452991453,
          0.37777777777777777,
          0.3434343434343434,
          0.25757575757575757,
          0.7264957264957265,
          0.18888888888888888,
          0.2982456140350877,
          0.18888888888888888,
          0.4444444444444444,
          0.5246913580246914,
          0.4722222222222222,
          0.5037037037037037,
          0.6868686868686869,
          0.37777777777777777,
          0.2518518518518518,
          0.7953216374269005,
          0.6296296296296295,
          0,
          0.6296296296296295,
          0.39766081871345027,
          0,
          0.4722222222222222,
          0.2361111111111111,
          0.3022222222222222,
          0.4444444444444444,
          0.2361111111111111,
          0.16425120772946858,
          0.35978835978835977,
          0.07870370370370369,
          0.20987654320987653,
          0.3434343434343434,
          0.3022222222222222,
          0.6296296296296295,
          0.3434343434343434,
          0.6296296296296295,
          0.20987654320987653,
          0.18888888888888888,
          0.4047619047619047,
          0.16425120772946858,
          0.41975308641975306,
          0.2222222222222222,
          0.7555555555555555,
          0.2222222222222222,
          0.37777777777777777,
          0.4444444444444444,
          0.49275362318840576,
          0.1452991452991453,
          0,
          0.19883040935672514,
          0.4533333333333333,
          0,
          0.35978835978835977,
          0.6666666666666667,
          0.4533333333333333,
          0,
          0.24637681159420288,
          0.4444444444444444
         ]
        },
        {
         "hovertemplate": "group_gmm=0<br>Strapless=%{x}<br>Babucha=%{y}<br>Remera=%{z}<extra></extra>",
         "legendgroup": "0",
         "marker": {
          "color": "#00cc96",
          "symbol": "circle"
         },
         "mode": "markers",
         "name": "0",
         "scene": "scene",
         "showlegend": true,
         "type": "scatter3d",
         "x": [
          0,
          0,
          0,
          0,
          0,
          0,
          0,
          0.4090909090909091,
          0,
          0.45,
          0.5,
          0,
          0,
          0,
          0,
          0.5294117647058824,
          0,
          0,
          0,
          0,
          0,
          0,
          0,
          0,
          0,
          0,
          0,
          0,
          0,
          0,
          0,
          0,
          0
         ],
         "y": [
          0.39473684210526316,
          0.4411764705882353,
          0.39473684210526316,
          0.5357142857142857,
          0.6818181818181819,
          0.3571428571428571,
          1,
          0.34090909090909094,
          0.3,
          0.375,
          0.41666666666666663,
          0.3,
          0.4411764705882353,
          0.8823529411764706,
          0.32608695652173914,
          0.4411764705882353,
          0.34090909090909094,
          0.26785714285714285,
          0.5357142857142857,
          0.46875,
          0.26785714285714285,
          0.7894736842105263,
          0.39473684210526316,
          0.375,
          0.34090909090909094,
          0.46875,
          0.41666666666666663,
          0.375,
          0.5,
          0.39473684210526316,
          0.39473684210526316,
          0.41666666666666663,
          0.41666666666666663
         ],
         "z": [
          0.2982456140350877,
          0,
          0.6959064327485379,
          0,
          0.1717171717171717,
          0.4497354497354497,
          0.1259259259259259,
          0.25757575757575757,
          0.07555555555555556,
          0.37777777777777777,
          0.8395061728395061,
          0.37777777777777777,
          0.2222222222222222,
          0.2222222222222222,
          0.32850241545893716,
          0.4444444444444444,
          0.1717171717171717,
          0.2698412698412698,
          0.1349206349206349,
          0.2361111111111111,
          0.6746031746031746,
          0.2982456140350877,
          0.09941520467836257,
          0.2833333333333333,
          0.25757575757575757,
          0.4722222222222222,
          0.31481481481481477,
          0.18888888888888888,
          0.5037037037037037,
          0.49707602339181284,
          0.49707602339181284,
          0.41975308641975306,
          0.41975308641975306
         ]
        },
        {
         "hovertemplate": "group_gmm=2<br>Strapless=%{x}<br>Babucha=%{y}<br>Remera=%{z}<extra></extra>",
         "legendgroup": "2",
         "marker": {
          "color": "#ab63fa",
          "symbol": "circle"
         },
         "mode": "markers",
         "name": "2",
         "scene": "scene",
         "showlegend": true,
         "type": "scatter3d",
         "x": [
          0,
          0,
          0,
          0,
          0,
          0,
          0,
          0.42857142857142855,
          0,
          0.45,
          0.8181818181818182,
          0,
          0
         ],
         "y": [
          0,
          0,
          0,
          0,
          0,
          0,
          0,
          0,
          0,
          0,
          0,
          0,
          0
         ],
         "z": [
          0.19883040935672514,
          0.25757575757575757,
          0.25757575757575757,
          0.4106280193236715,
          0.20987654320987653,
          0.39766081871345027,
          0.2222222222222222,
          0.2698412698412698,
          0.18888888888888888,
          0.18888888888888888,
          0.1717171717171717,
          0.2698412698412698,
          0.1349206349206349
         ]
        }
       ],
       "layout": {
        "legend": {
         "title": {
          "text": "group_gmm"
         },
         "tracegroupgap": 0
        },
        "scene": {
         "domain": {
          "x": [
           0,
           1
          ],
          "y": [
           0,
           1
          ]
         },
         "xaxis": {
          "title": {
           "text": "Strapless"
          }
         },
         "yaxis": {
          "title": {
           "text": "Babucha"
          }
         },
         "zaxis": {
          "title": {
           "text": "Remera"
          }
         }
        },
        "template": {
         "data": {
          "bar": [
           {
            "error_x": {
             "color": "#2a3f5f"
            },
            "error_y": {
             "color": "#2a3f5f"
            },
            "marker": {
             "line": {
              "color": "#E5ECF6",
              "width": 0.5
             },
             "pattern": {
              "fillmode": "overlay",
              "size": 10,
              "solidity": 0.2
             }
            },
            "type": "bar"
           }
          ],
          "barpolar": [
           {
            "marker": {
             "line": {
              "color": "#E5ECF6",
              "width": 0.5
             },
             "pattern": {
              "fillmode": "overlay",
              "size": 10,
              "solidity": 0.2
             }
            },
            "type": "barpolar"
           }
          ],
          "carpet": [
           {
            "aaxis": {
             "endlinecolor": "#2a3f5f",
             "gridcolor": "white",
             "linecolor": "white",
             "minorgridcolor": "white",
             "startlinecolor": "#2a3f5f"
            },
            "baxis": {
             "endlinecolor": "#2a3f5f",
             "gridcolor": "white",
             "linecolor": "white",
             "minorgridcolor": "white",
             "startlinecolor": "#2a3f5f"
            },
            "type": "carpet"
           }
          ],
          "choropleth": [
           {
            "colorbar": {
             "outlinewidth": 0,
             "ticks": ""
            },
            "type": "choropleth"
           }
          ],
          "contour": [
           {
            "colorbar": {
             "outlinewidth": 0,
             "ticks": ""
            },
            "colorscale": [
             [
              0,
              "#0d0887"
             ],
             [
              0.1111111111111111,
              "#46039f"
             ],
             [
              0.2222222222222222,
              "#7201a8"
             ],
             [
              0.3333333333333333,
              "#9c179e"
             ],
             [
              0.4444444444444444,
              "#bd3786"
             ],
             [
              0.5555555555555556,
              "#d8576b"
             ],
             [
              0.6666666666666666,
              "#ed7953"
             ],
             [
              0.7777777777777778,
              "#fb9f3a"
             ],
             [
              0.8888888888888888,
              "#fdca26"
             ],
             [
              1,
              "#f0f921"
             ]
            ],
            "type": "contour"
           }
          ],
          "contourcarpet": [
           {
            "colorbar": {
             "outlinewidth": 0,
             "ticks": ""
            },
            "type": "contourcarpet"
           }
          ],
          "heatmap": [
           {
            "colorbar": {
             "outlinewidth": 0,
             "ticks": ""
            },
            "colorscale": [
             [
              0,
              "#0d0887"
             ],
             [
              0.1111111111111111,
              "#46039f"
             ],
             [
              0.2222222222222222,
              "#7201a8"
             ],
             [
              0.3333333333333333,
              "#9c179e"
             ],
             [
              0.4444444444444444,
              "#bd3786"
             ],
             [
              0.5555555555555556,
              "#d8576b"
             ],
             [
              0.6666666666666666,
              "#ed7953"
             ],
             [
              0.7777777777777778,
              "#fb9f3a"
             ],
             [
              0.8888888888888888,
              "#fdca26"
             ],
             [
              1,
              "#f0f921"
             ]
            ],
            "type": "heatmap"
           }
          ],
          "heatmapgl": [
           {
            "colorbar": {
             "outlinewidth": 0,
             "ticks": ""
            },
            "colorscale": [
             [
              0,
              "#0d0887"
             ],
             [
              0.1111111111111111,
              "#46039f"
             ],
             [
              0.2222222222222222,
              "#7201a8"
             ],
             [
              0.3333333333333333,
              "#9c179e"
             ],
             [
              0.4444444444444444,
              "#bd3786"
             ],
             [
              0.5555555555555556,
              "#d8576b"
             ],
             [
              0.6666666666666666,
              "#ed7953"
             ],
             [
              0.7777777777777778,
              "#fb9f3a"
             ],
             [
              0.8888888888888888,
              "#fdca26"
             ],
             [
              1,
              "#f0f921"
             ]
            ],
            "type": "heatmapgl"
           }
          ],
          "histogram": [
           {
            "marker": {
             "pattern": {
              "fillmode": "overlay",
              "size": 10,
              "solidity": 0.2
             }
            },
            "type": "histogram"
           }
          ],
          "histogram2d": [
           {
            "colorbar": {
             "outlinewidth": 0,
             "ticks": ""
            },
            "colorscale": [
             [
              0,
              "#0d0887"
             ],
             [
              0.1111111111111111,
              "#46039f"
             ],
             [
              0.2222222222222222,
              "#7201a8"
             ],
             [
              0.3333333333333333,
              "#9c179e"
             ],
             [
              0.4444444444444444,
              "#bd3786"
             ],
             [
              0.5555555555555556,
              "#d8576b"
             ],
             [
              0.6666666666666666,
              "#ed7953"
             ],
             [
              0.7777777777777778,
              "#fb9f3a"
             ],
             [
              0.8888888888888888,
              "#fdca26"
             ],
             [
              1,
              "#f0f921"
             ]
            ],
            "type": "histogram2d"
           }
          ],
          "histogram2dcontour": [
           {
            "colorbar": {
             "outlinewidth": 0,
             "ticks": ""
            },
            "colorscale": [
             [
              0,
              "#0d0887"
             ],
             [
              0.1111111111111111,
              "#46039f"
             ],
             [
              0.2222222222222222,
              "#7201a8"
             ],
             [
              0.3333333333333333,
              "#9c179e"
             ],
             [
              0.4444444444444444,
              "#bd3786"
             ],
             [
              0.5555555555555556,
              "#d8576b"
             ],
             [
              0.6666666666666666,
              "#ed7953"
             ],
             [
              0.7777777777777778,
              "#fb9f3a"
             ],
             [
              0.8888888888888888,
              "#fdca26"
             ],
             [
              1,
              "#f0f921"
             ]
            ],
            "type": "histogram2dcontour"
           }
          ],
          "mesh3d": [
           {
            "colorbar": {
             "outlinewidth": 0,
             "ticks": ""
            },
            "type": "mesh3d"
           }
          ],
          "parcoords": [
           {
            "line": {
             "colorbar": {
              "outlinewidth": 0,
              "ticks": ""
             }
            },
            "type": "parcoords"
           }
          ],
          "pie": [
           {
            "automargin": true,
            "type": "pie"
           }
          ],
          "scatter": [
           {
            "fillpattern": {
             "fillmode": "overlay",
             "size": 10,
             "solidity": 0.2
            },
            "type": "scatter"
           }
          ],
          "scatter3d": [
           {
            "line": {
             "colorbar": {
              "outlinewidth": 0,
              "ticks": ""
             }
            },
            "marker": {
             "colorbar": {
              "outlinewidth": 0,
              "ticks": ""
             }
            },
            "type": "scatter3d"
           }
          ],
          "scattercarpet": [
           {
            "marker": {
             "colorbar": {
              "outlinewidth": 0,
              "ticks": ""
             }
            },
            "type": "scattercarpet"
           }
          ],
          "scattergeo": [
           {
            "marker": {
             "colorbar": {
              "outlinewidth": 0,
              "ticks": ""
             }
            },
            "type": "scattergeo"
           }
          ],
          "scattergl": [
           {
            "marker": {
             "colorbar": {
              "outlinewidth": 0,
              "ticks": ""
             }
            },
            "type": "scattergl"
           }
          ],
          "scattermapbox": [
           {
            "marker": {
             "colorbar": {
              "outlinewidth": 0,
              "ticks": ""
             }
            },
            "type": "scattermapbox"
           }
          ],
          "scatterpolar": [
           {
            "marker": {
             "colorbar": {
              "outlinewidth": 0,
              "ticks": ""
             }
            },
            "type": "scatterpolar"
           }
          ],
          "scatterpolargl": [
           {
            "marker": {
             "colorbar": {
              "outlinewidth": 0,
              "ticks": ""
             }
            },
            "type": "scatterpolargl"
           }
          ],
          "scatterternary": [
           {
            "marker": {
             "colorbar": {
              "outlinewidth": 0,
              "ticks": ""
             }
            },
            "type": "scatterternary"
           }
          ],
          "surface": [
           {
            "colorbar": {
             "outlinewidth": 0,
             "ticks": ""
            },
            "colorscale": [
             [
              0,
              "#0d0887"
             ],
             [
              0.1111111111111111,
              "#46039f"
             ],
             [
              0.2222222222222222,
              "#7201a8"
             ],
             [
              0.3333333333333333,
              "#9c179e"
             ],
             [
              0.4444444444444444,
              "#bd3786"
             ],
             [
              0.5555555555555556,
              "#d8576b"
             ],
             [
              0.6666666666666666,
              "#ed7953"
             ],
             [
              0.7777777777777778,
              "#fb9f3a"
             ],
             [
              0.8888888888888888,
              "#fdca26"
             ],
             [
              1,
              "#f0f921"
             ]
            ],
            "type": "surface"
           }
          ],
          "table": [
           {
            "cells": {
             "fill": {
              "color": "#EBF0F8"
             },
             "line": {
              "color": "white"
             }
            },
            "header": {
             "fill": {
              "color": "#C8D4E3"
             },
             "line": {
              "color": "white"
             }
            },
            "type": "table"
           }
          ]
         },
         "layout": {
          "annotationdefaults": {
           "arrowcolor": "#2a3f5f",
           "arrowhead": 0,
           "arrowwidth": 1
          },
          "autotypenumbers": "strict",
          "coloraxis": {
           "colorbar": {
            "outlinewidth": 0,
            "ticks": ""
           }
          },
          "colorscale": {
           "diverging": [
            [
             0,
             "#8e0152"
            ],
            [
             0.1,
             "#c51b7d"
            ],
            [
             0.2,
             "#de77ae"
            ],
            [
             0.3,
             "#f1b6da"
            ],
            [
             0.4,
             "#fde0ef"
            ],
            [
             0.5,
             "#f7f7f7"
            ],
            [
             0.6,
             "#e6f5d0"
            ],
            [
             0.7,
             "#b8e186"
            ],
            [
             0.8,
             "#7fbc41"
            ],
            [
             0.9,
             "#4d9221"
            ],
            [
             1,
             "#276419"
            ]
           ],
           "sequential": [
            [
             0,
             "#0d0887"
            ],
            [
             0.1111111111111111,
             "#46039f"
            ],
            [
             0.2222222222222222,
             "#7201a8"
            ],
            [
             0.3333333333333333,
             "#9c179e"
            ],
            [
             0.4444444444444444,
             "#bd3786"
            ],
            [
             0.5555555555555556,
             "#d8576b"
            ],
            [
             0.6666666666666666,
             "#ed7953"
            ],
            [
             0.7777777777777778,
             "#fb9f3a"
            ],
            [
             0.8888888888888888,
             "#fdca26"
            ],
            [
             1,
             "#f0f921"
            ]
           ],
           "sequentialminus": [
            [
             0,
             "#0d0887"
            ],
            [
             0.1111111111111111,
             "#46039f"
            ],
            [
             0.2222222222222222,
             "#7201a8"
            ],
            [
             0.3333333333333333,
             "#9c179e"
            ],
            [
             0.4444444444444444,
             "#bd3786"
            ],
            [
             0.5555555555555556,
             "#d8576b"
            ],
            [
             0.6666666666666666,
             "#ed7953"
            ],
            [
             0.7777777777777778,
             "#fb9f3a"
            ],
            [
             0.8888888888888888,
             "#fdca26"
            ],
            [
             1,
             "#f0f921"
            ]
           ]
          },
          "colorway": [
           "#636efa",
           "#EF553B",
           "#00cc96",
           "#ab63fa",
           "#FFA15A",
           "#19d3f3",
           "#FF6692",
           "#B6E880",
           "#FF97FF",
           "#FECB52"
          ],
          "font": {
           "color": "#2a3f5f"
          },
          "geo": {
           "bgcolor": "white",
           "lakecolor": "white",
           "landcolor": "#E5ECF6",
           "showlakes": true,
           "showland": true,
           "subunitcolor": "white"
          },
          "hoverlabel": {
           "align": "left"
          },
          "hovermode": "closest",
          "mapbox": {
           "style": "light"
          },
          "paper_bgcolor": "white",
          "plot_bgcolor": "#E5ECF6",
          "polar": {
           "angularaxis": {
            "gridcolor": "white",
            "linecolor": "white",
            "ticks": ""
           },
           "bgcolor": "#E5ECF6",
           "radialaxis": {
            "gridcolor": "white",
            "linecolor": "white",
            "ticks": ""
           }
          },
          "scene": {
           "xaxis": {
            "backgroundcolor": "#E5ECF6",
            "gridcolor": "white",
            "gridwidth": 2,
            "linecolor": "white",
            "showbackground": true,
            "ticks": "",
            "zerolinecolor": "white"
           },
           "yaxis": {
            "backgroundcolor": "#E5ECF6",
            "gridcolor": "white",
            "gridwidth": 2,
            "linecolor": "white",
            "showbackground": true,
            "ticks": "",
            "zerolinecolor": "white"
           },
           "zaxis": {
            "backgroundcolor": "#E5ECF6",
            "gridcolor": "white",
            "gridwidth": 2,
            "linecolor": "white",
            "showbackground": true,
            "ticks": "",
            "zerolinecolor": "white"
           }
          },
          "shapedefaults": {
           "line": {
            "color": "#2a3f5f"
           }
          },
          "ternary": {
           "aaxis": {
            "gridcolor": "white",
            "linecolor": "white",
            "ticks": ""
           },
           "baxis": {
            "gridcolor": "white",
            "linecolor": "white",
            "ticks": ""
           },
           "bgcolor": "#E5ECF6",
           "caxis": {
            "gridcolor": "white",
            "linecolor": "white",
            "ticks": ""
           }
          },
          "title": {
           "x": 0.05
          },
          "xaxis": {
           "automargin": true,
           "gridcolor": "white",
           "linecolor": "white",
           "ticks": "",
           "title": {
            "standoff": 15
           },
           "zerolinecolor": "white",
           "zerolinewidth": 2
          },
          "yaxis": {
           "automargin": true,
           "gridcolor": "white",
           "linecolor": "white",
           "ticks": "",
           "title": {
            "standoff": 15
           },
           "zerolinecolor": "white",
           "zerolinewidth": 2
          }
         }
        },
        "title": {
         "text": "GMM Rubik Cube"
        }
       }
      }
     },
     "metadata": {},
     "output_type": "display_data"
    }
   ],
   "source": [
    "fig = px.scatter_3d(df_gmm, x='Strapless', y='Babucha', z='Remera', color='group_gmm',\n",
    "                    title = 'GMM Rubik Cube',\n",
    "                    labels=labels\n",
    "                   )\n",
    "fig.show()"
   ]
  },
  {
   "cell_type": "code",
   "execution_count": 13,
   "metadata": {},
   "outputs": [
    {
     "name": "stdout",
     "output_type": "stream",
     "text": [
      "ok_\n"
     ]
    }
   ],
   "source": [
    "print('ok_')"
   ]
  }
 ],
 "metadata": {
  "kernelspec": {
   "display_name": "Python 3",
   "language": "python",
   "name": "python3"
  },
  "language_info": {
   "codemirror_mode": {
    "name": "ipython",
    "version": 3
   },
   "file_extension": ".py",
   "mimetype": "text/x-python",
   "name": "python",
   "nbconvert_exporter": "python",
   "pygments_lexer": "ipython3",
   "version": "3.12.1"
  }
 },
 "nbformat": 4,
 "nbformat_minor": 2
}
