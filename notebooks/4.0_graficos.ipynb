{
 "cells": [
  {
   "cell_type": "markdown",
   "metadata": {},
   "source": [
    "# 4.0 Show models\n",
    "\n",
    "AIMS\n",
    "\n",
    "In this document, ____:"
   ]
  },
  {
   "cell_type": "code",
   "execution_count": 2,
   "metadata": {},
   "outputs": [],
   "source": [
    "%load_ext autoreload\n",
    "%autoreload 2"
   ]
  },
  {
   "cell_type": "code",
   "execution_count": 3,
   "metadata": {},
   "outputs": [],
   "source": [
    "import pandas as pd\n",
    "import plotly.express as px\n",
    "from mypackage import dir\n",
    "from mypackage.clustering import cluster_summary\n",
    "\n",
    "modality =  modality = 'p'\n",
    "project = 'australian'\n",
    "data = dir.make_dir_line(modality, project) \n",
    "processed = data('processed')\n",
    "models = data('models')\n",
    "\n",
    "labels={'r_quartile':'R Quantile', \n",
    "        'f_quartile':'F Quantile', \n",
    "        'm_quartile':'M Quantile', \n",
    "        'recency':'Recency',\n",
    "        'frequency':'Frequency',\n",
    "        'monetary':'Monetary',\n",
    "        'group':'Group',\n",
    "        'group_rfm':'Group',\n",
    "        'segment':'Segment',\n",
    "        'frequency_mean':'Frequency mean',\n",
    "        'monetary_mean':'Monetary mean',\n",
    "        'recency_mean':'Recency mean',\n",
    "        'category':'Category'\n",
    "    }\n",
    "\n",
    "pd.set_option('display.max_columns', None)\n",
    "pd.set_option('display.max_rows', None)\n",
    "import warnings\n",
    "warnings.filterwarnings(\"ignore\")"
   ]
  },
  {
   "cell_type": "markdown",
   "metadata": {},
   "source": [
    "## 4.1 Load data"
   ]
  },
  {
   "cell_type": "code",
   "execution_count": 7,
   "metadata": {},
   "outputs": [
    {
     "name": "stdout",
     "output_type": "stream",
     "text": [
      "(500, 5) (500, 22)\n",
      "(500, 26)\n"
     ]
    }
   ],
   "source": [
    "df_model = pd.read_parquet(models/'df_models.parquet.gzip')\n",
    "dataset = pd.read_parquet(processed/'dataset.parquet.gzip')\n",
    "\n",
    "print(df_model.shape, dataset.shape)\n",
    "df = pd.merge(dataset, df_model, on=['id_cliente'])\n",
    "print(df.shape)"
   ]
  },
  {
   "cell_type": "markdown",
   "metadata": {},
   "source": [
    "## 4.2 Analysis for RFM"
   ]
  },
  {
   "cell_type": "code",
   "execution_count": 9,
   "metadata": {},
   "outputs": [
    {
     "data": {
      "text/html": [
       "<div>\n",
       "<style scoped>\n",
       "    .dataframe tbody tr th:only-of-type {\n",
       "        vertical-align: middle;\n",
       "    }\n",
       "\n",
       "    .dataframe tbody tr th {\n",
       "        vertical-align: top;\n",
       "    }\n",
       "\n",
       "    .dataframe thead th {\n",
       "        text-align: right;\n",
       "    }\n",
       "</style>\n",
       "<table border=\"1\" class=\"dataframe\">\n",
       "  <thead>\n",
       "    <tr style=\"text-align: right;\">\n",
       "      <th></th>\n",
       "      <th>category</th>\n",
       "      <th>statistic</th>\n",
       "      <th>value</th>\n",
       "    </tr>\n",
       "  </thead>\n",
       "  <tbody>\n",
       "    <tr>\n",
       "      <th>8</th>\n",
       "      <td>New Customers</td>\n",
       "      <td>recency_mean</td>\n",
       "      <td>36.835165</td>\n",
       "    </tr>\n",
       "    <tr>\n",
       "      <th>6</th>\n",
       "      <td>Low Potential</td>\n",
       "      <td>recency_mean</td>\n",
       "      <td>46.944444</td>\n",
       "    </tr>\n",
       "    <tr>\n",
       "      <th>2</th>\n",
       "      <td>Champions</td>\n",
       "      <td>recency_mean</td>\n",
       "      <td>51.016949</td>\n",
       "    </tr>\n",
       "    <tr>\n",
       "      <th>4</th>\n",
       "      <td>High New Customers</td>\n",
       "      <td>recency_mean</td>\n",
       "      <td>61.181818</td>\n",
       "    </tr>\n",
       "    <tr>\n",
       "      <th>5</th>\n",
       "      <td>High Potential</td>\n",
       "      <td>recency_mean</td>\n",
       "      <td>82.790323</td>\n",
       "    </tr>\n",
       "    <tr>\n",
       "      <th>1</th>\n",
       "      <td>At Risk</td>\n",
       "      <td>recency_mean</td>\n",
       "      <td>136.157895</td>\n",
       "    </tr>\n",
       "    <tr>\n",
       "      <th>0</th>\n",
       "      <td>About to Sleep</td>\n",
       "      <td>recency_mean</td>\n",
       "      <td>149.623656</td>\n",
       "    </tr>\n",
       "    <tr>\n",
       "      <th>7</th>\n",
       "      <td>Need Attention</td>\n",
       "      <td>recency_mean</td>\n",
       "      <td>200.666667</td>\n",
       "    </tr>\n",
       "    <tr>\n",
       "      <th>9</th>\n",
       "      <td>Uniquely Promising Highs</td>\n",
       "      <td>recency_mean</td>\n",
       "      <td>209.176471</td>\n",
       "    </tr>\n",
       "    <tr>\n",
       "      <th>3</th>\n",
       "      <td>Hibernating</td>\n",
       "      <td>recency_mean</td>\n",
       "      <td>246.354430</td>\n",
       "    </tr>\n",
       "    <tr>\n",
       "      <th>23</th>\n",
       "      <td>Hibernating</td>\n",
       "      <td>monetary_mean</td>\n",
       "      <td>628.235139</td>\n",
       "    </tr>\n",
       "    <tr>\n",
       "      <th>28</th>\n",
       "      <td>New Customers</td>\n",
       "      <td>monetary_mean</td>\n",
       "      <td>744.568791</td>\n",
       "    </tr>\n",
       "    <tr>\n",
       "      <th>20</th>\n",
       "      <td>About to Sleep</td>\n",
       "      <td>monetary_mean</td>\n",
       "      <td>806.202839</td>\n",
       "    </tr>\n",
       "    <tr>\n",
       "      <th>26</th>\n",
       "      <td>Low Potential</td>\n",
       "      <td>monetary_mean</td>\n",
       "      <td>853.971556</td>\n",
       "    </tr>\n",
       "    <tr>\n",
       "      <th>21</th>\n",
       "      <td>At Risk</td>\n",
       "      <td>monetary_mean</td>\n",
       "      <td>900.218947</td>\n",
       "    </tr>\n",
       "    <tr>\n",
       "      <th>29</th>\n",
       "      <td>Uniquely Promising Highs</td>\n",
       "      <td>monetary_mean</td>\n",
       "      <td>1081.894588</td>\n",
       "    </tr>\n",
       "    <tr>\n",
       "      <th>24</th>\n",
       "      <td>High New Customers</td>\n",
       "      <td>monetary_mean</td>\n",
       "      <td>1124.693818</td>\n",
       "    </tr>\n",
       "    <tr>\n",
       "      <th>22</th>\n",
       "      <td>Champions</td>\n",
       "      <td>monetary_mean</td>\n",
       "      <td>1222.206373</td>\n",
       "    </tr>\n",
       "    <tr>\n",
       "      <th>27</th>\n",
       "      <td>Need Attention</td>\n",
       "      <td>monetary_mean</td>\n",
       "      <td>1227.357176</td>\n",
       "    </tr>\n",
       "    <tr>\n",
       "      <th>25</th>\n",
       "      <td>High Potential</td>\n",
       "      <td>monetary_mean</td>\n",
       "      <td>1228.629935</td>\n",
       "    </tr>\n",
       "    <tr>\n",
       "      <th>13</th>\n",
       "      <td>Hibernating</td>\n",
       "      <td>frequency_mean</td>\n",
       "      <td>13.240506</td>\n",
       "    </tr>\n",
       "    <tr>\n",
       "      <th>18</th>\n",
       "      <td>New Customers</td>\n",
       "      <td>frequency_mean</td>\n",
       "      <td>15.560440</td>\n",
       "    </tr>\n",
       "    <tr>\n",
       "      <th>14</th>\n",
       "      <td>High New Customers</td>\n",
       "      <td>frequency_mean</td>\n",
       "      <td>15.818182</td>\n",
       "    </tr>\n",
       "    <tr>\n",
       "      <th>19</th>\n",
       "      <td>Uniquely Promising Highs</td>\n",
       "      <td>frequency_mean</td>\n",
       "      <td>16.058824</td>\n",
       "    </tr>\n",
       "    <tr>\n",
       "      <th>10</th>\n",
       "      <td>About to Sleep</td>\n",
       "      <td>frequency_mean</td>\n",
       "      <td>16.505376</td>\n",
       "    </tr>\n",
       "    <tr>\n",
       "      <th>11</th>\n",
       "      <td>At Risk</td>\n",
       "      <td>frequency_mean</td>\n",
       "      <td>20.684211</td>\n",
       "    </tr>\n",
       "    <tr>\n",
       "      <th>15</th>\n",
       "      <td>High Potential</td>\n",
       "      <td>frequency_mean</td>\n",
       "      <td>20.693548</td>\n",
       "    </tr>\n",
       "    <tr>\n",
       "      <th>16</th>\n",
       "      <td>Low Potential</td>\n",
       "      <td>frequency_mean</td>\n",
       "      <td>21.277778</td>\n",
       "    </tr>\n",
       "    <tr>\n",
       "      <th>17</th>\n",
       "      <td>Need Attention</td>\n",
       "      <td>frequency_mean</td>\n",
       "      <td>21.372549</td>\n",
       "    </tr>\n",
       "    <tr>\n",
       "      <th>12</th>\n",
       "      <td>Champions</td>\n",
       "      <td>frequency_mean</td>\n",
       "      <td>22.694915</td>\n",
       "    </tr>\n",
       "  </tbody>\n",
       "</table>\n",
       "</div>"
      ],
      "text/plain": [
       "                    category       statistic        value\n",
       "8              New Customers    recency_mean    36.835165\n",
       "6              Low Potential    recency_mean    46.944444\n",
       "2                  Champions    recency_mean    51.016949\n",
       "4         High New Customers    recency_mean    61.181818\n",
       "5             High Potential    recency_mean    82.790323\n",
       "1                    At Risk    recency_mean   136.157895\n",
       "0             About to Sleep    recency_mean   149.623656\n",
       "7             Need Attention    recency_mean   200.666667\n",
       "9   Uniquely Promising Highs    recency_mean   209.176471\n",
       "3                Hibernating    recency_mean   246.354430\n",
       "23               Hibernating   monetary_mean   628.235139\n",
       "28             New Customers   monetary_mean   744.568791\n",
       "20            About to Sleep   monetary_mean   806.202839\n",
       "26             Low Potential   monetary_mean   853.971556\n",
       "21                   At Risk   monetary_mean   900.218947\n",
       "29  Uniquely Promising Highs   monetary_mean  1081.894588\n",
       "24        High New Customers   monetary_mean  1124.693818\n",
       "22                 Champions   monetary_mean  1222.206373\n",
       "27            Need Attention   monetary_mean  1227.357176\n",
       "25            High Potential   monetary_mean  1228.629935\n",
       "13               Hibernating  frequency_mean    13.240506\n",
       "18             New Customers  frequency_mean    15.560440\n",
       "14        High New Customers  frequency_mean    15.818182\n",
       "19  Uniquely Promising Highs  frequency_mean    16.058824\n",
       "10            About to Sleep  frequency_mean    16.505376\n",
       "11                   At Risk  frequency_mean    20.684211\n",
       "15            High Potential  frequency_mean    20.693548\n",
       "16             Low Potential  frequency_mean    21.277778\n",
       "17            Need Attention  frequency_mean    21.372549\n",
       "12                 Champions  frequency_mean    22.694915"
      ]
     },
     "execution_count": 9,
     "metadata": {},
     "output_type": "execute_result"
    }
   ],
   "source": [
    "df_rfm = df.copy()\n",
    "rfm_statistics = df_rfm.loc[:,['recency', 'frequency', 'monetary', 'group_rfm']]\n",
    "rfm_statistics = cluster_summary(rfm_statistics, 'group_rfm', sta=False, statistics_list=['mean'])\n",
    "rfm_statistics = rfm_statistics.sort_values(by=['statistic', 'value'], ascending=[False, True])\n",
    "rfm_statistics"
   ]
  },
  {
   "cell_type": "code",
   "execution_count": 18,
   "metadata": {},
   "outputs": [],
   "source": [
    "df_rfm = df.copy()\n",
    "rfm_statistics = df_rfm.loc[:,['recency', 'frequency', 'monetary', 'group_rfm']]\n",
    "rfm_statistics = cluster_summary(rfm_statistics, 'group_rfm', sta=True, statistics_list=['mean'])\n",
    "rfm_statistics = rfm_statistics.sort_values(by=['statistic', 'value'], ascending=[False, True])\n",
    "\n",
    "fig = px.line(rfm_statistics, x=\"statistic\", y=\"value\", color='category',\n",
    "              title='Snake plot of normalized variables',\n",
    "              labels=labels\n",
    "              )\n",
    "fig.show()"
   ]
  },
  {
   "cell_type": "code",
   "execution_count": 20,
   "metadata": {},
   "outputs": [
    {
     "data": {
      "application/vnd.plotly.v1+json": {
       "config": {
        "plotlyServerURL": "https://plot.ly"
       },
       "data": [
        {
         "hovertemplate": "Group=Low Potential<br>Recency=%{x}<br>Frequency=%{y}<br>Monetary=%{z}<extra></extra>",
         "legendgroup": "Low Potential",
         "marker": {
          "color": "#636efa",
          "symbol": "circle"
         },
         "mode": "markers",
         "name": "Low Potential",
         "scene": "scene",
         "showlegend": true,
         "type": "scatter3d",
         "x": [
          82,
          6,
          17,
          82,
          83,
          81,
          4,
          79,
          62,
          5,
          83,
          83,
          3,
          78,
          13,
          6,
          1,
          77
         ],
         "y": [
          21,
          22,
          21,
          21,
          20,
          20,
          20,
          21,
          21,
          22,
          23,
          20,
          22,
          20,
          21,
          22,
          24,
          22
         ],
         "z": [
          894.4480000000001,
          897.072,
          786.0639999999999,
          949.696,
          687.5039999999999,
          697.9839999999999,
          849.696,
          685.056,
          893.6319999999998,
          894.4159999999999,
          773.04,
          803.584,
          790.9599999999999,
          908.2719999999999,
          976.288,
          958.0159999999998,
          949.568,
          976.1919999999999
         ]
        },
        {
         "hovertemplate": "Group=Uniquely Promising Highs<br>Recency=%{x}<br>Frequency=%{y}<br>Monetary=%{z}<extra></extra>",
         "legendgroup": "Uniquely Promising Highs",
         "marker": {
          "color": "#EF553B",
          "symbol": "circle"
         },
         "mode": "markers",
         "name": "Uniquely Promising Highs",
         "scene": "scene",
         "showlegend": true,
         "type": "scatter3d",
         "x": [
          303,
          152,
          147,
          281,
          144,
          158,
          382,
          174,
          303,
          131,
          196,
          185,
          139,
          261,
          118,
          161,
          321
         ],
         "y": [
          14,
          17,
          16,
          17,
          17,
          17,
          14,
          15,
          17,
          16,
          17,
          14,
          17,
          16,
          16,
          17,
          16
         ],
         "z": [
          1127.408,
          1014.8480000000001,
          1014.8800000000001,
          1045.44,
          1097.136,
          991.8240000000001,
          1148.2399999999998,
          1095.2,
          1218.9279999999999,
          1019.5200000000001,
          1070.4640000000002,
          1004.8319999999999,
          998.144,
          1125.184,
          1020.7520000000001,
          1233.5200000000002,
          1165.8880000000001
         ]
        },
        {
         "hovertemplate": "Group=About to Sleep<br>Recency=%{x}<br>Frequency=%{y}<br>Monetary=%{z}<extra></extra>",
         "legendgroup": "About to Sleep",
         "marker": {
          "color": "#90dde0",
          "symbol": "circle"
         },
         "mode": "markers",
         "name": "About to Sleep",
         "scene": "scene",
         "showlegend": true,
         "type": "scatter3d",
         "x": [
          102,
          292,
          153,
          184,
          164,
          237,
          146,
          189,
          104,
          250,
          98,
          97,
          366,
          122,
          89,
          149,
          90,
          93,
          156,
          118,
          96,
          463,
          105,
          128,
          99,
          88,
          95,
          248,
          90,
          143,
          143,
          230,
          332,
          199,
          126,
          87,
          86,
          253,
          171,
          144,
          108,
          90,
          104,
          114,
          97,
          316,
          104,
          122,
          88,
          174,
          129,
          92,
          112,
          93,
          103,
          88,
          86,
          151,
          260,
          102,
          309,
          98,
          157,
          87,
          133,
          109,
          104,
          130,
          306,
          97,
          305,
          166,
          116,
          243,
          280,
          87,
          143,
          131,
          88,
          100,
          94,
          115,
          107,
          106,
          126,
          144,
          110,
          175,
          256,
          148,
          93,
          99,
          95
         ],
         "y": [
          15,
          16,
          16,
          19,
          17,
          18,
          17,
          16,
          19,
          18,
          13,
          19,
          18,
          16,
          16,
          19,
          14,
          19,
          19,
          17,
          17,
          17,
          17,
          19,
          12,
          16,
          14,
          18,
          14,
          19,
          17,
          12,
          15,
          17,
          14,
          17,
          18,
          18,
          18,
          16,
          19,
          16,
          16,
          16,
          16,
          17,
          11,
          13,
          15,
          18,
          19,
          18,
          18,
          12,
          16,
          18,
          13,
          18,
          18,
          18,
          15,
          17,
          16,
          18,
          19,
          16,
          16,
          15,
          17,
          17,
          19,
          18,
          17,
          18,
          18,
          14,
          19,
          18,
          15,
          15,
          18,
          10,
          19,
          17,
          17,
          17,
          13,
          17,
          18,
          19,
          13,
          14,
          15
         ],
         "z": [
          699.168,
          839.344,
          837.136,
          968.784,
          865.248,
          964.1279999999999,
          920.992,
          832.992,
          875.3600000000001,
          840.64,
          657.8399999999999,
          879.76,
          956.272,
          847.904,
          610.4,
          915.92,
          896.1120000000001,
          630.48,
          798.5600000000001,
          932.2239999999999,
          689.488,
          891.088,
          814.496,
          900.704,
          572.448,
          702.496,
          831.152,
          869.616,
          740.2080000000002,
          935.072,
          970.976,
          838.608,
          896.8,
          834.1760000000002,
          877.936,
          927.4399999999998,
          974.624,
          684.896,
          716.048,
          931.392,
          930.6239999999999,
          824.0320000000002,
          678.6880000000001,
          781.1679999999999,
          797.952,
          831.7439999999999,
          468.19199999999995,
          951.3439999999999,
          637.2480000000002,
          723.008,
          785.392,
          885.0079999999999,
          725.6800000000001,
          472.848,
          689.344,
          825.024,
          516.816,
          779.024,
          905.904,
          820.16,
          888.5760000000002,
          634.816,
          840.816,
          559.072,
          970.5920000000001,
          755.4239999999999,
          719.248,
          921.3120000000001,
          857.6800000000002,
          765.5360000000001,
          839.7439999999999,
          931.7760000000001,
          934.3839999999999,
          768.9440000000001,
          815.7280000000001,
          693.408,
          769.2479999999999,
          773.104,
          750.8960000000001,
          630.224,
          834.0640000000001,
          494.30400000000003,
          972.688,
          844.672,
          884.56,
          982.048,
          827.5519999999999,
          966.576,
          854.6239999999999,
          796.7839999999999,
          791.056,
          893.584,
          615.696
         ]
        },
        {
         "hovertemplate": "Group=High Potential<br>Recency=%{x}<br>Frequency=%{y}<br>Monetary=%{z}<extra></extra>",
         "legendgroup": "High Potential",
         "marker": {
          "color": "#00cc96",
          "symbol": "circle"
         },
         "mode": "markers",
         "name": "High Potential",
         "scene": "scene",
         "showlegend": true,
         "type": "scatter3d",
         "x": [
          86,
          11,
          91,
          13,
          81,
          9,
          107,
          45,
          93,
          94,
          80,
          83,
          91,
          77,
          104,
          97,
          113,
          83,
          105,
          97,
          96,
          87,
          102,
          95,
          104,
          107,
          87,
          117,
          83,
          93,
          93,
          93,
          86,
          100,
          83,
          95,
          98,
          107,
          1,
          103,
          23,
          94,
          109,
          20,
          43,
          93,
          89,
          97,
          91,
          87,
          78,
          96,
          35,
          83,
          83,
          104,
          108,
          4,
          93,
          109,
          102,
          102
         ],
         "y": [
          19,
          19,
          21,
          18,
          19,
          18,
          24,
          18,
          22,
          22,
          19,
          18,
          22,
          18,
          21,
          23,
          22,
          18,
          25,
          23,
          21,
          23,
          23,
          21,
          18,
          28,
          25,
          20,
          18,
          28,
          18,
          18,
          27,
          19,
          19,
          21,
          27,
          22,
          18,
          24,
          19,
          19,
          20,
          19,
          18,
          23,
          23,
          20,
          19,
          21,
          18,
          19,
          19,
          19,
          18,
          20,
          22,
          19,
          19,
          19,
          21,
          22
         ],
         "z": [
          1054.56,
          1179.6,
          1065.136,
          1005.36,
          1317.76,
          1095.1039999999998,
          1430.272,
          1498.1280000000002,
          1088.5439999999999,
          1169.6,
          1017.648,
          988.5759999999999,
          1616.9759999999999,
          1222.4159999999997,
          1300.72,
          1132.704,
          984.656,
          1025.632,
          1119.632,
          1245.12,
          991.7600000000001,
          1229.3760000000002,
          1303.168,
          1246.72,
          1024.5120000000002,
          1471.04,
          1487.04,
          1145.136,
          1340.512,
          1189.536,
          1126.016,
          1051.088,
          1462.608,
          1464.496,
          1276.5120000000002,
          1301.3120000000001,
          1929.0400000000002,
          1426.8160000000003,
          1050.48,
          1320.848,
          1286.272,
          1010.192,
          1188.128,
          1297.632,
          1198.288,
          1310.48,
          1349.8400000000001,
          1189.616,
          988.576,
          1183.7920000000001,
          1481.28,
          1229.168,
          1034.8959999999997,
          1003.0240000000001,
          1106,
          1022.9280000000001,
          1481.952,
          1184.016,
          1377.5679999999998,
          1058.08,
          1409.984,
          1387.1840000000002
         ]
        },
        {
         "hovertemplate": "Group=Need Attention<br>Recency=%{x}<br>Frequency=%{y}<br>Monetary=%{z}<extra></extra>",
         "legendgroup": "Need Attention",
         "marker": {
          "color": "#4AC3FF",
          "symbol": "circle"
         },
         "mode": "markers",
         "name": "Need Attention",
         "scene": "scene",
         "showlegend": true,
         "type": "scatter3d",
         "x": [
          183,
          187,
          280,
          187,
          137,
          183,
          194,
          173,
          306,
          305,
          272,
          120,
          267,
          174,
          194,
          144,
          246,
          171,
          305,
          157,
          171,
          418,
          256,
          190,
          301,
          297,
          361,
          163,
          138,
          264,
          292,
          165,
          138,
          194,
          119,
          195,
          127,
          160,
          127,
          192,
          134,
          182,
          172,
          181,
          125,
          252,
          151,
          146,
          162,
          139,
          137
         ],
         "y": [
          22,
          19,
          19,
          26,
          23,
          19,
          22,
          21,
          22,
          21,
          26,
          21,
          20,
          23,
          22,
          18,
          19,
          22,
          20,
          21,
          21,
          19,
          18,
          22,
          19,
          21,
          18,
          25,
          29,
          23,
          20,
          22,
          19,
          22,
          28,
          22,
          20,
          19,
          24,
          19,
          22,
          22,
          20,
          23,
          21,
          18,
          18,
          19,
          23,
          25,
          23
         ],
         "z": [
          1608.32,
          1101.5839999999998,
          1048.496,
          1728.672,
          1098.816,
          1355.44,
          1298.2720000000002,
          991.2479999999998,
          1367.1839999999997,
          1303.776,
          1450.9279999999999,
          1100.512,
          987.3280000000002,
          1172.3519999999999,
          1272.88,
          1125.2,
          1197.1360000000002,
          1274.784,
          1169.68,
          1260.3039999999999,
          1037.376,
          1160.816,
          1113.4399999999998,
          1230.528,
          1229.184,
          1056.256,
          1253.1200000000001,
          1271.8719999999998,
          1511.968,
          1197.968,
          1089.648,
          1059.12,
          1166.304,
          1071.8559999999998,
          1186.8639999999998,
          1329.0559999999998,
          1185.1999999999998,
          1267.0879999999997,
          1288.3039999999999,
          1071.728,
          1227.8559999999998,
          1113.8559999999998,
          1638.3519999999996,
          1401.3120000000001,
          1061.136,
          1161.648,
          1179.632,
          1462.4319999999998,
          1338.2079999999996,
          1227.632,
          1092.544
         ]
        },
        {
         "hovertemplate": "Group=Hibernating<br>Recency=%{x}<br>Frequency=%{y}<br>Monetary=%{z}<extra></extra>",
         "legendgroup": "Hibernating",
         "marker": {
          "color": "#684cf6",
          "symbol": "circle"
         },
         "mode": "markers",
         "name": "Hibernating",
         "scene": "scene",
         "showlegend": true,
         "type": "scatter3d",
         "x": [
          121,
          162,
          175,
          362,
          255,
          135,
          213,
          143,
          309,
          130,
          122,
          188,
          141,
          319,
          181,
          321,
          238,
          183,
          244,
          504,
          141,
          376,
          188,
          186,
          158,
          124,
          294,
          300,
          154,
          463,
          163,
          275,
          305,
          119,
          608,
          312,
          164,
          488,
          216,
          171,
          239,
          364,
          211,
          196,
          321,
          369,
          316,
          126,
          186,
          292,
          270,
          118,
          473,
          154,
          154,
          289,
          284,
          455,
          175,
          303,
          275,
          246,
          155,
          124,
          163,
          178,
          455,
          277,
          245,
          498,
          186,
          181,
          272,
          121,
          399,
          192,
          138,
          236,
          175
         ],
         "y": [
          13,
          16,
          17,
          12,
          12,
          16,
          16,
          16,
          17,
          7,
          13,
          17,
          13,
          16,
          14,
          16,
          12,
          13,
          15,
          11,
          12,
          15,
          17,
          13,
          16,
          15,
          10,
          7,
          11,
          17,
          17,
          11,
          10,
          14,
          10,
          13,
          13,
          10,
          13,
          13,
          15,
          9,
          16,
          11,
          12,
          13,
          12,
          15,
          11,
          13,
          16,
          15,
          7,
          15,
          13,
          16,
          12,
          12,
          16,
          13,
          13,
          16,
          15,
          14,
          12,
          11,
          11,
          12,
          15,
          15,
          8,
          14,
          15,
          14,
          7,
          12,
          12,
          12,
          17
         ],
         "z": [
          474.48,
          613.2,
          772.7040000000001,
          550.208,
          709.3599999999999,
          759.392,
          656.3520000000001,
          754.3199999999999,
          758.384,
          227.77599999999998,
          768.96,
          734.384,
          618.4960000000001,
          757.2160000000001,
          639.072,
          648.192,
          763.5840000000001,
          606.32,
          712.0799999999999,
          386.336,
          542.4159999999999,
          791.8879999999998,
          704.6080000000001,
          738.56,
          675.376,
          806.5760000000002,
          621.12,
          499.952,
          669.2959999999999,
          762.9920000000001,
          816.0639999999999,
          623.8559999999999,
          314.40000000000003,
          744.7679999999998,
          777.5999999999998,
          483.36,
          530.8480000000002,
          697.504,
          539.456,
          681.584,
          821.4399999999999,
          372.33599999999996,
          428.75199999999995,
          745.28,
          713.7920000000001,
          606.896,
          654.3839999999999,
          395.6,
          501.8239999999999,
          395.02399999999994,
          658.272,
          789.856,
          268.48,
          528.4000000000001,
          471.47200000000004,
          710.624,
          607.5039999999999,
          555.904,
          750.0640000000001,
          591.744,
          627.936,
          740.672,
          664.864,
          700.912,
          723.088,
          644.0160000000001,
          455.072,
          642.6080000000001,
          666.048,
          768.0640000000001,
          513.3919999999999,
          688.5279999999998,
          823.3600000000001,
          726.832,
          279.008,
          570.016,
          565.0880000000001,
          744.4319999999999,
          585.952
         ]
        },
        {
         "hovertemplate": "Group=Champions<br>Recency=%{x}<br>Frequency=%{y}<br>Monetary=%{z}<extra></extra>",
         "legendgroup": "Champions",
         "marker": {
          "color": "#FF4AC8",
          "symbol": "circle"
         },
         "mode": "markers",
         "name": "Champions",
         "scene": "scene",
         "showlegend": true,
         "type": "scatter3d",
         "x": [
          69,
          54,
          78,
          2,
          78,
          83,
          37,
          31,
          79,
          77,
          83,
          81,
          5,
          84,
          78,
          80,
          83,
          47,
          71,
          7,
          77,
          68,
          4,
          14,
          81,
          83,
          42,
          79,
          83,
          11,
          1,
          15,
          81,
          77,
          8,
          13,
          68,
          81,
          7,
          12,
          84,
          71,
          77,
          80,
          26,
          80,
          6,
          55,
          10,
          83,
          14,
          15,
          35,
          82,
          60,
          15,
          12,
          83,
          10
         ],
         "y": [
          24,
          20,
          21,
          25,
          24,
          23,
          23,
          20,
          21,
          23,
          21,
          22,
          21,
          22,
          30,
          22,
          21,
          20,
          25,
          22,
          25,
          20,
          21,
          24,
          23,
          20,
          24,
          29,
          23,
          20,
          26,
          27,
          20,
          26,
          22,
          23,
          27,
          23,
          21,
          20,
          21,
          24,
          20,
          21,
          21,
          22,
          25,
          24,
          20,
          27,
          23,
          23,
          21,
          20,
          22,
          20,
          25,
          21,
          25
         ],
         "z": [
          1236.096,
          1375.504,
          1401.616,
          1352.512,
          1093.056,
          1145.92,
          1131.088,
          1219.248,
          1019.552,
          1095.92,
          1044.784,
          1589.68,
          1111.952,
          1045.52,
          1361.008,
          1173.872,
          1413.3120000000001,
          998.1759999999999,
          1474.496,
          1214.1439999999998,
          1135.5200000000002,
          1078.864,
          1062.4319999999998,
          1039.3919999999998,
          1271.5040000000001,
          1030.912,
          1311.952,
          1527.0559999999998,
          1050.6399999999999,
          1017.1840000000001,
          1472.464,
          1465.5680000000002,
          1282.192,
          1199.52,
          990.0319999999999,
          1428.7679999999998,
          1516.272,
          1051.216,
          1154.2559999999999,
          988.992,
          1023.8720000000001,
          1224.4,
          1304.24,
          1139.9679999999998,
          1164.4,
          1285.7599999999998,
          1101.7440000000001,
          1460.784,
          1013.024,
          1577.472,
          1496.3359999999998,
          1122.9599999999998,
          1299.2640000000001,
          1133.3439999999998,
          1328.448,
          1082.7519999999997,
          1026.1119999999999,
          1263.056,
          1490.048
         ]
        },
        {
         "hovertemplate": "Group=New Customers<br>Recency=%{x}<br>Frequency=%{y}<br>Monetary=%{z}<extra></extra>",
         "legendgroup": "New Customers",
         "marker": {
          "color": "#447FF5",
          "symbol": "circle"
         },
         "mode": "markers",
         "name": "New Customers",
         "scene": "scene",
         "showlegend": true,
         "type": "scatter3d",
         "x": [
          4,
          26,
          13,
          16,
          13,
          8,
          1,
          1,
          6,
          41,
          34,
          12,
          4,
          83,
          30,
          84,
          5,
          2,
          64,
          1,
          10,
          10,
          77,
          83,
          16,
          7,
          79,
          84,
          19,
          6,
          9,
          81,
          83,
          79,
          81,
          28,
          28,
          84,
          4,
          46,
          2,
          14,
          83,
          73,
          81,
          57,
          14,
          11,
          15,
          9,
          82,
          7,
          85,
          12,
          32,
          9,
          5,
          23,
          4,
          75,
          59,
          2,
          13,
          55,
          2,
          12,
          77,
          4,
          84,
          41,
          10,
          83,
          4,
          79,
          78,
          36,
          10,
          1,
          34,
          7,
          83,
          77,
          14,
          81,
          77,
          14,
          6,
          78,
          83,
          77,
          16
         ],
         "y": [
          13,
          19,
          17,
          11,
          17,
          11,
          18,
          15,
          15,
          13,
          18,
          9,
          17,
          16,
          18,
          19,
          15,
          19,
          15,
          19,
          11,
          15,
          16,
          12,
          15,
          18,
          16,
          15,
          14,
          19,
          13,
          17,
          18,
          12,
          13,
          17,
          17,
          17,
          11,
          15,
          14,
          13,
          12,
          15,
          11,
          18,
          17,
          9,
          17,
          19,
          19,
          19,
          18,
          18,
          17,
          15,
          16,
          15,
          18,
          12,
          15,
          19,
          17,
          12,
          18,
          17,
          17,
          15,
          13,
          16,
          17,
          13,
          18,
          11,
          15,
          14,
          10,
          18,
          19,
          17,
          18,
          17,
          19,
          14,
          15,
          16,
          15,
          17,
          16,
          14,
          17
         ],
         "z": [
          800.9279999999999,
          769.3600000000001,
          832.3839999999999,
          380.64000000000004,
          718.72,
          553.2640000000001,
          943.68,
          628.8000000000001,
          901.5039999999999,
          644.848,
          984.0319999999998,
          435.632,
          903.232,
          795.8399999999999,
          942.2560000000001,
          757.3119999999999,
          757.072,
          891.296,
          616.5919999999999,
          968.8,
          510.464,
          958.3679999999999,
          649.7760000000001,
          630.448,
          726.8000000000001,
          762.9440000000001,
          595.52,
          738.3519999999999,
          722.3520000000001,
          867.7280000000001,
          710.16,
          746.208,
          797.168,
          487.312,
          784.384,
          804.224,
          754.8159999999999,
          723.392,
          448.4,
          652.0319999999999,
          714.3999999999999,
          582.8,
          484.38399999999996,
          627.2800000000001,
          692.448,
          975.424,
          932.496,
          632.6560000000001,
          576.5919999999999,
          947.92,
          834.0960000000001,
          837.552,
          871.5039999999999,
          783.5999999999999,
          708.112,
          807.184,
          635.9359999999999,
          732.1280000000002,
          782.432,
          749.7280000000001,
          662.4000000000001,
          859.9839999999999,
          890.1440000000001,
          700.784,
          807.424,
          780.08,
          839.328,
          900.5759999999999,
          674.3679999999999,
          765.3119999999999,
          929.9839999999999,
          642.2879999999999,
          665.8399999999999,
          544.08,
          815.9680000000001,
          742.8960000000001,
          727.8559999999999,
          703.76,
          937.328,
          768.6400000000001,
          725.696,
          723.664,
          847.712,
          812.6080000000002,
          796.448,
          785.248,
          924.0320000000002,
          563.1039999999999,
          766.1279999999999,
          670.7520000000001,
          575.6160000000001
         ]
        },
        {
         "hovertemplate": "Group=High New Customers<br>Recency=%{x}<br>Frequency=%{y}<br>Monetary=%{z}<extra></extra>",
         "legendgroup": "High New Customers",
         "marker": {
          "color": "#ab63fa",
          "symbol": "circle"
         },
         "mode": "markers",
         "name": "High New Customers",
         "scene": "scene",
         "showlegend": true,
         "type": "scatter3d",
         "x": [
          116,
          5,
          79,
          24,
          78,
          98,
          93,
          83,
          77,
          2,
          18
         ],
         "y": [
          16,
          17,
          17,
          17,
          14,
          14,
          16,
          17,
          15,
          17,
          14
         ],
         "z": [
          1186.08,
          1007.1999999999999,
          1199.1840000000002,
          1169.6319999999998,
          1097.152,
          1086.512,
          1041.84,
          1043.344,
          1140.0159999999998,
          1145.2,
          1255.4719999999998
         ]
        },
        {
         "hovertemplate": "Group=At Risk<br>Recency=%{x}<br>Frequency=%{y}<br>Monetary=%{z}<extra></extra>",
         "legendgroup": "At Risk",
         "marker": {
          "color": "#1e5274",
          "symbol": "circle"
         },
         "mode": "markers",
         "name": "At Risk",
         "scene": "scene",
         "showlegend": true,
         "type": "scatter3d",
         "x": [
          160,
          100,
          166,
          100,
          86,
          195,
          155,
          97,
          124,
          110,
          115,
          104,
          269,
          108,
          93,
          304,
          106,
          104,
          91
         ],
         "y": [
          20,
          21,
          20,
          22,
          21,
          20,
          21,
          20,
          22,
          21,
          20,
          20,
          20,
          20,
          22,
          20,
          20,
          22,
          21
         ],
         "z": [
          888.592,
          921.088,
          895.712,
          931.008,
          977.4080000000001,
          889.6,
          842.24,
          934.2239999999999,
          976.3520000000001,
          976.848,
          845.4879999999999,
          779.84,
          908.0160000000001,
          900.768,
          879.0400000000001,
          711.68,
          963.456,
          939.4399999999998,
          943.3599999999999
         ]
        }
       ],
       "layout": {
        "legend": {
         "title": {
          "text": "Group"
         },
         "tracegroupgap": 0
        },
        "scene": {
         "domain": {
          "x": [
           0,
           1
          ],
          "y": [
           0,
           1
          ]
         },
         "xaxis": {
          "title": {
           "text": "Recency"
          }
         },
         "yaxis": {
          "title": {
           "text": "Frequency"
          }
         },
         "zaxis": {
          "title": {
           "text": "Monetary"
          }
         }
        },
        "template": {
         "data": {
          "bar": [
           {
            "error_x": {
             "color": "#2a3f5f"
            },
            "error_y": {
             "color": "#2a3f5f"
            },
            "marker": {
             "line": {
              "color": "#E5ECF6",
              "width": 0.5
             },
             "pattern": {
              "fillmode": "overlay",
              "size": 10,
              "solidity": 0.2
             }
            },
            "type": "bar"
           }
          ],
          "barpolar": [
           {
            "marker": {
             "line": {
              "color": "#E5ECF6",
              "width": 0.5
             },
             "pattern": {
              "fillmode": "overlay",
              "size": 10,
              "solidity": 0.2
             }
            },
            "type": "barpolar"
           }
          ],
          "carpet": [
           {
            "aaxis": {
             "endlinecolor": "#2a3f5f",
             "gridcolor": "white",
             "linecolor": "white",
             "minorgridcolor": "white",
             "startlinecolor": "#2a3f5f"
            },
            "baxis": {
             "endlinecolor": "#2a3f5f",
             "gridcolor": "white",
             "linecolor": "white",
             "minorgridcolor": "white",
             "startlinecolor": "#2a3f5f"
            },
            "type": "carpet"
           }
          ],
          "choropleth": [
           {
            "colorbar": {
             "outlinewidth": 0,
             "ticks": ""
            },
            "type": "choropleth"
           }
          ],
          "contour": [
           {
            "colorbar": {
             "outlinewidth": 0,
             "ticks": ""
            },
            "colorscale": [
             [
              0,
              "#0d0887"
             ],
             [
              0.1111111111111111,
              "#46039f"
             ],
             [
              0.2222222222222222,
              "#7201a8"
             ],
             [
              0.3333333333333333,
              "#9c179e"
             ],
             [
              0.4444444444444444,
              "#bd3786"
             ],
             [
              0.5555555555555556,
              "#d8576b"
             ],
             [
              0.6666666666666666,
              "#ed7953"
             ],
             [
              0.7777777777777778,
              "#fb9f3a"
             ],
             [
              0.8888888888888888,
              "#fdca26"
             ],
             [
              1,
              "#f0f921"
             ]
            ],
            "type": "contour"
           }
          ],
          "contourcarpet": [
           {
            "colorbar": {
             "outlinewidth": 0,
             "ticks": ""
            },
            "type": "contourcarpet"
           }
          ],
          "heatmap": [
           {
            "colorbar": {
             "outlinewidth": 0,
             "ticks": ""
            },
            "colorscale": [
             [
              0,
              "#0d0887"
             ],
             [
              0.1111111111111111,
              "#46039f"
             ],
             [
              0.2222222222222222,
              "#7201a8"
             ],
             [
              0.3333333333333333,
              "#9c179e"
             ],
             [
              0.4444444444444444,
              "#bd3786"
             ],
             [
              0.5555555555555556,
              "#d8576b"
             ],
             [
              0.6666666666666666,
              "#ed7953"
             ],
             [
              0.7777777777777778,
              "#fb9f3a"
             ],
             [
              0.8888888888888888,
              "#fdca26"
             ],
             [
              1,
              "#f0f921"
             ]
            ],
            "type": "heatmap"
           }
          ],
          "heatmapgl": [
           {
            "colorbar": {
             "outlinewidth": 0,
             "ticks": ""
            },
            "colorscale": [
             [
              0,
              "#0d0887"
             ],
             [
              0.1111111111111111,
              "#46039f"
             ],
             [
              0.2222222222222222,
              "#7201a8"
             ],
             [
              0.3333333333333333,
              "#9c179e"
             ],
             [
              0.4444444444444444,
              "#bd3786"
             ],
             [
              0.5555555555555556,
              "#d8576b"
             ],
             [
              0.6666666666666666,
              "#ed7953"
             ],
             [
              0.7777777777777778,
              "#fb9f3a"
             ],
             [
              0.8888888888888888,
              "#fdca26"
             ],
             [
              1,
              "#f0f921"
             ]
            ],
            "type": "heatmapgl"
           }
          ],
          "histogram": [
           {
            "marker": {
             "pattern": {
              "fillmode": "overlay",
              "size": 10,
              "solidity": 0.2
             }
            },
            "type": "histogram"
           }
          ],
          "histogram2d": [
           {
            "colorbar": {
             "outlinewidth": 0,
             "ticks": ""
            },
            "colorscale": [
             [
              0,
              "#0d0887"
             ],
             [
              0.1111111111111111,
              "#46039f"
             ],
             [
              0.2222222222222222,
              "#7201a8"
             ],
             [
              0.3333333333333333,
              "#9c179e"
             ],
             [
              0.4444444444444444,
              "#bd3786"
             ],
             [
              0.5555555555555556,
              "#d8576b"
             ],
             [
              0.6666666666666666,
              "#ed7953"
             ],
             [
              0.7777777777777778,
              "#fb9f3a"
             ],
             [
              0.8888888888888888,
              "#fdca26"
             ],
             [
              1,
              "#f0f921"
             ]
            ],
            "type": "histogram2d"
           }
          ],
          "histogram2dcontour": [
           {
            "colorbar": {
             "outlinewidth": 0,
             "ticks": ""
            },
            "colorscale": [
             [
              0,
              "#0d0887"
             ],
             [
              0.1111111111111111,
              "#46039f"
             ],
             [
              0.2222222222222222,
              "#7201a8"
             ],
             [
              0.3333333333333333,
              "#9c179e"
             ],
             [
              0.4444444444444444,
              "#bd3786"
             ],
             [
              0.5555555555555556,
              "#d8576b"
             ],
             [
              0.6666666666666666,
              "#ed7953"
             ],
             [
              0.7777777777777778,
              "#fb9f3a"
             ],
             [
              0.8888888888888888,
              "#fdca26"
             ],
             [
              1,
              "#f0f921"
             ]
            ],
            "type": "histogram2dcontour"
           }
          ],
          "mesh3d": [
           {
            "colorbar": {
             "outlinewidth": 0,
             "ticks": ""
            },
            "type": "mesh3d"
           }
          ],
          "parcoords": [
           {
            "line": {
             "colorbar": {
              "outlinewidth": 0,
              "ticks": ""
             }
            },
            "type": "parcoords"
           }
          ],
          "pie": [
           {
            "automargin": true,
            "type": "pie"
           }
          ],
          "scatter": [
           {
            "fillpattern": {
             "fillmode": "overlay",
             "size": 10,
             "solidity": 0.2
            },
            "type": "scatter"
           }
          ],
          "scatter3d": [
           {
            "line": {
             "colorbar": {
              "outlinewidth": 0,
              "ticks": ""
             }
            },
            "marker": {
             "colorbar": {
              "outlinewidth": 0,
              "ticks": ""
             }
            },
            "type": "scatter3d"
           }
          ],
          "scattercarpet": [
           {
            "marker": {
             "colorbar": {
              "outlinewidth": 0,
              "ticks": ""
             }
            },
            "type": "scattercarpet"
           }
          ],
          "scattergeo": [
           {
            "marker": {
             "colorbar": {
              "outlinewidth": 0,
              "ticks": ""
             }
            },
            "type": "scattergeo"
           }
          ],
          "scattergl": [
           {
            "marker": {
             "colorbar": {
              "outlinewidth": 0,
              "ticks": ""
             }
            },
            "type": "scattergl"
           }
          ],
          "scattermapbox": [
           {
            "marker": {
             "colorbar": {
              "outlinewidth": 0,
              "ticks": ""
             }
            },
            "type": "scattermapbox"
           }
          ],
          "scatterpolar": [
           {
            "marker": {
             "colorbar": {
              "outlinewidth": 0,
              "ticks": ""
             }
            },
            "type": "scatterpolar"
           }
          ],
          "scatterpolargl": [
           {
            "marker": {
             "colorbar": {
              "outlinewidth": 0,
              "ticks": ""
             }
            },
            "type": "scatterpolargl"
           }
          ],
          "scatterternary": [
           {
            "marker": {
             "colorbar": {
              "outlinewidth": 0,
              "ticks": ""
             }
            },
            "type": "scatterternary"
           }
          ],
          "surface": [
           {
            "colorbar": {
             "outlinewidth": 0,
             "ticks": ""
            },
            "colorscale": [
             [
              0,
              "#0d0887"
             ],
             [
              0.1111111111111111,
              "#46039f"
             ],
             [
              0.2222222222222222,
              "#7201a8"
             ],
             [
              0.3333333333333333,
              "#9c179e"
             ],
             [
              0.4444444444444444,
              "#bd3786"
             ],
             [
              0.5555555555555556,
              "#d8576b"
             ],
             [
              0.6666666666666666,
              "#ed7953"
             ],
             [
              0.7777777777777778,
              "#fb9f3a"
             ],
             [
              0.8888888888888888,
              "#fdca26"
             ],
             [
              1,
              "#f0f921"
             ]
            ],
            "type": "surface"
           }
          ],
          "table": [
           {
            "cells": {
             "fill": {
              "color": "#EBF0F8"
             },
             "line": {
              "color": "white"
             }
            },
            "header": {
             "fill": {
              "color": "#C8D4E3"
             },
             "line": {
              "color": "white"
             }
            },
            "type": "table"
           }
          ]
         },
         "layout": {
          "annotationdefaults": {
           "arrowcolor": "#2a3f5f",
           "arrowhead": 0,
           "arrowwidth": 1
          },
          "autotypenumbers": "strict",
          "coloraxis": {
           "colorbar": {
            "outlinewidth": 0,
            "ticks": ""
           }
          },
          "colorscale": {
           "diverging": [
            [
             0,
             "#8e0152"
            ],
            [
             0.1,
             "#c51b7d"
            ],
            [
             0.2,
             "#de77ae"
            ],
            [
             0.3,
             "#f1b6da"
            ],
            [
             0.4,
             "#fde0ef"
            ],
            [
             0.5,
             "#f7f7f7"
            ],
            [
             0.6,
             "#e6f5d0"
            ],
            [
             0.7,
             "#b8e186"
            ],
            [
             0.8,
             "#7fbc41"
            ],
            [
             0.9,
             "#4d9221"
            ],
            [
             1,
             "#276419"
            ]
           ],
           "sequential": [
            [
             0,
             "#0d0887"
            ],
            [
             0.1111111111111111,
             "#46039f"
            ],
            [
             0.2222222222222222,
             "#7201a8"
            ],
            [
             0.3333333333333333,
             "#9c179e"
            ],
            [
             0.4444444444444444,
             "#bd3786"
            ],
            [
             0.5555555555555556,
             "#d8576b"
            ],
            [
             0.6666666666666666,
             "#ed7953"
            ],
            [
             0.7777777777777778,
             "#fb9f3a"
            ],
            [
             0.8888888888888888,
             "#fdca26"
            ],
            [
             1,
             "#f0f921"
            ]
           ],
           "sequentialminus": [
            [
             0,
             "#0d0887"
            ],
            [
             0.1111111111111111,
             "#46039f"
            ],
            [
             0.2222222222222222,
             "#7201a8"
            ],
            [
             0.3333333333333333,
             "#9c179e"
            ],
            [
             0.4444444444444444,
             "#bd3786"
            ],
            [
             0.5555555555555556,
             "#d8576b"
            ],
            [
             0.6666666666666666,
             "#ed7953"
            ],
            [
             0.7777777777777778,
             "#fb9f3a"
            ],
            [
             0.8888888888888888,
             "#fdca26"
            ],
            [
             1,
             "#f0f921"
            ]
           ]
          },
          "colorway": [
           "#636efa",
           "#EF553B",
           "#00cc96",
           "#ab63fa",
           "#FFA15A",
           "#19d3f3",
           "#FF6692",
           "#B6E880",
           "#FF97FF",
           "#FECB52"
          ],
          "font": {
           "color": "#2a3f5f"
          },
          "geo": {
           "bgcolor": "white",
           "lakecolor": "white",
           "landcolor": "#E5ECF6",
           "showlakes": true,
           "showland": true,
           "subunitcolor": "white"
          },
          "hoverlabel": {
           "align": "left"
          },
          "hovermode": "closest",
          "mapbox": {
           "style": "light"
          },
          "paper_bgcolor": "white",
          "plot_bgcolor": "#E5ECF6",
          "polar": {
           "angularaxis": {
            "gridcolor": "white",
            "linecolor": "white",
            "ticks": ""
           },
           "bgcolor": "#E5ECF6",
           "radialaxis": {
            "gridcolor": "white",
            "linecolor": "white",
            "ticks": ""
           }
          },
          "scene": {
           "xaxis": {
            "backgroundcolor": "#E5ECF6",
            "gridcolor": "white",
            "gridwidth": 2,
            "linecolor": "white",
            "showbackground": true,
            "ticks": "",
            "zerolinecolor": "white"
           },
           "yaxis": {
            "backgroundcolor": "#E5ECF6",
            "gridcolor": "white",
            "gridwidth": 2,
            "linecolor": "white",
            "showbackground": true,
            "ticks": "",
            "zerolinecolor": "white"
           },
           "zaxis": {
            "backgroundcolor": "#E5ECF6",
            "gridcolor": "white",
            "gridwidth": 2,
            "linecolor": "white",
            "showbackground": true,
            "ticks": "",
            "zerolinecolor": "white"
           }
          },
          "shapedefaults": {
           "line": {
            "color": "#2a3f5f"
           }
          },
          "ternary": {
           "aaxis": {
            "gridcolor": "white",
            "linecolor": "white",
            "ticks": ""
           },
           "baxis": {
            "gridcolor": "white",
            "linecolor": "white",
            "ticks": ""
           },
           "bgcolor": "#E5ECF6",
           "caxis": {
            "gridcolor": "white",
            "linecolor": "white",
            "ticks": ""
           }
          },
          "title": {
           "x": 0.05
          },
          "xaxis": {
           "automargin": true,
           "gridcolor": "white",
           "linecolor": "white",
           "ticks": "",
           "title": {
            "standoff": 15
           },
           "zerolinecolor": "white",
           "zerolinewidth": 2
          },
          "yaxis": {
           "automargin": true,
           "gridcolor": "white",
           "linecolor": "white",
           "ticks": "",
           "title": {
            "standoff": 15
           },
           "zerolinecolor": "white",
           "zerolinewidth": 2
          }
         }
        },
        "title": {
         "text": "RFM Rubik Cube"
        }
       }
      }
     },
     "metadata": {},
     "output_type": "display_data"
    }
   ],
   "source": [
    "fig = px.scatter_3d(df_rfm, x='recency', y='frequency', z='monetary', color='group_rfm',\n",
    "                    title = 'RFM Rubik Cube',\n",
    "                    category_orders={'segment': ['Hibernating','About to Sleep','New Customers','Potential low',\n",
    "                                                 'At Risk','New Customers higt','Unique higt - Promising',\n",
    "                                                 'Need Attention','Potential higt','Champions']},\n",
    "                    color_discrete_map={'Hibernating':'#684cf6','About to Sleep':'#90dde0','New Customers':'#447FF5',\n",
    "                                        'Potential low':'#78e591','At Risk':'#1e5274','New Customers higt':'#FFE343',\n",
    "                                        'Unique higt - Promising':'#9EFF43','Need Attention':'#4AC3FF',\n",
    "                                        'Potential higt':'#D04AFF','Champions':'#FF4AC8'},\n",
    "                    labels=labels\n",
    "                   )\n",
    "fig.show()"
   ]
  },
  {
   "cell_type": "markdown",
   "metadata": {},
   "source": [
    "## 4.3 Analysis for Kmeans"
   ]
  },
  {
   "cell_type": "code",
   "execution_count": null,
   "metadata": {},
   "outputs": [],
   "source": []
  },
  {
   "cell_type": "code",
   "execution_count": null,
   "metadata": {},
   "outputs": [],
   "source": []
  },
  {
   "cell_type": "code",
   "execution_count": null,
   "metadata": {},
   "outputs": [],
   "source": []
  },
  {
   "cell_type": "code",
   "execution_count": null,
   "metadata": {},
   "outputs": [],
   "source": [
    "kmeans_statistics = cluster_summary(df_models2, 'group_kmeans', sta=False, statistics_list=['mean'])\n",
    "kmeans_statistics = kmeans_statistics.sort_values(by=['statistic', 'value'], ascending=[False, True])\n",
    "kmeans_statistics"
   ]
  },
  {
   "cell_type": "code",
   "execution_count": null,
   "metadata": {},
   "outputs": [],
   "source": [
    "# kmeans_statistics = cluster_summary(df_models2, 'group_kmeans', sta=True, statistics_list=['mean'])\n",
    "# kmeans_statistics = kmeans_statistics.sort_values(by=['statistic', 'value'], ascending=[False, True])\n",
    "\n",
    "# fig = px.line(kmeans_statistics, x=\"statistic\", y=\"value\", color='category',\n",
    "#               title='Snake plot of normalized variables (building)')\n",
    "# fig.show()"
   ]
  },
  {
   "cell_type": "code",
   "execution_count": null,
   "metadata": {},
   "outputs": [],
   "source": []
  },
  {
   "cell_type": "code",
   "execution_count": null,
   "metadata": {},
   "outputs": [],
   "source": [
    "gmm_statistics = cluster_summary(df_models3, 'group_gmm', sta=False, statistics_list=['mean'])\n",
    "gmm_statistics = gmm_statistics.sort_values(by=['statistic', 'value'], ascending=[False, True])\n",
    "gmm_statistics"
   ]
  },
  {
   "cell_type": "code",
   "execution_count": null,
   "metadata": {},
   "outputs": [],
   "source": [
    "# gmm_statistics = cluster_summary(df_models3, 'group_gmm', sta=True, statistics_list=['mean'])\n",
    "# gmm_statistics = gmm_statistics.sort_values(by=['statistic', 'value'], ascending=[False, True])\n",
    "\n",
    "# fig = px.line(gmm_statistics, x=\"statistic\", y=\"value\", color='category',\n",
    "#               title='Snake plot of normalized variables (building)')\n",
    "# fig.show()"
   ]
  }
 ],
 "metadata": {
  "kernelspec": {
   "display_name": "Python 3",
   "language": "python",
   "name": "python3"
  },
  "language_info": {
   "codemirror_mode": {
    "name": "ipython",
    "version": 3
   },
   "file_extension": ".py",
   "mimetype": "text/x-python",
   "name": "python",
   "nbconvert_exporter": "python",
   "pygments_lexer": "ipython3",
   "version": "3.12.1"
  }
 },
 "nbformat": 4,
 "nbformat_minor": 2
}
