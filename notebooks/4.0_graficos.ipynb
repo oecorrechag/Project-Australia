{
 "cells": [
  {
   "cell_type": "markdown",
   "metadata": {},
   "source": [
    "# 4.0 Show models\n",
    "\n",
    "AIMS\n",
    "\n",
    "In this document, ____:"
   ]
  },
  {
   "cell_type": "code",
   "execution_count": 2,
   "metadata": {},
   "outputs": [],
   "source": [
    "%load_ext autoreload\n",
    "%autoreload 2"
   ]
  },
  {
   "cell_type": "code",
   "execution_count": 4,
   "metadata": {},
   "outputs": [],
   "source": [
    "import pandas as pd\n",
    "import plotly.express as px\n",
    "from mypackage import dir\n",
    "from mypackage.clustering import cluster_summary\n",
    "\n",
    "modality =  modality = 'p'\n",
    "project = 'australian'\n",
    "data = dir.make_dir_line(modality, project) \n",
    "processed = data('processed')\n",
    "models = data('models')\n",
    "\n",
    "pd.set_option('display.max_columns', None)\n",
    "pd.set_option('display.max_rows', None)\n",
    "import warnings\n",
    "warnings.filterwarnings(\"ignore\")"
   ]
  },
  {
   "cell_type": "markdown",
   "metadata": {},
   "source": [
    "## 4.1 Load data"
   ]
  },
  {
   "cell_type": "code",
   "execution_count": 5,
   "metadata": {},
   "outputs": [],
   "source": [
    "dataset = pd.read_parquet(processed/'dataset.parquet.gzip')\n",
    "df_model = pd.read_parquet(models/'df_models.parquet.gzip')"
   ]
  },
  {
   "cell_type": "code",
   "execution_count": null,
   "metadata": {},
   "outputs": [],
   "source": [
    "\n",
    "\n",
    "labels={'r_quartile':'R Quantile', \n",
    "        'f_quartile':'F Quantile', \n",
    "        'm_quartile':'M Quantile', \n",
    "        'recency':'Recency',\n",
    "        'frequency':'Frequency',\n",
    "        'monetary':'Monetary',\n",
    "        'group':'Group',\n",
    "        'group_rfm':'Group',\n",
    "        'segment':'Segment',\n",
    "        'frequency_mean':'Frequency mean',\n",
    "        'monetary_mean':'Monetary mean',\n",
    "        'recency_mean':'Recency mean',\n",
    "        'category':'Category'\n",
    "        }"
   ]
  },
  {
   "cell_type": "code",
   "execution_count": null,
   "metadata": {},
   "outputs": [],
   "source": [
    "rfm_statistics = df_models.loc[:,['recency', 'frequency', 'monetary', 'group_rfm']]\n",
    "rfm_statistics = cluster_summary(rfm_statistics, 'group_rfm', sta=False, statistics_list=['mean'])\n",
    "rfm_statistics = rfm_statistics.sort_values(by=['statistic', 'value'], ascending=[False, True])\n",
    "rfm_statistics"
   ]
  },
  {
   "cell_type": "code",
   "execution_count": null,
   "metadata": {},
   "outputs": [],
   "source": [
    "rfm_statistics = df_models.loc[:,['recency', 'frequency', 'monetary', 'group_rfm']]\n",
    "rfm_statistics = cluster_summary(df_models, 'group_rfm', sta=True, statistics_list=['mean'])\n",
    "rfm_statistics = rfm_statistics.sort_values(by=['statistic', 'value'], ascending=[False, True])\n",
    "\n",
    "fig = px.line(rfm_statistics, x=\"statistic\", y=\"value\", color='category',\n",
    "              title='Snake plot of normalized variables',\n",
    "              labels=labels\n",
    "              )\n",
    "fig.show()"
   ]
  },
  {
   "cell_type": "code",
   "execution_count": null,
   "metadata": {},
   "outputs": [],
   "source": [
    "fig = px.scatter_3d(df_models, x='recency', y='frequency', z='monetary', color='group_rfm',\n",
    "                    title = 'RFM Rubik Cube',\n",
    "                    category_orders={'segment': ['Hibernating','About to Sleep','New Customers','Potential low',\n",
    "                                                 'At Risk','New Customers higt','Unique higt - Promising',\n",
    "                                                 'Need Attention','Potential higt','Champions']},\n",
    "                    color_discrete_map={'Hibernating':'#684cf6','About to Sleep':'#90dde0','New Customers':'#447FF5',\n",
    "                                        'Potential low':'#78e591','At Risk':'#1e5274','New Customers higt':'#FFE343',\n",
    "                                        'Unique higt - Promising':'#9EFF43','Need Attention':'#4AC3FF',\n",
    "                                        'Potential higt':'#D04AFF','Champions':'#FF4AC8'},\n",
    "                    labels=labels\n",
    "                   )\n",
    "fig.show()"
   ]
  },
  {
   "cell_type": "code",
   "execution_count": null,
   "metadata": {},
   "outputs": [],
   "source": [
    "fig = px.box(df_models, y='recency', color='group_rfm', \n",
    "             title = 'RFM Recency',\n",
    "        #      category_orders={'segment': ['Hibernating','About to Sleep','New Customers','Potential low',\n",
    "        #                                   'At Risk','New Customers higt','Unique higt - Promising',\n",
    "        #                                   'Need Attention','Potential higt','Champions']},\n",
    "             color_discrete_map={'Hibernating':'#684cf6','About to Sleep':'#90dde0','New Customers':'#447FF5',\n",
    "                                 'Potential low':'#78e591','At Risk':'#1e5274','New Customers higt':'#FFE343',\n",
    "                                 'Unique higt - Promising':'#9EFF43','Need Attention':'#4AC3FF',\n",
    "                                 'Potential higt':'#D04AFF','Champions':'#FF4AC8'},\n",
    "        #      labels={'recency':'Recency', \n",
    "        #              'frequency':'Frequency', \n",
    "        #              'monetary':'Monetary', \n",
    "        #              'group':'Group',\n",
    "        #              'segment':'Segment'\n",
    "        #             }\n",
    "                    )\n",
    "fig.show()"
   ]
  },
  {
   "cell_type": "code",
   "execution_count": null,
   "metadata": {},
   "outputs": [],
   "source": []
  },
  {
   "cell_type": "code",
   "execution_count": null,
   "metadata": {},
   "outputs": [],
   "source": [
    "kmeans_statistics = cluster_summary(df_models2, 'group_kmeans', sta=False, statistics_list=['mean'])\n",
    "kmeans_statistics = kmeans_statistics.sort_values(by=['statistic', 'value'], ascending=[False, True])\n",
    "kmeans_statistics"
   ]
  },
  {
   "cell_type": "code",
   "execution_count": null,
   "metadata": {},
   "outputs": [],
   "source": [
    "# kmeans_statistics = cluster_summary(df_models2, 'group_kmeans', sta=True, statistics_list=['mean'])\n",
    "# kmeans_statistics = kmeans_statistics.sort_values(by=['statistic', 'value'], ascending=[False, True])\n",
    "\n",
    "# fig = px.line(kmeans_statistics, x=\"statistic\", y=\"value\", color='category',\n",
    "#               title='Snake plot of normalized variables (building)')\n",
    "# fig.show()"
   ]
  },
  {
   "cell_type": "code",
   "execution_count": null,
   "metadata": {},
   "outputs": [],
   "source": []
  },
  {
   "cell_type": "code",
   "execution_count": null,
   "metadata": {},
   "outputs": [],
   "source": [
    "gmm_statistics = cluster_summary(df_models3, 'group_gmm', sta=False, statistics_list=['mean'])\n",
    "gmm_statistics = gmm_statistics.sort_values(by=['statistic', 'value'], ascending=[False, True])\n",
    "gmm_statistics"
   ]
  },
  {
   "cell_type": "code",
   "execution_count": null,
   "metadata": {},
   "outputs": [],
   "source": [
    "# gmm_statistics = cluster_summary(df_models3, 'group_gmm', sta=True, statistics_list=['mean'])\n",
    "# gmm_statistics = gmm_statistics.sort_values(by=['statistic', 'value'], ascending=[False, True])\n",
    "\n",
    "# fig = px.line(gmm_statistics, x=\"statistic\", y=\"value\", color='category',\n",
    "#               title='Snake plot of normalized variables (building)')\n",
    "# fig.show()"
   ]
  }
 ],
 "metadata": {
  "kernelspec": {
   "display_name": "Python 3",
   "language": "python",
   "name": "python3"
  },
  "language_info": {
   "codemirror_mode": {
    "name": "ipython",
    "version": 3
   },
   "file_extension": ".py",
   "mimetype": "text/x-python",
   "name": "python",
   "nbconvert_exporter": "python",
   "pygments_lexer": "ipython3",
   "version": "3.12.1"
  }
 },
 "nbformat": 4,
 "nbformat_minor": 2
}
