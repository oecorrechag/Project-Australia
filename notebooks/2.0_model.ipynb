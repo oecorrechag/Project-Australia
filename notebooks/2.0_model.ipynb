{
 "cells": [
  {
   "cell_type": "code",
   "execution_count": null,
   "metadata": {},
   "outputs": [],
   "source": [
    "# df_rfm = rfm(df_ventas, \n",
    "#              val_id_customer='id_cliente', \n",
    "#              val_id_facture='id_factura', \n",
    "#              val_money='fecha', \n",
    "#              val_date='fecha')"
   ]
  }
 ],
 "metadata": {
  "language_info": {
   "name": "python"
  }
 },
 "nbformat": 4,
 "nbformat_minor": 2
}
