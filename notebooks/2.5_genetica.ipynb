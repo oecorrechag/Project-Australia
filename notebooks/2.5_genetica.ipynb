{
 "cells": [
  {
   "cell_type": "code",
   "execution_count": null,
   "metadata": {},
   "outputs": [],
   "source": [
    "# 2.5 Join data\n",
    "\n",
    "AIMS\n",
    "\n",
    "En este archivo se realiza la union de los datos para formar un unico dataset"
   ]
  }
 ],
 "metadata": {
  "language_info": {
   "name": "python"
  }
 },
 "nbformat": 4,
 "nbformat_minor": 2
}
