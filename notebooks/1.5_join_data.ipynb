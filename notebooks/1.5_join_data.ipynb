{
 "cells": [
  {
   "cell_type": "code",
   "execution_count": null,
   "metadata": {},
   "outputs": [],
   "source": [
    "# df_customers = df_clientes.copy()\n",
    "# df_customers = df_customers.loc[:,['id_cliente', 'sexo', 'age_days']]\n",
    "# df_customers = convertir_variables(df_customers, ['id_cliente', 'sexo'], 'str')\n",
    "# df_customers.head()"
   ]
  },
  {
   "cell_type": "code",
   "execution_count": null,
   "metadata": {},
   "outputs": [],
   "source": [
    "# df_products = df_productos.copy()\n",
    "# df_products = df_products.loc[:,['id_producto', 'valor', 'valor_produccion']]\n",
    "# df_products.head()"
   ]
  },
  {
   "cell_type": "code",
   "execution_count": null,
   "metadata": {},
   "outputs": [],
   "source": [
    "# print(df_ventas.shape, df_products.shape)\n",
    "# df = df_ventas.merge(df_products, on = ['id_producto'])\n",
    "# print(df.shape)"
   ]
  },
  {
   "cell_type": "code",
   "execution_count": null,
   "metadata": {},
   "outputs": [],
   "source": [
    "# df['total_factura'] = df['valor'] * df['quantity']\n",
    "# df['total_produccion'] = df['valor_produccion'] * df['quantity']\n",
    "# df['total_descuento'] = (df['total_factura'] * df['per_discount2'])/100\n",
    "# df['total_factura_con_descuento'] = df['total_factura'] - df['total_descuento'] \n",
    "# df['ganancia'] = df['total_factura_con_descuento'] - df['total_produccion'] \n",
    "# df.head()"
   ]
  },
  {
   "cell_type": "code",
   "execution_count": null,
   "metadata": {},
   "outputs": [],
   "source": []
  }
 ],
 "metadata": {
  "language_info": {
   "name": "python"
  }
 },
 "nbformat": 4,
 "nbformat_minor": 2
}
