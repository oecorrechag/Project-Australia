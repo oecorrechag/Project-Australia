{
 "cells": [
  {
   "attachments": {},
   "cell_type": "markdown",
   "metadata": {},
   "source": [
    "# 3.0.0 Export\n",
    "\n",
    "- En este archivo se exportara la informacion necesaria para el dash"
   ]
  },
  {
   "cell_type": "code",
   "execution_count": 12,
   "metadata": {},
   "outputs": [
    {
     "name": "stdout",
     "output_type": "stream",
     "text": [
      "The autoreload extension is already loaded. To reload it, use:\n",
      "  %reload_ext autoreload\n"
     ]
    }
   ],
   "source": [
    "%load_ext autoreload\n",
    "%autoreload 2"
   ]
  },
  {
   "cell_type": "code",
   "execution_count": 13,
   "metadata": {},
   "outputs": [],
   "source": [
    "import pandas as pd\n",
    "import numpy as np\n",
    "import seaborn as sns\n",
    "import datetime as dt\n",
    "import plotly.express as px\n",
    "import matplotlib.pyplot as plt\n",
    "\n",
    "pd.set_option('display.max_columns', None)\n",
    "pd.set_option('display.max_rows', None)\n",
    "import warnings\n",
    "warnings.filterwarnings(\"ignore\")"
   ]
  },
  {
   "cell_type": "code",
   "execution_count": 23,
   "metadata": {},
   "outputs": [],
   "source": [
    "import sys\n",
    "sys.path.append(\"../\") \n",
    "\n",
    "from utils.utils import tipo1\n",
    "from utils.RFM import rfm_v1, rfm_v2\n",
    "from utils.paths2 import direcciones_cursos\n",
    "\n",
    "G_raw, G_processed, G_interim, G_external, G_models, G_reports, G_reports_figures = direcciones_cursos('australian')"
   ]
  },
  {
   "cell_type": "code",
   "execution_count": 15,
   "metadata": {},
   "outputs": [
    {
     "data": {
      "text/html": [
       "<div>\n",
       "<style scoped>\n",
       "    .dataframe tbody tr th:only-of-type {\n",
       "        vertical-align: middle;\n",
       "    }\n",
       "\n",
       "    .dataframe tbody tr th {\n",
       "        vertical-align: top;\n",
       "    }\n",
       "\n",
       "    .dataframe thead th {\n",
       "        text-align: right;\n",
       "    }\n",
       "</style>\n",
       "<table border=\"1\" class=\"dataframe\">\n",
       "  <thead>\n",
       "    <tr style=\"text-align: right;\">\n",
       "      <th></th>\n",
       "      <th>invoice</th>\n",
       "      <th>date</th>\n",
       "      <th>customer_id</th>\n",
       "      <th>stockcode</th>\n",
       "      <th>price</th>\n",
       "    </tr>\n",
       "  </thead>\n",
       "  <tbody>\n",
       "    <tr>\n",
       "      <th>0</th>\n",
       "      <td>1</td>\n",
       "      <td>2020-07-25</td>\n",
       "      <td>d18734</td>\n",
       "      <td>y7</td>\n",
       "      <td>50.45</td>\n",
       "    </tr>\n",
       "    <tr>\n",
       "      <th>1</th>\n",
       "      <td>2</td>\n",
       "      <td>2020-01-17</td>\n",
       "      <td>c21086</td>\n",
       "      <td>x7</td>\n",
       "      <td>25.30</td>\n",
       "    </tr>\n",
       "    <tr>\n",
       "      <th>2</th>\n",
       "      <td>3</td>\n",
       "      <td>2019-07-05</td>\n",
       "      <td>d18185</td>\n",
       "      <td>z5</td>\n",
       "      <td>18.40</td>\n",
       "    </tr>\n",
       "    <tr>\n",
       "      <th>3</th>\n",
       "      <td>4</td>\n",
       "      <td>2019-02-26</td>\n",
       "      <td>c18331</td>\n",
       "      <td>z2</td>\n",
       "      <td>5.50</td>\n",
       "    </tr>\n",
       "    <tr>\n",
       "      <th>4</th>\n",
       "      <td>5</td>\n",
       "      <td>2019-02-10</td>\n",
       "      <td>b16309</td>\n",
       "      <td>y7</td>\n",
       "      <td>18.40</td>\n",
       "    </tr>\n",
       "  </tbody>\n",
       "</table>\n",
       "</div>"
      ],
      "text/plain": [
       "   invoice       date customer_id stockcode  price\n",
       "0        1 2020-07-25      d18734        y7  50.45\n",
       "1        2 2020-01-17      c21086        x7  25.30\n",
       "2        3 2019-07-05      d18185        z5  18.40\n",
       "3        4 2019-02-26      c18331        z2   5.50\n",
       "4        5 2019-02-10      b16309        y7  18.40"
      ]
     },
     "execution_count": 15,
     "metadata": {},
     "output_type": "execute_result"
    }
   ],
   "source": [
    "df = pd.read_csv(G_raw/'sample.csv')\n",
    "df['date'] =  pd.to_datetime(df['date'])\n",
    "df.head()"
   ]
  },
  {
   "cell_type": "code",
   "execution_count": 16,
   "metadata": {},
   "outputs": [],
   "source": [
    "df_rfm = pd.read_parquet(G_models/'df_rfm.parquet.gzip')\n",
    "df_ks = pd.read_parquet(G_models/'df_ks.parquet.gzip')"
   ]
  },
  {
   "cell_type": "code",
   "execution_count": 17,
   "metadata": {},
   "outputs": [
    {
     "data": {
      "text/plain": [
       "((100000, 5), (33004, 9), (33004, 3))"
      ]
     },
     "execution_count": 17,
     "metadata": {},
     "output_type": "execute_result"
    }
   ],
   "source": [
    "df.shape, df_rfm.shape, df_ks.shape"
   ]
  },
  {
   "cell_type": "code",
   "execution_count": 18,
   "metadata": {},
   "outputs": [
    {
     "data": {
      "text/plain": [
       "(100000, 15)"
      ]
     },
     "execution_count": 18,
     "metadata": {},
     "output_type": "execute_result"
    }
   ],
   "source": [
    "# joins\n",
    "df = pd.merge(df, df_rfm, how='left', on=['customer_id'])  \n",
    "df = pd.merge(df, df_ks, how='left', on=['customer_id'])\n",
    "df.shape"
   ]
  },
  {
   "cell_type": "code",
   "execution_count": 19,
   "metadata": {},
   "outputs": [
    {
     "data": {
      "text/html": [
       "<div>\n",
       "<style scoped>\n",
       "    .dataframe tbody tr th:only-of-type {\n",
       "        vertical-align: middle;\n",
       "    }\n",
       "\n",
       "    .dataframe tbody tr th {\n",
       "        vertical-align: top;\n",
       "    }\n",
       "\n",
       "    .dataframe thead th {\n",
       "        text-align: right;\n",
       "    }\n",
       "</style>\n",
       "<table border=\"1\" class=\"dataframe\">\n",
       "  <thead>\n",
       "    <tr style=\"text-align: right;\">\n",
       "      <th></th>\n",
       "      <th>contador</th>\n",
       "      <th>invoice</th>\n",
       "      <th>date</th>\n",
       "      <th>customer_id</th>\n",
       "      <th>stockcode</th>\n",
       "      <th>stockcode_family</th>\n",
       "      <th>price</th>\n",
       "      <th>recency</th>\n",
       "      <th>frequency</th>\n",
       "      <th>monetary</th>\n",
       "      <th>r_quartile</th>\n",
       "      <th>f_quartile</th>\n",
       "      <th>m_quartile</th>\n",
       "      <th>rfm_score</th>\n",
       "      <th>group</th>\n",
       "      <th>Cluster</th>\n",
       "      <th>Cluster_medoids</th>\n",
       "    </tr>\n",
       "  </thead>\n",
       "  <tbody>\n",
       "    <tr>\n",
       "      <th>0</th>\n",
       "      <td>1</td>\n",
       "      <td>1</td>\n",
       "      <td>2020-07-25</td>\n",
       "      <td>d18734</td>\n",
       "      <td>y7</td>\n",
       "      <td>Y</td>\n",
       "      <td>50.45</td>\n",
       "      <td>153</td>\n",
       "      <td>5</td>\n",
       "      <td>169.84</td>\n",
       "      <td>3</td>\n",
       "      <td>4</td>\n",
       "      <td>5</td>\n",
       "      <td>4.000000</td>\n",
       "      <td>7</td>\n",
       "      <td>0</td>\n",
       "      <td>0</td>\n",
       "    </tr>\n",
       "    <tr>\n",
       "      <th>1</th>\n",
       "      <td>1</td>\n",
       "      <td>2</td>\n",
       "      <td>2020-01-17</td>\n",
       "      <td>c21086</td>\n",
       "      <td>x7</td>\n",
       "      <td>X</td>\n",
       "      <td>25.30</td>\n",
       "      <td>10</td>\n",
       "      <td>3</td>\n",
       "      <td>81.25</td>\n",
       "      <td>5</td>\n",
       "      <td>3</td>\n",
       "      <td>4</td>\n",
       "      <td>4.000000</td>\n",
       "      <td>7</td>\n",
       "      <td>2</td>\n",
       "      <td>3</td>\n",
       "    </tr>\n",
       "    <tr>\n",
       "      <th>2</th>\n",
       "      <td>1</td>\n",
       "      <td>3</td>\n",
       "      <td>2019-07-05</td>\n",
       "      <td>d18185</td>\n",
       "      <td>z5</td>\n",
       "      <td>Z</td>\n",
       "      <td>18.40</td>\n",
       "      <td>141</td>\n",
       "      <td>7</td>\n",
       "      <td>94.26</td>\n",
       "      <td>3</td>\n",
       "      <td>4</td>\n",
       "      <td>4</td>\n",
       "      <td>3.666667</td>\n",
       "      <td>6</td>\n",
       "      <td>0</td>\n",
       "      <td>0</td>\n",
       "    </tr>\n",
       "    <tr>\n",
       "      <th>3</th>\n",
       "      <td>1</td>\n",
       "      <td>4</td>\n",
       "      <td>2019-02-26</td>\n",
       "      <td>c18331</td>\n",
       "      <td>z2</td>\n",
       "      <td>Z</td>\n",
       "      <td>5.50</td>\n",
       "      <td>40</td>\n",
       "      <td>3</td>\n",
       "      <td>56.10</td>\n",
       "      <td>5</td>\n",
       "      <td>3</td>\n",
       "      <td>3</td>\n",
       "      <td>3.666667</td>\n",
       "      <td>6</td>\n",
       "      <td>2</td>\n",
       "      <td>3</td>\n",
       "    </tr>\n",
       "    <tr>\n",
       "      <th>4</th>\n",
       "      <td>1</td>\n",
       "      <td>5</td>\n",
       "      <td>2019-02-10</td>\n",
       "      <td>b16309</td>\n",
       "      <td>y7</td>\n",
       "      <td>Y</td>\n",
       "      <td>18.40</td>\n",
       "      <td>455</td>\n",
       "      <td>2</td>\n",
       "      <td>23.90</td>\n",
       "      <td>1</td>\n",
       "      <td>2</td>\n",
       "      <td>1</td>\n",
       "      <td>1.333333</td>\n",
       "      <td>1</td>\n",
       "      <td>1</td>\n",
       "      <td>2</td>\n",
       "    </tr>\n",
       "  </tbody>\n",
       "</table>\n",
       "</div>"
      ],
      "text/plain": [
       "   contador  invoice       date customer_id stockcode stockcode_family  price  \\\n",
       "0         1        1 2020-07-25      d18734        y7                Y  50.45   \n",
       "1         1        2 2020-01-17      c21086        x7                X  25.30   \n",
       "2         1        3 2019-07-05      d18185        z5                Z  18.40   \n",
       "3         1        4 2019-02-26      c18331        z2                Z   5.50   \n",
       "4         1        5 2019-02-10      b16309        y7                Y  18.40   \n",
       "\n",
       "   recency  frequency  monetary  r_quartile  f_quartile  m_quartile  \\\n",
       "0      153          5    169.84           3           4           5   \n",
       "1       10          3     81.25           5           3           4   \n",
       "2      141          7     94.26           3           4           4   \n",
       "3       40          3     56.10           5           3           3   \n",
       "4      455          2     23.90           1           2           1   \n",
       "\n",
       "   rfm_score group  Cluster  Cluster_medoids  \n",
       "0   4.000000     7        0                0  \n",
       "1   4.000000     7        2                3  \n",
       "2   3.666667     6        0                0  \n",
       "3   3.666667     6        2                3  \n",
       "4   1.333333     1        1                2  "
      ]
     },
     "execution_count": 19,
     "metadata": {},
     "output_type": "execute_result"
    }
   ],
   "source": [
    "df.insert(0, 'contador', 1)\n",
    "df.insert(5, 'stockcode_family', 99)\n",
    "\n",
    "lc = ['x1', 'x2', 'x3', 'x4', 'x5', 'x6', 'x7', 'x8']\n",
    "df['stockcode_family'] = np.where(df['stockcode'].isin(lc), 'X', df['stockcode_family'])\n",
    "\n",
    "lc = ['y1', 'y2', 'y3', 'y4', 'y5', 'y6', 'y7', 'y8']\n",
    "df['stockcode_family'] = np.where(df['stockcode'].isin(lc), 'Y', df['stockcode_family'])\n",
    "\n",
    "lc = ['z1', 'z2', 'z3', 'z4', 'z5', 'z6', 'z7', 'z8']\n",
    "df['stockcode_family'] = np.where(df['stockcode'].isin(lc), 'Z', df['stockcode_family'])\n",
    "df.head()"
   ]
  },
  {
   "cell_type": "code",
   "execution_count": 20,
   "metadata": {},
   "outputs": [
    {
     "data": {
      "text/plain": [
       "(731, 3)"
      ]
     },
     "execution_count": 20,
     "metadata": {},
     "output_type": "execute_result"
    }
   ],
   "source": [
    "# Serie de tiempo\n",
    "df_ts = df.copy()\n",
    "df_ts = df_ts.loc[:,['date','contador','price']]#,'customer_id','price'\n",
    "df_ts = df_ts.groupby('date').sum().reset_index()\n",
    "df_ts.shape"
   ]
  },
  {
   "cell_type": "code",
   "execution_count": 21,
   "metadata": {},
   "outputs": [
    {
     "data": {
      "text/plain": [
       "(731, 2)"
      ]
     },
     "execution_count": 21,
     "metadata": {},
     "output_type": "execute_result"
    }
   ],
   "source": [
    "# Serie de tiempo\n",
    "df_cus = df.copy()\n",
    "df_cus = df_cus.loc[:,['date','customer_id','contador']]#'price'\n",
    "df_cus = df_cus.drop_duplicates()\n",
    "df_cus = df_cus.groupby(['date']).sum().reset_index()\n",
    "df_cus.shape"
   ]
  },
  {
   "cell_type": "code",
   "execution_count": 31,
   "metadata": {},
   "outputs": [
    {
     "data": {
      "text/plain": [
       "(24, 3)"
      ]
     },
     "execution_count": 31,
     "metadata": {},
     "output_type": "execute_result"
    }
   ],
   "source": [
    "df_cir = df.copy()\n",
    "df_cir = df_cir.loc[:,['date','stockcode']]\n",
    "df_cir = tipo1(df_cir, 'stockcode')\n",
    "df_cir.shape"
   ]
  },
  {
   "cell_type": "code",
   "execution_count": 33,
   "metadata": {},
   "outputs": [
    {
     "data": {
      "text/plain": [
       "(24, 3)"
      ]
     },
     "execution_count": 33,
     "metadata": {},
     "output_type": "execute_result"
    }
   ],
   "source": [
    "# Serie de tiempo\n",
    "df_sto = df.copy()\n",
    "df_sto = df_sto.loc[:,['stockcode','price','contador']]\n",
    "df_sto = df_sto.groupby(['stockcode']).sum().reset_index()\n",
    "df_sto = df_sto.sort_values(by=['price'], ascending=False)\n",
    "df_sto.shape"
   ]
  },
  {
   "cell_type": "code",
   "execution_count": 34,
   "metadata": {},
   "outputs": [],
   "source": [
    "# save\n",
    "df.to_parquet(G_processed/'data.parquet.gzip', compression='gzip')\n",
    "df_ts.to_parquet(G_processed/'df_ts.parquet.gzip', compression='gzip')\n",
    "df_cus.to_parquet(G_processed/'df_cus.parquet.gzip', compression='gzip')\n",
    "df_cir.to_parquet(G_processed/'df_cir.parquet.gzip', compression='gzip')\n",
    "df_sto.to_parquet(G_processed/'df_sto.parquet.gzip', compression='gzip')\n",
    "df_ts.to_parquet('../dashboard/data/df_ts.parquet.gzip', compression='gzip')\n",
    "df_cir.to_parquet('../dashboard/data/df_cir.parquet.gzip', compression='gzip')\n",
    "df_sto.to_parquet('../dashboard/data/df_sto.parquet.gzip', compression='gzip')"
   ]
  },
  {
   "cell_type": "code",
   "execution_count": 36,
   "metadata": {},
   "outputs": [
    {
     "data": {
      "text/html": [
       "<div>\n",
       "<style scoped>\n",
       "    .dataframe tbody tr th:only-of-type {\n",
       "        vertical-align: middle;\n",
       "    }\n",
       "\n",
       "    .dataframe tbody tr th {\n",
       "        vertical-align: top;\n",
       "    }\n",
       "\n",
       "    .dataframe thead th {\n",
       "        text-align: right;\n",
       "    }\n",
       "</style>\n",
       "<table border=\"1\" class=\"dataframe\">\n",
       "  <thead>\n",
       "    <tr style=\"text-align: right;\">\n",
       "      <th></th>\n",
       "      <th>stockcode</th>\n",
       "      <th>price</th>\n",
       "      <th>contador</th>\n",
       "    </tr>\n",
       "  </thead>\n",
       "  <tbody>\n",
       "    <tr>\n",
       "      <th>23</th>\n",
       "      <td>z8</td>\n",
       "      <td>97543.20</td>\n",
       "      <td>4256</td>\n",
       "    </tr>\n",
       "    <tr>\n",
       "      <th>4</th>\n",
       "      <td>x5</td>\n",
       "      <td>96714.24</td>\n",
       "      <td>4246</td>\n",
       "    </tr>\n",
       "    <tr>\n",
       "      <th>10</th>\n",
       "      <td>y3</td>\n",
       "      <td>96689.29</td>\n",
       "      <td>4235</td>\n",
       "    </tr>\n",
       "    <tr>\n",
       "      <th>13</th>\n",
       "      <td>y6</td>\n",
       "      <td>96338.44</td>\n",
       "      <td>4295</td>\n",
       "    </tr>\n",
       "    <tr>\n",
       "      <th>6</th>\n",
       "      <td>x7</td>\n",
       "      <td>96125.07</td>\n",
       "      <td>4278</td>\n",
       "    </tr>\n",
       "  </tbody>\n",
       "</table>\n",
       "</div>"
      ],
      "text/plain": [
       "   stockcode     price  contador\n",
       "23        z8  97543.20      4256\n",
       "4         x5  96714.24      4246\n",
       "10        y3  96689.29      4235\n",
       "13        y6  96338.44      4295\n",
       "6         x7  96125.07      4278"
      ]
     },
     "execution_count": 36,
     "metadata": {},
     "output_type": "execute_result"
    }
   ],
   "source": [
    "# df_sto = pd.read_parquet('../dashboard/data/df_sto.parquet.gzip')\n",
    "# df_sto.head()"
   ]
  }
 ],
 "metadata": {
  "kernelspec": {
   "display_name": "Python 3",
   "language": "python",
   "name": "python3"
  },
  "language_info": {
   "codemirror_mode": {
    "name": "ipython",
    "version": 3
   },
   "file_extension": ".py",
   "mimetype": "text/x-python",
   "name": "python",
   "nbconvert_exporter": "python",
   "pygments_lexer": "ipython3",
   "version": "3.11.0"
  },
  "orig_nbformat": 4,
  "vscode": {
   "interpreter": {
    "hash": "5238573367df39f7286bb46f9ff5f08f63a01a80960060ce41e3c79b190280fa"
   }
  }
 },
 "nbformat": 4,
 "nbformat_minor": 2
}
